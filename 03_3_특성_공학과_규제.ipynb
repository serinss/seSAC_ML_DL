{
  "nbformat": 4,
  "nbformat_minor": 0,
  "metadata": {
    "colab": {
      "name": "03-3. 특성 공학과 규제.ipynb",
      "provenance": [],
      "collapsed_sections": [],
      "authorship_tag": "ABX9TyPH2yxUjxu8b82wc+Sy17cO",
      "include_colab_link": true
    },
    "kernelspec": {
      "name": "python3",
      "display_name": "Python 3"
    },
    "language_info": {
      "name": "python"
    }
  },
  "cells": [
    {
      "cell_type": "markdown",
      "metadata": {
        "id": "view-in-github",
        "colab_type": "text"
      },
      "source": [
        "<a href=\"https://colab.research.google.com/github/serinss/seSAC_ML_DL_Class/blob/main/03_3_%ED%8A%B9%EC%84%B1_%EA%B3%B5%ED%95%99%EA%B3%BC_%EA%B7%9C%EC%A0%9C.ipynb\" target=\"_parent\"><img src=\"https://colab.research.google.com/assets/colab-badge.svg\" alt=\"Open In Colab\"/></a>"
      ]
    },
    {
      "cell_type": "markdown",
      "source": [
        "#다중 회귀(multiple regression)\n",
        "하나의 특성(feature)을 사용 -> 선형 회귀 모델  \n",
        "여러 개의 특성을 사용 -> 다중 회귀 모델  \n",
        "\n",
        "단항, 다항 = degree  \n",
        "단순, 다중 = feature 의 개수\n",
        "\n",
        "\n",
        "하나의 feature = axis(축)  \n",
        "서로 다른 변수 길이, 높이, 두께를 가지고 무게를 예측"
      ],
      "metadata": {
        "id": "fb-c7xIQ_31s"
      }
    },
    {
      "cell_type": "markdown",
      "source": [
        "- 특성 공학(feature engineering)  \n",
        "길이, 높이, 두께, 길이X높이 <<--새로운 특성을 만들어내는 작업  \n",
        "ex. 길이**2"
      ],
      "metadata": {
        "id": "13J6n8YyBWIJ"
      }
    },
    {
      "cell_type": "markdown",
      "source": [
        "#데이터 준비"
      ],
      "metadata": {
        "id": "esM4VsdqBiK6"
      }
    },
    {
      "cell_type": "code",
      "execution_count": 1,
      "metadata": {
        "colab": {
          "base_uri": "https://localhost:8080/",
          "height": 0
        },
        "id": "mvxJrp1k_J9k",
        "outputId": "bcf21306-5773-4bd7-fed0-68b7ab601862"
      },
      "outputs": [
        {
          "output_type": "stream",
          "name": "stdout",
          "text": [
            "Mounted at /content/drive\n"
          ]
        }
      ],
      "source": [
        "%run my_init.py"
      ]
    },
    {
      "cell_type": "code",
      "source": [
        "%matplotlib inline"
      ],
      "metadata": {
        "id": "HhVnnBZpFH2O"
      },
      "execution_count": 2,
      "outputs": []
    },
    {
      "cell_type": "code",
      "source": [
        "df = pd.read_csv('https://bit.ly/perch_csv_data')\n",
        "perch_full = df.to_numpy()\n",
        "print(perch_full)"
      ],
      "metadata": {
        "colab": {
          "base_uri": "https://localhost:8080/",
          "height": 0
        },
        "id": "z4g-lQNnFjbX",
        "outputId": "429bb670-b925-4fec-bdfd-3c9a28688aaf"
      },
      "execution_count": 3,
      "outputs": [
        {
          "output_type": "stream",
          "name": "stdout",
          "text": [
            "[[ 8.4   2.11  1.41]\n",
            " [13.7   3.53  2.  ]\n",
            " [15.    3.82  2.43]\n",
            " [16.2   4.59  2.63]\n",
            " [17.4   4.59  2.94]\n",
            " [18.    5.22  3.32]\n",
            " [18.7   5.2   3.12]\n",
            " [19.    5.64  3.05]\n",
            " [19.6   5.14  3.04]\n",
            " [20.    5.08  2.77]\n",
            " [21.    5.69  3.56]\n",
            " [21.    5.92  3.31]\n",
            " [21.    5.69  3.67]\n",
            " [21.3   6.38  3.53]\n",
            " [22.    6.11  3.41]\n",
            " [22.    5.64  3.52]\n",
            " [22.    6.11  3.52]\n",
            " [22.    5.88  3.52]\n",
            " [22.    5.52  4.  ]\n",
            " [22.5   5.86  3.62]\n",
            " [22.5   6.79  3.62]\n",
            " [22.7   5.95  3.63]\n",
            " [23.    5.22  3.63]\n",
            " [23.5   6.28  3.72]\n",
            " [24.    7.29  3.72]\n",
            " [24.    6.38  3.82]\n",
            " [24.6   6.73  4.17]\n",
            " [25.    6.44  3.68]\n",
            " [25.6   6.56  4.24]\n",
            " [26.5   7.17  4.14]\n",
            " [27.3   8.32  5.14]\n",
            " [27.5   7.17  4.34]\n",
            " [27.5   7.05  4.34]\n",
            " [27.5   7.28  4.57]\n",
            " [28.    7.82  4.2 ]\n",
            " [28.7   7.59  4.64]\n",
            " [30.    7.62  4.77]\n",
            " [32.8  10.03  6.02]\n",
            " [34.5  10.26  6.39]\n",
            " [35.   11.49  7.8 ]\n",
            " [36.5  10.88  6.86]\n",
            " [36.   10.61  6.74]\n",
            " [37.   10.84  6.26]\n",
            " [37.   10.57  6.37]\n",
            " [39.   11.14  7.49]\n",
            " [39.   11.14  6.  ]\n",
            " [39.   12.43  7.35]\n",
            " [40.   11.93  7.11]\n",
            " [40.   11.73  7.22]\n",
            " [40.   12.38  7.46]\n",
            " [40.   11.14  6.63]\n",
            " [42.   12.8   6.87]\n",
            " [43.   11.93  7.28]\n",
            " [43.   12.51  7.42]\n",
            " [43.5  12.6   8.14]\n",
            " [44.   12.49  7.6 ]]\n"
          ]
        }
      ]
    },
    {
      "cell_type": "code",
      "source": [
        "perch_weight = np.array([5.9, 32.0, 40.0, 51.5, 70.0, 100.0, 78.0, 80.0, 85.0, 85.0, 110.0,\n",
        "       115.0, 125.0, 130.0, 120.0, 120.0, 130.0, 135.0, 110.0, 130.0,\n",
        "       150.0, 145.0, 150.0, 170.0, 225.0, 145.0, 188.0, 180.0, 197.0,\n",
        "       218.0, 300.0, 260.0, 265.0, 250.0, 250.0, 300.0, 320.0, 514.0,\n",
        "       556.0, 840.0, 685.0, 700.0, 700.0, 690.0, 900.0, 650.0, 820.0,\n",
        "       850.0, 900.0, 1015.0, 820.0, 1100.0, 1000.0, 1100.0, 1000.0,\n",
        "       1000.0])"
      ],
      "metadata": {
        "id": "G5hHXtErFsYe"
      },
      "execution_count": 4,
      "outputs": []
    },
    {
      "cell_type": "code",
      "source": [
        "train_input, test_input, train_target, test_target = train_test_split(perch_full, perch_weight, random_state=42)"
      ],
      "metadata": {
        "id": "Ej5G-gMAF0sZ"
      },
      "execution_count": 6,
      "outputs": []
    },
    {
      "cell_type": "markdown",
      "source": [
        "#사이킷런의 변환기(Transformer)\n",
        "1. fit()  \n",
        "2. transform()"
      ],
      "metadata": {
        "id": "1p8hHsbtFXhD"
      }
    },
    {
      "cell_type": "code",
      "source": [
        "from sklearn.preprocessing import PolynomialFeatures"
      ],
      "metadata": {
        "id": "A_L7OFkhF8EV"
      },
      "execution_count": 26,
      "outputs": []
    },
    {
      "cell_type": "code",
      "source": [
        "poly = PolynomialFeatures()\n",
        "poly.fit([[2,3]])\n",
        "print(poly.transform([[2,3]]))"
      ],
      "metadata": {
        "colab": {
          "base_uri": "https://localhost:8080/"
        },
        "id": "g7nEQ8bpGLku",
        "outputId": "964e0228-33ac-40ad-a54e-17d5fe033a9c"
      },
      "execution_count": 27,
      "outputs": [
        {
          "output_type": "stream",
          "name": "stdout",
          "text": [
            "[[1. 2. 3. 4. 6. 9.]]\n"
          ]
        }
      ]
    },
    {
      "cell_type": "code",
      "source": [
        "poly = PolynomialFeatures(include_bias = False)\n",
        "poly.fit([[2,3]])\n",
        "print(poly.transform([[2,3]]))"
      ],
      "metadata": {
        "colab": {
          "base_uri": "https://localhost:8080/"
        },
        "id": "Ks-TG4JwHWnO",
        "outputId": "8edf32ab-d16c-419a-9370-fb7936d33c33"
      },
      "execution_count": 28,
      "outputs": [
        {
          "output_type": "stream",
          "name": "stdout",
          "text": [
            "[[2. 3. 4. 6. 9.]]\n"
          ]
        }
      ]
    },
    {
      "cell_type": "code",
      "source": [
        "poly = PolynomialFeatures(include_bias = False)\n",
        "poly.fit(train_input) # 기존 feature 3개\n",
        "train_poly = poly.transform(train_input) # 알아서 교차항을 만들게 할 수 있음\n",
        "print(train_poly.shape)"
      ],
      "metadata": {
        "colab": {
          "base_uri": "https://localhost:8080/"
        },
        "id": "l8S9i9mAHaiz",
        "outputId": "7227a423-cf2a-4752-ed8e-b56b5067b683"
      },
      "execution_count": 29,
      "outputs": [
        {
          "output_type": "stream",
          "name": "stdout",
          "text": [
            "(42, 9)\n"
          ]
        }
      ]
    },
    {
      "cell_type": "code",
      "source": [
        "poly.get_feature_names_out()"
      ],
      "metadata": {
        "colab": {
          "base_uri": "https://localhost:8080/"
        },
        "id": "maLeheAsIGH_",
        "outputId": "c5bcdf63-e44f-45e0-f4b8-02c814903b16"
      },
      "execution_count": 30,
      "outputs": [
        {
          "output_type": "execute_result",
          "data": {
            "text/plain": [
              "array(['x0', 'x1', 'x2', 'x0^2', 'x0 x1', 'x0 x2', 'x1^2', 'x1 x2',\n",
              "       'x2^2'], dtype=object)"
            ]
          },
          "metadata": {},
          "execution_count": 30
        }
      ]
    },
    {
      "cell_type": "code",
      "source": [
        "df.info()"
      ],
      "metadata": {
        "colab": {
          "base_uri": "https://localhost:8080/"
        },
        "id": "6qrdWLjTTdj0",
        "outputId": "c62498aa-10f6-4ee5-dee3-31155b5b440b"
      },
      "execution_count": 31,
      "outputs": [
        {
          "output_type": "stream",
          "name": "stdout",
          "text": [
            "<class 'pandas.core.frame.DataFrame'>\n",
            "RangeIndex: 56 entries, 0 to 55\n",
            "Data columns (total 3 columns):\n",
            " #   Column   Non-Null Count  Dtype  \n",
            "---  ------   --------------  -----  \n",
            " 0   length   56 non-null     float64\n",
            " 1    height  56 non-null     float64\n",
            " 2    width   56 non-null     float64\n",
            "dtypes: float64(3)\n",
            "memory usage: 1.4 KB\n"
          ]
        }
      ]
    },
    {
      "cell_type": "code",
      "source": [
        "test_poly = poly.transform(test_input)\n",
        "print(test_poly.shape)"
      ],
      "metadata": {
        "colab": {
          "base_uri": "https://localhost:8080/"
        },
        "id": "RFm8nnFzIJxw",
        "outputId": "822e711e-e51d-42c2-e15c-09383538b0f1"
      },
      "execution_count": 32,
      "outputs": [
        {
          "output_type": "stream",
          "name": "stdout",
          "text": [
            "(14, 9)\n"
          ]
        }
      ]
    },
    {
      "cell_type": "markdown",
      "source": [
        "#다중 회귀 모델 훈련하기"
      ],
      "metadata": {
        "id": "UGOZ_LJZJxun"
      }
    },
    {
      "cell_type": "markdown",
      "source": [
        "1 -> 2 -> 9개"
      ],
      "metadata": {
        "id": "OHi8xEyTK1ZW"
      }
    },
    {
      "cell_type": "code",
      "source": [
        "lr = LinearRegression()\n",
        "lr.fit(train_poly, train_target)\n",
        "print(lr.score(train_poly, train_target))"
      ],
      "metadata": {
        "colab": {
          "base_uri": "https://localhost:8080/"
        },
        "id": "CiOFgbhuJw3D",
        "outputId": "9ff402ec-18a2-448b-bdfd-7ae9c09876a4"
      },
      "execution_count": 33,
      "outputs": [
        {
          "output_type": "stream",
          "name": "stdout",
          "text": [
            "0.9903183436982124\n"
          ]
        }
      ]
    },
    {
      "cell_type": "code",
      "source": [
        "# print(lr.score(test_poly, test_target))\n",
        "r2_score(test_target, lr.predict(test_poly))\n",
        "\n",
        "# 둘 다 적절하게 성능이 우수해졌다!"
      ],
      "metadata": {
        "colab": {
          "base_uri": "https://localhost:8080/"
        },
        "id": "UT-7Twe5K3IF",
        "outputId": "c41afec8-556e-47cb-a415-ad6e1e9a7ec1"
      },
      "execution_count": 34,
      "outputs": [
        {
          "output_type": "execute_result",
          "data": {
            "text/plain": [
              "0.9714559911594134"
            ]
          },
          "metadata": {},
          "execution_count": 34
        }
      ]
    },
    {
      "cell_type": "code",
      "source": [
        "poly = PolynomialFeatures(degree=5, include_bias=False) # degree=5 로 설정!\n",
        "\n",
        "# poly.fit(train_input)\n",
        "# train_poly = poly.transform(train_input)\n",
        "train_poly = poly.fit_transform(train_input) #위 과정을 한꺼번에\n",
        "\n",
        "test_poly = poly.transform(test_input)\n",
        "print(train_poly.shape) # 항이 55개(feature : 1->2->9->55 로 늘어남)"
      ],
      "metadata": {
        "colab": {
          "base_uri": "https://localhost:8080/"
        },
        "id": "swcPYJxsK-NU",
        "outputId": "18ba7f42-59d1-46ba-c399-1c0f0f20a58f"
      },
      "execution_count": 35,
      "outputs": [
        {
          "output_type": "stream",
          "name": "stdout",
          "text": [
            "(42, 55)\n"
          ]
        }
      ]
    },
    {
      "cell_type": "code",
      "source": [
        "#이 경우는 overfit 된 형태 -> 데이터에 비해 feature가 너무 많다\n",
        "\n",
        "lr.fit(train_poly, train_target)\n",
        "print(lr.score(train_poly, train_target))"
      ],
      "metadata": {
        "colab": {
          "base_uri": "https://localhost:8080/"
        },
        "id": "K8Hx8nIlLVzk",
        "outputId": "f26a732c-8d11-4d17-f289-83851206492e"
      },
      "execution_count": 36,
      "outputs": [
        {
          "output_type": "stream",
          "name": "stdout",
          "text": [
            "0.9999999999991097\n"
          ]
        }
      ]
    },
    {
      "cell_type": "code",
      "source": [
        "print(lr.score(test_poly, test_target))"
      ],
      "metadata": {
        "colab": {
          "base_uri": "https://localhost:8080/"
        },
        "id": "Q03PT6ZHLgiO",
        "outputId": "100cb72a-0f1e-454b-cbf5-b8a69632dc47"
      },
      "execution_count": 37,
      "outputs": [
        {
          "output_type": "stream",
          "name": "stdout",
          "text": [
            "-144.40579242684848\n"
          ]
        }
      ]
    },
    {
      "cell_type": "markdown",
      "source": [
        "###Q. degree가 1~5 중 overfit 혹은 underfit 문제가 해소되는 다중회귀 모델을 만드십시오. (다중+다항 회귀 모델)"
      ],
      "metadata": {
        "id": "1XsGUCu9U97v"
      }
    },
    {
      "cell_type": "markdown",
      "source": [
        "A. 두 개 다 점수가 높고, 훈련 점수가 테스트 점수보다 높은 모델을 찾아야 함  "
      ],
      "metadata": {
        "id": "hiX7EBRsVJgM"
      }
    },
    {
      "cell_type": "code",
      "source": [
        "for d in range(1,6):\n",
        "  poly = PolynomialFeatures(degree=d, include_bias=False)\n",
        "  train_poly = poly.fit_transform(train_input)\n",
        "  test_poly = poly.transform(test_input)\n",
        "\n",
        "  lr.fit(train_poly, train_target)\n",
        "  train_score = r2_score(train_target, lr.predict(train_poly))\n",
        "  test_score = r2_score(test_target, lr.predict(test_poly))\n",
        "\n",
        "  print(f\"degree = {d} & feature = {train_poly.shape[1]}\")\n",
        "  print(f\"  -> train {train_score} \")\n",
        "  print(f\"     test  {test_score}\\n\")"
      ],
      "metadata": {
        "id": "7Wa5JZWcVFGD"
      },
      "execution_count": null,
      "outputs": []
    },
    {
      "cell_type": "markdown",
      "source": [
        "degree = 1 & feature = 3  \n",
        "  -> train 0.9559326821885706   \n",
        "     test  0.8796419177546367  \n",
        "\n",
        "degree = 2 & feature = 9  \n",
        "  -> train 0.9903183436982124   \n",
        "     test  0.9714559911594134  \n",
        "\n",
        "degree = 3 & feature = 19  \n",
        "  -> train 0.99638723409801 -> 학습 성능은 계속 올라가는 중   \n",
        "     test  0.9410534492233222  \n",
        "\n",
        "degree = 4 & feature = 34  \n",
        "  -> train 0.9995286898074609   \n",
        "     test  -6.7866969165723585 -> 점수 꺾임  \n",
        "\n",
        "degree = 5 & feature = 55  \n",
        "  -> train 0.9999999999991097   \n",
        "     test  -144.40579242684848  \n",
        "\n",
        "feature가 커 질수록 model complexity 증가 -> train 학습 점수 증가  \n",
        "하지만, 어느 지점부터 test 시험 점수는 꺾이는 지점 생성"
      ],
      "metadata": {
        "id": "_k39LBjDZZmq"
      }
    },
    {
      "cell_type": "markdown",
      "source": [
        "-> fit, transform 등등의 머신러닝 알고리즘은 이미 개발되어 있는 것  \n",
        "이것을 활용하여 어떤 솔루션을 해결하고, 서비스를 개발할 것인지를 생각해야 함"
      ],
      "metadata": {
        "id": "EM53PCizaYTn"
      }
    },
    {
      "cell_type": "markdown",
      "source": [
        "#규제(regularization)\n",
        "머신러닝 모델이 훈련 세트를 너무 과도하게 학습하지 못하도록 하는 것  \n",
        "즉, 모델이 훈련 세트에 과대적합되지 않도록 만드는 것  \n"
      ],
      "metadata": {
        "id": "HhTEep4rLotN"
      }
    },
    {
      "cell_type": "markdown",
      "source": [
        "![다중회귀.PNG](data:image/png;base64,iVBORw0KGgoAAAANSUhEUgAAAl4AAAD9CAYAAABtNnnvAAAAAXNSR0IArs4c6QAAAARnQU1BAACxjwv8YQUAAAAJcEhZcwAADsMAAA7DAcdvqGQAAGQBSURBVHhe7Z0HYBRFF8elWOi9I2Dvn713pZc0CEU6goiKinQVsdGlqAjYUbF3QbADSm8iIKAgvZckpFzf/X/vze5eNscCl5Bc7sJ78LudnXkzd0n23v5ndnb2NOiAIAiCIAiCkHd0TVdoAQ0BfwB+nx8+rw8etweuLBcyMzKRfiQdIrwEQRAEQRBOEhFegiAIgiAIEUKElyAIgiAIQoQQ4SUIgiAIghAhRHgJgiAIgiBECBFegiAIgiAIEUKElyAIgiAIQoQQ4SUIgiAIghAhRHgJgiAIgiBECBFegiAIgiAIEUKElyAIgiAIQoQQ4SUIgiAIghAhRHgJgiAIgiBECBFegiAIgiAIEUKElyAIgiAIQoQQ4SUIgiAIghAhRHgJgiDYscypTIgu7DvBPNOC+7YyQYgCRHgJgiDYscypTIgyQjPI5v8B/E7Yy2xJQShsRHgJgiAIMUpIxr//QKtUFlrVCkBWRs4yW1IQChMRXoIgCHYscyoToo/sBPDnSmgVS0GrcBbtBAB3FrBjG7BuHTBvPvDrb8Bvc4E1a4Et21WVo5oRhAJGhJcgCIIdy5zKhOiFTmAYMRyoUhmoWQO45XrgqkuAc+oDtWoBFSoC5SsY1KwJ1D8XuP026CTEdE1TTRzVpiAUACK8BEEQhNiFTl6YMB5o3hioTqKrdh0SWrVpS+KqdnmgMlGJRFdFFl5MJdonvypVgBrVgXKU9+o0Jb4c2xeEfEaElyAIghC7rF1LQqocUKeGMbLFXHYJ9FbNgKFDEfjoE+gLlyCwdx/85B6gExwWrgDGvgJcdT2JLxJoF10KpKY7ty8I+YwIL0EQBCF2STsCtEoA6tYl0UXiq0E96Af2qyI2zYRFl49ySXYZVdNcwJXXGpcd650DHKZ27O0KQgEhwksQBEGIbdjubWLM73qwt5HFL6y4aMszuJgA7TIYNxE4/2JDdFUnsTb4ScBLJVZ7glCAiPASYg8HU9mhfoIgFH3YDh0GypUFypcHfvzVzMw2bf9e6IsXAY88DtSpD9SoDVSrTqKrGtCvv+Hk1LYgFAAivIToxOypOpKSCjz5FNA0DujZB0hoD71TL+heryo+yl8QhKIJxwlOvjwJqFIRqH8esGETsO5fYMrbwEOPADdcD1xM+RV5on0lEl01yO9soEU88C/5qQYEIXKI8BKik2MJr8ws4N6GFECrUm+1HlCVaQCUqQZ96pvK5ag6giAUHWymslaugnbtdSSo6gB1LyBRdTHFA4oPlWpRXjWgVhWgGomySiS8rvwfMGIU8OdqowG+7six5ngdPUHIZ0R4CdGJQyBUB+t9nUhoUY+1dl2geWvgEgq41c+hwFofuPZGcsz2FwShCMG27yAwdz7w6itA+3YkqmoCdUhw8RISNfgSIgmv6heR+LocuO5WoGFz4PH+wAefALv2mY04mCXAnN5XEPIZEV5CdGILgmpDByeeGEiii3uwJLpGjKRcssSOQBUKuNzTHT9R+Vr1BEEoIpBpX31lLIZauZyxJleV6hQLTNFV+2xK1yOoE8Y0IPF15Q3AbXcBcQnUSWsJNG5ibB9+BHikLzCIBNn0N4GZM4EMl7EAq4gvIQKI8BKikxDhhVnfGxNhq1YB2rYHUtM4F7jmNkN4tetu+EngFISiB5k2aQJQrhQJK4oDvPZWTRJcDIsva5sDXl7Cvl+b6tWiGEKCrWpVoFologzFD6JGBWDwE0D6387vLwj5iAgvITqxBBRvVq6iHiz1aHm+xq03A1mZwTKeWI8qFGCbUq/WXk8QhCKD2rjd0CdPBnp0B7p2A1rGGaNZDRsZgoqx8ph4GyovDnrDxtAbNQFuoQ7b9fxIocsotpAgq1mZOnYkxjq3oncy3lMQCgoRXkJ0YgoofclS4FwSVjWq0LYetK1bVLHxQvbiKGOSPc/noAM1WCYIQpHBvmtZMG/9BqBseYPjGIcUnsrFC6lqftrL8AAH04GNW4FLr6AYUwe4+FJ2tTUuCPmPCC8h6uANm7Z+HQXEc4Ha1YF61RGYM0sFTlVuOc2bb8z34MuQu/cYUdVsRxCEIg7bU8OBypWBMmUBOmk5+hG8YfGlhBehbAXFmJ69jbseKY4EXn1E+dnrCUJ+I8JLiDp4ox1OAS67AKhDgqpaOQRmfRe8imj3VQsn8l1NFSsAM2Zwac5yQRCKLmxPPwuUPgu4kOKF2+3oF0zSCQ7//AuMfQm49mpj3ldN6thVI+HWsAn0dI/yy64gCPmPCC8h+uC1upo1A6pXAWpXBT40BJVOZVycwzeDfO9pDFSpAXTpdnS5IAhFG+6Rrf4L2LOb0pRhz1dDXAFoBw8Cw54CbriOxBbFiorljPjCk+4b1ANef4NEm4ecyaz6glBAiPASIg+/KBXFhJRxj7RjZ6jVpfmht1OmUeZxLECVBg015meccyH0fzcZq1GvWwssXQIs/AOYMxt4b7qx9s/bbwJpaUe/ryAIsYsaDqeTGW2MF3P73gfQkxONxVOrVwZqUkeOV7C/4HygWxfgi6+NumxWW4JQwIjwEiJPzh3qqe41eqzr/gb68VpdJLr4WWrX3QA88BDQ/j6gYWPg2muBKy4Hzj2HaGDQgAJoXV67h9fwIepxXn2gPgmx+jVpnwUcbXmtn1rVKV0N+OiDnB9BEISYhvtwbEpD7dkHDB9uxInavOwEia0KFYCLKFa0SwY+/QTIyqJOG3XyQofRzY0gFCQivITIYybUKy+KeCEFRH64bTkKjlVIGPHwP6/Lw7eH8yKJ1ViIcQAlMcZzMuxr89QkkVWTRdfZtOVFFCmvbj1o9epAr0f167H4ojr1yOds2r+ZxNvaP43PYH0eQRBiEt6w2PJqGvRN/0J/6GHgPIonPMLF633Vpe/+TTerkS8cOECellmNhCxZb2ULQgEiwkuIPGZCvbZvTb1SElZBIUWBsmZdCpb8uI9GQGsq79YVePwxYOhQ4NlngdFjgFGjiVHQJ78C7c0p0Ab3J4FGgZYXR3x/OrBkMbCIWLYC2Es94AP76c0oOFsfgV+tHUEQog/HTML4H1wawr/wDwTu707ff14QlWNAZWPU++FHgXnzlK8ys3p2wgGHLEHIb0R4CZHHTKjX+fONx4DwKtMsuq68yrjryOOlbqzPmPNFByboAFUTZxmjehBuSd+1A9r5DYDqJOJGv0gF2eVBQjNCdgVBiCIcM424oUa5Nm9GoEMytAa1jJtwKpVSlxf1IQOBbduNmHF0dUEodER4CZGHX8yt7soCrrqchFd1oiawdBkXZPuGAW/UxYIWTUm8UY/3tlug+0i0hfgJghBDOGZSzPhvEzBoAFCDYkb1ytDrVod2ztnA9LeA3XvJxzTn6oJQ6IjwEiIPv6gt2cD+QJ0aQJUKwMS8PeQ6mPzwA+r1llXiS9+715hwq2AnB8ypHXywZzciCEJUEJrhp87U29OMG2d4KYhqVaFffD70CePU11mZw4i4IEQbIryEyGO8ANOmGqNcPCfj0b45i3MJb7TDh6E3qAtULg996hSVl/3iAP1ftnQZmjRpog700GJBEKKIdWuAGtSxqlbOuGHm0Uehpx2hIirkctWRMtOCEMWI8BIiDm+0b781l42oBdxxp8qz++QWNYDl88LXqSNQsxb0hk2pgMvYwXzQECdtlVauWInnn38ebdu2RRYv2ppdJAhCtMGLoN57E9C1E7DZeGarRY4dQYhyRHgJEUVtfvpFLfmg1ta68CJg527KNcrzAm+Mzi4dwFO+gF7pPOCyG4z1fCiPju6gr5XYsGEDRo4cicceeyy7TBCE6MVuTuWCECOI8BIiB9uBw8Allxl3MJ5zHvTlS6ns5O4+UlcXOE3yS1u0EjjvchJe1DP+epbhYw54WXO6li9bjjFjxqBVq1Y4eIB60VwmCIIgCBFAhJcQOdgef5xEF68gX89YZ4tNyy/hRS/eI8D1nYA61wBd+1AWtW0KLt6y6Jo0cRKeHPokUlNSjXxBEARBiBAivITI4XIDN90I1KgGJLWhDDOfDsCjfHOBEl6UNHboPca8D63aVdBrXEj72ZcZN6zfoEa6nhz8ZDBPEARBECKJCC8hcvAI0/nnG89N+/wryjDzrRGpPMAbrs5XE328p/mBtCMItHsA+qgJRill80T6kSNGolmzZkg5nJKjDUEQBEGIFCK8hMixew9QrixQujSwdXt2/kkIL1WVXuj4RYDVFz9DxEsETcfSZcuQlJSkJtLLnC5BEAShMBHhJUSOPXuNB2GXqwh9D4kwK/9khRenQ82cUM8HdufOnXHTTTflqCcIgiAIhYEILyFy0EGFxx4HnugP2NfNOgnhZVUOzP0dB27phl3X3oe0Ua9xgSo/knYEC/5YoA7qHPUEQRAEoRAQ4SVEFrtZeSclvHho6wi8783Ariq3Ys8FTZE6fAQXOPsLgiAIQiEiwkuIbZRq06D99zfSR03FkWdehmvW91zg7C8IgiAIhYgILyH2UeKLR75sOPkJgiAIQiEjwksQBEEQBCFCiPASBEEQBEGIECK8BEEQBEEQIoQIL0EQBEEQhAghwksQBEEQBCFCiPASBEEQBEGIECK8BEEQBEEQIoQIL0EQBEEQhAghwksQBEEQBCFCiPASBEEQBEGIECK8BEEQBEEQIoQIL0EQBEEQhAghwksQBEEQBCFCiPASBEEQBEGIECK8BEEQBEEQIoQIL0EQBEEQhAghwksQBEEQBCFCiPASBEGIFGwaYc/jfbbQfEEQiiQivASh0OGXQE44L4ePUCQg0/waDh86jNSUVLW1jIOwY51coAU4YbOQckEQCh8RXoJQ6PCLCK8iD9nSxUtx911348477sJ1115H2zvRuGFjPNDzAaxYtkL5pKamYcP6DSrt1IajmeUczFcsX4G4lnFYuXxljjJBEKIDEV6CUOjwiwivIg/Z7/N+x2mnFUOFchVQ7+z6qFO7LmpWr4kypcuifr0G2PLfVtzfoycqVayElStyCievx4tXX34VLZq3wLnnnIuLL7oEjz/6uBJYujqGjNG0IYOG0Huchvs63KfycnwGQRAKncgLL5vpGpCV6UJGekYQF+3zBzAcTNjsbeQGMq/bq35Ix3JBiAroJQdOPkJMQ/bTjz/hjNPPxMD+A9U+CyVm3Zp1eHnSK9ixYyfuvachipE4mzP7B+Vj1Z357UwlqEqUKIHSpUqrNFO9anUsXbpU+XAQf7TvYyq/aZOmKu+ozyEIQqFSeCNeZH+v+xs1atQIBhCLyy65DO9Pf58+kIa01CP45utvkZWRZVQKaYN7gSzYMtMz4ff6jUwuMyeqrlq5Cuedex5en/a6KspRXxAKGz5O7Tj5CEUCDrID+g9QMe7dd6ZTpllm/u25nOd9XXLxJcrns08+Uy6WHdh/AJMmTsK333yLOd/PwayZs5CU2FqJtLFjxkHTNBXAH3/scVX/xutvVPEx9HMIQmSgFx5d0WUEP5RCFV5bNm9B/Xr1UaVyFdxw/Q24/rrrcd011+HsumfjTOoVLlywCM8Me0YFkYkTJhmVzPr8QV+e+LLq1d14w424+aab1dyJya++pkSaNcI1iepx/bhWccZImllfEAobpbM4bZ54nXyEogN3DJs3bY5yZcth1YpVlJldxn9/Phb2792Pyy697GjhZR0fIXZ/j/uV74vPv4hAgAI4vcf4l8ajRPESuOD8C7B92/bs9xCESKHOvyy4PLTjMtMhPgUCvfjpPE+Cxrk8OihU4bV61WpUrVIVLVu0NDJM27d3H2Z88KHq/bFg4sAyetQYo9Csu23rNjSo3wBnnH4Gypcvj/Llyis/ZvIrk9VoGQerVya9onqEF5x3gWrvqM8hCBGGNzw2y+he2rNOqgxP8bLSQpEi4A2o+VmnlzwdM96fgb/+/Et1LhcuWIg9u/aoS4779uwLCq9pU1/H9q3bKdZtV9MlQts7eOAg6tSqg7POLIXZ3882jiMyvlrAcbFmjZpYs3rNUfUEoUBhs+KYOih5wIO2oX55htuk7wO3mwN602274Z/2NgIzF5EfOR9VNzooVOH1yUefoHix4viAgpAyB5/rr7uBglAxjBo5ysgwy/hDf/PVN/jj9wUqOK1ftx79n+ivenos5PgH4Vured4EvwdPVt27Z29224JQCKgOGSXVRXE6huF2U4KChusgbVLIhYKHXYgJRQMyDrDdu3ZXooqnP7AAszqLPFl++DPDcWD/waDw4phVuVJlXHnlVbjtltvw+/zfjYbYqM2Z381UbdSqWcuYimEeNyzoSp1VSnVqly9bnvNzCEIBo0bxOUnbgKap7OzC7GS+weZJh/bjTLi7tEdW0+Zw93yMYmqms38UUKjCa8SLI1HstOL4+cef1T5/AO712X0uv+xyFYSeHf6skRHSht14iP106um1TW6n2grQDzVl8hSULF5SjYht3rQ5Z31BKFRIZGWmwjNiCjK6PI7AP8tUNvfdWJMd7S/EJDb74L0PTLFVXMW2O26/A02bNEPDu+/F2NFjkXI4Bf+7/H/Kp3ixEmo066wzz8KZZ56Jya9ONhrhEEkHyKN9H1V+OSbRU1laahpuv+12Ve+1ya/JPC8hYpDOovOujowMEhHeANw+Ehg2lxw7+QEFS33tYvgGDIanSTzcCQlwt06E/4vZhkOof5RQqMJr5IiRKnBMeGkCvvvmO7w07iU1R2v+vPn0phnKx+r9de3cVV2aXPPXWmxcv5E+NDVDWG1lkH+jho2UL49y8URT/sH+Xvs3alSvQT3DM/DTDz+pvKM+Sy7JjzaEUxg+bgN+g43/IqtVN2Q1TIZ33Cuq2E/5er4OzQuFjvGCtavXqKUjqleriZUrVxkdTTYq3rl9BzLS03Ht1ddSHCumRrK+/PxLLFuyDOsojnFwtuIex6BBAwapeMfTKDhIZ78XMNAs41GzObPnGJlWeW5hc8oXhBB4lGveeg+6T9uLvu8fwkfLNaRkUhlbiG8O+MVK81eCMfcD9KLkm7p0yJmcTf+y9sM/4314EjrB0zwRnjiKoX0GQps/jxxYkbF/djvRBH9/mUIRXtPfna7mInCACIV7gWwsvHiOlr2Mb6fmtWqUme0tWrgYFStUxNl166m7JS3jeV1XXH6FamPa1GlGpv1z5AH+ZTnlC0I4qNgR4DkKZDt3wp3YFp6WreF9+13logQZj4YpZ2MjxDr8Ahw+cAi33XI7Tj/9LDRp2hS9e/VGzx490axRU9StXQf/bNyIu++6R8W55559XtXJEW9sJ6RDBw9hxAsj8N23MymDsiiQcxCf/s50dYMSt9GxQ0ds/W+rKg+2ES5kfDWiW5euOJJ6xMhw8hMEE49XR9wUDTWGaKg2xI9S/YG7JuvYm0bltmM3B8ooYe2znwXtGxcrudyE0trK1fA9MhTuVnHwxLeBJ6kj/FMmQz+8k8oN92imUIUXL/xXoXwFFSAuv/RyNTzeNrkt2rdrHxxWv/Ya7v3xsHtxtdjghRdciPPPOx9dOnVRH9xq7/NPP1d+d91xlxpqV2aWDR40WJUlJSSpyav2stzAG34R4SWEC49OuEhjZXkAn236lhojD1DGX2vgpk6Gu3Ub+ObOVaUaVVI9PNWAsRFiHI5VZqB9Y9qbqFGjDkqVKoti1Ik8rXhxdSnxkYceQXp6RvCGoodpn+s6xhs+kGym86OC6P8nH3+CkiWMuWOPPNxXBXXDIQ+QDR0yVF2y5Hljypz8BMHES7Gu5WuG8KrxpB/VntJx1gAdg+fsUcesQxUTerV2+Nhm+NBVxzllauYOdVi1sdPhb9kBvpat4EmkDuugp+H/exV5mZ1Zq50optCEF79pyuFU/O8KYz4DC6fDBw/D5/GpNblWr15NH0hTYozLeaLo3N/mYteuXdi9azdcLhc1lN3ezz/9jBLFS6pRr3Vr1xn56o8GjBszLjhqxstLKDPr5Qoy/swivIRwWbRZxy3jNFwzWkO/rzSs3GFKKj426fj2T38P7sREeDp3QWDbNnV+VpeSqGeXIxgJsQ3/YRX0n84ha9duwHvvf4gpb7yB1995G3/8sYBOWnRS0TTqeHZQsarhvQ1VUD5RvLEuPf69br2KkxzrGI6tr7z8ijHx3qHeCSF7auhTqnO8hjoIypz8BMGCjsU563Rc/GIA1Uh4NZ6qo/RA4NGZ+1WZUxUDeuWEEk92eDkK3mZB37YdgedGwNcqAb74ePjatYb/o0+gZbiC7QQTUU6hCS/+I/At0u2S26kgw0tDtCIFy88Yu+XmW9Wk0rVr1gbLb73ltuwFUi2jNqz2uK3vZ36PX3/51ej9mWXv0Ymtbp26al0wHiX7Z+M/XDP7c4QL2ayff8E1111vPFPNyUcQbPAVw/5faKg2WEetITrK99Nx0XANv/IhyHMQ6EvnGfYssuKS4H7gQfgz0ozj1j673taeEMMo0cUJ0+xl3JlnKK2T8Or3WD8V8y668CI1MT6cjh4H7wd69Vb1ePoGxzy+w5tFk/UMSKd6x4VMhJeQW3jlk9snBVB1aAD1ntVQ42kdf+6kA9wst7naoFd7BsdB63tBpq/dB1/fPvAlkOBqmQj/088Bmw/mrBNDFJ7wMuGV5W++8WYVLEqWKKkoU7oMHnv0MfWBeLidg8nNN92iPpSqZ5oaNTDb4R8iaGbyyy++UsGH67dr2x4BvtbDZtbJFWQvjB2n2vrm62+cfQTBBl9JHPS1jsqDgNpDgJpEpf46Or9DB27mEej05XJ37QV3Qjt4n35WxRju27EmMxb5EooMVkKljY0tfNELlxmF38/6HmeecZZaaPUHfmyQ5XQcNm/6T/mfUfIM9Hmwj7kW4gy8/dY7cLvcjnVOCJkILyG38J2NI37UUWWohotG6PiMHznKZfYDPhR+4S2fx0mMcAdETblIS4P2xVvwxbUj0ZUAb2Ib+N+aBhIDXClnGzFExIUXv5EdNl4IkC8P/jDnB7U2zYb1G+mDGCKJF0BlscO3Xh9JO5Ljj6fElj1tK9u3dz8uPP9CVZfh1fET4xONJSXYTL+wIRvz0kRqq5i6A9PRRxDs0Mu2QxrunQRUJ/HVaoqO6gOBB3nZOgocgTXrkZXYDlnNEqH9/JOqwsJLvYjwKlrYdo7Kzpmjplxcd+11Km7x6H84y0HM/G6WukpQoXxFrFhujshbFuIbNmQivIS8QFoCmw/QeZinW3Men5vDEV7W5Hl6DWzdAv+g4dCaJ8PfsgV8XQci8OOPFB9TuILpH5tEXHiFBZu5/WP+HyoA8YNlN/27KYcfL5BqpS3hZf7d0Kd3H1WPgwY/OqNsmXJq/9233yUHwydXkL2khNdpIryE8DATbd4Eyj0O1BkCVOkPzP6Lwwrg+/gzZLZKhCuhLfTd2yhaGcsFqEuN3O8IbU+IXUIycmRbe2rUi5J0DPy1eg1GjRiFP1f+GSw+Hjy6Vbx4CTS8txEJNT6AssvyDJkIL+Gk4Zhm4VTO8Iva0mbXFugTZ0CLfxj+pATojZJIgJHo2rjVcCkCsTE6hRf9gdQJiOy/zf+hVo1aSvB069ot+w9IpsSWWccuvPbu3ouLLzIeNMsTVXmkbMnipfj0EzrR0Q+U473ChWz8eOO5jyK8hLChlx/XAdePBm4aA3y+hDIDXrjp3Oh66CG4kpLgGTgIyEilnhxl8jkztA0h9nHMDMEmvOymrgzY3JzgFep5VP/9996nDNMc/HIFmQgvIV+wzttOZWq0JAA9PQv+6b/B16UTAi1bQGsVB3+Hjgh8OoVCpjEKZp3nnduJHaJeePFdjtbT9nnu1+Z//zMKyJSPWcf4QWhL6SWLlqi7G/k2aBZJ6o9lmenvCJtTPkM2cfzLajVpEV5CriBzU+Bwe2iHj1OfG76tu5GV3Aau+9rB/z6dLPnBrvTl45t4+HBVsUgoOjhmOmAlLaP0iYQXxz0O2nxFgOdzBeNdiF+uIRPhJeQVY8P/zDzb+ZpR+Zw8nAL/dzOR1esBZDa7F+64FvC2ag5twkvAllSjmuqUUIqP7ZB2YpHoFF4WZHw5kdfl+vTjT9WK9iqohPqFwH6lziyF+mfXx+FDhx19cg3Z+JcmkACUOV7CyeP76Ts1UdTTuif0P+UuWTsOWc6ZQsFCJsJLOCFOmbxRLz765yKtxOvP24o4mbEHgS8+hLfXQ3C3aYOMls2RkfQ4fJPeA3buBbyBoMiyD7IUBaJeeLHSVT0+05TwUoljs3PHTjSo1wDPDX+OMrLzTwoyEV5CvuD2w/vii/DEJ8Db+ykgkKGyj/I7RXHIcs4UChYyEV7CCTET/E9Nv+Jdv7lVAyXGgtC6RuLLm4nAxr/gf3cSvF17wNsiCd6E1nA3j4dn/GvQNqylOh6KiT5qg+oWMcFlEd3Ci3/ppuZSgovSakJ9GH8MvhOIfyCnsjxBJsJLOGl4898WeNrcB0+LlvB/9BXl0AHt5HuK4pDlnCkULGQivITjoszc4UES3Q+dp02wsPDzkg+kwFL2Q1vyO/xTXoenzxB4ErvDHU9CqwmJrnY94Z/0MvQtf1ELvCi6T7Wh1uLhO7sZ+/sVEaJbeDGm8HIsiyRkIryEvKJ6fwyZ/92P4W7VCu7EZGg7/svhJzhmOWcKBQuZCC/hePAm5w4pJdcRaJs3Qvv5R3hGvgxv4kPwtGoLb3wSPE0T4GneBt7ufeB/711g9waqZxvxZ81lNqdEVxG92Sj6hVe0QCbCS8g1PJhFW5XkF48L3gcHwxXfCt6nRlBBHhe3LMI4ZDlnCgULmQivUwP7bo6dE0DSgQIb3xjkg778H3he+hQZvYfhSNfOyIiLR0ZCS7hbt4TnvrbwP9EP2ifvQd9BYoufBGSZvU3OJ8Fl3SgXztWtWCR2hZeVsOcVJGQivIRcoUZrM40uHPfeyLQNm+BKaqWEV2D2r0ZmaD1BiAbIRHidgnDc4slajoWmsd7avI1i2HfwTewPd/sEpDa9G2lJbZCW0B6pzdsiq+cT8E+aAiykOLd7v1mRzKnZUwwZ8QoXMhFeQq5QvTXjbh4Gmh/+V2fAldAKnk7JwKHYX4FZKMKQifAq2vBG9Q9NscX7Zh8xWB60dB+0jUvg//B1uPv2hrtdW3gSkuC6Oxmu5B7I7NEHWcNehOftD6Bv/RcgEaEmyIc5L/tUQoRXuJCJ8BJyg3GJkYQXRzK+pLh9A1wPDiDhFQ/vmLGkyXxBX0GIOshEeBVxyFR44jQLJHUHIk+Kz6A8F/S0bQgsnA3fWBJU7Xsgq3kiXC3i4YrvAFdcF7h7DULg/Znwr1kD/eBOaiOTmyShRSqOhIVq3E1bHkHj9xAUIrzChUyElxAuwXldHHH4qbGeQ/C+PBlpzZKQ1bY1tP/+oXLTSRCiETIRXkUfJboYEgDwkejypQJb1sE1bSpcXR6Eq2kSXM3j4W7VCa7eD8P74kT4Z/8AfdcmqsRCy0/VWVmRymKxpaCYF7w7kdIy4pUDEV7hQibCSwgXK2lEHApMP3+PtKTOSGnXDmnTxxtl7Gc5CkK0QSbC6xSB49TBfdAWLIZ3+ESk3tsFaXFtkNm6A1w9esI3aQy0PxcDGVsNMWWva4oq1QzrLzVyxgkP7ZL44rTVExUUIrzChUyEl5BrvLT5dxWyunVHeosEpPbtjyNp/FxGKqT/Kk4RR9UrKNic8thC84VTGzIRXrGHQ9ZRBBO+APSdh+F/fQbcnXsjq1WcuhvxyP2d4B4xEdqSRcCRgySuPEpfKbM3xOQwymCRxc6mIBOORoRXuJCJ8BKORzCpFqIh48CTkgnfoGcooCUgq1176H/PN/K9ATUiz6JLBbRgZUGIEshEeMU2amNuOdCoLRud8PUNG+F/+S24k5PhurcJshIT4O7zALTPvoK+4wg58QQtjk7ky21Y9fnFjmWh+cIxEeEVLmQivITjwSGKk2y6i4KWT4f30+lwxSfB1aoztD/mkZMa34LGXzresi9n2NoRhKiATIRXrMHqiOA5VmqelQ02jx/aur/gf/5FeFonw9O0FTzJSfAOHwHt1z+o3GvWI19K8vQs0gYUywgOXUe9n5AXRHiFC5kIL+F4qEWWOW1dQFyyAZnxHeBu2hKBD2dQUEuhbJ36kT6e9VV0hRebU74QW5CJ8IpBrAQHIw5FvKSDl070K2bC++CjcMd1gKtpa3jb94Zv1BvQNm4kP35cj1HNXp3jk9pXgYozzX3hpBDhFS5kIryE40MvvKUXfd8eeB97HplNqTf5+CDg4HbK9xlfNpJdAfK1V8veiWHs5lR+IixzKhMiD5kIr9hCbczYwns6T3DfuAKBx8fC0zwJ7paJcHV9AL7XpkLbup58ePkIw1cljge/hOYJeUKEV7iQifASjguPy/soQV8a37SPkdUqHu523RBYMI/KfRTj6MumfMnPGuoqKhzLnHwtnMzJTygcyER4xRCWqQF36uTt2wXt9fegJbVHoGECvC27wv/eNGi710IPZJrVQhux4ZAl5A8ivMKFTISXcFx4LuoRP7RZv8CT3A2u1k2gvfcBiSxewZmiIU+6V7dah9SLYTh4cND4a/Ua/PH7Asz5fg5mz5qNmd/OxBrK48ByrHqpKalYvGgxfvzhR3z37XdYtGARBR6+DfRof6EQIBPhFQNYZqVpq89bA3/nR+Fv2RRaXDIJsBeg70gLlguFiwivcCET4SUcFz99mZbNh7v9/fC0bg//i88BHh7d0tRkeuXDvdEiMtqVlZGFAf0H4vLLLketGrVw5hlnKk477TRFtarV8PVXX5Nzdh0F2Q+zf8AVl/9PndSLFyuu/LnuIw89YjjYfPfs3oMf5vyg9r0eHz6a8RFWr1qtAlfQT8h/yER4RTmmBb8LWRRiPpoId3wcvM2bIXBfd2DeJnWzjxrdUhPtTV+h0BDhFS5kIryEY8KbXRvh7dQL3ibJ8D8yBEjhW7JNo4CnKyjNI2Oh9WMNsg3rNyrBdPVVV6PPgw/h+eeex4TxEzBp4iQ8O/xZlCldBgOeGGA4h9QdPXI0Ti9REs2bNUeP7vej1/29cOH5F6L0WaXx3+b/cvh279YdZcuUxa6du7Fi+UpUqlgJN1x/AzLSM3K2K+QvZCK8ohwyNapMdiQjA57Jo5EZ3xZZ8YnwjX4V2LSbSlh0+YIYC5pStlBoiPAKFzIRXjGEU6ZDVtg4Zmaj7fsH3gd7wts4Af4HBgM7d1A+BThePkIJLvqikSt3ONWo19FNxBRaQFejT8uWLMP+ffspeBjB37INf2/AGaefgREvjDAyQupzYFm8aIkhnkwbOGAgShQrgT9X/al8OBDx5ccLzr8A1atWx64du/DWm28psXf7rbeL8CpoyER4xQBkWloK0kZNUM9RzIrrAP97H1JulhpdN0a6QqHi7I0ix45QoIjwChcyEV4xhFOmQ1bYOGaabNsMX+/H4E1oAV/nPtDXkHBQc7k46jGm6LKqsEax0rEMGQcNTnMQ4S0HEg70E8ZPRIniJfDhjI8MR6vOMX52v9ePNq2TVZ15v83DmFFjcOkll6qRLs7j0bOtW7dhgvoOnoaEuAS4s9yObQn5BJkIr+hHP7gbnv4vwN2yPVwt2yHw8adUQKJLjXCZdy2G1LHgDX8lra+lvUwoOER4hQtZDuFVVE6esYhjZhg4ZJ0UvNm6Hf6u/eBr2Qr+1m2gL1tImTycT4U8slUERrccYbO29F0IikoiJSUFt9x8C8qVKYd1a/9WLsF6tu+NukRCW9amSxYvQenSpdW8sHp16ylxdXrJ01GlchUlvMqXK48t/23Fc88+r8paJ7Y2hJd8DwsOMhFeUQxvDh2Cd8BwuLgj0ro9At9/QzGHBRdfXmQChmtoXRPeWOvT57AQPyF/EeEVLmSG8DoN33z9rfqlOfoJBY9jZhhwdLFjFVkJ2xB8WPy3iUTX4/DFkei6rx30PxZQPjXMZewS6l/U4I35u7QupbItWrhIfU+GPzPcyDDz1db2e1ejY/Q98nn9uPbaa9Uk+zNONybn9324L+b+NpcE2VKUK1teCS8++ffv11+Vd+ncBR6XJ+ffUchfyER4RS/6QRd8A/vBExcHT5sO8C/8wSiiF/W1ZB+G0vZ6oRgbHYu3AH2/AH7aaOybBUIBIMIrXMhEeEUYfuEIYo0cMSc60Z6o3LYTsktk5+f4+7JZaRP951/h69SbRFc8/F06ACvW5fiMKvCZ7qF1iwSm8e/p4MGD2LRpk1pSYsXyFVi+dDm+/eZbrFyxUo1kLVy4EPPn/47fCZ/HHA0k1IgX2cQJE9X3iuHRrfu736/yeR4ZT+Bn4VXqrFKq7d69eiu/7t16wOv1Kj9l9s8m5A9kIrxyiXFIH9uc6uQStTmwD95BD8LdshWJrs7wzf0hGG+sESyrSjDhAG/49Zs1GuoO01F+EFBpMPDAJ0AWCQC7r5B/iPAKFzK51FjQ8AuHDY8JP4SHT9SUbyec3z35WO7KX8EZPPRuQId8zqbohXUTG0/RYnf6dvCL+s8ppByGb9xwuBNbw9OiFbzde0DfsMFsgLDey6iSnV+ECFCwmDd3Hm679TZcftkVOO+c81C9WnV1mbBi+YpqPhany5erQIKpNM464yyULHk6+I7Fn3/8OdgOBx6emM/LUbCYSkpIUtvSpUpj7Oix5AQcPpSi5nqVLF4Ss7+fjY4dOiqfnvf3yhZeOf6IQr5BJsIrTOxyhzYBr4Yp8zRcO0bHjeN13P+xju2H2c9wyTO82bEVnod7whMfD3dSN/h+mUvfJeOS4lHuTpkhpLg0XDZCQ7WhGuoP11F5CFCOxNfrc/epCOxURzg5RHiFC5lMri9g+FuuFA9FLvWgVk4T9tEuK23VsQjJ0JXAMuY5GLdPUz7X5wOe0hphlqoaqllKWIJrxVYfBk3egu++WI/DB9Lh97vg+/ZTElp94I6jgJfQDf6Rk4GDfLs2VeBGThEO7DuAYmrtrWK0LaaWdyhdqgxuvulm3HXnXWhQv4ESR7Vr1kajho3ROqkNHnvscbz79rsqqATbIvvwgw+V74UXXIi0lDSMHDFK7XO748a+pHz6PvIoitF7vTLpFdzf435V3rFDJxWkVDv8d7XaFPIPMhFeYaKCF186N/b37dyP2k8BFQYGUHmwhjP7aUh4k+KNU+wKF45YWzfAc39vdXnRnUwxaN4iKjr+BPoTsfUQUH1QAFeM0LF4K/DM98BpjwHDZvwNl4O/cPKI8AoXMutSI19GkWCfS8hcXiCT50Nz8GEL9WEVxGV0EBoRzBzxCmRQWTol0wB3CjVyEMjYD6QTR/ZRl20X9APboe/bCn3vFmh7/oO2+x8Edm+EtvcfKttE7ABSyV+nD0BvYox45einKsHF2zXLdiK+5wJ07vULhia/g1l9J2FL/6eQldgO7sYJ8PZ6DPr8eeRpnvhPMfx+P377dS5++vFnFSzefeddNRH+A16ln8rHjxuvvidtk9tSBTL6BavLilRmnZgUZEMGDyFRVRwD+g+gtvzkp2PVyj/x8EOPqEv6bLw0xT1334Nffv4VQwcPVW03qNcAaWl0PFhtCfkPmQivMDGFl8bKivb37tiPuk9DjSIxZQfoaP0ORZ3cCC/ru2KaTnHN3f1RuOPj4e3QFYHlLLr4HxfmEbI06gtd+nwAVUgk1n1aQ80ndZTqD3yzdI/6CI71hJNChFe4kMkcr7wzYxlw/TgNV47S0GJaAF+u4oLscmW89ZOYcWVC37wJ2s8/wz/5DXjHTIR78PNw9x8Oz8ND4O3yGDztH4Q3sSe8LboRXeEj/HHd4Y3vAW9CN7iTusKd0Bmu+I5wteiArLgu8HR8DN5Bo6nNdxCY8Rn8n8+Ef8VK+Neuo6C2D/6Dh5Cx5yC+eGI6nu38Pqb2egdf934FC3oPwPoeHZDSsRP8098CDu+lz2oIiVMO/rHVsKCR5jweAeYRqoH9B6rvBa/dxd+ThPgEcjB87PWDabIZ788g0XaGmv8VLKMtLy9hfcdYjGVl0tmB8qe+NlW1zZPt+TJlsC0h/yET4RUmlvAyj1m/W8fiTQHUG24Ir7Oe0PDxSvYjs9cLAxVqUo/AM5RiYHwiPG3vg7b0FzVy7+SfG3jDtmgrcNvEAM4eFsD5z2mYPE+Hz8dvTIVCviPCK1zIWHjxJY+vv/omeFIQTozLDZz3rI7qQzRUf9KPKkO8OOdZNw6n0hebf498It+7F9o3X8Lz5PPI6voIMhK6ID2hPTKT70J64xaKzKat4GqZQIIrGb7k9vB17Ax/927w9+mNQN+H4Sd8fUiQPfQQCbSHib7wPEI9xIcehuvhJLgS45HZrBGyWjRCZuuWyGpLeS1bwNWmNZGMlHadsOW+BzH34XH4ou+bOJLcBSmt22NN50fwy2Pj4D6cobSBYbYf0MIhq0hiM03TsGrFKpQsUVItIcH22uQpShzdc9c9yEzPzFmXf4Fmmr9DHFxWrVyltsHvlGWmn+2XjvV/r1dLTPDcMX4upDLLT8hfyER4hYkpvNisUd1DacClIwM4k0TX099lX4bMLVl+De6XJyOrGcWphLYIzJ1FBUZxqG9e4I1l/KhUnuWhLMRPyD9EeIULWbbw+jpfehunBGSHXRpum6SjxlMgAqg8REeXpzYg/WAmDs7+A76RYyigJMLdNJ4EVxtktG2PrAd7w/3CC/C9/zMCS/6GtmMXtJ174dt/CBkZaUh3H0GWO13h8mZQwMiE1+8isqinlgV4XaT4Moh0ilxEJkWT9P3Q/v4Lgdk/w/v2Z/CMmAbv8OHwDBxoCLTefZD+8OPY2e0xLG0zCF91GINp972G51q9ilnv/2n8MGRWiFU/XujPeyph2tIly9Tjf/jyX0ZGBhYtXKyE1/nnno9DBw851z0JenTrgTq16hiPFmJz8BHyATIRXicB2aE9+3Bg1x4EfMYlyOPC8yzs+xRkeFqGd/5byGrcRIku/ztvGwV2PyHmEOEVLmQ5hJfVOxeOD8cI3Y+9qR7cOsGH8584jFuf2IJZ43/A1mdfwt72nZAe3xKu+zrCN2QStJlzoG/fAD1zD9S8Ls1PSscPjbqLPCFeDeUr5WO+AQtgTluz4tXfxcSex3OMPNSdo89CRzftc9eO0jwng/N5WI4OeI22roNpmP/2PLzwzGI8/uJ6fPTjQXi99AVRbbuV6GJoz3g5xTl44CDONhc9nfHBDGzbug3VqlSjE3ZFrFi2wrHOycDBKeVwinwHCxoyEV55x08xg7cqHKk4RPlsZvlR2IWXmdS2H4GnYwe44pLgGTYKuifFLDD9hJhEhFe4kBlzvER45QZ1cKnnFXrx5Fu7kdz1V4zsNxO/PDwB/7bvhSP9B8P34afUNaSAYs2uV3chEiyMeBVmje/aoXYoglkBTOktdjPTRnAztkFlxJBPziBlOnO+GRhD4Q0bP37Qb+7Qu8PFIo1+jqCTYPxuydauWYexY8Ziy+YtcJN4bXhvQ9VJ4Uf/KHOqK0Q3ZCK88oaKUypBGzI+wSozsx3hoMRu6o5u6mju3gf3EwPgiW8Bd6+B0PdvJxeKiU51hZiCjw91bhThdQLIrMn1SnjxaEqoj3A0HEhI6PA6MwGvF4ve/AmLH3ge65J7I+2ND4ADqYbessyso0SUlRFUV2a5mVQazExb+7wNZtjgMjUCZu6r5tRnOzG84VcWfurDWZmCAW/UL5jPCwE1Ef4Jc4X58849D7t27jq6jhD9kInwOgmsWBHcElZZKOzCgZC3LLwCmfAOeAGu+KbwJvaAtpZ+/6pDavoLMY0Ir3AhkxGvPMIdOW8AqT//gU1t78e2Lg8i46NPoGdmqTLDzxjVcvqnHByE17FwzGTMBP/jNbz4iWb8PyzsO7akQP/NAKKCiRKnwO5du9Gfeuuzv5+jAotTPSHKIRPhdRKo4GaHBJWTn4mue2nDOwH4Xv8A7lbN1WiXPmeV0dHn4XejOEc9IfYQ4RUuZJbw+urLr9QvzdFPcIaCha//AHhat4b2/gzKCDF1wibsdY4Bb0LzwoU3qlNpyw4mjoF9N8eOkA3/QnnDJ4gQk9HhGIVMhFcEoBcluHxutetfPg+ZCR2Q1aYr/N9PD2q2HEFLiGlEeIULmTW5XoRXLuHAceAQXF26Iq1xU+h79lIeRZFQv3wOLPbd0H0Lx0xBEJSJ8Cp4jFEuOgnrbvgPpMHX9gl4WybDN3Qg9AwuM/yEooMIr3AhM4RXcXz1BQmvkEtfwnHgg2zTJriTO8LVrhOQkkbdOlJZBdiDc8hyxDFTiC3s5lQu5A0yEV6RgE7AGp2Aacc3+jn4m7aEr0cf+A+nquKcvkJRQIRXuJCJ8MojHFRmzYGnFfXihgwj0RVw9stnHLJy4JgpxBRejxdjRo9VjxLas2uPkc+C/niEtCEcAzIRXpGAX+hY/uELeJu1IuHVFf5f59GhymNhxjNns32FooAIr3AhE+EVLvRiT2suBCZNhadlOwSmTKVM04I+BYdDlsIxU4gtyHjpiu5du6s7KK+68mrMm8vP0DTNqY4QPmRPDn1ShFcECMxbBndiW7iTk+Gf+j6JLv7Hz5M1nisb6i/ENiK8woVMhFc48AtP6qItJ6m3pgUOwTfoBXjjOiIw8wvOJDFmlgvCSXL40GESCE+hQrkKqFShklo7jAOXMgd/IUzInhzyJMqXLy/CqyDg0VdOzl0Id8fu8LRIgPfp4UBGliq33IIJocggwitcyER4hQO/2IUX9dh8u+Hu1Bfu1l2hrV4KeFWBrY4Qs0SRLV28VD0fkke/mjZuipUrVqrPqJaBk0uMuYdMhFcBwlcQ566Eu20HuFomwj/kOWipR6jALBeKLCK8woVMhFc48EtO4YVDW5CV2AtZyV0R2LyaMw0L1hFiDrKMIxmYOmUqxoweU6CMHT0W48aMOy68av74l8Zj2NPDUKN6TSW+6p1dD5MmTqJg5lUBTpa1yCVkMsfrJID7GFBMPHgYvrfeQFabdvAktEFg2AggMzO7qr0docghwitcyER4hQO/BODjcXQzL7B4HjITuyGjUy8EXPuMgy7oL8QkZCuWr0CJ4iVQulTpAqdMqTInhP3KlS2HM04/g76nxZT4ql61Onbs2OH8MwjHh0yEVxjwaKoT6hwRgo86ACt+hadnL2S2SkBm6yT4Xn9DPSdWGXcOVF2hKCPCK1zIRHiFAQcNCh58R44KNHRQeWdMR3qrjsjq9xQV+siHy2x1hJiE7yic+9tczJr5fYEze9YcYvZx+enHn/Ha5CmoaY541a1TFx/N+EgFOKfPL5wAMhFeYaCEFiXUcWZgnR/ov/lCETFtNwLvvgFPm/vgbt4O7p79EVjwuyG2LMElouuUQIRXuJCJ8AoDvsroNzYcgLQjWcgcPQoZzdrC+8bbnHt0HSG2iRLjhY1r16qN4sVLoNN9HbF/336jwOkzCyeGTITXiTG0liW2DLKFFympjMMIzPoJ3u794GnSXN3d7Z/8JjQSYvzgMtWOCK5TChFe4UImwisMSHHpJLw8lGQLHMhA2hP9kXlPPLTFvxmZTvUEIQ9w8Nq2dRs6d+yM00uejvr16uPDGR+qgBY0h3pCGJCJ8DoxPFjlpWTAPJmqp3L4/dBT0+D/4ht4H+gPT/O28CS2hm/g49CWL6Rq/M9oIpgIxb5jSwqxjwivcCET4RUGpvCi/8q8h7Jw4OG+cDdMgL56gZHpVE8QcgvZoYOHcP2116tLi82aNMM/G/8xCpz8hdxBJsLrxGi6Bs0XgB7wQvekQ9+0Fv433oOne3u441rC3bgpfH0fgvbr94C5yolTO0dh37ElhdhHhFe4kInwCgO+xugj2AIeePccwqEHesPTKBH6XwuNfKd6gpBbyDhI8Z2MEydMhN9Lcp8HuuSyTf5AJsIrDMi0jMPQfp8L3+iX4O7YDa4WLeFJSIL3iWHQfppLB2pGtn+4x6eVsOcJRQIRXuFCJsLrBNhPeso06AcOUSDqBW9DEl5/L1J5R9UThLxiN963H4PCyUF2Kgkv+24wwccSdyaDW45fVMBlbi/0LWuhTX8Lns7d4G6VBE/zeHji2sA/+jWkr/0X8PJFSNOsNoVTHhFe4UImwusEhJ70KFLpe3bCm9wN3uZtoP+zROXlqCMIQnRCduoJL+OfkUHQydEQW4TGQ/l+Elz7oc2eBf/TL8LdrjvcTRLgbtoZ3j5PI/DZl9D2bSY/d85YKAg2RHiFC5kIrxNgF17KPNB3b4U/qTN8LdsCW1ZQnggvQYgJyE414cXL4ASFF4uuAA9z0dbvhb5mKbQ3Z8DTsgfccfcpweVK7gLfmNHQVi4HfBnkyc9WNKoIwrEQ4RUuZCK8ToAlvILii4TXjs0IxHci7hPhJQixBNmpNsfLShppElHudGg/LUSg5wT4EuMojsXD2649vE/0h/bDV0DaDvY2zKosCCdAhFe4kInwChNLfMELbetf0JK6IJDYFdj+t+ngpQ1t7XUEQYguyPhZjUVNeFlJ48U0q7Oo4hYlU73wffAGPH27wdusKcWvBKIjtDcnQt+8JegXbEwQcoEIr3AhE+GVC9REVB8CS36Aq3lreDr2BlJ2mgHLQz7kFFpHEISoYsjgIahQoWgILyvJIcjQWbzoDeVYa9/w4oNH6AT42Vi42rWBOyke7oRW8D76ELTPebSezGpEEE4CEV7hQibCKxfwPFQtAM8Lw5HeNAneseMBd7ohyHgxG/n9CUJ0Q+pk8KDBRUJ48YbOcyrs8JZz1Hx5zgu4oKfugv77r3B17oqMps2R1S4JnoEvQVu5nuKWufiWOd1LEE4WEV7hQibCKxzohSMa30V9YC8yH3wAGe06w/ftl9SjzDJ84DL9rDqCIEQjasSrfPmiI7zUCY8Vl9vYIgOBlb/D2/8ZuOM6I6tRK7j6vQhtxe9U5uZaBCsuGxK7hJNEhFe4kInwOjF0ONHvhoIVxafAnLk4ktwOGW27QVu/nAqNfJnjJQgxANmQwUNRvlzREF5sup9FF8UovweB/dvgnzAF3pbd4G3cFp723RBYOIfKeSFeH4UoP9WjND+KIwdmg4KQR0R4hQuZIbyKqYfx8i/N0e9UxzIKXt7hryKtWSLco8bQfopRzh1ITtjrCIIQlbDwKiojXuqFT3hHMuH9cA7cyR1JcCXB3/khaJ+9Dz3deNyU0lU27O0IQn4gwitcyFh48TPhvv7qa/qFUWaoz6mOZZQOrP4LR1q1QGbrtvD9uxR+LTVYpmaz2usJghCVqDleReWuRur06X+vh6fvELgaNYQ3riV8I8dB37qTCg2Xo+oIQgEgwitcyCzhxSNeIrycUdMnaOsd+SIymzWHe+RztJNChXwn49H+giBEKfRdLiqT69n0BX/A07o7PC3j4Xu8H7SVq6mHyGrM9BGECCHCK1zI7MJLF+F1FDwsr9HBFNi+A/4O98GX1Bb60sVUyOVcaPgJghADFAHhZSUDC2bB06w1PImd4Xt5KvQsXmU+208QIokIr3Ahs4TXF59/KcLLhDfqxRRVmq5BX7IEWkJbaD16A4cPsYdhZh1BEGKAaBJebCpNL/Z8NQnLdsehDV55XqN/gZ/mwJPQDp64TgjM+JBOeOlUTpajHUGIHCK8woXMEF7FDOFFvzRHv1MIjnkc4tS+KbxU8ptvoTeKgz54GOD3s4dhXCgIQmwQDcKLLMsDrN0F7D/CeZSZw4cDD8eYnPDdiCy8Ar//Dk+L1nDFJ8P/yUeUl66qGXXzgN2cygUhDER4hQuZCK+ccAz0cXQ2RRejepjPvgh/i2Ton35NyowLs8sFQYgRokB4sehKfhuoNgS46AXgqW91lefka8EbJcd+XABPQksSXYnwf/kJ5xBsIRXsOGRZcLzbmwYs+g/YvB9w81qFIT6CEA4ivMKFLGqEF5tTfsShFy2gohzv8ou2ezc8rTsiK64d9E0UoTxmdDqqpyoIQlQTBcJrdypQbxhQ92ngnOE6yg0EZq119lVGn5lFV2DBr/DExSEzIRG+j5YamU51csFP64BLXtBRZbBOn0fHva9o2LDH2VcQjocIr3Ahiwbhxb29paRn1u810soc/CKCMmOH45o/0wP32IlwNU2Ed/gI6hJmUcCjEiXQCKueIAjRD311C1t48eXFi18Abhqn46mvgLL9gdlrqSDEzzIlun77FK5O7ZDRqjn8n4835kOE+ucWehnytY4aTxJDdVQfqqHiQB0d3+V3VMWCEDYivMKFrLCFl04BpM/HQMl+OsoM8KPRa35s3EsF/N1nn9AKllm77GdhdwvdJ+yuTriIdQf8+GW1BytX7MOBTTuQ8f5HyEpKhrtDF+jbd5AHWcBP7dEHlxEvQYgt6Ite+HO8SHB9p+OsfkAZEl0swFIy6IOZZUE/guOSf/6ncLeIR1aL++H7+GfKod6pL6dfXuBNBgW9uyb4UW2IH1e/6EXVQV50nG5evgzxF4TjIcIrXMheGvdS/gsvx0wbHE3YaOt362g7MR2XDUlF23H7cEG/fZgy8zB0nxeax0ve5M+TTVnkqDTXN/ctrM9tN84iN2sNLuVG2Qy7WlvVhDlpdc2/meg5cD7ad1+AF9u/h+U9n8PuLg/jSJuO8P02n7zJVIMsvGirGhAEIWagr200TK5Pp7g3cW4mHv7iMNbutqYuGBvu1PGjfThG+eZ8DXdSHAmv++H/YCblkPFoVzCA5R6OeXx/JHS3aqb7VD9q9XWjwVMeVBzgwZz1GvnwSfTouoJwLER4hQvZuLHjSHiZy0lESnixBeiPxEn6co9/Yysa91iG2e8tR9P7l2L2zP8o36WmjZrejma1ZsUH9aqiBScptGgB0kkG/KxFy99CvfDPrJ5j5sfKpfvRvdNsPNftY8zqORHLeryAje0fxZHfFiOgxJ6tsiAIsQd9jQtdeJmoQXM/J0Ly1e09Xnh++gOepJZwx7eG9u1cKjR9TlJ4cchTso5ino+yftgMNBznwXWj3XhnqQYPte9X8ZkcbfUE4XiI8AoXsnFjecQrEsLLMnOf/jCe/UdweNUm/DrkXXzRdRKm9pmBLx+cgoXPvoPNE96Gb/pbCPyxGtr6zdD/2gj8uRE6of35r8GqfxBYsQGBZesQWLIG+op10Nf8A+zYAxzZSx26/dC8h+m9UokMCnR+gkSYCbyEKwvI9MCzZQd2fDsfs/pNwfcPvoK0th3xbY+XMfvxt+H2aCpA5fhxBEGIPaJIeDnBG41kke+fv+DumAx361YIvMeXF7ncdDhZWLQxPp/qp6ZRMpPyM/nyJRkLLzqF0otKCEJYiPAKF7L8F170Yn/qfbB7xlBZuhuBxf/CN+FVuLp0xcGWbbA+sQ9WJz2OZd1fwLr7+uPf1r2ws1VbeBrfDnezu+Bv3Ay+Js3ha9oC/mYtEWjeHHqz5tAIvWlzoGkzoimlm8DTqilcVO5q2wGubj3h7tMX7icGwDv4WXiffRaeESPgHTWSoO0LL8I3eAiyOndBSvNE7GmRjM2JXbGw3WB82H4CRsa9gRULdtPnVp/ceBEEIXahMBTtwitwMAWe3qPga94K/unP0kd2U1hlEWQ6nCwcilVYph2er2rGfS7y03vwtAseiAv6C0IYiPAKF7ICHfFSgYK/5bTxUj/u1z+R9XAXYx2aVi3g6dkT/kmvIvDzXGi7d0HftZPYrdDWb0Tghx/hm/gWAi9Ng3/Eq/APnwT/sPEIDBsbRBs2GtozY2hLDH0R3mdGwfv4ULh69IGrQ1e4kjvC1eY+uJKSkBUfj6w4eu+4FnAlxFN+a+pRtiFx1ofqPQPX9A+Q9ucGLJn2A14atQw/LkpTU7py/GyCIMQuUSy81MabgcD4yfA3TaCYNxiBTBJd6okiLLzow9v88wqHZdZdbkJFZ2pfo0xO84QMFl7KI6SeIBwPEV7hQlZgwkspFjKeIL92MVx9HkFWo9ZIbx0H74Ap0DdsBlJSDR9Vib/s1up9duM8C15rIhSegO+hgGFBgUrLpKI0wJUCZBwC0g9AT90Dbc9uBHbsgJ8EHqe1/fvoM5CPm+9nzP74FspCMwVBiF2iXHgFPnwbvsYd4G/XF4E0ilOUZ7ywg+mUD3BTHO7VPrVvbzo700wKQhiI8AoXsoISXmrj+g/+0a/A1aYTstq0h/eZcSS4FhllPhJa1sRS9cLRhcUX55n5qox7XseD+2gW/M9Ic75C3YVowuXUNk+61wM8v8Goz/k5yKeepSAIUQZ9taNSeJFpS5fCm9gBvuQeCGxYTtl8g5BVbjpa/gWKmciRJwjHR4RXuJDlu/BiLcPJJX/B/0B3eJq2hKtHd2grfqIyiiIBfsgrO7GXzdSu2Yi5CRe7TmNy7HDgsqGFc+3QIUsQhCIAff2jSXjxRm2374X7/ofhaZmMwOxPKeMwwQHL9LVXEIQoRIRXuJAVxIiX/sUieNskwd2iNfyvjwa8B6nALDO3+Y19N8cOBy6LHAXHwSFLEIQiAMWBqBvxynLDPfRFZLZsCd9bb1HGEcr3HS26GFtSEKIJEV7hQpa9jtcXJxZeXH5MqNwNpMz+Gb6WifC17wjtu0WUyfV4fhYFEr40qC4n8h2PtMlnrGQwYQkui2DBcXDIEgSh6DBo4CBUKF8Ba9fwAxKz8yONsaET1Ncz4WneFJ6+w4zlbdh4GJ9DJTupBAewYCVBiDpEeIUL2dgxYw3h9VkYwisIBYHQeVD+w9A/fRueuER4OneGtnQVxQoqsPsIgiAUIhzjBg4YWHjCi/VTUFBR8sBeuLu2hTsuHtq6LUYmF9rrCEIMIMIrXMjyLLw4glj7gTRob78Mb6NW8HZ/GNr6TSqbvXgb9BMEQShElPDqX4jCyxzwV+HTtweep4bC0yYJ/g++Mhx4pCvsOCwI0YMIr3Ahy5PwUpLKFF68+fYjeJsnwPfwAOg7/mEHy0OhqtjrC4IgFAYUkCzhVWhzvFh4effBN2Ec3HFt4R34Ip2sMqnIdAi9W0gQYgARXuFCdtLCa+kG+FrFwf9gH2DHv0Ef3tiFFxNMCIIgFAIc4/hSY/ny5fHXn39RZnZZgcPGAZGUl//tSfC0JNHVZwi0Iy4qziJMRxFeQgwiwitcyPIuvCixbS/89/WBN7k19NWrjTzjv8IuupgcO4IgCJGGglLEhRcbb83LjNqMcfA2jkOg31jgMC8CzcWG8FL/QusLQgwgwitcyPIivOhXS7gQeP1dBBo3gfbld1SQXW5hJe15giAIhUmkhJfV8VTG+3QyCny1Er74lvD3fRU4wncwUoFy4ru+jV1BiEVEeIULWV5HvPTMA/C16QN/vwFAFi8XQebkKwiCEEUUlvA6tHUH9A5toPVqD/3IASOTUU4UQ81dQYhFRHiFC9mY0WPyJrwWLoTv3gToX33NGc5+giAIUYYSXuXKF/jk+qDw4heKrZ4DqdC6vgh9wWLKsjkqJxFeQmwjwitcyMaMyr3w0jUX/M+Mh69tB+j/bT2qXBAEIVrJFl4Fu5xETuFFBMx9y8FCZYrwEmIbEV7hQpYn4ZW+B7743vD37XtUmSAIQtRCAoiXk4j4iFcQylXrINoyeSNzvIQYR4RXuJDlEF4Bygz1CUF13DJ2wf/gkwh88A7tGfmCIAjRDp8Y+j3eD+XKlsNfqyO8nIQgFGFEeIULWW6EF6/7p9B1BFJd0H2UGYZYEwRBiAYM4fWECC9ByGdEeIULGd/VWOy0YmEJL+tpFyy8nIfRBUEQohcRXoJQMIjwCheyHHc1nkB48YaFV/AZr7YyQRCEaEeElyAUDCK8woUsN5caeSMjXYIgxCoivAShYBDhFS5ko0eOzpXwYux5giAIsYKj8Aq5yVAQhNwjwitcyHIjvARBEGIZR+Hl4CcIQu4Q4RUuZCK8BEE4VeATQ/8n+qN82fJY/Sc/2D+7TBCEvCPCK1zIRHgJgnCqwCeF+zrchzKlymD1KhFegpBfiPAKFzJLeH3y0ScivARBKNLwSaFtcjuULVMWq1b+SZnZZYIg5B0RXuFCNmrkKCW8Pv7oYxFegiAUafikkNymLUqfVZqE1yrKzC4TBCHviPAKF7LhzwxXwmvalGnqF+boJwiCEC2cxF2IlvAyRrxiXHjx7+FEONU7GZzew45TnZPF6X1CcaonRBQRXuFC9sywZ5TwmvLaFBFegiAUDqFm5YeeYDlE8ci8Q34Qq64DHOPaJrfFWWeeFXHhpec7dKILC6e6ecWp/ZwEf2bLzH0uCpYx4VpovVDYrG00WujnLaKI8AoXMhFegiAUNFZQzpFfGEbvyyNeZUqXwZq/1piZYmKnsNm/kyeBCK9wISsQ4WXvfUYCp89wMji9R15xat8Jp7qxhNPPlFec2s8NTm0K0QXZvxv/RZfOXdEuuZ0ahWrbJplEUTLatG6D1kmtFYkJiUiMT0RCXALiW8WjaZOmimZNmxHNnWnSLOjH3HtPQ7Vt1LAxGt7bCFWrVEXJ4iVx8403o0mjJmhEeSdLw3sbqvexkzP/Xtxz9z2Ku++8O8hdd96Fu+64C3fecWeuuIu44/ZwuAO333Z7Dm679TbcevOtuOWmW3DzTTfjphtvwo033Ki44fobjsv1111/Yq69Htddex2uveY6XH3V1Tm45uprKP9aVc77V15xZZArLv+f4vLLrwimg3mXXXFcQv2dsN7nqv9ddVxCP8+xMN77clx26WW45KJLcNFFF+Nik4suZC5SXEzpC867QPmcd+55av/cc85Vfuc2oC3tN6jfQPmeU/8cXHj+hTi77tnmth7OO+c81K5dW23rnV1PUf/s+gour0u+dWrXCVK3Tl2Vx2XHo3at2ohrFYd9e/cZX0in72kuEOEVLmRFQngxTp8jrzi1n1ec2nfCqW4s4fQz5RWn9nMJX46yAkE4OH4OoeAg++LzL9SyDtWqVEMVEkMMp5nqVaujWlVK26hK+VUrV1VUISpXquJMxco5qZS9rVK5Cs484yyUKFYC5cuVP9o3j1SsWAkVK+QkRz5viUpEjrr82QoS8zPw+zIVK1ZUVFJUDuYHyytQ+XGoUKHCiSlPlDPS2e+X3b7lx2n7e6p6BP9dKpppqy3OOx7q/ex1HLB/juOhPrPt8xyL4HtTWv0MIe1bP3uwDn3GiuWN/dxsFdw+bctTHmP3sfJyYPvdHItyZcqhVs1aWPDHAuML6fQ9zQVWLI0p4WWJHo/bC5/H54jX41U/hNvlzkmWiT1tkpWZRbgc8VKbTz/1tBJekyZMorws9cs5KdLDI+NIRr6RrkjPO2l2juBIauRJS0k7JqkpqacWh/NOyqEUHDp4GAcPHMSB/Qey2efM/n37Ffv27FPHgvFdNMWYXcyZ31Mh/9Dp97rpn034e93fWLeWWYe1a9Yq+DLgmtUhUB6vNm/fd2L1n3+pxVGPBY9A8aXGzz/9nPzX4s9Vq08aXpqC54zZCc1fuWIlVi5fiRXLVwThfQWV2euGQ7DuCbC/n53c+FosXxYey5YuPy7Hr7MMy5bZ/Wk/LOx1jsZ6H6efy87Rn+dYGO+7dMlSR5YsXqLI+RmPjVMbR7GYWWJsncoZKlPvvej4sN+G9RvyreMZe8KLbPu27YiPi1dD0/ah6OCQ9B3GkPTtt92B227l4WJjyFgNG99yqyO33XKbGsrm4WXesi+nuYyHoHn/7Dpnq94fD33ecvMtCh565mHoG6+/0di/gfbNsnDg4esTwX7cLr/XSUPtWEPluYJ+PjWEfl021xM8DM7D5fnBdTysfs11x4WH3q9x5Bo1NH9NyHB9NHLVlVflG1fycP9JcSX+d4XF/xRXqMsXR8OXCphLL7lUXWZYTAFJmdP3VIh5eCQ0MSEJZ50R+cn1glCUiUnh9c+Gf9Q137q166JOrTrOWNdvieA13Tp11LVa+34QK+8YcDs8hFm8WHE1LO3kkxf485yQmrbtSVKLqFmjVjY1w4D8uJ71eey/Z6f3yCs5PtdxqFGjhiNcxsPBTm1HE46/47xSo+ZJE/wdVj821atVz6ZqdXVZ5qcffjK+kE7fUyHm4dFMnit25hlnivAShHwk9oQXkxdzaicU++WSUMiefeZZdanx1ZdfNTKc/KIQvkzBvVfjj6zRH9n4Qyu8ece4pMsHC1/W9cLrpn0z7eFLvRa073Z54MkjfFnYpS4Fu+A6DqGXh/MCv4/TZ8gNxmVrh/YzzM/KX6zMLGSkZyA9PT0n1mVcvqwbBk6XYk+GNCI1JQ2H1WXIQ9kc4EuShyj/sCrzeDwI0HHEx5bjd0mIefjEwBP2ZQFVQchfYlN45QY2a3siC61rh+wZcwHVVya9on5Zjn7Rit2c8vLb7O8difeLIVNfuqLw+wj9+wpFCjXiFZeAUmeWEuElCPlI0Rde+QWZdVfjy5NeLhrCKxKw8dYaecsjR7VbgDi9f25wajMIm7W1LNQnWlE/HydMCy0XihT8t45rGYezRHgJQr4iwitcyGJaeAmCIOQCPjG0bNFSJtcLQj4jwitcyER4CYJwqsAnhRbNWyjhxUs4KHPwE4SCxhIpvHUqjzVEeIULWUzP8RIEQcgFfFJo3qw5Sp1VSq1bFTQHX0HIN0xLOZyC/zb/h4ULFuLTTz7DW2+8hW+/+U4JE2VOdWMEEV7hQjbs6WFKeE2aKCNegiAUbfikwI8UKlO6LJYvXU6Zpjn4CkJ+wOLj/envo1fPXrjnrntw7jnnqRXn+bzL8LJOf6/9m5yz6xQYljmVnSQivMKFTEa8hGiAv7B8/PGX1qlcEPIDPsaaN22O0qVKZwsvBz9ByC/+2fivelTV6SVPV+faYqcVw4033KSeGvPmG2+qJzWwSMlRj82+f6IbnE4EGS+tM3TIUIx4YYQSRI5+J4EIr3AhG/a0MceLHxkkwkuICKbxml/8qIw3pr2BcWPH4amhT2HUiFHYuWOn4eBUVxBOAo5x/MDs0qXKYNmSZZSZXSYIBQEfcz/+8COGPWVcXbr5plvUY8pymEM9Xp5HdUh9dF4+hvBiIfPu2+9iz+49lJGdfxRkHGf5/fmO3m1btzn7nQQivMKFzDoYxr80XoSXUODwMfbZJ5/hnrvvwfnnnZ9jyJ2pVaMWfpjzIzln18k1bE75DsgI26kFH39NGjVRwmupCC8hQvBzlh956BEV42Z+O1MJH35GKT9TVlloHRZaZLw49ZLFS0lY7TUybD4cu5560njWct+H+6pie3kQso8+/Fg9pYZ9a1aviV07dzn7ngQivMKFTISXEElcLlfwkS0lzaF3fmbi888+j1nfzcLWLdvUl9ep7glhDWU94NqhzL7PwYADIV92UsHPViYUXUR4CYUBj0hddunlKt7VO7seapD4qVqlKi48/0LM+22eY52MIxnodX8vlCheErfferu6QhAsJ+OJ+hw7uc3XJk8xMm31ef1FFjo8t8y6zMnwM4m57ZO+fBmCCK9wIRPhJUQMsxe3c+dOfP3V1+q5nueeex7W/73BKCDTjzUCxXXN+mxOi7ryl5zvEvp9/u+UkZ2vsPuTffPVN+q45+eUzp8338i0+wtFEr5s07hhY3VX49LFpvByOJYEId8gW/D7gqD4qVy5Ms6juMeii/f7PNjHcLLVYfHy1ptvqfJyZcupTiLHN3ubO7btQOnSpZXPJx9/YmRa5XRMs/BJbpOsyhl+T95yx5cfj5ffx70Ir3AhE+ElRByyaVOmofhpxdH/iQFYumQpfvv1N/y58k+jMDQg8D6h+TV89+1MdSt26KgW738440N1LN96863qC24vD7ZJ9vGHH6Na1WpKdPF6Tn+uWm0U2P2FIkmOES9LeDn4CUK+Qfb9zO9VbGrSuAkOHTCeFZt6OBWLFy7G97O+x2+//JYd08gO7j+Eq668WtXp0rkLHbccwHIa3xzCVw7YZ+Z3s4xMboJH/XUd/2z8B+XLlUftWnUwa+YsdO/WXfkmxicqcZTjM+YDIrzChUyElxBp+DjjCaanlzwDZcuUU8cfwz3CES+OICcySyiZaJqGh/o8pPyqVKqi1sJRxuXky19uPqFyee9evR0DCw/V93u8H0oUL6H8WHjxvIe/160nh2w/oegiwkuIOGTvTX9PxZyRI0aqfRYk3NHseX9PJZ6u/N9VSpxY/m++YYx2lS1TFr/+8ivSUtPUVYInhzyJxo0a48orrlRzZDmWlSldBr/PO3qUn+tcftnlePrJp1VR82YtVJsivAobMhFeQkQh457eJRdfouYuXHXV1bjn7ntx7z0NUbfO2eqOM2U24cU9uC8+/4KEUgmcfvrp6Na1mwoqyky/vXv2qTZZTPHdkcqs9zThuQ58rPNdPVdRoOPburk3qO4wCvEViiZ8qdEQXqVFeAkFD8cnsnfeekfFnqSEJLz68qtodG8jdQmR8y6+8OIc0x1YrHS6r5Mq4zlcqampaNSwkdoPhYVX1cpVseavtcH6ilCjvCv/d6WqI8KrsCET4SVEFLI1q9eokaabbrxJrS1jBaf9e/dj9vezMW3qNGMiKRvVycp0qbsgWSjdcvMt6sttt6zMLKxYtgI1a9RUx/LokaONAtv7Hth3QK2lw5cY5/42F29TIOQRtosvugSpKSTibL5C0cVxjpeDnyDkC2ZsW07x6cwzzgoKJobnuL488WUcPnTYOPeanciDBw6hYsWKhqiqUhUzPvgQ115zjarDI1i333aHumTJzxzlvPr16mPPrj1q+QmrDYY7rMHPQVx04UXKXwkvvnRpK8sPRHiFC5kILyGikP0x/w+cdeZZ6o7CzPRMeN1eLFq4SE0EPeP0M9QoVPD2aTLuDfIxynz5xVfqC8y9xptuuAkN6jcg/9qoVLGSGu1iH16vRpntfTnQjBo5Ck8OfVIVvTRuvPLlO42yMrJy+ApFFxFeQqRhQeTz+tWzQXkB08EDB6sldTIyjM4lT6PgOVmW8ZwvHtm34hnHyttuvU2N5KvLkabx2odcfv55F6grAKpDegzhxenbb7udOq/FkRCXYKwNZpblFyK8woVMhJcQUcjmz52v5jVwD+zVV15VDy0uUaKkOg4vuuAi/PzjT4aj6c9ztrjsnPrnqPVnOnfqrPZDKUbwKBbPp1BmvScFI42DkM0GDxqs6vBQvgivUwe5q1GINMZCqJS22V+r/8LM72bi9amvY+KEiZjx/ozg3d1TXpuqYhOvtxXXKk6lOV4OHTzUEFfcLhmPlnHZJRdfqjqwSrvZUMKLk/TePDn/oQeNObK33HSLWlcsh7Erf0YnbG0eDxFe4UJmCa8JL00Q4SVEBP5C3n3X3eq4Y0oWL4lLL7kUo0eNUQsGKjN9eT7YNVdfg5IkzHjoffCgIbjrTqPu/674H+7v0RPDhw3HEApKpc4spXy+/OLLHG0cBdmjfR9VbfC8MBFepw6W8Moxx4vNwVcQ8gU22m7etFk9rueySy9TdxsWK1ZMTZ+w4mC75HbKdbxtNJ5Hsn7+6Wc11eKJfv2zLxGScaeV/Xg0zO1y53xPIrSzaY2Q8dyytsltlajjyf2TX5mM1X+uzhZ1eUSEV7iQ8V0S/McYO2asCC8hMpClpqTihzk/KJG0eNHi4JwuHnbn45C/vNxj+2fDP2puFh+jLKp4y3f0vPD8Czl6bRvWb1B3APGlyoULFhmZTu/NkL3w3AuqLZ7Qf3B/yAKqxzK7jxCT+El43XvPvUp4LVm8hDJNc/AVhDxjGekkFlytE1ujVKlSwTjGMY3npF5/3fUY/syzmP39HOzasUtV4dEv9unQroPaZ7NEjb399997X7XXrm37oODJ8RkIzufY+GDvB1G5UmXlbxd7Fjzflqd85GaEKxTrM4rwOhFkfM2Zf/FjRovwEiKDfT7DkbR0tY7XsKeHoXv3HmqtGb77cPq705XvIhJRfJLkQPRQn4dx4QXGooNXX3l19krOZGv+WqN6cjwfYvvW7cH3coTsrTffRnEKQFxnw/qNRtChMu5RWsEjFM4/qi0hpuARr7vvvFtdamTBn8Mc/AUhT9iMRdcZJc/AzTfejGeGDccXn3+pRpj48uDO7Tux8I+FKs6xQGHjZ9XyfCx+gHZou2oUi9Nk1p3efAmSjWNUDn8ybosn31sCi+eN8dUDjnvXXn0tEhOSVLz96MOPVEc29HJlbhDhFS5kIryEiELGxxmLrSGDh6hhdysoGIHBGNXiIMWPxPhxzo84/fQzlKDiZR92Uq+QJ8jzs8nUiJfZ5rq161CxfEWUIZHGd0ce9b4WpvECrjwfjAUdj4Dw7dptWidjYP+BeOftd42VnUPNqT0hpuCTwV133qXEfPAJB5Y5+AtCnrCM0rxe108//GRcDiTju7D5ET933H6Hij/GCFQxdOrYGT6PsTo9bx3vPOQs7gCSzfl+DkpQvOQ4ynZUx5CMF1HlOyN5Pu39Pe5Xo2kcK3ds36EeG8QdEdURZn9qOyjs8oAIr3AhE+ElRJLt27aja5euKFu2rOp98VyHC867AHfefif6PPgQxo0Zh9mzZqvnJ7L4Wb9uvVowled58Zf3KON2yTiY8AO3z65bTwm20PdlOCjwg2nbtmlrzLGgYOc07M6XK3l1aWUO7QixC58M4lrFqxPesqXGHK+TOdkIwgmxGY90XX2VsSI9U6FcBdSsUYvSxVCPYhcLIsc2Qpjy2hRUq1qdjuOSapmK/v36Z3dEbXDM27tnL46kHaEMB7P7n8RlRkaEV7iQifASIgUfX+NfmqBGmm68/kZMfW0q5s2dh5RDKdi1c7d6aDE/c4znLrDgYuOJ77xi/dtvvq2+yPzFVu2xWW2T8TwGXlKC79hxmmjKxuvl8CVKK+jxnUIVK1RCLQp8vLggC8KJ4yeq3im/18kGIiE64cvSU6dMVcfJUZdnBKGA8Li9aukHvtTHC0W/8fqbWLl8JT756BMVjy6+6GJ16dGprgV3Rvn45RFbrsMdSI6nzK8//+pYJ1KI8AoXMh6m5D/g6JFj6BclwksoOHhEm3te/FxGNZ+B9nmeFt9Ry3coWsGER6H4EuS2rduoIoKT6IOiKxQyfn7j2XXORotmLdTEfWVWuSmgOJ8vJ955x514ZtgzmPXdLKxbs04FCA4W9vblhHyKwOaULwj5DMcUfvzPl59n33XNwoTnaHHc44VR1ah+SD07HKtem/ya8r+D/HnKhrWqPU+RcKoTKUR4hQsZ3x3Gf7SpU6bJyUYoONisrWksenieAx9/fOmHF0LldbxYgPEdij/+8CMCdEyq45IttE2zvc8/+1zdscO9Pu5NXnXlVcazHC0frs6HNsELGXpcxiTWoNnbEwRBKADsNxWpPLID+w+oS4+8pA4vNaHMVicUfopH185dVbz89utvlaDhOxI57vGdkU51IoUIr1zA138//vBjY5TAoVwQ8hNrIid/MQcNGKREFk/65LtqeAid7/BhAca3WnNvjv1C27DD63yd2+BcJd6qV6uOKpWrqrljvDr0Uf6mALNGwARBECIGG2+t+EPGC6nyY8y4o7mPzsU5/EMh4/P1OQ3OQa2atTBl8pTgaNe555yHPbv3ONeLECK8BCEascwMPJv+3aQeB8S9OCWwyKa/M1313s6jQLJ71271RT6mUKL85UuXq8nwDeo1UGt+8aRT7g0mxCc4+h+VJwiCUBiQbdm8RU2R4CUnlDn5WZDxfFi+0YjFlkXdOnWx4PcFhoNTvQghwksQohGbWULLMr6tmSc7JyUmqTle/R7rZxQ4tWPCX+oB/Qeo4DNpwiT1BX+g5wNKeI18caRjHUEQhGiB4+DMb2di1co/KSM7/1ioyfWr16i52fd3vx9jx4zDli1bqZD6lRr1LB3qRAoRXoIQzVhGafUMMzOPl5CoVbO2WtWZLzMqs9cLgb/Mt9x8Cwm14njkoUfQonlLJdrOPedctbyEUx1BEISowjKnMicsM9PBGFrIiPAShGiGzUrbhBff4ch36vCKymrdGcvnGKgRrycGqDld1rA7P/ORn+6vzKGOIAhCkcEyp7III8JLEGIRst279uC/Tf8ZO04+IfAq0B99+LFazf6NaW9g7+69VJBdLgiCUGRhc8ovBER4CUKsYplT2bEINScfQRAEocAQ4SUIgiAIghAhRHgJgiAIgiBECBFegiAIgiAIEUKElyAIgiAIQoQQ4SUIgiAIghAhRHgJgiAIgiBECBFegiAIgiAIEUKElyAIgiAIQoQQ4SUIgiAIghAhRHgJgiAIgiBECBFegiAIgiAIEUKElyAIgiAIQoQQ4SUIgiAIghAhRHgJgiAIgiBECBFegiAIgiAIEUKElyAIgiAIQoQQ4SUIgiAIghAhRHgJgiAIgiBECBFegiAIgiAIEUKElyAIgiAIQoQIT3il4/9UDKavEWeyDQAAAABJRU5ErkJggg==)"
      ],
      "metadata": {
        "id": "HdUugbkoL-1I"
      }
    },
    {
      "cell_type": "markdown",
      "source": [
        "B가 더 좋은 모델 ->  일반화 성능이 높다  \n",
        "A는 overfitted model(과적합된 학습 모델)  \n",
        "새로운 값을 넣었을 때, 오차가 매우 심할 것"
      ],
      "metadata": {
        "id": "CfS3Je3pMAbL"
      }
    }
  ]
}