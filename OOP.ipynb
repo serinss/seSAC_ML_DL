{
  "nbformat": 4,
  "nbformat_minor": 0,
  "metadata": {
    "colab": {
      "name": "OOP.ipynb",
      "provenance": [],
      "authorship_tag": "ABX9TyOEnmS0orUwcqlk8lstudyz",
      "include_colab_link": true
    },
    "kernelspec": {
      "name": "python3",
      "display_name": "Python 3"
    },
    "language_info": {
      "name": "python"
    }
  },
  "cells": [
    {
      "cell_type": "markdown",
      "metadata": {
        "id": "view-in-github",
        "colab_type": "text"
      },
      "source": [
        "<a href=\"https://colab.research.google.com/github/serinss/seSAC_ML_DL_Class/blob/main/OOP.ipynb\" target=\"_parent\"><img src=\"https://colab.research.google.com/assets/colab-badge.svg\" alt=\"Open In Colab\"/></a>"
      ]
    },
    {
      "cell_type": "code",
      "execution_count": 22,
      "metadata": {
        "id": "bNoGFiZdgA0p"
      },
      "outputs": [],
      "source": [
        "class Parent(object):\n",
        "  def __init__(self):\n",
        "    self.__x = 1\n",
        "    self._y = 2\n",
        "    self.z = 3\n",
        "\n",
        "  @property\n",
        "  def x(self):\n",
        "    return self.__x\n",
        "\n",
        "  @x.setter\n",
        "  def x(self, arg):\n",
        "    self.__x = arg\n",
        "\n",
        "class Child(Parent):\n",
        "  def __init__(self):\n",
        "    super().__init__() #부모호출 명시 필요\n",
        "    self.__a = 10\n",
        "\n",
        "  @property\n",
        "  def a(self):\n",
        "    return self.__a\n",
        "\n",
        "  @a.setter\n",
        "  def a(self, arg):\n",
        "    self.__a = arg"
      ]
    },
    {
      "cell_type": "code",
      "source": [
        "obj = Child()"
      ],
      "metadata": {
        "id": "dfHQJLu6jKAX"
      },
      "execution_count": 23,
      "outputs": []
    },
    {
      "cell_type": "code",
      "source": [
        "obj._Child__a # 그냥 접근하면 안보임!\n",
        "# Mangling 때문에 _클래스명__변수 형태로 접근해야하는 것이 Naming convention"
      ],
      "metadata": {
        "colab": {
          "base_uri": "https://localhost:8080/"
        },
        "id": "wCRMW-aTjLy-",
        "outputId": "325b6133-f865-4fb0-e189-0c8878af56b9"
      },
      "execution_count": 24,
      "outputs": [
        {
          "output_type": "execute_result",
          "data": {
            "text/plain": [
              "10"
            ]
          },
          "metadata": {},
          "execution_count": 24
        }
      ]
    },
    {
      "cell_type": "code",
      "source": [
        "obj.a #getter"
      ],
      "metadata": {
        "colab": {
          "base_uri": "https://localhost:8080/"
        },
        "id": "Z5jz3ZdIjpY8",
        "outputId": "168bbe5d-fc22-4161-ccb6-35c19ea29638"
      },
      "execution_count": 25,
      "outputs": [
        {
          "output_type": "execute_result",
          "data": {
            "text/plain": [
              "10"
            ]
          },
          "metadata": {},
          "execution_count": 25
        }
      ]
    },
    {
      "cell_type": "code",
      "source": [
        "obj.a = 20 #setter"
      ],
      "metadata": {
        "id": "s4eWYshpjvh1"
      },
      "execution_count": 26,
      "outputs": []
    },
    {
      "cell_type": "code",
      "source": [
        "obj._y"
      ],
      "metadata": {
        "colab": {
          "base_uri": "https://localhost:8080/"
        },
        "id": "LLLLwfO2k7bX",
        "outputId": "437f18ff-992d-4872-ed41-e74478420b19"
      },
      "execution_count": 27,
      "outputs": [
        {
          "output_type": "execute_result",
          "data": {
            "text/plain": [
              "2"
            ]
          },
          "metadata": {},
          "execution_count": 27
        }
      ]
    },
    {
      "cell_type": "code",
      "source": [
        "obj._Parent__x"
      ],
      "metadata": {
        "colab": {
          "base_uri": "https://localhost:8080/"
        },
        "id": "APcF1Nf4k_GJ",
        "outputId": "73037986-b9a2-428d-8b4b-64983f530491"
      },
      "execution_count": 28,
      "outputs": [
        {
          "output_type": "execute_result",
          "data": {
            "text/plain": [
              "1"
            ]
          },
          "metadata": {},
          "execution_count": 28
        }
      ]
    },
    {
      "cell_type": "code",
      "source": [
        "obj.x"
      ],
      "metadata": {
        "colab": {
          "base_uri": "https://localhost:8080/"
        },
        "id": "dZITfN-llWZf",
        "outputId": "3ade58ed-7df9-4722-9750-dab074d9c2d3"
      },
      "execution_count": 29,
      "outputs": [
        {
          "output_type": "execute_result",
          "data": {
            "text/plain": [
              "1"
            ]
          },
          "metadata": {},
          "execution_count": 29
        }
      ]
    },
    {
      "cell_type": "code",
      "source": [
        "obj.x = 30\n",
        "obj.x"
      ],
      "metadata": {
        "colab": {
          "base_uri": "https://localhost:8080/"
        },
        "id": "4T-HZdFZlmU_",
        "outputId": "1afbd2c7-a153-4eaf-e36a-90ebb69fdcbc"
      },
      "execution_count": 30,
      "outputs": [
        {
          "output_type": "execute_result",
          "data": {
            "text/plain": [
              "30"
            ]
          },
          "metadata": {},
          "execution_count": 30
        }
      ]
    },
    {
      "cell_type": "code",
      "source": [
        "obj.x += 1\n",
        "obj.x"
      ],
      "metadata": {
        "colab": {
          "base_uri": "https://localhost:8080/"
        },
        "id": "FLWWbzGVlo4d",
        "outputId": "e0a832c8-9334-4d7c-81ac-f77071ce2359"
      },
      "execution_count": 31,
      "outputs": [
        {
          "output_type": "execute_result",
          "data": {
            "text/plain": [
              "31"
            ]
          },
          "metadata": {},
          "execution_count": 31
        }
      ]
    }
  ]
}