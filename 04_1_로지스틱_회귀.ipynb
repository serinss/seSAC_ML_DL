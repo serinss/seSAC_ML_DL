{
  "nbformat": 4,
  "nbformat_minor": 0,
  "metadata": {
    "colab": {
      "name": "04-1. 로지스틱 회귀.ipynb",
      "provenance": [],
      "collapsed_sections": [],
      "authorship_tag": "ABX9TyMyR0NF+IgHPwMwrgsBEdhI",
      "include_colab_link": true
    },
    "kernelspec": {
      "name": "python3",
      "display_name": "Python 3"
    },
    "language_info": {
      "name": "python"
    }
  },
  "cells": [
    {
      "cell_type": "markdown",
      "metadata": {
        "id": "view-in-github",
        "colab_type": "text"
      },
      "source": [
        "<a href=\"https://colab.research.google.com/github/serinss/seSAC_ML_DL_Class/blob/main/04_1_%EB%A1%9C%EC%A7%80%EC%8A%A4%ED%8B%B1_%ED%9A%8C%EA%B7%80.ipynb\" target=\"_parent\"><img src=\"https://colab.research.google.com/assets/colab-badge.svg\" alt=\"Open In Colab\"/></a>"
      ]
    },
    {
      "cell_type": "markdown",
      "source": [
        "#럭키백의 확률"
      ],
      "metadata": {
        "id": "D9N4R0rdemL_"
      }
    },
    {
      "cell_type": "code",
      "execution_count": 16,
      "metadata": {
        "colab": {
          "base_uri": "https://localhost:8080/"
        },
        "id": "k9cWcjkld5Fx",
        "outputId": "acc1da9a-d237-4556-c9b0-09ee3ecf79a9"
      },
      "outputs": [
        {
          "output_type": "stream",
          "name": "stdout",
          "text": [
            "Drive already mounted at /content/drive; to attempt to forcibly remount, call drive.mount(\"/content/drive\", force_remount=True).\n"
          ]
        }
      ],
      "source": [
        "%run my_init.py"
      ]
    },
    {
      "cell_type": "code",
      "source": [
        "%matplotlib inline"
      ],
      "metadata": {
        "id": "ScQwo5rPfZ9T"
      },
      "execution_count": 17,
      "outputs": []
    },
    {
      "cell_type": "code",
      "source": [
        "fish = pd.read_csv('https://bit.ly/fish_csv_data')\n",
        "fish.head()\n",
        "\n",
        "# 거리 개념을 사용하는 경우 데이터들의 스케일 표준화가 필요함 (StandardScaler) ex. KNN(최근접 이웃), LR(회귀) \n",
        "# cm, kg 단위가 다른데 그대로 비교하면 왜곡됨 -> 표준화\n",
        "# 천~만 사이의 값, 만~ 억 사이의 값 모두 다 다름\n",
        "\n",
        "# 뒤의 트리의 경우 거리 개념이 들어가지 않으므로 스케일 표준화 필요 없음\n",
        "\n",
        "# 잘 모르겠으면 다 스케일 표준화를 하면 된다 - 안하는게 문제지 해도 문제 없을 듯"
      ],
      "metadata": {
        "colab": {
          "base_uri": "https://localhost:8080/",
          "height": 206
        },
        "id": "Qd6oVUSFfhT5",
        "outputId": "ca833375-4d7b-4b75-8da2-55bb37bb6372"
      },
      "execution_count": 3,
      "outputs": [
        {
          "output_type": "execute_result",
          "data": {
            "text/plain": [
              "  Species  Weight  Length  Diagonal   Height   Width\n",
              "0   Bream   242.0    25.4      30.0  11.5200  4.0200\n",
              "1   Bream   290.0    26.3      31.2  12.4800  4.3056\n",
              "2   Bream   340.0    26.5      31.1  12.3778  4.6961\n",
              "3   Bream   363.0    29.0      33.5  12.7300  4.4555\n",
              "4   Bream   430.0    29.0      34.0  12.4440  5.1340"
            ],
            "text/html": [
              "\n",
              "  <div id=\"df-7e501750-a964-408e-bf6e-745b909592ee\">\n",
              "    <div class=\"colab-df-container\">\n",
              "      <div>\n",
              "<style scoped>\n",
              "    .dataframe tbody tr th:only-of-type {\n",
              "        vertical-align: middle;\n",
              "    }\n",
              "\n",
              "    .dataframe tbody tr th {\n",
              "        vertical-align: top;\n",
              "    }\n",
              "\n",
              "    .dataframe thead th {\n",
              "        text-align: right;\n",
              "    }\n",
              "</style>\n",
              "<table border=\"1\" class=\"dataframe\">\n",
              "  <thead>\n",
              "    <tr style=\"text-align: right;\">\n",
              "      <th></th>\n",
              "      <th>Species</th>\n",
              "      <th>Weight</th>\n",
              "      <th>Length</th>\n",
              "      <th>Diagonal</th>\n",
              "      <th>Height</th>\n",
              "      <th>Width</th>\n",
              "    </tr>\n",
              "  </thead>\n",
              "  <tbody>\n",
              "    <tr>\n",
              "      <th>0</th>\n",
              "      <td>Bream</td>\n",
              "      <td>242.0</td>\n",
              "      <td>25.4</td>\n",
              "      <td>30.0</td>\n",
              "      <td>11.5200</td>\n",
              "      <td>4.0200</td>\n",
              "    </tr>\n",
              "    <tr>\n",
              "      <th>1</th>\n",
              "      <td>Bream</td>\n",
              "      <td>290.0</td>\n",
              "      <td>26.3</td>\n",
              "      <td>31.2</td>\n",
              "      <td>12.4800</td>\n",
              "      <td>4.3056</td>\n",
              "    </tr>\n",
              "    <tr>\n",
              "      <th>2</th>\n",
              "      <td>Bream</td>\n",
              "      <td>340.0</td>\n",
              "      <td>26.5</td>\n",
              "      <td>31.1</td>\n",
              "      <td>12.3778</td>\n",
              "      <td>4.6961</td>\n",
              "    </tr>\n",
              "    <tr>\n",
              "      <th>3</th>\n",
              "      <td>Bream</td>\n",
              "      <td>363.0</td>\n",
              "      <td>29.0</td>\n",
              "      <td>33.5</td>\n",
              "      <td>12.7300</td>\n",
              "      <td>4.4555</td>\n",
              "    </tr>\n",
              "    <tr>\n",
              "      <th>4</th>\n",
              "      <td>Bream</td>\n",
              "      <td>430.0</td>\n",
              "      <td>29.0</td>\n",
              "      <td>34.0</td>\n",
              "      <td>12.4440</td>\n",
              "      <td>5.1340</td>\n",
              "    </tr>\n",
              "  </tbody>\n",
              "</table>\n",
              "</div>\n",
              "      <button class=\"colab-df-convert\" onclick=\"convertToInteractive('df-7e501750-a964-408e-bf6e-745b909592ee')\"\n",
              "              title=\"Convert this dataframe to an interactive table.\"\n",
              "              style=\"display:none;\">\n",
              "        \n",
              "  <svg xmlns=\"http://www.w3.org/2000/svg\" height=\"24px\"viewBox=\"0 0 24 24\"\n",
              "       width=\"24px\">\n",
              "    <path d=\"M0 0h24v24H0V0z\" fill=\"none\"/>\n",
              "    <path d=\"M18.56 5.44l.94 2.06.94-2.06 2.06-.94-2.06-.94-.94-2.06-.94 2.06-2.06.94zm-11 1L8.5 8.5l.94-2.06 2.06-.94-2.06-.94L8.5 2.5l-.94 2.06-2.06.94zm10 10l.94 2.06.94-2.06 2.06-.94-2.06-.94-.94-2.06-.94 2.06-2.06.94z\"/><path d=\"M17.41 7.96l-1.37-1.37c-.4-.4-.92-.59-1.43-.59-.52 0-1.04.2-1.43.59L10.3 9.45l-7.72 7.72c-.78.78-.78 2.05 0 2.83L4 21.41c.39.39.9.59 1.41.59.51 0 1.02-.2 1.41-.59l7.78-7.78 2.81-2.81c.8-.78.8-2.07 0-2.86zM5.41 20L4 18.59l7.72-7.72 1.47 1.35L5.41 20z\"/>\n",
              "  </svg>\n",
              "      </button>\n",
              "      \n",
              "  <style>\n",
              "    .colab-df-container {\n",
              "      display:flex;\n",
              "      flex-wrap:wrap;\n",
              "      gap: 12px;\n",
              "    }\n",
              "\n",
              "    .colab-df-convert {\n",
              "      background-color: #E8F0FE;\n",
              "      border: none;\n",
              "      border-radius: 50%;\n",
              "      cursor: pointer;\n",
              "      display: none;\n",
              "      fill: #1967D2;\n",
              "      height: 32px;\n",
              "      padding: 0 0 0 0;\n",
              "      width: 32px;\n",
              "    }\n",
              "\n",
              "    .colab-df-convert:hover {\n",
              "      background-color: #E2EBFA;\n",
              "      box-shadow: 0px 1px 2px rgba(60, 64, 67, 0.3), 0px 1px 3px 1px rgba(60, 64, 67, 0.15);\n",
              "      fill: #174EA6;\n",
              "    }\n",
              "\n",
              "    [theme=dark] .colab-df-convert {\n",
              "      background-color: #3B4455;\n",
              "      fill: #D2E3FC;\n",
              "    }\n",
              "\n",
              "    [theme=dark] .colab-df-convert:hover {\n",
              "      background-color: #434B5C;\n",
              "      box-shadow: 0px 1px 3px 1px rgba(0, 0, 0, 0.15);\n",
              "      filter: drop-shadow(0px 1px 2px rgba(0, 0, 0, 0.3));\n",
              "      fill: #FFFFFF;\n",
              "    }\n",
              "  </style>\n",
              "\n",
              "      <script>\n",
              "        const buttonEl =\n",
              "          document.querySelector('#df-7e501750-a964-408e-bf6e-745b909592ee button.colab-df-convert');\n",
              "        buttonEl.style.display =\n",
              "          google.colab.kernel.accessAllowed ? 'block' : 'none';\n",
              "\n",
              "        async function convertToInteractive(key) {\n",
              "          const element = document.querySelector('#df-7e501750-a964-408e-bf6e-745b909592ee');\n",
              "          const dataTable =\n",
              "            await google.colab.kernel.invokeFunction('convertToInteractive',\n",
              "                                                     [key], {});\n",
              "          if (!dataTable) return;\n",
              "\n",
              "          const docLinkHtml = 'Like what you see? Visit the ' +\n",
              "            '<a target=\"_blank\" href=https://colab.research.google.com/notebooks/data_table.ipynb>data table notebook</a>'\n",
              "            + ' to learn more about interactive tables.';\n",
              "          element.innerHTML = '';\n",
              "          dataTable['output_type'] = 'display_data';\n",
              "          await google.colab.output.renderOutput(dataTable, element);\n",
              "          const docLink = document.createElement('div');\n",
              "          docLink.innerHTML = docLinkHtml;\n",
              "          element.appendChild(docLink);\n",
              "        }\n",
              "      </script>\n",
              "    </div>\n",
              "  </div>\n",
              "  "
            ]
          },
          "metadata": {},
          "execution_count": 3
        }
      ]
    },
    {
      "cell_type": "code",
      "source": [
        "np.sort(pd.unique(fish['Species'])) # 결과로 나올 값(target) = 종의 이름 7개"
      ],
      "metadata": {
        "colab": {
          "base_uri": "https://localhost:8080/"
        },
        "id": "DH42Ab3GfqhP",
        "outputId": "2e57ecd9-ec14-4bbf-a145-af1a540690a8"
      },
      "execution_count": 4,
      "outputs": [
        {
          "output_type": "execute_result",
          "data": {
            "text/plain": [
              "array(['Bream', 'Parkki', 'Perch', 'Pike', 'Roach', 'Smelt', 'Whitefish'],\n",
              "      dtype=object)"
            ]
          },
          "metadata": {},
          "execution_count": 4
        }
      ]
    },
    {
      "cell_type": "code",
      "source": [
        "fish_target = fish['Species'].to_numpy() "
      ],
      "metadata": {
        "id": "10SG-nWsgFyD"
      },
      "execution_count": 5,
      "outputs": []
    },
    {
      "cell_type": "code",
      "source": [
        "fish_input = fish[['Weight','Length','Diagonal','Height','Width']].to_numpy() #input = 분석할 feature들(학습 데이터들)"
      ],
      "metadata": {
        "id": "1gA6_vGCfnrj"
      },
      "execution_count": 6,
      "outputs": []
    },
    {
      "cell_type": "code",
      "source": [
        "# 위의 코드처럼 컬럼들을 직접 입력할 수 없을 때 아래의 코드를 사용하자\n",
        "fish_input = fish.drop('Species', axis=1).to_numpy()"
      ],
      "metadata": {
        "id": "b6OlC0ZZm9TY"
      },
      "execution_count": 7,
      "outputs": []
    },
    {
      "cell_type": "code",
      "source": [
        "print(fish_input[:5])"
      ],
      "metadata": {
        "colab": {
          "base_uri": "https://localhost:8080/"
        },
        "id": "S7EwB7D2f5W5",
        "outputId": "8743d0fa-d5fa-44bc-902f-8b7f71c2f968"
      },
      "execution_count": 8,
      "outputs": [
        {
          "output_type": "stream",
          "name": "stdout",
          "text": [
            "[[242.      25.4     30.      11.52     4.02  ]\n",
            " [290.      26.3     31.2     12.48     4.3056]\n",
            " [340.      26.5     31.1     12.3778   4.6961]\n",
            " [363.      29.      33.5     12.73     4.4555]\n",
            " [430.      29.      34.      12.444    5.134 ]]\n"
          ]
        }
      ]
    },
    {
      "cell_type": "code",
      "source": [
        "train_input, test_input, train_target, test_target = train_test_split(fish_input, fish_target, random_state=42)"
      ],
      "metadata": {
        "id": "aVj_C6xpgJm9"
      },
      "execution_count": 9,
      "outputs": []
    },
    {
      "cell_type": "code",
      "source": [
        "train_input.shape, train_target.shape"
      ],
      "metadata": {
        "colab": {
          "base_uri": "https://localhost:8080/"
        },
        "id": "iw5kXhw-off7",
        "outputId": "ee127be8-a20b-4fc3-c20d-8d3d351ad2a5"
      },
      "execution_count": 10,
      "outputs": [
        {
          "output_type": "execute_result",
          "data": {
            "text/plain": [
              "((119, 5), (119,))"
            ]
          },
          "metadata": {},
          "execution_count": 10
        }
      ]
    },
    {
      "cell_type": "code",
      "source": [
        "test_input.shape, test_target.shape #train_test_split 순서 바꿔서 쓰지 않도록 항상 주의"
      ],
      "metadata": {
        "colab": {
          "base_uri": "https://localhost:8080/"
        },
        "id": "5yMYqWC2oiqv",
        "outputId": "25789ee9-f23f-412f-c81e-1969915bc4a8"
      },
      "execution_count": 11,
      "outputs": [
        {
          "output_type": "execute_result",
          "data": {
            "text/plain": [
              "((40, 5), (40,))"
            ]
          },
          "metadata": {},
          "execution_count": 11
        }
      ]
    },
    {
      "cell_type": "code",
      "source": [
        "ss = StandardScaler()\n",
        "train_scaled = ss.fit_transform(train_input)\n",
        "test_scaled = ss.transform(test_input) #데이터 준비 완료!"
      ],
      "metadata": {
        "id": "7afQ6ABboRTp"
      },
      "execution_count": 12,
      "outputs": []
    },
    {
      "cell_type": "markdown",
      "source": [
        "###k-최근접 이웃 분류기의 확률 예측\n",
        "다중 분류(MultiClass Classification) : 타깃 데이터에 2개 이상의 클래스가 포함된 문제  \n",
        "이 예제는 다중 분류 -> target이 7개 이므로 취할 수 있는 클래스는 7개! 또한, 각각에 해당하는 확률이 존재  \n",
        "\n",
        "- predict() -> 클래스 라벨 반환\n",
        "- predict_proba() -> 7개 클래스에 대한 각각의 확률 반환"
      ],
      "metadata": {
        "id": "0lnXytAKocct"
      }
    },
    {
      "cell_type": "code",
      "source": [
        "kn = KNeighborsClassifier(n_neighbors=3) #가장 가까운 샘플 3개 선택\n",
        "kn.fit(train_scaled, train_target)\n",
        "\n",
        "print(kn.classes_) #타깃값 알파벳 순으로 출력\n",
        "print(kn.predict(test_scaled[:5])) #테스트 세트의 처음 5개 샘플 타깃값 예측"
      ],
      "metadata": {
        "colab": {
          "base_uri": "https://localhost:8080/"
        },
        "id": "DRMZCFU3orUB",
        "outputId": "c31caaeb-7bae-4420-b3cf-87ec83861410"
      },
      "execution_count": 13,
      "outputs": [
        {
          "output_type": "stream",
          "name": "stdout",
          "text": [
            "['Bream' 'Parkki' 'Perch' 'Pike' 'Roach' 'Smelt' 'Whitefish']\n",
            "['Perch' 'Smelt' 'Pike' 'Perch' 'Perch']\n"
          ]
        }
      ]
    },
    {
      "cell_type": "code",
      "source": [
        "# 예측이 어떠한 확률값을 가지고 나왔는지 알아보기\n",
        "\n",
        "proba = kn.predict_proba(test_scaled[:5]) #각각에 해당하는 확률 예측\n",
        "print(np.round(proba, decimals=4)) #decimals로 소수점 4번째 자리까지 표기 = 5번째 자리에서 반올림\n",
        "\n",
        "#Bream확률, Parkki 확률 , ..."
      ],
      "metadata": {
        "colab": {
          "base_uri": "https://localhost:8080/"
        },
        "id": "NSxJaEM5qRKW",
        "outputId": "e5174b25-a332-43de-dbdb-cce7ff8c2c28"
      },
      "execution_count": 14,
      "outputs": [
        {
          "output_type": "stream",
          "name": "stdout",
          "text": [
            "[[0.     0.     1.     0.     0.     0.     0.    ]\n",
            " [0.     0.     0.     0.     0.     1.     0.    ]\n",
            " [0.     0.     0.     1.     0.     0.     0.    ]\n",
            " [0.     0.     0.6667 0.     0.3333 0.     0.    ]\n",
            " [0.     0.     0.6667 0.     0.3333 0.     0.    ]]\n"
          ]
        }
      ]
    },
    {
      "cell_type": "code",
      "source": [
        "indexes = kn.kneighbors(test_scaled[3:4], return_distance = False)\n",
        "print(train_target[indexes]) # 4번째 샘플의 최근접 이웃 클래스들"
      ],
      "metadata": {
        "colab": {
          "base_uri": "https://localhost:8080/"
        },
        "id": "HaQ7oYAarjOf",
        "outputId": "088f07a5-81e5-4c73-9624-85e0ec2cae00"
      },
      "execution_count": 15,
      "outputs": [
        {
          "output_type": "stream",
          "name": "stdout",
          "text": [
            "[['Roach' 'Perch' 'Perch']]\n"
          ]
        }
      ]
    },
    {
      "cell_type": "markdown",
      "source": [
        "위의 과정은 근접한 3개의 클래스를 가지고 결정하는 것이므로 확률이  \n",
        "0/3, 1/3, 2/3, 3/3 밖에 없다.  \n",
        "\n",
        "-> 모형에 대한 한계를 이해  \n",
        "-> 다른 모형을 선택해보기"
      ],
      "metadata": {
        "id": "LevmaUIVuwti"
      }
    },
    {
      "cell_type": "markdown",
      "source": [
        "#로지스틱 회귀"
      ],
      "metadata": {
        "id": "mpkvzbiZrp-P"
      }
    },
    {
      "cell_type": "markdown",
      "source": [
        "####시그모이드 함수 예시"
      ],
      "metadata": {
        "id": "SrzGaBE6D0Iq"
      }
    },
    {
      "cell_type": "code",
      "source": [
        "z = np.arange(-5, 5, 0.1)\n",
        "phi = 1/(1+np.exp(-z))\n",
        "plt.plot(z, phi)\n",
        "plt.xlabel('z')\n",
        "plt.ylabel('phi')\n",
        "plt.title('sigmoid function')\n",
        "plt.show()"
      ],
      "metadata": {
        "colab": {
          "base_uri": "https://localhost:8080/",
          "height": 295
        },
        "id": "5f0bqsb4Dy-1",
        "outputId": "a9518ba9-1a85-438f-f60d-49056e167d3a"
      },
      "execution_count": 19,
      "outputs": [
        {
          "output_type": "display_data",
          "data": {
            "text/plain": [
              "<Figure size 432x288 with 1 Axes>"
            ],
            "image/png": "[encoded data removed]"
          },
          "metadata": {
            "needs_background": "light"
          }
        }
      ]
    },
    {
      "cell_type": "markdown",
      "source": [
        "####로지스틱 회귀로 이진 분류 수행하기\n",
        "이진 분류(binary classification)\n",
        "- 1 : 양성 클래스 대표값\n",
        "- 0 : 음성 클래스 대표값"
      ],
      "metadata": {
        "id": "U4XYRrWOFX9a"
      }
    },
    {
      "cell_type": "code",
      "source": [
        "# boolean indexing\n",
        "char_arr = np.array(['A','B','C','D','E'])\n",
        "print(char_arr[[True, False, True, False, False]])"
      ],
      "metadata": {
        "colab": {
          "base_uri": "https://localhost:8080/"
        },
        "id": "rpDBkyj7Fat4",
        "outputId": "6b010bc4-eb6c-44f1-f89b-38cb8168c3b9"
      },
      "execution_count": 20,
      "outputs": [
        {
          "output_type": "stream",
          "name": "stdout",
          "text": [
            "['A' 'C']\n"
          ]
        }
      ]
    },
    {
      "cell_type": "code",
      "source": [
        "bream_smelt_indexes = (train_target == 'Bream') | (train_target == 'Smelt') #도미, 빙어일 경우만 True, 외엔 모두 False로 설정\n",
        "train_bream_smelt = train_scaled[bream_smelt_indexes]\n",
        "target_bream_smelt = train_target[bream_smelt_indexes]\n",
        "\n",
        "# 해당 데이터로, 도미와 빙어의 데이터만 골라낼 수 있다"
      ],
      "metadata": {
        "id": "7blt9WRDFxi0"
      },
      "execution_count": 22,
      "outputs": []
    },
    {
      "cell_type": "code",
      "source": [
        "lr = LogisticRegression()\n",
        "lr.fit(train_bream_smelt, target_bream_smelt)\n",
        "print(lr.predict(train_bream_smelt[:5])) # 훈련 모델을 이용해 처음 5개 샘플을 예측"
      ],
      "metadata": {
        "colab": {
          "base_uri": "https://localhost:8080/"
        },
        "id": "gsh-nzI0G5g8",
        "outputId": "71a42a38-3d31-4127-d50a-7b297dbae845"
      },
      "execution_count": 23,
      "outputs": [
        {
          "output_type": "stream",
          "name": "stdout",
          "text": [
            "['Bream' 'Smelt' 'Bream' 'Bream' 'Bream']\n"
          ]
        }
      ]
    },
    {
      "cell_type": "code",
      "source": [
        "print(lr.predict_proba(train_bream_smelt[:5])) # 처음 5개 샘플의 예측 확률\n",
        "\n",
        "# [0(음성 클래스일 확률), 1(양성 클래스일 확률)]"
      ],
      "metadata": {
        "colab": {
          "base_uri": "https://localhost:8080/"
        },
        "id": "_UNAIUW-JeSL",
        "outputId": "8ddf03e9-f2ba-491c-930f-4ce826b2ce6c"
      },
      "execution_count": 24,
      "outputs": [
        {
          "output_type": "stream",
          "name": "stdout",
          "text": [
            "[[0.99759855 0.00240145]\n",
            " [0.02735183 0.97264817]\n",
            " [0.99486072 0.00513928]\n",
            " [0.98584202 0.01415798]\n",
            " [0.99767269 0.00232731]]\n"
          ]
        }
      ]
    },
    {
      "cell_type": "code",
      "source": [
        "lr.classes_\n",
        "\n",
        "# 빙어(Smelt)가 양성, 도미(Bream)이 음성\n",
        "# 클래스 정보를 문자열로 줬으므로 알파벳 순으로 정렬되었기 때문에 B가 앞으로 왔다."
      ],
      "metadata": {
        "colab": {
          "base_uri": "https://localhost:8080/"
        },
        "id": "7klmfGhCJuK4",
        "outputId": "0921a51a-68d6-4e93-d2f6-2ba3e90e2f8e"
      },
      "execution_count": 25,
      "outputs": [
        {
          "output_type": "execute_result",
          "data": {
            "text/plain": [
              "array(['Bream', 'Smelt'], dtype=object)"
            ]
          },
          "metadata": {},
          "execution_count": 25
        }
      ]
    },
    {
      "cell_type": "code",
      "source": [
        "# 도미를 양성으로 두고 싶다면? 변환해야함\n",
        "\n",
        "target_bream_smelt_1_0 = np.where(target_bream_smelt == 'Bream', 1, 0) # 타겟 변경할 때, np.where 많이 쓰니까 기억해두기!!\n",
        "lr= LogisticRegression()\n",
        "lr.fit(train_bream_smelt, target_bream_smelt_1_0)"
      ],
      "metadata": {
        "colab": {
          "base_uri": "https://localhost:8080/"
        },
        "id": "ezvfsErfPEQ-",
        "outputId": "77b33333-74ba-4130-97e1-34958ca689cc"
      },
      "execution_count": 43,
      "outputs": [
        {
          "output_type": "execute_result",
          "data": {
            "text/plain": [
              "LogisticRegression()"
            ]
          },
          "metadata": {},
          "execution_count": 43
        }
      ]
    },
    {
      "cell_type": "code",
      "source": [
        "lr.predict(train_bream_smelt[:5]) # Bream = 1"
      ],
      "metadata": {
        "colab": {
          "base_uri": "https://localhost:8080/"
        },
        "id": "c_pyU3ErQu8f",
        "outputId": "9e559054-02d1-4de0-a7ef-13432ace8181"
      },
      "execution_count": 44,
      "outputs": [
        {
          "output_type": "execute_result",
          "data": {
            "text/plain": [
              "array([1, 0, 1, 1, 1])"
            ]
          },
          "metadata": {},
          "execution_count": 44
        }
      ]
    },
    {
      "cell_type": "code",
      "source": [
        "print(lr.coef_, lr.intercept_)\n",
        "#로지스틱 회귀가 학습한 계수\n",
        "\n",
        "# 즉, 로지스틱 회귀가 학습한 방정식 - 선형 회귀와 매우 비슷하다\n",
        "# z = -0.4037798 * weight + (-0.57620209) * length + (-0.66280298) * diagonal + (-1.01290277) * height + (-0.73168947) * width + (-2.16155132)"
      ],
      "metadata": {
        "colab": {
          "base_uri": "https://localhost:8080/"
        },
        "id": "pNH0KIzcJ14y",
        "outputId": "ab289fa2-6062-4803-c1cb-f4a918a4425a"
      },
      "execution_count": 45,
      "outputs": [
        {
          "output_type": "stream",
          "name": "stdout",
          "text": [
            "[[0.4037798  0.57620209 0.66280298 1.01290277 0.73168947]] [2.16155132]\n"
          ]
        }
      ]
    },
    {
      "cell_type": "code",
      "source": [
        "decisions = lr.decision_function(train_bream_smelt[:5])\n",
        "decisions # = z값을 뽑아낼 수 있음"
      ],
      "metadata": {
        "colab": {
          "base_uri": "https://localhost:8080/"
        },
        "id": "jCl7EQgRKbla",
        "outputId": "18109677-a8a9-48d4-87a3-411f28c6227c"
      },
      "execution_count": 46,
      "outputs": [
        {
          "output_type": "execute_result",
          "data": {
            "text/plain": [
              "array([ 6.02927744, -3.57123907,  5.26568906,  4.24321775,  6.0607117 ])"
            ]
          },
          "metadata": {},
          "execution_count": 46
        }
      ]
    },
    {
      "cell_type": "code",
      "source": [
        "from scipy.special import expit\n",
        "print(expit(decisions)) #양성일 확률(시그모이드 함수)를 구하는 함수"
      ],
      "metadata": {
        "colab": {
          "base_uri": "https://localhost:8080/"
        },
        "id": "j3J9MI69Qg6R",
        "outputId": "41dd7269-2cf6-4096-cd1e-c21a22792a28"
      },
      "execution_count": 47,
      "outputs": [
        {
          "output_type": "stream",
          "name": "stdout",
          "text": [
            "[0.99759855 0.02735183 0.99486072 0.98584202 0.99767269]\n"
          ]
        }
      ]
    },
    {
      "cell_type": "markdown",
      "source": [
        "####로지스틱 회귀로 다중 분류 수행하기\n",
        "이진 분류와 다를 것이 없음!  \n",
        "- 이진 분류 -> sigmoid(0 or 1)  \n",
        "- 다중 분류 -> softmax(클래스의 개수 3개 이상이면 무조건 사용)  "
      ],
      "metadata": {
        "id": "1J0kq2TUSMTI"
      }
    },
    {
      "cell_type": "code",
      "source": [
        "# lr = LogisticRegression()\n",
        "# 0.8067226890756303 -> underfit 이므로 조정해줘야 함\n",
        "# 0.85\n",
        "lr = LogisticRegression(C=10000, max_iter=1000) \n",
        "# C:규제 강도의 역수(클수록 규제가 느슨함) , max_iter:반복 횟수 (default=100 부족하므로 늘린다)\n",
        "lr.fit(train_scaled, train_target)\n",
        "print(accuracy_score(train_target, lr.predict(train_scaled)))\n",
        "print(accuracy_score(test_target, lr.predict(test_scaled)))"
      ],
      "metadata": {
        "colab": {
          "base_uri": "https://localhost:8080/"
        },
        "id": "uFz9z0jVWDuW",
        "outputId": "84b62b35-6da5-4952-9d30-76793e6f8bcb"
      },
      "execution_count": 81,
      "outputs": [
        {
          "output_type": "stream",
          "name": "stdout",
          "text": [
            "1.0\n",
            "0.975\n"
          ]
        }
      ]
    },
    {
      "cell_type": "code",
      "source": [
        "ir = [0.1, 0.5, 1, 10, 20, 100, 1000, 10000, 100000, 10000000]\n",
        "for n in ir:\n",
        "  lr = LogisticRegression(C=n, max_iter=1000)\n",
        "  lr.fit(train_scaled, train_target)\n",
        "  print(f\"C:{n}\")\n",
        "  print(f\"   train score : {accuracy_score(train_target, lr.predict(train_scaled))}\")\n",
        "  print(f\"   test score : {accuracy_score(test_target, lr.predict(test_scaled))}\")\n",
        "\n",
        "# test_scaled.shape 현재 feature가 5개로 적은 상태 -> 규제 완화가 필요\n",
        "\n",
        "# C:10000 ----> best! ---> 규제를 느슨히 하였더니 결과가 좋게 나왔다\n",
        "#   train score : 1.0\n",
        "#   test score : 0.975"
      ],
      "metadata": {
        "colab": {
          "base_uri": "https://localhost:8080/"
        },
        "id": "AOZv3t-GYb4v",
        "outputId": "89f78190-b076-4855-9629-2b2387097490"
      },
      "execution_count": 69,
      "outputs": [
        {
          "output_type": "stream",
          "name": "stdout",
          "text": [
            "C:0.1\n",
            "   train score : 0.7058823529411765\n",
            "   test score : 0.775\n",
            "C:0.5\n",
            "   train score : 0.8067226890756303\n",
            "   test score : 0.85\n",
            "C:1\n",
            "   train score : 0.8067226890756303\n",
            "   test score : 0.85\n",
            "C:10\n",
            "   train score : 0.9159663865546218\n",
            "   test score : 0.925\n",
            "C:20\n",
            "   train score : 0.9327731092436975\n",
            "   test score : 0.925\n",
            "C:100\n",
            "   train score : 0.9831932773109243\n",
            "   test score : 0.925\n",
            "C:1000\n",
            "   train score : 0.9915966386554622\n",
            "   test score : 0.95\n",
            "C:10000\n",
            "   train score : 1.0\n",
            "   test score : 0.975\n",
            "C:100000\n",
            "   train score : 1.0\n",
            "   test score : 0.975\n",
            "C:10000000\n",
            "   train score : 1.0\n",
            "   test score : 0.925\n"
          ]
        }
      ]
    },
    {
      "cell_type": "code",
      "source": [
        "print(lr.predict(test_scaled[:5]))"
      ],
      "metadata": {
        "colab": {
          "base_uri": "https://localhost:8080/"
        },
        "id": "Qlk9NN39WXIE",
        "outputId": "f92a7ae9-f69f-4265-ef52-64707720cd7b"
      },
      "execution_count": 80,
      "outputs": [
        {
          "output_type": "stream",
          "name": "stdout",
          "text": [
            "['Perch' 'Smelt' 'Pike' 'Whitefish' 'Perch']\n"
          ]
        }
      ]
    },
    {
      "cell_type": "code",
      "source": [
        "lr.classes_"
      ],
      "metadata": {
        "colab": {
          "base_uri": "https://localhost:8080/"
        },
        "id": "1SVV3sWSdMgR",
        "outputId": "d512adca-39a0-4ca1-baee-a3e5c35545e8"
      },
      "execution_count": 79,
      "outputs": [
        {
          "output_type": "execute_result",
          "data": {
            "text/plain": [
              "array(['Bream', 'Parkki', 'Perch', 'Pike', 'Roach', 'Smelt', 'Whitefish'],\n",
              "      dtype=object)"
            ]
          },
          "metadata": {},
          "execution_count": 79
        }
      ]
    },
    {
      "cell_type": "code",
      "source": [
        "proba = lr.predict_proba(test_scaled[:5])\n",
        "print(np.round(proba, decimals=3))"
      ],
      "metadata": {
        "colab": {
          "base_uri": "https://localhost:8080/"
        },
        "id": "4TfAmMpCWaws",
        "outputId": "aa1ad775-2e30-489f-d849-27cb19d2722f"
      },
      "execution_count": 82,
      "outputs": [
        {
          "output_type": "stream",
          "name": "stdout",
          "text": [
            "[[0.    0.    1.    0.    0.    0.    0.   ]\n",
            " [0.    0.    0.    0.    0.    1.    0.   ]\n",
            " [0.    0.    0.    0.829 0.    0.171 0.   ]\n",
            " [0.    0.007 0.005 0.    0.405 0.    0.583]\n",
            " [0.    0.    1.    0.    0.    0.    0.   ]]\n"
          ]
        }
      ]
    },
    {
      "cell_type": "markdown",
      "source": [
        "소프트 맥스 함수 = 다중 클래스에서 각 클래스의 확률을 계산하는 함수  \n",
        "- 이진 분류에서는 시그모이드 함수를 이용하여 z를 0~1 값으로 변환\n",
        "- 다중 분류에서는 소프트맥스 함수를 사용하여 7개의 z값을 확률로 변환"
      ],
      "metadata": {
        "id": "jdQ5GCLifcVn"
      }
    },
    {
      "cell_type": "code",
      "source": [
        "from scipy.special import softmax\n",
        "\n",
        "decision = lr.decision_function(test_scaled[:5])\n",
        "proba = softmax(decision, axis=1) #행에 대해 적용 (각 feature에 대해 적용 -> axis=0, 각 샘플에 대해 적용 -> axis=1)\n",
        "print(np.round(proba, decimals=3))  "
      ],
      "metadata": {
        "colab": {
          "base_uri": "https://localhost:8080/"
        },
        "id": "-VsMwe25danE",
        "outputId": "cbe5c902-d614-4fa8-b883-94b35c9f32f4"
      },
      "execution_count": 83,
      "outputs": [
        {
          "output_type": "stream",
          "name": "stdout",
          "text": [
            "[[0.    0.    1.    0.    0.    0.    0.   ]\n",
            " [0.    0.    0.    0.    0.    1.    0.   ]\n",
            " [0.    0.    0.    0.829 0.    0.171 0.   ]\n",
            " [0.    0.007 0.005 0.    0.405 0.    0.583]\n",
            " [0.    0.    1.    0.    0.    0.    0.   ]]\n"
          ]
        }
      ]
    }
  ]
}