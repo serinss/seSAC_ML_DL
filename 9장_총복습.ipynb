{
  "nbformat": 4,
  "nbformat_minor": 0,
  "metadata": {
    "colab": {
      "name": "9장 총복습.ipynb",
      "provenance": [],
      "authorship_tag": "ABX9TyPKGS7DjTbeUJ4gU9bZGBWh",
      "include_colab_link": true
    },
    "kernelspec": {
      "name": "python3",
      "display_name": "Python 3"
    },
    "language_info": {
      "name": "python"
    },
    "accelerator": "GPU"
  },
  "cells": [
    {
      "cell_type": "markdown",
      "metadata": {
        "id": "view-in-github",
        "colab_type": "text"
      },
      "source": [
        "<a href=\"https://colab.research.google.com/github/serinss/seSAC_ML_DL_Class/blob/main/9%EC%9E%A5_%EC%B4%9D%EB%B3%B5%EC%8A%B5.ipynb\" target=\"_parent\"><img src=\"https://colab.research.google.com/assets/colab-badge.svg\" alt=\"Open In Colab\"/></a>"
      ]
    },
    {
      "cell_type": "code",
      "execution_count": 1,
      "metadata": {
        "id": "BxeNbAcwrSLE",
        "colab": {
          "base_uri": "https://localhost:8080/"
        },
        "outputId": "6dbbec0c-84cd-4ce4-a19a-4eccb891cb5c"
      },
      "outputs": [
        {
          "output_type": "stream",
          "name": "stdout",
          "text": [
            "Mounted at /content/drive\n",
            "tf.__version__: 2.8.0\n",
            "keras.__version__: 2.8.0\n"
          ]
        }
      ],
      "source": [
        "%run my_init.py"
      ]
    },
    {
      "cell_type": "code",
      "source": [
        "%matplotlib inline"
      ],
      "metadata": {
        "id": "7SJ_b71orwWk"
      },
      "execution_count": 2,
      "outputs": []
    },
    {
      "cell_type": "code",
      "source": [
        "from keras.preprocessing import sequence\n",
        "from keras.models import Sequential\n",
        "from keras.layers import Embedding, Dense, SimpleRNN, LSTM, Conv1D, MaxPooling1D, Dropout"
      ],
      "metadata": {
        "id": "93PCwJNGtILW"
      },
      "execution_count": 9,
      "outputs": []
    },
    {
      "cell_type": "code",
      "source": [
        "(X_train, y_train), (X_test, y_test) = keras.datasets.imdb.load_data(num_words=5000)"
      ],
      "metadata": {
        "colab": {
          "base_uri": "https://localhost:8080/"
        },
        "id": "fOJRUKphr0VL",
        "outputId": "f701e5ff-b5ff-4994-8cc1-c0ec540b70e2"
      },
      "execution_count": 3,
      "outputs": [
        {
          "output_type": "stream",
          "name": "stdout",
          "text": [
            "Downloading data from https://storage.googleapis.com/tensorflow/tf-keras-datasets/imdb.npz\n",
            "17465344/17464789 [==============================] - 0s 0us/step\n",
            "17473536/17464789 [==============================] - 0s 0us/step\n"
          ]
        }
      ]
    },
    {
      "cell_type": "code",
      "source": [
        "X_train = keras.preprocessing.sequence.pad_sequences(X_train, maxlen=100)\n",
        "X_test = keras.preprocessing.sequence.pad_sequences(X_test, maxlen=100)"
      ],
      "metadata": {
        "id": "2iQ237d2sXSt"
      },
      "execution_count": 4,
      "outputs": []
    },
    {
      "cell_type": "code",
      "source": [
        "model = keras.Sequential()\n",
        "model.add(Embedding(5000,100))\n",
        "model.add(Dropout(0.5))\n",
        "model.add(Conv1D(64, 5, activation='relu')) #https://keras.io/api/layers/convolution_layers/convolution1d/\n",
        "# 이미지의 특성을 찾듯, 자연어의 특성을 잘 찾아낼 수 있음\n",
        "model.add(MaxPooling1D(4))\n",
        "model.add(SimpleRNN(40))\n",
        "model.add(Dense(1, activation='sigmoid')) #이진분류"
      ],
      "metadata": {
        "id": "y5ycwHy1svKp"
      },
      "execution_count": 13,
      "outputs": []
    },
    {
      "cell_type": "code",
      "source": [
        "model.summary()"
      ],
      "metadata": {
        "colab": {
          "base_uri": "https://localhost:8080/"
        },
        "id": "N9AGALcsvYnK",
        "outputId": "d73ec5fc-d097-49bb-8c39-a79d850af135"
      },
      "execution_count": 14,
      "outputs": [
        {
          "output_type": "stream",
          "name": "stdout",
          "text": [
            "Model: \"sequential_6\"\n",
            "_________________________________________________________________\n",
            " Layer (type)                Output Shape              Param #   \n",
            "=================================================================\n",
            " embedding_4 (Embedding)     (None, None, 100)         500000    \n",
            "                                                                 \n",
            " dropout_2 (Dropout)         (None, None, 100)         0         \n",
            "                                                                 \n",
            " conv1d_2 (Conv1D)           (None, None, 64)          32064     \n",
            "                                                                 \n",
            " max_pooling1d (MaxPooling1D  (None, None, 64)         0         \n",
            " )                                                               \n",
            "                                                                 \n",
            " simple_rnn (SimpleRNN)      (None, 40)                4200      \n",
            "                                                                 \n",
            " dense (Dense)               (None, 1)                 41        \n",
            "                                                                 \n",
            "=================================================================\n",
            "Total params: 536,305\n",
            "Trainable params: 536,305\n",
            "Non-trainable params: 0\n",
            "_________________________________________________________________\n"
          ]
        }
      ]
    },
    {
      "cell_type": "code",
      "source": [
        "model.compile('adam','binary_crossentropy', metrics=['accuracy'])\n",
        "history = model.fit(X_train, y_train, batch_size=100, epochs=5, validation_data=(X_test, y_test))\n",
        "\n",
        "# 특징을 잘 캐치하니까, epoch를 조금만 돌려도 정확도가 올라간다!\n",
        "# 늘리면 더 올라감"
      ],
      "metadata": {
        "colab": {
          "base_uri": "https://localhost:8080/"
        },
        "id": "H8H6sGOCvk_y",
        "outputId": "bd18f7b1-0dbf-4289-e25b-6fe1de267960"
      },
      "execution_count": 15,
      "outputs": [
        {
          "output_type": "stream",
          "name": "stdout",
          "text": [
            "Epoch 1/5\n",
            "250/250 [==============================] - 20s 34ms/step - loss: 0.5137 - accuracy: 0.7209 - val_loss: 0.3848 - val_accuracy: 0.8318\n",
            "Epoch 2/5\n",
            "250/250 [==============================] - 8s 33ms/step - loss: 0.3211 - accuracy: 0.8656 - val_loss: 0.3466 - val_accuracy: 0.8518\n",
            "Epoch 3/5\n",
            "250/250 [==============================] - 9s 34ms/step - loss: 0.2598 - accuracy: 0.8945 - val_loss: 0.3657 - val_accuracy: 0.8393\n",
            "Epoch 4/5\n",
            "250/250 [==============================] - 8s 33ms/step - loss: 0.2145 - accuracy: 0.9173 - val_loss: 0.3591 - val_accuracy: 0.8478\n",
            "Epoch 5/5\n",
            "250/250 [==============================] - 8s 33ms/step - loss: 0.1571 - accuracy: 0.9418 - val_loss: 0.4422 - val_accuracy: 0.8419\n"
          ]
        }
      ]
    },
    {
      "cell_type": "code",
      "source": [
        "model.evaluate(X_test, y_test)"
      ],
      "metadata": {
        "colab": {
          "base_uri": "https://localhost:8080/"
        },
        "id": "kul-UfvwxnhU",
        "outputId": "9a008e8c-1998-420b-8030-31bc49173cd4"
      },
      "execution_count": 19,
      "outputs": [
        {
          "output_type": "stream",
          "name": "stdout",
          "text": [
            "782/782 [==============================] - 5s 6ms/step - loss: 0.4422 - accuracy: 0.8419\n"
          ]
        },
        {
          "output_type": "execute_result",
          "data": {
            "text/plain": [
              "[0.4421919286251068, 0.841920018196106]"
            ]
          },
          "metadata": {},
          "execution_count": 19
        }
      ]
    },
    {
      "cell_type": "code",
      "source": [
        "_y_vloss = history.history['val_loss']\n",
        "y_loss = history.history['loss']\n",
        "x_len = np.arange(len(y_loss))\n",
        "plt.plot(x_len, y_vloss, marker='.', c='red', label='Testset_loss')\n",
        "plt.plot(x_len, y_loss, marker='.', c='blue', label='Trainset_loss')\n",
        "plt.xlabel('epoch')\n",
        "plt.ylabel('loss')\n",
        "plt.legend(loc='upper right')\n",
        "plt.show()"
      ],
      "metadata": {
        "colab": {
          "base_uri": "https://localhost:8080/",
          "height": 279
        },
        "id": "wBTEMAouxHSi",
        "outputId": "02927695-7cd7-438f-b424-dda050b4a41c"
      },
      "execution_count": 17,
      "outputs": [
        {
          "output_type": "display_data",
          "data": {
            "text/plain": [
              "<Figure size 432x288 with 1 Axes>"
            ],
            "image/png": "[encoded data removed]"
          },
          "metadata": {
            "needs_background": "light"
          }
        }
      ]
    },
    {
      "cell_type": "code",
      "source": [
        "model2 = keras.Sequential()\n",
        "model2.add(Embedding(5000,100))\n",
        "model2.add(Dropout(0.5))\n",
        "model2.add(Conv1D(64, 5, activation='relu'))\n",
        "model2.add(MaxPooling1D(4))\n",
        "model2.add(LSTM(40))\n",
        "model2.add(Dense(1, activation='sigmoid'))"
      ],
      "metadata": {
        "id": "TNsFoqapyKvv"
      },
      "execution_count": 20,
      "outputs": []
    },
    {
      "cell_type": "code",
      "source": [
        "model2.summary()"
      ],
      "metadata": {
        "colab": {
          "base_uri": "https://localhost:8080/"
        },
        "id": "2ExgclDFyQYy",
        "outputId": "06b754fd-c970-4640-9b10-ce6c6d7e2b90"
      },
      "execution_count": 21,
      "outputs": [
        {
          "output_type": "stream",
          "name": "stdout",
          "text": [
            "Model: \"sequential_7\"\n",
            "_________________________________________________________________\n",
            " Layer (type)                Output Shape              Param #   \n",
            "=================================================================\n",
            " embedding_5 (Embedding)     (None, None, 100)         500000    \n",
            "                                                                 \n",
            " dropout_3 (Dropout)         (None, None, 100)         0         \n",
            "                                                                 \n",
            " conv1d_3 (Conv1D)           (None, None, 64)          32064     \n",
            "                                                                 \n",
            " max_pooling1d_1 (MaxPooling  (None, None, 64)         0         \n",
            " 1D)                                                             \n",
            "                                                                 \n",
            " lstm (LSTM)                 (None, 40)                16800     \n",
            "                                                                 \n",
            " dense_1 (Dense)             (None, 1)                 41        \n",
            "                                                                 \n",
            "=================================================================\n",
            "Total params: 548,905\n",
            "Trainable params: 548,905\n",
            "Non-trainable params: 0\n",
            "_________________________________________________________________\n"
          ]
        }
      ]
    },
    {
      "cell_type": "code",
      "source": [
        "model2.compile('adam','binary_crossentropy', metrics=['accuracy'])\n",
        "history2 = model2.fit(X_train, y_train, batch_size=100, epochs=5, validation_data=(X_test, y_test))"
      ],
      "metadata": {
        "colab": {
          "base_uri": "https://localhost:8080/"
        },
        "id": "7M7Z0CNkyUDc",
        "outputId": "c92e4dce-a991-4392-de7b-d60cae8355f8"
      },
      "execution_count": 23,
      "outputs": [
        {
          "output_type": "stream",
          "name": "stdout",
          "text": [
            "Epoch 1/5\n",
            "250/250 [==============================] - 8s 26ms/step - loss: 0.2301 - accuracy: 0.9083 - val_loss: 0.3281 - val_accuracy: 0.8571\n",
            "Epoch 2/5\n",
            "250/250 [==============================] - 6s 23ms/step - loss: 0.1960 - accuracy: 0.9250 - val_loss: 0.3423 - val_accuracy: 0.8566\n",
            "Epoch 3/5\n",
            "250/250 [==============================] - 6s 24ms/step - loss: 0.1609 - accuracy: 0.9398 - val_loss: 0.3765 - val_accuracy: 0.8503\n",
            "Epoch 4/5\n",
            "250/250 [==============================] - 6s 23ms/step - loss: 0.1361 - accuracy: 0.9497 - val_loss: 0.4136 - val_accuracy: 0.8494\n",
            "Epoch 5/5\n",
            "250/250 [==============================] - 6s 24ms/step - loss: 0.1115 - accuracy: 0.9596 - val_loss: 0.4266 - val_accuracy: 0.8488\n"
          ]
        }
      ]
    },
    {
      "cell_type": "code",
      "source": [
        "_y_vloss = history.history['val_loss']\n",
        "y_loss = history.history['loss']\n",
        "x_len = np.arange(len(y_loss))\n",
        "plt.plot(x_len, y_vloss, marker='.', c='red', label='Testset_loss')\n",
        "plt.plot(x_len, y_loss, marker='.', c='blue', label='Trainset_loss')\n",
        "plt.xlabel('epoch')\n",
        "plt.ylabel('loss')\n",
        "plt.legend(loc='upper right')\n",
        "plt.show() "
      ],
      "metadata": {
        "colab": {
          "base_uri": "https://localhost:8080/",
          "height": 279
        },
        "id": "sSyb8_ZOyW5R",
        "outputId": "ff142d88-7554-4d9e-d455-06ec7e8eccc8"
      },
      "execution_count": 24,
      "outputs": [
        {
          "output_type": "display_data",
          "data": {
            "text/plain": [
              "<Figure size 432x288 with 1 Axes>"
            ],
            "image/png": "[encoded data removed]"
          },
          "metadata": {
            "needs_background": "light"
          }
        }
      ]
    },
    {
      "cell_type": "code",
      "source": [
        "model3 = keras.Sequential()\n",
        "model3.add(Embedding(5000,100))\n",
        "model3.add(Dropout(0.5))\n",
        "model3.add(Conv1D(64, 5, activation='relu'))\n",
        "model3.add(MaxPooling1D(4))\n",
        "model3.add(LSTM(40, return_sequences=True))\n",
        "model3.add(Dropout(0.1))\n",
        "model3.add(LSTM(40))\n",
        "model3.add(Dropout(0.1))\n",
        "model3.add(Dense(1, activation='sigmoid'))"
      ],
      "metadata": {
        "id": "V0TEEYPk3rpA"
      },
      "execution_count": 26,
      "outputs": []
    },
    {
      "cell_type": "code",
      "source": [
        "model3.summary()"
      ],
      "metadata": {
        "colab": {
          "base_uri": "https://localhost:8080/"
        },
        "id": "S3Ah2ols4Ay_",
        "outputId": "d79d8309-3b6e-4f5e-f157-a3e358d70b90"
      },
      "execution_count": 27,
      "outputs": [
        {
          "output_type": "stream",
          "name": "stdout",
          "text": [
            "Model: \"sequential_8\"\n",
            "_________________________________________________________________\n",
            " Layer (type)                Output Shape              Param #   \n",
            "=================================================================\n",
            " embedding_6 (Embedding)     (None, None, 100)         500000    \n",
            "                                                                 \n",
            " dropout_4 (Dropout)         (None, None, 100)         0         \n",
            "                                                                 \n",
            " conv1d_4 (Conv1D)           (None, None, 64)          32064     \n",
            "                                                                 \n",
            " max_pooling1d_2 (MaxPooling  (None, None, 64)         0         \n",
            " 1D)                                                             \n",
            "                                                                 \n",
            " lstm_1 (LSTM)               (None, None, 40)          16800     \n",
            "                                                                 \n",
            " dropout_5 (Dropout)         (None, None, 40)          0         \n",
            "                                                                 \n",
            " lstm_2 (LSTM)               (None, 40)                12960     \n",
            "                                                                 \n",
            " dropout_6 (Dropout)         (None, 40)                0         \n",
            "                                                                 \n",
            " dense_2 (Dense)             (None, 1)                 41        \n",
            "                                                                 \n",
            "=================================================================\n",
            "Total params: 561,865\n",
            "Trainable params: 561,865\n",
            "Non-trainable params: 0\n",
            "_________________________________________________________________\n"
          ]
        }
      ]
    },
    {
      "cell_type": "code",
      "source": [
        "model3.compile('adam','binary_crossentropy', metrics=['accuracy'])\n",
        "history3 = model3.fit(X_train, y_train, batch_size=100, epochs=5, validation_data=(X_test, y_test))"
      ],
      "metadata": {
        "colab": {
          "base_uri": "https://localhost:8080/"
        },
        "id": "ZM2pfiIB4DEN",
        "outputId": "dac4d2d1-a901-472f-bb01-ec5ae741e858"
      },
      "execution_count": 29,
      "outputs": [
        {
          "output_type": "stream",
          "name": "stdout",
          "text": [
            "Epoch 1/5\n",
            "250/250 [==============================] - 21s 42ms/step - loss: 0.4746 - accuracy: 0.7541 - val_loss: 0.3443 - val_accuracy: 0.8495\n",
            "Epoch 2/5\n",
            "250/250 [==============================] - 9s 34ms/step - loss: 0.3022 - accuracy: 0.8738 - val_loss: 0.3305 - val_accuracy: 0.8562\n",
            "Epoch 3/5\n",
            "250/250 [==============================] - 9s 38ms/step - loss: 0.2516 - accuracy: 0.8980 - val_loss: 0.3245 - val_accuracy: 0.8596\n",
            "Epoch 4/5\n",
            "250/250 [==============================] - 10s 38ms/step - loss: 0.2208 - accuracy: 0.9128 - val_loss: 0.3464 - val_accuracy: 0.8557\n",
            "Epoch 5/5\n",
            "250/250 [==============================] - 8s 34ms/step - loss: 0.1857 - accuracy: 0.9286 - val_loss: 0.3526 - val_accuracy: 0.8562\n"
          ]
        }
      ]
    },
    {
      "cell_type": "code",
      "source": [
        "_y_vloss = history3.history['val_loss']\n",
        "y_loss = history3.history['loss']\n",
        "x_len = np.arange(len(y_loss))\n",
        "plt.plot(x_len, y_vloss, marker='.', c='red', label='Testset_loss')\n",
        "plt.plot(x_len, y_loss, marker='.', c='blue', label='Trainset_loss')\n",
        "plt.xlabel('epoch')\n",
        "plt.ylabel('loss')\n",
        "plt.legend(loc='upper right')\n",
        "plt.show() "
      ],
      "metadata": {
        "colab": {
          "base_uri": "https://localhost:8080/",
          "height": 279
        },
        "id": "I5GvLygi4JcV",
        "outputId": "d2bbd120-7952-4c8b-cc81-298a539f00be"
      },
      "execution_count": 30,
      "outputs": [
        {
          "output_type": "display_data",
          "data": {
            "text/plain": [
              "<Figure size 432x288 with 1 Axes>"
            ],
            "image/png": "[encoded data removed]"
          },
          "metadata": {
            "needs_background": "light"
          }
        }
      ]
    }
  ]
}