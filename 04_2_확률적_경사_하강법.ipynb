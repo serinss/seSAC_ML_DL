{
  "nbformat": 4,
  "nbformat_minor": 0,
  "metadata": {
    "colab": {
      "name": "04-2. 확률적 경사 하강법.ipynb",
      "provenance": [],
      "collapsed_sections": [],
      "authorship_tag": "ABX9TyPQhnLAz60uOxSrLjMFClAK",
      "include_colab_link": true
    },
    "kernelspec": {
      "name": "python3",
      "display_name": "Python 3"
    },
    "language_info": {
      "name": "python"
    }
  },
  "cells": [
    {
      "cell_type": "markdown",
      "metadata": {
        "id": "view-in-github",
        "colab_type": "text"
      },
      "source": [
        "<a href=\"https://colab.research.google.com/github/serinss/seSAC_ML_DL_Class/blob/main/04_2_%ED%99%95%EB%A5%A0%EC%A0%81_%EA%B2%BD%EC%82%AC_%ED%95%98%EA%B0%95%EB%B2%95.ipynb\" target=\"_parent\"><img src=\"https://colab.research.google.com/assets/colab-badge.svg\" alt=\"Open In Colab\"/></a>"
      ]
    },
    {
      "cell_type": "code",
      "execution_count": 3,
      "metadata": {
        "id": "TyosiRR9jF34",
        "colab": {
          "base_uri": "https://localhost:8080/"
        },
        "outputId": "23d8fd47-16ac-45f6-a05d-1ec07fb27e58"
      },
      "outputs": [
        {
          "output_type": "stream",
          "name": "stdout",
          "text": [
            "Drive already mounted at /content/drive; to attempt to forcibly remount, call drive.mount(\"/content/drive\", force_remount=True).\n"
          ]
        }
      ],
      "source": [
        "%run my_init.py"
      ]
    },
    {
      "cell_type": "code",
      "source": [
        "%run my_init.py"
      ],
      "metadata": {
        "colab": {
          "base_uri": "https://localhost:8080/"
        },
        "id": "HARqr4eshwKn",
        "outputId": "9aaa85ed-da41-4631-874f-7fecd5f3d53b"
      },
      "execution_count": 4,
      "outputs": [
        {
          "output_type": "stream",
          "name": "stdout",
          "text": [
            "Drive already mounted at /content/drive; to attempt to forcibly remount, call drive.mount(\"/content/drive\", force_remount=True).\n"
          ]
        }
      ]
    },
    {
      "cell_type": "markdown",
      "source": [
        "#SGD Classifier"
      ],
      "metadata": {
        "id": "qwdwbHSghmgk"
      }
    },
    {
      "cell_type": "code",
      "source": [
        "fish = pd.read_csv('https://bit.ly/fish_csv_data')\n",
        "fish.head()"
      ],
      "metadata": {
        "colab": {
          "base_uri": "https://localhost:8080/",
          "height": 206
        },
        "id": "YSpJWb-bjJ7W",
        "outputId": "476d01af-82cb-44e4-903f-78983ba74a9b"
      },
      "execution_count": 6,
      "outputs": [
        {
          "output_type": "execute_result",
          "data": {
            "text/plain": [
              "  Species  Weight  Length  Diagonal   Height   Width\n",
              "0   Bream   242.0    25.4      30.0  11.5200  4.0200\n",
              "1   Bream   290.0    26.3      31.2  12.4800  4.3056\n",
              "2   Bream   340.0    26.5      31.1  12.3778  4.6961\n",
              "3   Bream   363.0    29.0      33.5  12.7300  4.4555\n",
              "4   Bream   430.0    29.0      34.0  12.4440  5.1340"
            ],
            "text/html": [
              "\n",
              "  <div id=\"df-f6767e22-fad9-40e6-ae15-859dd5bd18d6\">\n",
              "    <div class=\"colab-df-container\">\n",
              "      <div>\n",
              "<style scoped>\n",
              "    .dataframe tbody tr th:only-of-type {\n",
              "        vertical-align: middle;\n",
              "    }\n",
              "\n",
              "    .dataframe tbody tr th {\n",
              "        vertical-align: top;\n",
              "    }\n",
              "\n",
              "    .dataframe thead th {\n",
              "        text-align: right;\n",
              "    }\n",
              "</style>\n",
              "<table border=\"1\" class=\"dataframe\">\n",
              "  <thead>\n",
              "    <tr style=\"text-align: right;\">\n",
              "      <th></th>\n",
              "      <th>Species</th>\n",
              "      <th>Weight</th>\n",
              "      <th>Length</th>\n",
              "      <th>Diagonal</th>\n",
              "      <th>Height</th>\n",
              "      <th>Width</th>\n",
              "    </tr>\n",
              "  </thead>\n",
              "  <tbody>\n",
              "    <tr>\n",
              "      <th>0</th>\n",
              "      <td>Bream</td>\n",
              "      <td>242.0</td>\n",
              "      <td>25.4</td>\n",
              "      <td>30.0</td>\n",
              "      <td>11.5200</td>\n",
              "      <td>4.0200</td>\n",
              "    </tr>\n",
              "    <tr>\n",
              "      <th>1</th>\n",
              "      <td>Bream</td>\n",
              "      <td>290.0</td>\n",
              "      <td>26.3</td>\n",
              "      <td>31.2</td>\n",
              "      <td>12.4800</td>\n",
              "      <td>4.3056</td>\n",
              "    </tr>\n",
              "    <tr>\n",
              "      <th>2</th>\n",
              "      <td>Bream</td>\n",
              "      <td>340.0</td>\n",
              "      <td>26.5</td>\n",
              "      <td>31.1</td>\n",
              "      <td>12.3778</td>\n",
              "      <td>4.6961</td>\n",
              "    </tr>\n",
              "    <tr>\n",
              "      <th>3</th>\n",
              "      <td>Bream</td>\n",
              "      <td>363.0</td>\n",
              "      <td>29.0</td>\n",
              "      <td>33.5</td>\n",
              "      <td>12.7300</td>\n",
              "      <td>4.4555</td>\n",
              "    </tr>\n",
              "    <tr>\n",
              "      <th>4</th>\n",
              "      <td>Bream</td>\n",
              "      <td>430.0</td>\n",
              "      <td>29.0</td>\n",
              "      <td>34.0</td>\n",
              "      <td>12.4440</td>\n",
              "      <td>5.1340</td>\n",
              "    </tr>\n",
              "  </tbody>\n",
              "</table>\n",
              "</div>\n",
              "      <button class=\"colab-df-convert\" onclick=\"convertToInteractive('df-f6767e22-fad9-40e6-ae15-859dd5bd18d6')\"\n",
              "              title=\"Convert this dataframe to an interactive table.\"\n",
              "              style=\"display:none;\">\n",
              "        \n",
              "  <svg xmlns=\"http://www.w3.org/2000/svg\" height=\"24px\"viewBox=\"0 0 24 24\"\n",
              "       width=\"24px\">\n",
              "    <path d=\"M0 0h24v24H0V0z\" fill=\"none\"/>\n",
              "    <path d=\"M18.56 5.44l.94 2.06.94-2.06 2.06-.94-2.06-.94-.94-2.06-.94 2.06-2.06.94zm-11 1L8.5 8.5l.94-2.06 2.06-.94-2.06-.94L8.5 2.5l-.94 2.06-2.06.94zm10 10l.94 2.06.94-2.06 2.06-.94-2.06-.94-.94-2.06-.94 2.06-2.06.94z\"/><path d=\"M17.41 7.96l-1.37-1.37c-.4-.4-.92-.59-1.43-.59-.52 0-1.04.2-1.43.59L10.3 9.45l-7.72 7.72c-.78.78-.78 2.05 0 2.83L4 21.41c.39.39.9.59 1.41.59.51 0 1.02-.2 1.41-.59l7.78-7.78 2.81-2.81c.8-.78.8-2.07 0-2.86zM5.41 20L4 18.59l7.72-7.72 1.47 1.35L5.41 20z\"/>\n",
              "  </svg>\n",
              "      </button>\n",
              "      \n",
              "  <style>\n",
              "    .colab-df-container {\n",
              "      display:flex;\n",
              "      flex-wrap:wrap;\n",
              "      gap: 12px;\n",
              "    }\n",
              "\n",
              "    .colab-df-convert {\n",
              "      background-color: #E8F0FE;\n",
              "      border: none;\n",
              "      border-radius: 50%;\n",
              "      cursor: pointer;\n",
              "      display: none;\n",
              "      fill: #1967D2;\n",
              "      height: 32px;\n",
              "      padding: 0 0 0 0;\n",
              "      width: 32px;\n",
              "    }\n",
              "\n",
              "    .colab-df-convert:hover {\n",
              "      background-color: #E2EBFA;\n",
              "      box-shadow: 0px 1px 2px rgba(60, 64, 67, 0.3), 0px 1px 3px 1px rgba(60, 64, 67, 0.15);\n",
              "      fill: #174EA6;\n",
              "    }\n",
              "\n",
              "    [theme=dark] .colab-df-convert {\n",
              "      background-color: #3B4455;\n",
              "      fill: #D2E3FC;\n",
              "    }\n",
              "\n",
              "    [theme=dark] .colab-df-convert:hover {\n",
              "      background-color: #434B5C;\n",
              "      box-shadow: 0px 1px 3px 1px rgba(0, 0, 0, 0.15);\n",
              "      filter: drop-shadow(0px 1px 2px rgba(0, 0, 0, 0.3));\n",
              "      fill: #FFFFFF;\n",
              "    }\n",
              "  </style>\n",
              "\n",
              "      <script>\n",
              "        const buttonEl =\n",
              "          document.querySelector('#df-f6767e22-fad9-40e6-ae15-859dd5bd18d6 button.colab-df-convert');\n",
              "        buttonEl.style.display =\n",
              "          google.colab.kernel.accessAllowed ? 'block' : 'none';\n",
              "\n",
              "        async function convertToInteractive(key) {\n",
              "          const element = document.querySelector('#df-f6767e22-fad9-40e6-ae15-859dd5bd18d6');\n",
              "          const dataTable =\n",
              "            await google.colab.kernel.invokeFunction('convertToInteractive',\n",
              "                                                     [key], {});\n",
              "          if (!dataTable) return;\n",
              "\n",
              "          const docLinkHtml = 'Like what you see? Visit the ' +\n",
              "            '<a target=\"_blank\" href=https://colab.research.google.com/notebooks/data_table.ipynb>data table notebook</a>'\n",
              "            + ' to learn more about interactive tables.';\n",
              "          element.innerHTML = '';\n",
              "          dataTable['output_type'] = 'display_data';\n",
              "          await google.colab.output.renderOutput(dataTable, element);\n",
              "          const docLink = document.createElement('div');\n",
              "          docLink.innerHTML = docLinkHtml;\n",
              "          element.appendChild(docLink);\n",
              "        }\n",
              "      </script>\n",
              "    </div>\n",
              "  </div>\n",
              "  "
            ]
          },
          "metadata": {},
          "execution_count": 6
        }
      ]
    },
    {
      "cell_type": "code",
      "source": [
        "# X, y 데이터를 만들기\n",
        "\n",
        "fish_input = fish.drop('Species', axis=1).to_numpy() #교재의 직접 치는 코드보다 깔끔\n",
        "fish_target = fish['Species'].to_numpy()"
      ],
      "metadata": {
        "id": "-ZQGhu71jSrX"
      },
      "execution_count": 9,
      "outputs": []
    },
    {
      "cell_type": "code",
      "source": [
        "# 미리 확인해서 복붙해 넣을 수 있음\n",
        "# 하지만, 실제 프로젝트에서는 feature의 수가 아주 많으므로 권장하지 않음\n",
        "fish.columns"
      ],
      "metadata": {
        "colab": {
          "base_uri": "https://localhost:8080/"
        },
        "id": "UcDsZCwdkK71",
        "outputId": "d1bff713-7cbe-441e-bddb-bdf40eee47de"
      },
      "execution_count": 12,
      "outputs": [
        {
          "output_type": "execute_result",
          "data": {
            "text/plain": [
              "Index(['Species', 'Weight', 'Length', 'Diagonal', 'Height', 'Width'], dtype='object')"
            ]
          },
          "metadata": {},
          "execution_count": 12
        }
      ]
    },
    {
      "cell_type": "code",
      "source": [
        "# 반드시 shape 확인\n",
        "fish_input.shape, fish_target.shape"
      ],
      "metadata": {
        "colab": {
          "base_uri": "https://localhost:8080/"
        },
        "id": "6VAH_Z3xj1Tk",
        "outputId": "ceb65afb-5fd9-4fec-f4ba-bd7623cd5558"
      },
      "execution_count": 10,
      "outputs": [
        {
          "output_type": "execute_result",
          "data": {
            "text/plain": [
              "((159, 5), (159,))"
            ]
          },
          "metadata": {},
          "execution_count": 10
        }
      ]
    },
    {
      "cell_type": "code",
      "source": [
        "# train/test set 만들기  = X, X, y, y 순서 주의\n",
        "train_input, test_input, train_target, test_target = train_test_split(fish_input, fish_target, random_state=42)"
      ],
      "metadata": {
        "id": "_BHOAQ5SkFlr"
      },
      "execution_count": 11,
      "outputs": []
    },
    {
      "cell_type": "code",
      "source": [
        "# shqpe 확인\n",
        "train_input.shape, test_input.shape, train_target.shape, test_target.shape"
      ],
      "metadata": {
        "colab": {
          "base_uri": "https://localhost:8080/"
        },
        "id": "yrzI0uqwkR95",
        "outputId": "8998731f-3ae1-4748-cc17-1a2a9f4a797a"
      },
      "execution_count": 13,
      "outputs": [
        {
          "output_type": "execute_result",
          "data": {
            "text/plain": [
              "((119, 5), (40, 5), (119,), (40,))"
            ]
          },
          "metadata": {},
          "execution_count": 13
        }
      ]
    },
    {
      "cell_type": "code",
      "source": [
        "# 전처리 과정으로 변환기를 이용한 스케일링 진행\n",
        "\n",
        "ss = StandardScaler()\n",
        "train_scaled = ss.fit_transform(train_input)\n",
        "test_scaled = ss.transform(test_input)"
      ],
      "metadata": {
        "id": "CQH3O6yMladF"
      },
      "execution_count": 21,
      "outputs": []
    },
    {
      "cell_type": "code",
      "source": [
        "# 확률적 경사하강법을 적용\n",
        "from sklearn.linear_model import SGDClassifier\n",
        "\n",
        "sc = SGDClassifier(loss='log', random_state=42, max_iter=10, verbose=1) # 이런 식으로 직접 지정한 변수값 = hyper parameter\n",
        "# default : loss='hinge' , max_iter=1000,\n",
        "\n",
        "# l1_ratio=0.15 (elastic 유연함 정도 -> 릿지 %, 라쏘 % 비율로 섞는것) -> l2 = 0.85 자동으로 설정\n",
        "\n",
        "# learning_rate='optimal' epoch 이동 step 정도를 알아서 설정\n",
        "\n",
        "# early_stopping=False 조기 종료 : 모델이 과적합되기 전 훈련을 멈추는 정규화 기법\n",
        "#   best 20epoch에서 끝나는데 100까지 진행해버리면 overfit가 될 수 있음 -> 미리 끝낼 수 있으면 좋다(신경망에서 자주 쓰임)\n",
        "#   훈련 점수와 테스트 점수를 비교해 봐야 함\n",
        "\n",
        "# validation_fraction=0.1\n",
        "\n",
        "# verbose=0 -> 1이면 진행과정이 모두 출력됨\n",
        "# The verbosity level. loss가 커졌다 줄어들었다 왔다갔다 체크하면서 진행됨\n",
        "\n",
        "sc.fit(train_scaled, train_target)\n",
        "\n",
        "# 정답과 예측한 클래스로 모형을 평가하기\n",
        "print(accuracy_score(train_target, sc.predict(train_scaled)))\n",
        "print(accuracy_score(test_target, sc.predict(test_scaled)))\n",
        "\n",
        "# 전체적으로 점수가 낮고, train이 조금 더 높은 상태 = underfit\n",
        "# 현재까지의 코드 = 1epoch"
      ],
      "metadata": {
        "colab": {
          "base_uri": "https://localhost:8080/"
        },
        "id": "vLvZybC9lzNf",
        "outputId": "8a8853ae-1b61-4f77-bb22-1423a07ba18c"
      },
      "execution_count": 30,
      "outputs": [
        {
          "output_type": "stream",
          "name": "stdout",
          "text": [
            "-- Epoch 1\n",
            "Norm: 46.61, NNZs: 5, Bias: -27.661813, T: 119, Avg. loss: 1.267821\n",
            "Total training time: 0.00 seconds.\n",
            "-- Epoch 2\n",
            "Norm: 43.85, NNZs: 5, Bias: -26.602025, T: 238, Avg. loss: 0.058223\n",
            "Total training time: 0.00 seconds.\n",
            "-- Epoch 3\n",
            "Norm: 40.77, NNZs: 5, Bias: -26.081781, T: 357, Avg. loss: 0.005956\n",
            "Total training time: 0.00 seconds.\n",
            "-- Epoch 4\n",
            "Norm: 37.12, NNZs: 5, Bias: -26.815303, T: 476, Avg. loss: 0.002337\n",
            "Total training time: 0.00 seconds.\n",
            "-- Epoch 5\n",
            "Norm: 37.08, NNZs: 5, Bias: -23.088176, T: 595, Avg. loss: 0.008068\n",
            "Total training time: 0.00 seconds.\n",
            "-- Epoch 6\n",
            "Norm: 35.10, NNZs: 5, Bias: -22.612781, T: 714, Avg. loss: 0.006196\n",
            "Total training time: 0.00 seconds.\n",
            "-- Epoch 7\n",
            "Norm: 32.38, NNZs: 5, Bias: -23.422639, T: 833, Avg. loss: 0.002355\n",
            "Total training time: 0.00 seconds.\n",
            "-- Epoch 8\n",
            "Norm: 32.87, NNZs: 5, Bias: -20.275578, T: 952, Avg. loss: 0.009796\n",
            "Total training time: 0.00 seconds.\n",
            "-- Epoch 9\n",
            "Norm: 30.59, NNZs: 5, Bias: -21.305400, T: 1071, Avg. loss: 0.007107\n",
            "Total training time: 0.00 seconds.\n",
            "Convergence after 9 epochs took 0.00 seconds\n",
            "-- Epoch 1\n",
            "Norm: 43.04, NNZs: 5, Bias: -32.547150, T: 119, Avg. loss: 2.087007\n",
            "Total training time: 0.00 seconds.\n",
            "-- Epoch 2\n",
            "Norm: 44.92, NNZs: 5, Bias: -47.843396, T: 238, Avg. loss: 1.899932\n",
            "Total training time: 0.00 seconds.\n",
            "-- Epoch 3\n",
            "Norm: 54.31, NNZs: 5, Bias: -38.574812, T: 357, Avg. loss: 0.786930\n",
            "Total training time: 0.00 seconds.\n",
            "-- Epoch 4\n",
            "Norm: 48.20, NNZs: 5, Bias: -40.932988, T: 476, Avg. loss: 0.179117\n",
            "Total training time: 0.00 seconds.\n",
            "-- Epoch 5\n",
            "Norm: 48.57, NNZs: 5, Bias: -43.332485, T: 595, Avg. loss: 0.432191\n",
            "Total training time: 0.00 seconds.\n",
            "-- Epoch 6\n",
            "Norm: 58.11, NNZs: 5, Bias: -39.520323, T: 714, Avg. loss: 1.281186\n",
            "Total training time: 0.00 seconds.\n",
            "-- Epoch 7\n",
            "Norm: 54.69, NNZs: 5, Bias: -41.560736, T: 833, Avg. loss: 0.536437\n",
            "Total training time: 0.00 seconds.\n",
            "-- Epoch 8\n",
            "Norm: 48.95, NNZs: 5, Bias: -48.521006, T: 952, Avg. loss: 0.333304\n",
            "Total training time: 0.00 seconds.\n",
            "-- Epoch 9\n",
            "Norm: 54.60, NNZs: 5, Bias: -43.124973, T: 1071, Avg. loss: 0.698699\n",
            "Total training time: 0.00 seconds.\n",
            "Convergence after 9 epochs took 0.00 seconds\n",
            "-- Epoch 1\n",
            "Norm: 63.69, NNZs: 5, Bias: -38.477890, T: 119, Avg. loss: 6.558987\n",
            "Total training time: 0.00 seconds.\n",
            "-- Epoch 2\n",
            "Norm: 70.29, NNZs: 5, Bias: -4.069440, T: 238, Avg. loss: 6.084390\n",
            "Total training time: 0.00 seconds.\n",
            "-- Epoch 3\n",
            "Norm: 79.05, NNZs: 5, Bias: -7.199544, T: 357, Avg. loss: 4.856825\n",
            "Total training time: 0.00 seconds.\n",
            "-- Epoch 4\n",
            "Norm: 72.97, NNZs: 5, Bias: -20.687329, T: 476, Avg. loss: 3.868623\n",
            "Total training time: 0.00 seconds.\n",
            "-- Epoch 5\n",
            "Norm: 80.88, NNZs: 5, Bias: -20.540210, T: 595, Avg. loss: 4.880835\n",
            "Total training time: 0.00 seconds.\n",
            "-- Epoch 6\n",
            "Norm: 87.65, NNZs: 5, Bias: -10.985783, T: 714, Avg. loss: 3.868482\n",
            "Total training time: 0.00 seconds.\n",
            "-- Epoch 7\n",
            "Norm: 81.42, NNZs: 5, Bias: -15.032258, T: 833, Avg. loss: 3.296535\n",
            "Total training time: 0.00 seconds.\n",
            "-- Epoch 8\n",
            "Norm: 81.95, NNZs: 5, Bias: -9.562464, T: 952, Avg. loss: 2.797817\n",
            "Total training time: 0.00 seconds.\n",
            "-- Epoch 9\n",
            "Norm: 79.86, NNZs: 5, Bias: -6.003611, T: 1071, Avg. loss: 2.555077\n",
            "Total training time: 0.00 seconds.\n",
            "-- Epoch 10\n",
            "Norm: 76.17, NNZs: 5, Bias: -14.704921, T: 1190, Avg. loss: 2.396234\n",
            "Total training time: 0.00 seconds.\n",
            "-- Epoch 1\n",
            "Norm: 44.56, NNZs: 5, Bias: -40.682380, T: 119, Avg. loss: 1.268160\n",
            "Total training time: 0.00 seconds.\n",
            "-- Epoch 2\n",
            "Norm: 42.51, NNZs: 5, Bias: -38.217829, T: 238, Avg. loss: 0.002597\n",
            "Total training time: 0.00 seconds.\n",
            "-- Epoch 3\n",
            "Norm: 40.76, NNZs: 5, Bias: -36.179870, T: 357, Avg. loss: 0.002432\n",
            "Total training time: 0.00 seconds.\n",
            "-- Epoch 4\n",
            "Norm: 38.00, NNZs: 5, Bias: -35.632679, T: 476, Avg. loss: 0.000666\n",
            "Total training time: 0.00 seconds.\n",
            "-- Epoch 5\n",
            "Norm: 36.90, NNZs: 5, Bias: -33.875692, T: 595, Avg. loss: 0.002420\n",
            "Total training time: 0.00 seconds.\n",
            "-- Epoch 6\n",
            "Norm: 35.26, NNZs: 5, Bias: -32.955834, T: 714, Avg. loss: 0.001344\n",
            "Total training time: 0.00 seconds.\n",
            "-- Epoch 7\n",
            "Norm: 33.95, NNZs: 5, Bias: -31.984664, T: 833, Avg. loss: 0.001531\n",
            "Total training time: 0.00 seconds.\n",
            "-- Epoch 8\n",
            "Norm: 32.88, NNZs: 5, Bias: -30.995627, T: 952, Avg. loss: 0.001669\n",
            "Total training time: 0.00 seconds.\n",
            "-- Epoch 9\n",
            "Norm: 31.61, NNZs: 5, Bias: -30.385618, T: 1071, Avg. loss: 0.001072\n",
            "Total training time: 0.01 seconds.\n",
            "Convergence after 9 epochs took 0.01 seconds\n",
            "-- Epoch 1\n",
            "Norm: 44.47, NNZs: 5, Bias: -31.873959, T: 119, Avg. loss: 5.961289\n",
            "Total training time: 0.00 seconds.\n",
            "-- Epoch 2\n",
            "Norm: 55.74, NNZs: 5, Bias: -25.968163, T: 238, Avg. loss: 2.690652\n",
            "Total training time: 0.00 seconds.\n",
            "-- Epoch 3\n",
            "Norm: 62.08, NNZs: 5, Bias: -19.583467, T: 357, Avg. loss: 2.767091\n",
            "Total training time: 0.00 seconds.\n",
            "-- Epoch 4\n",
            "Norm: 64.05, NNZs: 5, Bias: -15.574935, T: 476, Avg. loss: 2.971866\n",
            "Total training time: 0.00 seconds.\n",
            "-- Epoch 5\n",
            "Norm: 64.26, NNZs: 5, Bias: -13.413530, T: 595, Avg. loss: 2.338486\n",
            "Total training time: 0.00 seconds.\n",
            "-- Epoch 6\n",
            "Norm: 65.49, NNZs: 5, Bias: -21.367780, T: 714, Avg. loss: 1.433379\n",
            "Total training time: 0.01 seconds.\n",
            "-- Epoch 7\n",
            "Norm: 67.95, NNZs: 5, Bias: -15.190878, T: 833, Avg. loss: 1.585075\n",
            "Total training time: 0.01 seconds.\n",
            "-- Epoch 8\n",
            "Norm: 60.57, NNZs: 5, Bias: -24.667134, T: 952, Avg. loss: 1.611300\n",
            "Total training time: 0.01 seconds.\n",
            "-- Epoch 9\n",
            "Norm: 60.65, NNZs: 5, Bias: -19.476952, T: 1071, Avg. loss: 1.663227\n",
            "Total training time: 0.01 seconds.\n",
            "-- Epoch 10\n",
            "Norm: 59.77, NNZs: 5, Bias: -17.120775, T: 1190, Avg. loss: 1.496191\n",
            "Total training time: 0.01 seconds.\n",
            "-- Epoch 1\n",
            "Norm: 31.08, NNZs: 5, Bias: -54.184466, T: 119, Avg. loss: 4.066134\n",
            "Total training time: 0.00 seconds.\n",
            "-- Epoch 2\n",
            "Norm: 34.85, NNZs: 5, Bias: -54.824383, T: 238, Avg. loss: 1.356489\n",
            "Total training time: 0.00 seconds.\n",
            "-- Epoch 3\n",
            "Norm: 46.68, NNZs: 5, Bias: -50.517232, T: 357, Avg. loss: 0.714838\n",
            "Total training time: 0.00 seconds.\n",
            "-- Epoch 4\n",
            "Norm: 28.64, NNZs: 5, Bias: -66.348842, T: 476, Avg. loss: 1.433038\n",
            "Total training time: 0.00 seconds.\n",
            "-- Epoch 5\n",
            "Norm: 36.92, NNZs: 5, Bias: -59.732678, T: 595, Avg. loss: 1.806489\n",
            "Total training time: 0.01 seconds.\n",
            "-- Epoch 6\n",
            "Norm: 35.02, NNZs: 5, Bias: -59.438662, T: 714, Avg. loss: 0.776027\n",
            "Total training time: 0.01 seconds.\n",
            "-- Epoch 7\n",
            "Norm: 36.67, NNZs: 5, Bias: -57.047293, T: 833, Avg. loss: 0.730258\n",
            "Total training time: 0.01 seconds.\n",
            "-- Epoch 8\n",
            "Norm: 33.49, NNZs: 5, Bias: -62.171377, T: 952, Avg. loss: 1.326101\n",
            "Total training time: 0.01 seconds.\n",
            "Convergence after 8 epochs took 0.01 seconds\n",
            "-- Epoch 1\n",
            "Norm: 10.46, NNZs: 5, Bias: -16.097548, T: 119, Avg. loss: 1.533644\n",
            "Total training time: 0.00 seconds.\n",
            "-- Epoch 2\n",
            "Norm: 23.38, NNZs: 5, Bias: -22.628582, T: 238, Avg. loss: 0.629427\n",
            "Total training time: 0.00 seconds.\n",
            "-- Epoch 3\n",
            "Norm: 22.66, NNZs: 5, Bias: -24.580254, T: 357, Avg. loss: 0.770089\n",
            "Total training time: 0.00 seconds.\n",
            "-- Epoch 4\n",
            "Norm: 25.54, NNZs: 5, Bias: -18.564242, T: 476, Avg. loss: 0.489412\n",
            "Total training time: 0.00 seconds.\n",
            "-- Epoch 5\n",
            "Norm: 23.60, NNZs: 5, Bias: -17.739376, T: 595, Avg. loss: 0.696209\n",
            "Total training time: 0.00 seconds.\n",
            "-- Epoch 6\n",
            "Norm: 23.94, NNZs: 5, Bias: -16.701486, T: 714, Avg. loss: 0.466006\n",
            "Total training time: 0.00 seconds.\n",
            "-- Epoch 7\n",
            "Norm: 23.05, NNZs: 5, Bias: -20.066162, T: 833, Avg. loss: 0.431277\n",
            "Total training time: 0.00 seconds.\n",
            "-- Epoch 8\n",
            "Norm: 28.07, NNZs: 5, Bias: -21.058979, T: 952, Avg. loss: 0.642066\n",
            "Total training time: 0.00 seconds.\n",
            "-- Epoch 9\n",
            "Norm: 24.47, NNZs: 5, Bias: -16.835854, T: 1071, Avg. loss: 0.543023\n",
            "Total training time: 0.00 seconds.\n",
            "-- Epoch 10\n",
            "Norm: 23.90, NNZs: 5, Bias: -25.167149, T: 1190, Avg. loss: 0.384961\n",
            "Total training time: 0.00 seconds.\n",
            "0.773109243697479\n",
            "0.775\n"
          ]
        },
        {
          "output_type": "stream",
          "name": "stderr",
          "text": [
            "[Parallel(n_jobs=1)]: Using backend SequentialBackend with 1 concurrent workers.\n",
            "[Parallel(n_jobs=1)]: Done   7 out of   7 | elapsed:    0.0s finished\n"
          ]
        }
      ]
    },
    {
      "cell_type": "code",
      "source": [
        "# fit는 학습을 초기화하고 시작\n",
        "# partial_fit 로 점진적 학습을 시키자\n",
        "# 전체 데이터 세트로 모델을 다시 훈련시키는 대신에 \n",
        "# 모델의 과거 학습이 복원되고 동일한 모델이 새로운 데이터 배치로 훈련되는 증분 학습 접근 방식을 사용\n",
        "\n",
        "# 부족한 학습 반복 횟수를 채운다\n",
        "\n",
        "sc.partial_fit(train_scaled, train_target, classes = np.unique(train_target)) # 1에포크씩 이어서 훈련?\n",
        "# classes 주면 결과값 변동됨\n",
        "print(accuracy_score(train_target, sc.predict(train_scaled)))\n",
        "print(accuracy_score(test_target, sc.predict(test_scaled)))"
      ],
      "metadata": {
        "colab": {
          "base_uri": "https://localhost:8080/"
        },
        "id": "-Fca2fJdnJ_Z",
        "outputId": "6dc29bb9-a461-4bac-fc27-a62149c4626b"
      },
      "execution_count": 35,
      "outputs": [
        {
          "output_type": "stream",
          "name": "stdout",
          "text": [
            "-- Epoch 1\n",
            "Norm: 27.51, NNZs: 5, Bias: -17.476996, T: 119, Avg. loss: 0.008799\n",
            "Total training time: 0.00 seconds.\n",
            "-- Epoch 1\n",
            "Norm: 55.54, NNZs: 5, Bias: -36.634579, T: 119, Avg. loss: 0.271077\n",
            "Total training time: 0.00 seconds.\n",
            "-- Epoch 1\n",
            "Norm: 72.14, NNZs: 5, Bias: -17.498909, T: 119, Avg. loss: 1.940904\n",
            "Total training time: 0.00 seconds.\n",
            "-- Epoch 1\n",
            "Norm: 27.91, NNZs: 5, Bias: -27.128142, T: 119, Avg. loss: 0.001438\n",
            "Total training time: 0.00 seconds.\n",
            "-- Epoch 1\n",
            "Norm: 55.05, NNZs: 5, Bias: -16.271966, T: 119, Avg. loss: 1.121726\n",
            "Total training time: 0.00 seconds.\n",
            "-- Epoch 1\n",
            "Norm: 41.80, NNZs: 5, Bias: -61.994395, T: 119, Avg. loss: 0.443426\n",
            "Total training time: 0.00 seconds.\n",
            "-- Epoch 1\n",
            "Norm: 21.17, NNZs: 5, Bias: -15.827010, T: 119, Avg. loss: 0.330491\n",
            "Total training time: 0.00 seconds.\n",
            "0.8571428571428571\n",
            "0.9\n"
          ]
        },
        {
          "output_type": "stream",
          "name": "stderr",
          "text": [
            "[Parallel(n_jobs=1)]: Using backend SequentialBackend with 1 concurrent workers.\n",
            "[Parallel(n_jobs=1)]: Done   7 out of   7 | elapsed:    0.0s finished\n"
          ]
        }
      ]
    },
    {
      "cell_type": "markdown",
      "source": [
        "#에포크와 언더피트/오버피트 관계"
      ],
      "metadata": {
        "id": "8l78BZSBxz6a"
      }
    },
    {
      "cell_type": "code",
      "source": [
        "sc = SGDClassifier(loss='log', random_state=42)\n",
        "classes = np.unique(train_target) #루프 안에 넣으면 이게 300번이나 호출되므로 바깥으로 빼두자\n",
        "train_score, test_score = [], []\n",
        "\n",
        "for _ in range(300):\n",
        "  sc.partial_fit(train_scaled, train_target, classes=classes)\n",
        "  train_score.append(accuracy_score(train_target, sc.predict(train_scaled)))\n",
        "  test_score.append(accuracy_score(test_target, sc.predict(test_scaled)))\n",
        "\n",
        "plt.plot(train_score)\n",
        "plt.plot(test_score)\n",
        "plt.xlabel('epoch')\n",
        "plt.ylabel('accuracy')\n",
        "plt.legend(['train','test'])\n",
        "plt.show()\n",
        "\n",
        "# test가 역전하기 이전은 underfit"
      ],
      "metadata": {
        "colab": {
          "base_uri": "https://localhost:8080/",
          "height": 279
        },
        "id": "hevqKws-xuIB",
        "outputId": "faf73318-4012-47df-a649-1a760de4442b"
      },
      "execution_count": 39,
      "outputs": [
        {
          "output_type": "display_data",
          "data": {
            "text/plain": [
              "<Figure size 432x288 with 1 Axes>"
            ],
            "image/png": "[encoded data removed]"
          },
          "metadata": {
            "needs_background": "light"
          }
        }
      ]
    },
    {
      "cell_type": "code",
      "source": [
        "sc = SGDClassifier(loss='log',max_iter=100, tol=None, random_state=42)\n",
        "# tol=0.001 tolerance 에포크당 이전 결과와의 loss손실값 차이가 0.001 이상 나지 않으면 진행 멈추기\n",
        "#           이걸 None으로 했으니, max_iter까지 무조건 가겠다고 설정한 것\n",
        "sc.fit(train_scaled, train_target)\n",
        "\n",
        "print(accuracy_score(train_target, sc.predict(train_scaled)))\n",
        "print(accuracy_score(test_target, sc.predict(test_scaled)))\n",
        "\n",
        "# 점수 높음!\n",
        "# max_iter=110 값을 조절해보면서 best값을 찾아낼 수 있다"
      ],
      "metadata": {
        "colab": {
          "base_uri": "https://localhost:8080/"
        },
        "id": "T4WYhF012R47",
        "outputId": "9bc12639-9dfb-4cc4-b0ee-284790c784c0"
      },
      "execution_count": 44,
      "outputs": [
        {
          "output_type": "stream",
          "name": "stdout",
          "text": [
            "0.957983193277311\n",
            "0.925\n"
          ]
        }
      ]
    },
    {
      "cell_type": "code",
      "source": [
        "from sklearn.linear_model import SGDRegressor\n",
        "# 참고\n",
        "# ?SGDRegressor\n",
        "# SGDRegressor(*args, **kwargs) *가변형 positional arg, **가변형 keyword arg\n",
        "# loss : str, default='squared_error' - OLS 최소제곱법 참고"
      ],
      "metadata": {
        "id": "kXIWtqfk33Ie"
      },
      "execution_count": 45,
      "outputs": []
    }
  ]
}