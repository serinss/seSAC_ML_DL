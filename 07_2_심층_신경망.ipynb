{
  "nbformat": 4,
  "nbformat_minor": 0,
  "metadata": {
    "colab": {
      "name": "07-2. 심층 신경망.ipynb",
      "provenance": [],
      "authorship_tag": "ABX9TyPuB/zwsf1wjAMl17mwhWOD",
      "include_colab_link": true
    },
    "kernelspec": {
      "name": "python3",
      "display_name": "Python 3"
    },
    "language_info": {
      "name": "python"
    },
    "accelerator": "GPU"
  },
  "cells": [
    {
      "cell_type": "markdown",
      "metadata": {
        "id": "view-in-github",
        "colab_type": "text"
      },
      "source": [
        "<a href=\"https://colab.research.google.com/github/serinss/seSAC_ML_DL_Class/blob/main/07_2_%EC%8B%AC%EC%B8%B5_%EC%8B%A0%EA%B2%BD%EB%A7%9D.ipynb\" target=\"_parent\"><img src=\"https://colab.research.google.com/assets/colab-badge.svg\" alt=\"Open In Colab\"/></a>"
      ]
    },
    {
      "cell_type": "code",
      "source": [
        "%run my_init.py"
      ],
      "metadata": {
        "colab": {
          "base_uri": "https://localhost:8080/"
        },
        "id": "aHss5TZOT1Mp",
        "outputId": "12d86763-8c68-41f7-e47b-772bec870259"
      },
      "execution_count": 1,
      "outputs": [
        {
          "output_type": "stream",
          "name": "stdout",
          "text": [
            "Mounted at /content/drive\n"
          ]
        }
      ]
    },
    {
      "cell_type": "code",
      "source": [
        "%matplotlib inline"
      ],
      "metadata": {
        "id": "xfEWuie-T2Nm"
      },
      "execution_count": 2,
      "outputs": []
    },
    {
      "cell_type": "markdown",
      "source": [
        "#런타임 유형 GPU로 변경"
      ],
      "metadata": {
        "id": "rU8FS2Not-zk"
      }
    },
    {
      "cell_type": "code",
      "execution_count": 3,
      "metadata": {
        "id": "1ArKhIMTQBpi",
        "colab": {
          "base_uri": "https://localhost:8080/"
        },
        "outputId": "fca2f178-1379-4836-d700-f644c7c90b9c"
      },
      "outputs": [
        {
          "output_type": "stream",
          "name": "stdout",
          "text": [
            "Downloading data from https://storage.googleapis.com/tensorflow/tf-keras-datasets/train-labels-idx1-ubyte.gz\n",
            "32768/29515 [=================================] - 0s 0us/step\n",
            "40960/29515 [=========================================] - 0s 0us/step\n",
            "Downloading data from https://storage.googleapis.com/tensorflow/tf-keras-datasets/train-images-idx3-ubyte.gz\n",
            "26427392/26421880 [==============================] - 0s 0us/step\n",
            "26435584/26421880 [==============================] - 0s 0us/step\n",
            "Downloading data from https://storage.googleapis.com/tensorflow/tf-keras-datasets/t10k-labels-idx1-ubyte.gz\n",
            "16384/5148 [===============================================================================================] - 0s 0us/step\n",
            "Downloading data from https://storage.googleapis.com/tensorflow/tf-keras-datasets/t10k-images-idx3-ubyte.gz\n",
            "4423680/4422102 [==============================] - 0s 0us/step\n",
            "4431872/4422102 [==============================] - 0s 0us/step\n"
          ]
        }
      ],
      "source": [
        "from tensorflow import keras # 텐서플로우의 High level API\n",
        "\n",
        "(X_train, y_train), (X_test, y_test) = keras.datasets.fashion_mnist.load_data()"
      ]
    },
    {
      "cell_type": "code",
      "source": [
        "print(X_train.shape, y_train.shape)"
      ],
      "metadata": {
        "colab": {
          "base_uri": "https://localhost:8080/"
        },
        "id": "CvA5WTYpVwof",
        "outputId": "78761ba1-2aae-4d60-deac-03617a25fc78"
      },
      "execution_count": 4,
      "outputs": [
        {
          "output_type": "stream",
          "name": "stdout",
          "text": [
            "(60000, 28, 28) (60000,)\n"
          ]
        }
      ]
    },
    {
      "cell_type": "code",
      "source": [
        "print(X_test.shape, y_test.shape)"
      ],
      "metadata": {
        "colab": {
          "base_uri": "https://localhost:8080/"
        },
        "id": "hH9yA9TJVxh0",
        "outputId": "8b586075-0cdd-4c10-f0d3-44f5eb3df907"
      },
      "execution_count": 5,
      "outputs": [
        {
          "output_type": "stream",
          "name": "stdout",
          "text": [
            "(10000, 28, 28) (10000,)\n"
          ]
        }
      ]
    },
    {
      "cell_type": "code",
      "source": [
        "fig, axs = plt.subplots(1, 10, figsize=(10,10))\n",
        "for i in range(10):\n",
        "  axs[i].imshow(X_train[i], cmap='gray_r') # 60000개 중에 0번째 이미지부터 반환\n",
        "  axs[i].axis('off')\n",
        "plt.show()"
      ],
      "metadata": {
        "colab": {
          "base_uri": "https://localhost:8080/",
          "height": 78
        },
        "id": "JHwhVmPhVyfj",
        "outputId": "c31a82a0-bed1-4a18-a0fc-6d0faeacfeb2"
      },
      "execution_count": 6,
      "outputs": [
        {
          "output_type": "display_data",
          "data": {
            "text/plain": [
              "<Figure size 720x720 with 10 Axes>"
            ],
            "image/png": "[encoded data removed]"
          },
          "metadata": {
            "needs_background": "light"
          }
        }
      ]
    },
    {
      "cell_type": "code",
      "source": [
        "first_10 = [y_train[i] for i in range(10)]\n",
        "first_10"
      ],
      "metadata": {
        "colab": {
          "base_uri": "https://localhost:8080/"
        },
        "id": "sFRt6NAQVzbM",
        "outputId": "3311066b-da22-41cd-99b4-f86b5e443338"
      },
      "execution_count": 7,
      "outputs": [
        {
          "output_type": "execute_result",
          "data": {
            "text/plain": [
              "[9, 0, 0, 3, 0, 2, 7, 2, 5, 5]"
            ]
          },
          "metadata": {},
          "execution_count": 7
        }
      ]
    },
    {
      "cell_type": "code",
      "source": [
        "classes = ['T-shirt/top','Trouser','Pullover','Dress','Coat','Sandal','Shirt','Sneaker','Bag','Ankle boot']"
      ],
      "metadata": {
        "id": "Ay_8HB7qV1II"
      },
      "execution_count": 8,
      "outputs": []
    },
    {
      "cell_type": "code",
      "source": [
        "[classes[i] for i in first_10]"
      ],
      "metadata": {
        "colab": {
          "base_uri": "https://localhost:8080/"
        },
        "id": "qaDmSL24V2Wb",
        "outputId": "76d93ab4-ffda-49c0-d96e-95cc258b1c55"
      },
      "execution_count": 9,
      "outputs": [
        {
          "output_type": "execute_result",
          "data": {
            "text/plain": [
              "['Ankle boot',\n",
              " 'T-shirt/top',\n",
              " 'T-shirt/top',\n",
              " 'Dress',\n",
              " 'T-shirt/top',\n",
              " 'Pullover',\n",
              " 'Sneaker',\n",
              " 'Pullover',\n",
              " 'Sandal',\n",
              " 'Sandal']"
            ]
          },
          "metadata": {},
          "execution_count": 9
        }
      ]
    },
    {
      "cell_type": "code",
      "source": [
        "X_train_scaled = X_train/255.0\n",
        "X_train_scaled = X_train_scaled.reshape(-1, 28*28)\n",
        "\n",
        "print(X_train_scaled.shape)"
      ],
      "metadata": {
        "colab": {
          "base_uri": "https://localhost:8080/"
        },
        "id": "2R1R4AuOV3PE",
        "outputId": "4ba0ff9a-5423-4a24-ccf7-08623610c7b5"
      },
      "execution_count": 10,
      "outputs": [
        {
          "output_type": "stream",
          "name": "stdout",
          "text": [
            "(60000, 784)\n"
          ]
        }
      ]
    },
    {
      "cell_type": "code",
      "source": [
        "sc = SGDClassifier(loss='log', max_iter=5, random_state=42) \n",
        "scores = cross_validate(sc, X_train_scaled, y_train, n_jobs=-1)\n",
        "print(np.mean(scores['test_score'])) # validation score"
      ],
      "metadata": {
        "colab": {
          "base_uri": "https://localhost:8080/"
        },
        "id": "Cm9cx-5OV4Gy",
        "outputId": "135ff7df-589e-46d9-a633-019fadcb170b"
      },
      "execution_count": 11,
      "outputs": [
        {
          "output_type": "stream",
          "name": "stdout",
          "text": [
            "0.8195666666666668\n"
          ]
        }
      ]
    },
    {
      "cell_type": "code",
      "source": [
        "X_train_scaled, X_val_scaled, y_train, y_val = train_test_split(X_train_scaled, y_train, test_size=0.2, random_state=42) #test_size = validation data size\n",
        "print(X_train_scaled.shape, y_train.shape)"
      ],
      "metadata": {
        "colab": {
          "base_uri": "https://localhost:8080/"
        },
        "id": "R15npZVVV5uH",
        "outputId": "57087f7b-cba1-4631-c0b1-c200f2a22f6b"
      },
      "execution_count": 12,
      "outputs": [
        {
          "output_type": "stream",
          "name": "stdout",
          "text": [
            "(48000, 784) (48000,)\n"
          ]
        }
      ]
    },
    {
      "cell_type": "code",
      "source": [
        "print( X_val_scaled.shape, y_val.shape)"
      ],
      "metadata": {
        "colab": {
          "base_uri": "https://localhost:8080/"
        },
        "id": "E9m--sMTV6pS",
        "outputId": "1b2e094d-51a4-4dd0-e455-591ff2e62a24"
      },
      "execution_count": 13,
      "outputs": [
        {
          "output_type": "stream",
          "name": "stdout",
          "text": [
            "(12000, 784) (12000,)\n"
          ]
        }
      ]
    },
    {
      "cell_type": "markdown",
      "source": [
        "# 심층 신경망 만들기"
      ],
      "metadata": {
        "id": "aW7Y0W-6jULm"
      }
    },
    {
      "cell_type": "code",
      "source": [
        "dense1 = keras.layers.Dense(100, activation='sigmoid', input_shape=(784,), name='hidden') # 은닉층\n",
        "dense2 = keras.layers.Dense(10, activation='softmax', name='output') # 출력층\n",
        "\n",
        "model = keras.Sequential([dense1, dense2], name='fashion_mnist_model') # 레이어의 총 수 = 3개 (기본이 입력층, 출력층 2개)\n",
        "model.summary() \n",
        "# input(Dense)            (None, 784) - 뉴런의 개수 중요!    0 - 학습된 파라미터도 없음"
      ],
      "metadata": {
        "colab": {
          "base_uri": "https://localhost:8080/"
        },
        "id": "UklgqwNgjVgk",
        "outputId": "6bfb0f32-5762-471a-dbf8-d39576be3398"
      },
      "execution_count": 14,
      "outputs": [
        {
          "output_type": "stream",
          "name": "stdout",
          "text": [
            "Model: \"fashion_mnist_model\"\n",
            "_________________________________________________________________\n",
            " Layer (type)                Output Shape              Param #   \n",
            "=================================================================\n",
            " hidden (Dense)              (None, 100)               78500     \n",
            "                                                                 \n",
            " output (Dense)              (None, 10)                1010      \n",
            "                                                                 \n",
            "=================================================================\n",
            "Total params: 79,510\n",
            "Trainable params: 79,510\n",
            "Non-trainable params: 0\n",
            "_________________________________________________________________\n"
          ]
        }
      ]
    },
    {
      "cell_type": "code",
      "source": [
        "# 다른 방법 - 이 방법이 훨씬 잘 쓰인다.\n",
        "\n",
        "model2 = keras.Sequential([\n",
        "                           keras.layers.Dense(100, activation='sigmoid', input_shape=(784,), name='hidden'),\n",
        "                           keras.layers.Dense(10, activation='softmax', name='output')\n",
        "], name='패션MNIST모델') \n",
        "# name에 공백이 있으면 fit() 할 때 에러 주의!! \n",
        "# A root scope name has to match the following pattern: ^[A-Za-z0-9.][A-Za-z0-9_.\\\\/>-]*$  --> 스페이스 없음\n",
        "# ^ : 시작, $ : 끝\n",
        "# [a-zA-Z]* : 여러 개(zero or more)\n",
        "# [a-zA-Z]+ : 하나 이상(one or more)\n",
        "model2.summary()"
      ],
      "metadata": {
        "colab": {
          "base_uri": "https://localhost:8080/"
        },
        "id": "CB72uGCzxaYF",
        "outputId": "1b3914db-bac8-4e67-8c02-fae061e6e538"
      },
      "execution_count": 15,
      "outputs": [
        {
          "output_type": "stream",
          "name": "stdout",
          "text": [
            "Model: \"패션MNIST모델\"\n",
            "_________________________________________________________________\n",
            " Layer (type)                Output Shape              Param #   \n",
            "=================================================================\n",
            " hidden (Dense)              (None, 100)               78500     \n",
            "                                                                 \n",
            " output (Dense)              (None, 10)                1010      \n",
            "                                                                 \n",
            "=================================================================\n",
            "Total params: 79,510\n",
            "Trainable params: 79,510\n",
            "Non-trainable params: 0\n",
            "_________________________________________________________________\n"
          ]
        }
      ]
    },
    {
      "cell_type": "markdown",
      "source": [
        "정규표현식 예시  \n",
        "https://regexlib.com/Search.aspx?k=phone  \n",
        "^[2-9]\\d{2}-\\d{3}-\\d{4}$  \n",
        "[ ] 범위, digit, {빈도수} 등등의 조건으로 식을 만든다   \n",
        "-> 전처리 과정에서 정규표현식을 이해할 줄 알아야 함   "
      ],
      "metadata": {
        "id": "2x-vBn9i06BU"
      }
    },
    {
      "cell_type": "code",
      "source": [
        "# 다른 방법\n",
        "\n",
        "model3 = keras.Sequential()\n",
        "model3.add(keras.layers.Dense(100, activation='sigmoid', input_shape=(784,)))\n",
        "model3.add(keras.layers.Dense(10, activation='softmax'))\n",
        "model3.summary()"
      ],
      "metadata": {
        "colab": {
          "base_uri": "https://localhost:8080/"
        },
        "id": "DNfG7j6yxzLZ",
        "outputId": "cd4f6137-3ed2-4b12-e3a4-2c79edd4682f"
      },
      "execution_count": 16,
      "outputs": [
        {
          "output_type": "stream",
          "name": "stdout",
          "text": [
            "Model: \"sequential\"\n",
            "_________________________________________________________________\n",
            " Layer (type)                Output Shape              Param #   \n",
            "=================================================================\n",
            " dense (Dense)               (None, 100)               78500     \n",
            "                                                                 \n",
            " dense_1 (Dense)             (None, 10)                1010      \n",
            "                                                                 \n",
            "=================================================================\n",
            "Total params: 79,510\n",
            "Trainable params: 79,510\n",
            "Non-trainable params: 0\n",
            "_________________________________________________________________\n"
          ]
        }
      ]
    },
    {
      "cell_type": "code",
      "source": [
        "model.compile(loss='sparse_categorical_crossentropy', metrics='accuracy')\n",
        "model.fit(X_train_scaled, y_train, epochs=5)\n",
        "\n",
        "# 인공 신경망에 몇 개의 층이 추가되어도 compile(),fit() 방법은 동일"
      ],
      "metadata": {
        "colab": {
          "base_uri": "https://localhost:8080/"
        },
        "id": "SacXeL4pyLaE",
        "outputId": "c820cc9b-b4ae-4637-d8ee-d59601fd340d"
      },
      "execution_count": 17,
      "outputs": [
        {
          "output_type": "stream",
          "name": "stdout",
          "text": [
            "Epoch 1/5\n",
            "1500/1500 [==============================] - 7s 3ms/step - loss: 0.5610 - accuracy: 0.8089\n",
            "Epoch 2/5\n",
            "1500/1500 [==============================] - 4s 3ms/step - loss: 0.4099 - accuracy: 0.8516\n",
            "Epoch 3/5\n",
            "1500/1500 [==============================] - 4s 3ms/step - loss: 0.3755 - accuracy: 0.8653\n",
            "Epoch 4/5\n",
            "1500/1500 [==============================] - 4s 3ms/step - loss: 0.3526 - accuracy: 0.8723\n",
            "Epoch 5/5\n",
            "1500/1500 [==============================] - 4s 3ms/step - loss: 0.3360 - accuracy: 0.8783\n"
          ]
        },
        {
          "output_type": "execute_result",
          "data": {
            "text/plain": [
              "<keras.callbacks.History at 0x7efde3cc4cd0>"
            ]
          },
          "metadata": {},
          "execution_count": 17
        }
      ]
    },
    {
      "cell_type": "markdown",
      "source": [
        "# 렐루함수(ReLU)\n",
        "심층 신경망-이미지 처리가 뛰어남   \n",
        "\n",
        "![relu.PNG](data:image/png;base64,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)"
      ],
      "metadata": {
        "id": "AnXsUaLOzcpl"
      }
    },
    {
      "cell_type": "code",
      "source": [
        "model = keras.Sequential(name='fashion_mnist_model')\n",
        "input = keras.layers.Flatten(input_shape=(28,28), name='input')\n",
        "hidden = keras.layers.Dense(100, activation='relu', name='hidden')\n",
        "output = keras.layers.Dense(10, activation='softmax', name='output')\n",
        "\n",
        "model.add(input)\n",
        "model.add(hidden)\n",
        "model.add(output)\n",
        "model.summary() "
      ],
      "metadata": {
        "colab": {
          "base_uri": "https://localhost:8080/"
        },
        "id": "0J2PCGOnziTC",
        "outputId": "f1d6f7f0-5c87-43cf-afad-4b49debc8066"
      },
      "execution_count": 18,
      "outputs": [
        {
          "output_type": "stream",
          "name": "stdout",
          "text": [
            "Model: \"fashion_mnist_model\"\n",
            "_________________________________________________________________\n",
            " Layer (type)                Output Shape              Param #   \n",
            "=================================================================\n",
            " input (Flatten)             (None, 784)               0         \n",
            "                                                                 \n",
            " hidden (Dense)              (None, 100)               78500     \n",
            "                                                                 \n",
            " output (Dense)              (None, 10)                1010      \n",
            "                                                                 \n",
            "=================================================================\n",
            "Total params: 79,510\n",
            "Trainable params: 79,510\n",
            "Non-trainable params: 0\n",
            "_________________________________________________________________\n"
          ]
        }
      ]
    },
    {
      "cell_type": "code",
      "source": [
        "#?keras.layers.InputLayer\n",
        "#Flatten 편법으로 보이게 한 것\n",
        "#   장점 : 원래 코드를 그대로 유지하면서 (reshape하지 않고) 바로 가져다가 쓸 수 있었음\n",
        "#          model summary하면 layer가 그대로 보임\n",
        "\n",
        "# input-layer(28*28, 2차원) -> Flatten((784,) 1차원) -> Dense -> output-layer(Dense)\n",
        "# reshape할 필요 없음"
      ],
      "metadata": {
        "id": "y8-kor9B7K3a"
      },
      "execution_count": 19,
      "outputs": []
    },
    {
      "cell_type": "code",
      "source": [
        "# 다시 샘플의 크기 셋팅해서 학습시켜보기\n",
        "\n",
        "(X_train, y_train), (X_test, y_test) = keras.datasets.fashion_mnist.load_data()\n",
        "X_train_scaled = X_train/255.0\n",
        "X_train_scaled.shape"
      ],
      "metadata": {
        "colab": {
          "base_uri": "https://localhost:8080/"
        },
        "id": "6iYwj3SC9ZNe",
        "outputId": "db1a3bef-9837-4ebd-fae1-7df53d8cf1f3"
      },
      "execution_count": 20,
      "outputs": [
        {
          "output_type": "execute_result",
          "data": {
            "text/plain": [
              "(60000, 28, 28)"
            ]
          },
          "metadata": {},
          "execution_count": 20
        }
      ]
    },
    {
      "cell_type": "code",
      "source": [
        "X_train_scaled, X_val_scaled, y_train, y_val = train_test_split(X_train_scaled, y_train, test_size=0.2, random_state=42)\n",
        "print(X_train_scaled.shape, y_train.shape)"
      ],
      "metadata": {
        "colab": {
          "base_uri": "https://localhost:8080/"
        },
        "id": "IjgastG497rk",
        "outputId": "27660907-821e-4084-b60e-9051105522a2"
      },
      "execution_count": 21,
      "outputs": [
        {
          "output_type": "stream",
          "name": "stdout",
          "text": [
            "(48000, 28, 28) (48000,)\n"
          ]
        }
      ]
    },
    {
      "cell_type": "code",
      "source": [
        "#?model.compile"
      ],
      "metadata": {
        "id": "E4MWLBwDYgw0"
      },
      "execution_count": 27,
      "outputs": []
    },
    {
      "cell_type": "code",
      "source": [
        "model.compile(loss='sparse_categorical_crossentropy', metrics='accuracy')\n",
        "model.fit(X_train_scaled, y_train, epochs=5)\n",
        "\n",
        "# Input 0 of layer \"fashion_mnist_model\" is incompatible with the layer: expected shape=(None, 28, 28), found shape=(32, 784)\n",
        "# 1차원으로 합쳤던 reshape 과정을 생략해야 함"
      ],
      "metadata": {
        "colab": {
          "base_uri": "https://localhost:8080/"
        },
        "id": "8iOJyf701eEz",
        "outputId": "dfa69a91-a0ca-448f-c74c-aaa577c26faa"
      },
      "execution_count": 22,
      "outputs": [
        {
          "output_type": "stream",
          "name": "stdout",
          "text": [
            "Epoch 1/5\n",
            "1500/1500 [==============================] - 5s 3ms/step - loss: 0.5273 - accuracy: 0.8151\n",
            "Epoch 2/5\n",
            "1500/1500 [==============================] - 4s 3ms/step - loss: 0.3896 - accuracy: 0.8604\n",
            "Epoch 3/5\n",
            "1500/1500 [==============================] - 4s 3ms/step - loss: 0.3535 - accuracy: 0.8735\n",
            "Epoch 4/5\n",
            "1500/1500 [==============================] - 4s 3ms/step - loss: 0.3320 - accuracy: 0.8812\n",
            "Epoch 5/5\n",
            "1500/1500 [==============================] - 4s 3ms/step - loss: 0.3186 - accuracy: 0.8863\n"
          ]
        },
        {
          "output_type": "execute_result",
          "data": {
            "text/plain": [
              "<keras.callbacks.History at 0x7efd69461410>"
            ]
          },
          "metadata": {},
          "execution_count": 22
        }
      ]
    },
    {
      "cell_type": "code",
      "source": [
        "model.evaluate(X_val_scaled, y_val)"
      ],
      "metadata": {
        "colab": {
          "base_uri": "https://localhost:8080/"
        },
        "id": "HzaMZylK_Lqj",
        "outputId": "2868611a-89da-4568-da35-2248b1a1c285"
      },
      "execution_count": 23,
      "outputs": [
        {
          "output_type": "stream",
          "name": "stdout",
          "text": [
            "375/375 [==============================] - 1s 2ms/step - loss: 0.3510 - accuracy: 0.8815\n"
          ]
        },
        {
          "output_type": "execute_result",
          "data": {
            "text/plain": [
              "[0.35100674629211426, 0.8815000057220459]"
            ]
          },
          "metadata": {},
          "execution_count": 23
        }
      ]
    },
    {
      "cell_type": "markdown",
      "source": [
        "375/375 [==============================] - 1s 2ms/step - loss: 0.4460 - accuracy: 0.8526  \n",
        "심층이 없었을 때와 비교하면 성능이 올라갔음!"
      ],
      "metadata": {
        "id": "nNl48B2Z_b9W"
      }
    },
    {
      "cell_type": "markdown",
      "source": [
        "# 참고(categorical_crossentropy 사용)\n",
        "만약 타겟층이 정수가 아니라면?! -> sparse_categorical_crossentropy 사용불가  "
      ],
      "metadata": {
        "id": "5YPM8d-s_ndY"
      }
    },
    {
      "cell_type": "code",
      "source": [
        "y_train[0]"
      ],
      "metadata": {
        "colab": {
          "base_uri": "https://localhost:8080/"
        },
        "id": "dcHNEi69_2NY",
        "outputId": "78242a6c-7a8e-489a-d523-9be271a0df4d"
      },
      "execution_count": 24,
      "outputs": [
        {
          "output_type": "execute_result",
          "data": {
            "text/plain": [
              "7"
            ]
          },
          "metadata": {},
          "execution_count": 24
        }
      ]
    },
    {
      "cell_type": "code",
      "source": [
        "keras.utils.to_categorical(y_train)[0]\n",
        "# y_train의 모든 데이터를 one-hot encoding 형태로 만들어줌 ->  그 중에 하나 출력해보기\n",
        "# 그냥 값만 하나 넣으면 순서로 인식함\n",
        "# keras.utils.to_categorical(y_train[0]) - 이건 안된다는 의미"
      ],
      "metadata": {
        "colab": {
          "base_uri": "https://localhost:8080/"
        },
        "id": "u2Zgxzeo_o0A",
        "outputId": "bf0c6a20-6d7a-48d2-f75c-336431fc301b"
      },
      "execution_count": 25,
      "outputs": [
        {
          "output_type": "execute_result",
          "data": {
            "text/plain": [
              "array([0., 0., 0., 0., 0., 0., 0., 1., 0., 0.], dtype=float32)"
            ]
          },
          "metadata": {},
          "execution_count": 25
        }
      ]
    },
    {
      "cell_type": "code",
      "source": [
        "model.compile(loss='categorical_crossentropy', metrics='accuracy')\n",
        "model.fit(X_train_scaled, keras.utils.to_categorical(y_train), epochs=5)\n",
        "\n",
        "# 정확도가 더 높은것 같은??\n",
        "# 잘 기억해두기! 유용하게 쓸 수 있다"
      ],
      "metadata": {
        "colab": {
          "base_uri": "https://localhost:8080/"
        },
        "id": "Gvv4C1J1_7Re",
        "outputId": "e0e0b207-7cea-4194-9d36-0c5efbf706cf"
      },
      "execution_count": 26,
      "outputs": [
        {
          "output_type": "stream",
          "name": "stdout",
          "text": [
            "Epoch 1/5\n",
            "1500/1500 [==============================] - 5s 3ms/step - loss: 0.3086 - accuracy: 0.8921\n",
            "Epoch 2/5\n",
            "1500/1500 [==============================] - 5s 3ms/step - loss: 0.2984 - accuracy: 0.8948\n",
            "Epoch 3/5\n",
            "1500/1500 [==============================] - 5s 3ms/step - loss: 0.2899 - accuracy: 0.8967\n",
            "Epoch 4/5\n",
            "1500/1500 [==============================] - 5s 3ms/step - loss: 0.2856 - accuracy: 0.8999\n",
            "Epoch 5/5\n",
            "1500/1500 [==============================] - 5s 3ms/step - loss: 0.2763 - accuracy: 0.9051\n"
          ]
        },
        {
          "output_type": "execute_result",
          "data": {
            "text/plain": [
              "<keras.callbacks.History at 0x7efd69339310>"
            ]
          },
          "metadata": {},
          "execution_count": 26
        }
      ]
    },
    {
      "cell_type": "markdown",
      "source": [
        "#옵티마이저(optimizer)\n",
        "=최적화기  \n",
        "손실 함수의 최저 지점을 구하기 위해 미분  "
      ],
      "metadata": {
        "id": "k9IqI5lgYpM_"
      }
    },
    {
      "cell_type": "code",
      "source": [
        "#SGD 사용\n",
        "\n",
        "model.compile(optimizer='sgd', loss='sparse_categorical_crossentropy', metrics='accuracy')\n",
        "model.fit(X_train_scaled, y_train, epochs=5)"
      ],
      "metadata": {
        "colab": {
          "base_uri": "https://localhost:8080/"
        },
        "id": "r1zGe8s4Yt3H",
        "outputId": "041abf41-56e9-44a0-eead-1aceccab8378"
      },
      "execution_count": 28,
      "outputs": [
        {
          "output_type": "stream",
          "name": "stdout",
          "text": [
            "Epoch 1/5\n",
            "1500/1500 [==============================] - 4s 2ms/step - loss: 0.2195 - accuracy: 0.9216\n",
            "Epoch 2/5\n",
            "1500/1500 [==============================] - 4s 2ms/step - loss: 0.2114 - accuracy: 0.9245\n",
            "Epoch 3/5\n",
            "1500/1500 [==============================] - 4s 3ms/step - loss: 0.2078 - accuracy: 0.9255\n",
            "Epoch 4/5\n",
            "1500/1500 [==============================] - 4s 3ms/step - loss: 0.2059 - accuracy: 0.9257\n",
            "Epoch 5/5\n",
            "1500/1500 [==============================] - 4s 3ms/step - loss: 0.2038 - accuracy: 0.9261\n"
          ]
        },
        {
          "output_type": "execute_result",
          "data": {
            "text/plain": [
              "<keras.callbacks.History at 0x7efd692acf50>"
            ]
          },
          "metadata": {},
          "execution_count": 28
        }
      ]
    },
    {
      "cell_type": "code",
      "source": [
        "model.evaluate(X_val_scaled, y_val)"
      ],
      "metadata": {
        "colab": {
          "base_uri": "https://localhost:8080/"
        },
        "id": "PQfETmH0fLla",
        "outputId": "6580e2ec-48cb-4ea7-b752-b58f95afeb71"
      },
      "execution_count": 29,
      "outputs": [
        {
          "output_type": "stream",
          "name": "stdout",
          "text": [
            "375/375 [==============================] - 1s 2ms/step - loss: 0.3307 - accuracy: 0.8929\n"
          ]
        },
        {
          "output_type": "execute_result",
          "data": {
            "text/plain": [
              "[0.3306562006473541, 0.8929166793823242]"
            ]
          },
          "metadata": {},
          "execution_count": 29
        }
      ]
    },
    {
      "cell_type": "code",
      "source": [
        "# 모멘텀 생성\n",
        "\n",
        "momentum = keras.optimizers.SGD(momentum=0.9)\n",
        "model.compile(optimizer=momentum, loss='sparse_categorical_crossentropy', metrics='accuracy')\n",
        "model.fit(X_train_scaled, y_train, epochs=5)"
      ],
      "metadata": {
        "colab": {
          "base_uri": "https://localhost:8080/"
        },
        "id": "ioPONRVzfe53",
        "outputId": "234c1479-16fc-4f5a-b983-4c897bb5fd74"
      },
      "execution_count": 30,
      "outputs": [
        {
          "output_type": "stream",
          "name": "stdout",
          "text": [
            "Epoch 1/5\n",
            "1500/1500 [==============================] - 4s 2ms/step - loss: 0.2438 - accuracy: 0.9117\n",
            "Epoch 2/5\n",
            "1500/1500 [==============================] - 4s 3ms/step - loss: 0.2316 - accuracy: 0.9148\n",
            "Epoch 3/5\n",
            "1500/1500 [==============================] - 4s 3ms/step - loss: 0.2249 - accuracy: 0.9164\n",
            "Epoch 4/5\n",
            "1500/1500 [==============================] - 4s 3ms/step - loss: 0.2194 - accuracy: 0.9192\n",
            "Epoch 5/5\n",
            "1500/1500 [==============================] - 4s 3ms/step - loss: 0.2133 - accuracy: 0.9218\n"
          ]
        },
        {
          "output_type": "execute_result",
          "data": {
            "text/plain": [
              "<keras.callbacks.History at 0x7efd68f75ad0>"
            ]
          },
          "metadata": {},
          "execution_count": 30
        }
      ]
    },
    {
      "cell_type": "code",
      "source": [
        "model.evaluate(X_val_scaled, y_val)"
      ],
      "metadata": {
        "colab": {
          "base_uri": "https://localhost:8080/"
        },
        "id": "SKpdO2rUfvpQ",
        "outputId": "35680b74-0441-425e-cfe5-6d08545f7c17"
      },
      "execution_count": 31,
      "outputs": [
        {
          "output_type": "stream",
          "name": "stdout",
          "text": [
            "375/375 [==============================] - 1s 2ms/step - loss: 0.3505 - accuracy: 0.8867\n"
          ]
        },
        {
          "output_type": "execute_result",
          "data": {
            "text/plain": [
              "[0.35048699378967285, 0.8866666555404663]"
            ]
          },
          "metadata": {},
          "execution_count": 31
        }
      ]
    },
    {
      "cell_type": "code",
      "source": [
        "model.compile(optimizer='adam', loss='sparse_categorical_crossentropy', metrics='accuracy')\n",
        "model.fit(X_train_scaled, y_train, epochs=5)"
      ],
      "metadata": {
        "colab": {
          "base_uri": "https://localhost:8080/"
        },
        "id": "bGQCLT_4gRb4",
        "outputId": "30be814f-95ff-4fb8-8b50-d4f0c97de20a"
      },
      "execution_count": 32,
      "outputs": [
        {
          "output_type": "stream",
          "name": "stdout",
          "text": [
            "Epoch 1/5\n",
            "1500/1500 [==============================] - 4s 3ms/step - loss: 0.2362 - accuracy: 0.9131\n",
            "Epoch 2/5\n",
            "1500/1500 [==============================] - 4s 3ms/step - loss: 0.2278 - accuracy: 0.9139\n",
            "Epoch 3/5\n",
            "1500/1500 [==============================] - 4s 3ms/step - loss: 0.2189 - accuracy: 0.9185\n",
            "Epoch 4/5\n",
            "1500/1500 [==============================] - 4s 3ms/step - loss: 0.2104 - accuracy: 0.9216\n",
            "Epoch 5/5\n",
            "1500/1500 [==============================] - 4s 3ms/step - loss: 0.2057 - accuracy: 0.9237\n"
          ]
        },
        {
          "output_type": "execute_result",
          "data": {
            "text/plain": [
              "<keras.callbacks.History at 0x7efd68df94d0>"
            ]
          },
          "metadata": {},
          "execution_count": 32
        }
      ]
    },
    {
      "cell_type": "code",
      "source": [
        "model.evaluate(X_val_scaled, y_val)"
      ],
      "metadata": {
        "id": "etJecKz6gU5V"
      },
      "execution_count": null,
      "outputs": []
    },
    {
      "cell_type": "code",
      "source": [
        "# 아담의 초기학습률 디폴트 = 0.001 --> 0.005로 변경하여 훈련해보기\n",
        "\n",
        "adam = keras.optimizers.Adam(learning_rate=0.005)\n",
        "model.compile(optimizer=adam, loss='sparse_categorical_crossentropy', metrics='accuracy')\n",
        "model.fit(X_train_scaled, y_train, epochs=5)\n",
        "\n",
        "# 꽤나 안좋은 성과...\n",
        "# 학습률이 커지니까 성과가 안좋음"
      ],
      "metadata": {
        "colab": {
          "base_uri": "https://localhost:8080/"
        },
        "id": "8CCRH9t7hLEX",
        "outputId": "059d1a8b-ac14-4045-ec68-58bb69040e20"
      },
      "execution_count": 33,
      "outputs": [
        {
          "output_type": "stream",
          "name": "stdout",
          "text": [
            "Epoch 1/5\n",
            "1500/1500 [==============================] - 4s 3ms/step - loss: 0.4114 - accuracy: 0.8586\n",
            "Epoch 2/5\n",
            "1500/1500 [==============================] - 4s 3ms/step - loss: 0.3638 - accuracy: 0.8659\n",
            "Epoch 3/5\n",
            "1500/1500 [==============================] - 4s 3ms/step - loss: 0.3400 - accuracy: 0.8766\n",
            "Epoch 4/5\n",
            "1500/1500 [==============================] - 4s 3ms/step - loss: 0.3273 - accuracy: 0.8787\n",
            "Epoch 5/5\n",
            "1500/1500 [==============================] - 4s 3ms/step - loss: 0.3194 - accuracy: 0.8823\n"
          ]
        },
        {
          "output_type": "execute_result",
          "data": {
            "text/plain": [
              "<keras.callbacks.History at 0x7efd68dd6c50>"
            ]
          },
          "metadata": {},
          "execution_count": 33
        }
      ]
    },
    {
      "cell_type": "code",
      "source": [
        "# 학습률 0.0005로 낮춰보자 - 기본값이랑 비슷\n",
        "\n",
        "adam = keras.optimizers.Adam(learning_rate=0.0005)\n",
        "model.compile(optimizer=adam, loss='sparse_categorical_crossentropy', metrics='accuracy')\n",
        "model.fit(X_train_scaled, y_train, epochs=5)"
      ],
      "metadata": {
        "colab": {
          "base_uri": "https://localhost:8080/"
        },
        "id": "npXBwJWjiXgE",
        "outputId": "6a740f1a-999d-413c-ed8b-3512add9b112"
      },
      "execution_count": 34,
      "outputs": [
        {
          "output_type": "stream",
          "name": "stdout",
          "text": [
            "Epoch 1/5\n",
            "1500/1500 [==============================] - 4s 3ms/step - loss: 0.2434 - accuracy: 0.9085\n",
            "Epoch 2/5\n",
            "1500/1500 [==============================] - 5s 3ms/step - loss: 0.2279 - accuracy: 0.9142\n",
            "Epoch 3/5\n",
            "1500/1500 [==============================] - 4s 3ms/step - loss: 0.2197 - accuracy: 0.9185\n",
            "Epoch 4/5\n",
            "1500/1500 [==============================] - 4s 3ms/step - loss: 0.2147 - accuracy: 0.9189\n",
            "Epoch 5/5\n",
            "1500/1500 [==============================] - 4s 3ms/step - loss: 0.2095 - accuracy: 0.9219\n"
          ]
        },
        {
          "output_type": "execute_result",
          "data": {
            "text/plain": [
              "<keras.callbacks.History at 0x7efd622ae150>"
            ]
          },
          "metadata": {},
          "execution_count": 34
        }
      ]
    }
  ]
}