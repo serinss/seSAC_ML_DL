{
  "nbformat": 4,
  "nbformat_minor": 0,
  "metadata": {
    "colab": {
      "name": "02-1.훈련 세트와 테스트 세트.ipynb",
      "provenance": [],
      "collapsed_sections": [],
      "authorship_tag": "ABX9TyNFBgLKLmNmbpWB1NwUdKNg",
      "include_colab_link": true
    },
    "kernelspec": {
      "name": "python3",
      "display_name": "Python 3"
    },
    "language_info": {
      "name": "python"
    }
  },
  "cells": [
    {
      "cell_type": "markdown",
      "metadata": {
        "id": "view-in-github",
        "colab_type": "text"
      },
      "source": [
        "<a href=\"https://colab.research.google.com/github/serinss/seSAC_ML_DL_Class/blob/main/02_1_%ED%9B%88%EB%A0%A8_%EC%84%B8%ED%8A%B8%EC%99%80_%ED%85%8C%EC%8A%A4%ED%8A%B8_%EC%84%B8%ED%8A%B8.ipynb\" target=\"_parent\"><img src=\"https://colab.research.google.com/assets/colab-badge.svg\" alt=\"Open In Colab\"/></a>"
      ]
    },
    {
      "cell_type": "code",
      "execution_count": 2,
      "metadata": {
        "colab": {
          "base_uri": "https://localhost:8080/"
        },
        "id": "v0qJPpYJXko0",
        "outputId": "561c9df8-43e5-4d2b-a170-38d504656042"
      },
      "outputs": [
        {
          "output_type": "stream",
          "name": "stdout",
          "text": [
            "Mounted at /content/drive\n"
          ]
        }
      ],
      "source": [
        "%run my_init.py"
      ]
    },
    {
      "cell_type": "code",
      "source": [
        "%matplotlib inline"
      ],
      "metadata": {
        "id": "m1QR4Z2ueu06"
      },
      "execution_count": 3,
      "outputs": []
    },
    {
      "cell_type": "markdown",
      "source": [
        "#데이터 준비하기"
      ],
      "metadata": {
        "id": "rUvikndze3O3"
      }
    },
    {
      "cell_type": "code",
      "source": [
        "bream_length = [25.4, 26.3, 26.5, 29.0, 29.0, 29.7, 29.7, 30.0, 30.0, 30.7, 31.0, 31.0, \n",
        "                31.5, 32.0, 32.0, 32.0, 33.0, 33.0, 33.5, 33.5, 34.0, 34.0, 34.5, 35.0, \n",
        "                35.0, 35.0, 35.0, 36.0, 36.0, 37.0, 38.5, 38.5, 39.5, 41.0, 41.0]\n",
        "bream_weight = [242.0, 290.0, 340.0, 363.0, 430.0, 450.0, 500.0, 390.0, 450.0, 500.0, 475.0, 500.0, \n",
        "                500.0, 340.0, 600.0, 600.0, 700.0, 700.0, 610.0, 650.0, 575.0, 685.0, 620.0, 680.0, \n",
        "                700.0, 725.0, 720.0, 714.0, 850.0, 1000.0, 920.0, 955.0, 925.0, 975.0, 950.0]\n",
        "\n",
        "smelt_length = [9.8, 10.5, 10.6, 11.0, 11.2, 11.3, 11.8, 11.8, 12.0, 12.2, 12.4, 13.0, 14.3, 15.0]\n",
        "smelt_weight = [6.7, 7.5, 7.0, 9.7, 9.8, 8.7, 10.0, 9.9, 9.8, 12.2, 13.4, 12.2, 19.7, 19.9]\n",
        "\n",
        "length = bream_length + smelt_length\n",
        "weight = bream_weight + smelt_weight\n",
        "\n",
        "fish_data = [[l,w] for l,w in zip(length, weight)]\n",
        "\n",
        "fish_target = [1]*35 + [0]*14"
      ],
      "metadata": {
        "id": "b6qAzLgHe4hi"
      },
      "execution_count": 4,
      "outputs": []
    },
    {
      "cell_type": "code",
      "source": [
        "train_input = fish_data[:35]\n",
        "train_target = fish_target[:35]\n",
        "\n",
        "test_input = fish_data[35:]\n",
        "test_target = fish_target[35:]"
      ],
      "metadata": {
        "id": "QD2548ERfOvW"
      },
      "execution_count": 11,
      "outputs": []
    },
    {
      "cell_type": "markdown",
      "source": [
        "#훈련하기"
      ],
      "metadata": {
        "id": "66Rl3WAcfQVt"
      }
    },
    {
      "cell_type": "code",
      "source": [
        "from sklearn.neighbors import KNeighborsClassifier\n",
        "from sklearn.metrics import accuracy_score\n",
        "\n",
        "kn = KNeighborsClassifier()\n",
        "kn.fit(train_input, train_target)"
      ],
      "metadata": {
        "colab": {
          "base_uri": "https://localhost:8080/"
        },
        "id": "m9fF-23kf-OU",
        "outputId": "01008449-4ce6-4620-cb62-76e56e12eb10"
      },
      "execution_count": 16,
      "outputs": [
        {
          "output_type": "execute_result",
          "data": {
            "text/plain": [
              "KNeighborsClassifier()"
            ]
          },
          "metadata": {},
          "execution_count": 16
        }
      ]
    },
    {
      "cell_type": "markdown",
      "source": [
        "#평가하기"
      ],
      "metadata": {
        "id": "wi3uhsiRi1wR"
      }
    },
    {
      "cell_type": "code",
      "source": [
        "#kn.score(test_input, test_target) #0.0\n",
        "accuracy_score(test_target, kn.predict(test_input)) #0.0\n",
        "\n",
        "# 정확도가 0.0인 이유? -> sampling bias\n",
        "# [0~34 : all 도미][35~48 : all 빙어] --> 도미로만 훈련하고 빙어로만 테스트하니 0%\n",
        "# 적절하게 데이터들을 섞어서 테스트해야 함\n",
        "\n",
        "# ==> numpy 로 섞어보자"
      ],
      "metadata": {
        "colab": {
          "base_uri": "https://localhost:8080/"
        },
        "id": "rsoFBPW_i3F_",
        "outputId": "f73bc00d-1e89-4e7f-e340-25fafa683054"
      },
      "execution_count": 17,
      "outputs": [
        {
          "output_type": "execute_result",
          "data": {
            "text/plain": [
              "0.0"
            ]
          },
          "metadata": {},
          "execution_count": 17
        }
      ]
    },
    {
      "cell_type": "markdown",
      "source": [
        "#numpy 연습"
      ],
      "metadata": {
        "id": "giz1drhVi6S3"
      }
    },
    {
      "cell_type": "code",
      "source": [
        "np.random.seed(42) #난수(random number) 생성기 초기화, 난수 생성기는 난수 생성하도록 (시드 값)으로 시작할 숫자가 필요. -> 없으면 현재시각\n",
        "X = np.random.randint(1, 100, 15).reshape(3, -1) # reshape - 3행, 열은 알아서 맞게 생성\n",
        "X"
      ],
      "metadata": {
        "colab": {
          "base_uri": "https://localhost:8080/"
        },
        "id": "15jcY4l6i8NK",
        "outputId": "6bdaea21-59c7-453c-c6e7-0e9ae785d21f"
      },
      "execution_count": 24,
      "outputs": [
        {
          "output_type": "execute_result",
          "data": {
            "text/plain": [
              "array([[52, 93, 15, 72, 61],\n",
              "       [21, 83, 87, 75, 75],\n",
              "       [88, 24,  3, 22, 53]])"
            ]
          },
          "metadata": {},
          "execution_count": 24
        }
      ]
    },
    {
      "cell_type": "code",
      "source": [
        "X.shape"
      ],
      "metadata": {
        "colab": {
          "base_uri": "https://localhost:8080/"
        },
        "id": "N1b6A1Qdji6L",
        "outputId": "03f9088c-63db-42c8-ad79-33e624edde6a"
      },
      "execution_count": 23,
      "outputs": [
        {
          "output_type": "execute_result",
          "data": {
            "text/plain": [
              "(3, 5)"
            ]
          },
          "metadata": {},
          "execution_count": 23
        }
      ]
    },
    {
      "cell_type": "markdown",
      "source": [
        "#sum"
      ],
      "metadata": {
        "id": "EeqkPSm4lwf5"
      }
    },
    {
      "cell_type": "code",
      "source": [
        "X.sum() #전체 합"
      ],
      "metadata": {
        "colab": {
          "base_uri": "https://localhost:8080/"
        },
        "id": "dpny9v4Nj49_",
        "outputId": "5c36d4ba-8aba-4d5d-9f9b-632aa5912226"
      },
      "execution_count": 25,
      "outputs": [
        {
          "output_type": "execute_result",
          "data": {
            "text/plain": [
              "824"
            ]
          },
          "metadata": {},
          "execution_count": 25
        }
      ]
    },
    {
      "cell_type": "markdown",
      "source": [
        "axis=0 , x축  \n",
        "axis=1 , y축  \n",
        "axis=2 , z축  \n",
        "-> axis를 가지고 합을 구하는 방식을 잘 알고 있어야 함"
      ],
      "metadata": {
        "id": "79wtI7t7k7st"
      }
    },
    {
      "cell_type": "markdown",
      "source": [
        "axis=None은 기본값으로 모든 요소의 값을 합산하여 1개의 스칼라값을 반환합니다.  \n",
        "axis=0은 x축을 기준으로 여러 row를 한 개로 합치는 과정입니다.  \n",
        "axis=1은 y축을 기준으로 row 별로 존재하는 column들의 값을 합쳐 1개로 축소하는 과정입니다.  \n",
        "axis=2는 z축을 기준으로 column의 depth가 가진 값을 축소하는 과정입니다.  \n",
        "\n",
        "\n",
        "3차원 배열로 만들어진 Tensor의 경우 axis=2를 계산할 때 column은 스칼라값(Depth가 스칼라로 계산됨)이 됩니다. 4차원 이상의 배열로 확장될 경우 이와 같은 방식으로 개념을 적용하고 확장할 수 있습니다."
      ],
      "metadata": {
        "id": "V2B7iZdQljgQ"
      }
    },
    {
      "cell_type": "code",
      "source": [
        "X.sum(axis=0) #모든 열들의 합, 샘플들의 특성의 합(세로합, 특성(컬럼별)의 합)"
      ],
      "metadata": {
        "colab": {
          "base_uri": "https://localhost:8080/"
        },
        "id": "ndeOAejTkCnl",
        "outputId": "e3213a99-72b4-4a42-a360-cc9e504cd832"
      },
      "execution_count": 26,
      "outputs": [
        {
          "output_type": "execute_result",
          "data": {
            "text/plain": [
              "array([161, 200, 105, 169, 189])"
            ]
          },
          "metadata": {},
          "execution_count": 26
        }
      ]
    },
    {
      "cell_type": "code",
      "source": [
        "X.sum(axis=1) #모든 행들의 합, 샘플의 합(가로합)"
      ],
      "metadata": {
        "colab": {
          "base_uri": "https://localhost:8080/"
        },
        "id": "hBEHLVtFkX4Q",
        "outputId": "2e33a9a0-9c94-440c-b393-04e5b585b44f"
      },
      "execution_count": 27,
      "outputs": [
        {
          "output_type": "execute_result",
          "data": {
            "text/plain": [
              "array([293, 341, 190])"
            ]
          },
          "metadata": {},
          "execution_count": 27
        }
      ]
    },
    {
      "cell_type": "markdown",
      "source": [
        "#shuffle(샘플링 편향 해결하기)\n",
        "하기전에  \n",
        "- range(49) -> generator  \n",
        "- np.arange(49( -> ndarray(n차원 배열 객체)"
      ],
      "metadata": {
        "id": "wfRa3-lTlybN"
      }
    },
    {
      "cell_type": "code",
      "source": [
        "np.random.seed(49)\n",
        "index = np.arange(49)\n",
        "np.random.shuffle(index) #index를 섞어서 해당하는 데이터 값도 섞을 수 있을 것\n",
        "print(index)"
      ],
      "metadata": {
        "colab": {
          "base_uri": "https://localhost:8080/"
        },
        "id": "tljTzM-_lzpF",
        "outputId": "a6ad6731-78ed-45b6-d6de-b6c0a43afe39"
      },
      "execution_count": 32,
      "outputs": [
        {
          "output_type": "stream",
          "name": "stdout",
          "text": [
            "[14 27 24 16 17 41  0 19 31  2 21 10 30 22 38 23 11 34 20  1 13  7 43 25\n",
            " 46  4  9 29  3  8 39 28 15 37 33  6 26 35 48 32 47 36 18 44  5 12 40 45\n",
            " 42]\n"
          ]
        }
      ]
    },
    {
      "cell_type": "code",
      "source": [
        "input_arr = np.array(fish_data)\n",
        "target_arr = np.array(fish_target)\n",
        "\n",
        "train_input = input_arr[index[:35]]\n",
        "train_target = target_arr[index[:35]]\n",
        "test_input = input_arr[index[35:]]\n",
        "test_target = target_arr[index[35:]]\n",
        "\n",
        "print(input_arr[14], train_input[0]) #섞인대로 나오는지 확인"
      ],
      "metadata": {
        "colab": {
          "base_uri": "https://localhost:8080/"
        },
        "id": "1c6XhN4cmShg",
        "outputId": "3783ee99-7c02-4332-a9f4-7cd76e36fabb"
      },
      "execution_count": 36,
      "outputs": [
        {
          "output_type": "stream",
          "name": "stdout",
          "text": [
            "[ 32. 600.] [ 32. 600.]\n"
          ]
        }
      ]
    },
    {
      "cell_type": "code",
      "source": [
        "%matplotlib inline #show 명령 없이도 바로 그래프 표현 (정적)\n",
        "#%matplotlib notebook #show 명령 없이도 바로 그래프 표현 (동적)\n",
        "\n",
        "plt.scatter(train_input[:,0], train_input[:,1]) # 0: length, 1: weight\n",
        "plt.scatter(test_input[:,0], test_input[:,1]) # 0: length, 1: weight\n",
        "plt.xlabel('length')\n",
        "plt.ylabel('weight')\n",
        "plt.legend(['train_data', 'test_data'])\n",
        "plt.show()\n",
        "#섞여 있는 모습 확인 가능!"
      ],
      "metadata": {
        "colab": {
          "base_uri": "https://localhost:8080/",
          "height": 279
        },
        "id": "DLckQpQ9m_SG",
        "outputId": "7c35f65e-9504-4b02-c7d3-d6478519d0bd"
      },
      "execution_count": 44,
      "outputs": [
        {
          "output_type": "display_data",
          "data": {
            "text/plain": [
              "<Figure size 432x288 with 1 Axes>"
            ],
            "image/png": "[encoded data removed]"
          },
          "metadata": {
            "needs_background": "light"
          }
        }
      ]
    },
    {
      "cell_type": "code",
      "source": [
        "#섞인 데이터로 머신 러닝 테스트\n",
        "\n",
        "kn = kn.fit(train_input, train_target)\n",
        "accuracy_score(test_target, kn.predict(test_input))"
      ],
      "metadata": {
        "colab": {
          "base_uri": "https://localhost:8080/"
        },
        "id": "6bwgFsHonQzE",
        "outputId": "38ddb303-d9aa-4aea-9f16-9b4f50481f5f"
      },
      "execution_count": 38,
      "outputs": [
        {
          "output_type": "execute_result",
          "data": {
            "text/plain": [
              "1.0"
            ]
          },
          "metadata": {},
          "execution_count": 38
        }
      ]
    }
  ]
}