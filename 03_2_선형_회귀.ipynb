{
  "nbformat": 4,
  "nbformat_minor": 0,
  "metadata": {
    "colab": {
      "name": "03-2. 선형 회귀.ipynb",
      "provenance": [],
      "collapsed_sections": [],
      "authorship_tag": "ABX9TyNVr/w7+vuqyRkDM5NnU13G",
      "include_colab_link": true
    },
    "kernelspec": {
      "name": "python3",
      "display_name": "Python 3"
    },
    "language_info": {
      "name": "python"
    }
  },
  "cells": [
    {
      "cell_type": "markdown",
      "metadata": {
        "id": "view-in-github",
        "colab_type": "text"
      },
      "source": [
        "<a href=\"https://colab.research.google.com/github/serinss/seSAC_ML_DL_Class/blob/main/03_2_%EC%84%A0%ED%98%95_%ED%9A%8C%EA%B7%80.ipynb\" target=\"_parent\"><img src=\"https://colab.research.google.com/assets/colab-badge.svg\" alt=\"Open In Colab\"/></a>"
      ]
    },
    {
      "cell_type": "code",
      "execution_count": 6,
      "metadata": {
        "colab": {
          "base_uri": "https://localhost:8080/"
        },
        "id": "_56AHD68FzEU",
        "outputId": "5167f7a9-2580-4ee6-8526-b054cdbcc78d"
      },
      "outputs": [
        {
          "output_type": "stream",
          "name": "stdout",
          "text": [
            "Mounted at /content/drive\n"
          ]
        }
      ],
      "source": [
        "%run my_init.py"
      ]
    },
    {
      "cell_type": "code",
      "source": [
        "%matplotlib inline"
      ],
      "metadata": {
        "id": "adUp2aT7LXZD"
      },
      "execution_count": 7,
      "outputs": []
    },
    {
      "cell_type": "markdown",
      "source": [
        "### numpy, ndarray 연습하기"
      ],
      "metadata": {
        "id": "-zVNG7LfZoA8"
      }
    },
    {
      "cell_type": "code",
      "source": [
        "arr = np.arange(1,13).reshape(-1,3) # 4행 3열\n",
        "arr"
      ],
      "metadata": {
        "colab": {
          "base_uri": "https://localhost:8080/"
        },
        "id": "YzEGWQItUtQu",
        "outputId": "0511e424-5b43-45d4-ee0c-1ea5503c785d"
      },
      "execution_count": 8,
      "outputs": [
        {
          "output_type": "execute_result",
          "data": {
            "text/plain": [
              "array([[ 1,  2,  3],\n",
              "       [ 4,  5,  6],\n",
              "       [ 7,  8,  9],\n",
              "       [10, 11, 12]])"
            ]
          },
          "metadata": {},
          "execution_count": 8
        }
      ]
    },
    {
      "cell_type": "code",
      "source": [
        "arr.ndim, arr.shape # 2차원 , 4행 3열 구조"
      ],
      "metadata": {
        "colab": {
          "base_uri": "https://localhost:8080/"
        },
        "id": "zXlq8KI2U45U",
        "outputId": "2ea73d11-bc30-453b-a89e-9bb2c8783874"
      },
      "execution_count": 9,
      "outputs": [
        {
          "output_type": "execute_result",
          "data": {
            "text/plain": [
              "(2, (4, 3))"
            ]
          },
          "metadata": {},
          "execution_count": 9
        }
      ]
    },
    {
      "cell_type": "code",
      "source": [
        "arr[0] # 1번째 행"
      ],
      "metadata": {
        "colab": {
          "base_uri": "https://localhost:8080/"
        },
        "id": "AH0jbzAVWeAQ",
        "outputId": "e76032f8-0468-4361-b49e-8334c525bf19"
      },
      "execution_count": 10,
      "outputs": [
        {
          "output_type": "execute_result",
          "data": {
            "text/plain": [
              "array([1, 2, 3])"
            ]
          },
          "metadata": {},
          "execution_count": 10
        }
      ]
    },
    {
      "cell_type": "code",
      "source": [
        "arr[0, :] # 1번째 행의 모든 열"
      ],
      "metadata": {
        "colab": {
          "base_uri": "https://localhost:8080/"
        },
        "id": "XwwLLP8yWng1",
        "outputId": "e14ac292-8881-4350-dd05-0faafc733c1e"
      },
      "execution_count": 11,
      "outputs": [
        {
          "output_type": "execute_result",
          "data": {
            "text/plain": [
              "array([1, 2, 3])"
            ]
          },
          "metadata": {},
          "execution_count": 11
        }
      ]
    },
    {
      "cell_type": "code",
      "source": [
        "arr[0][:] # 슬라이싱 이렇게 적는 것도 가능"
      ],
      "metadata": {
        "colab": {
          "base_uri": "https://localhost:8080/"
        },
        "id": "-pauw6EwWvBB",
        "outputId": "83fee483-a79d-4776-d2d6-e36de6436240"
      },
      "execution_count": 12,
      "outputs": [
        {
          "output_type": "execute_result",
          "data": {
            "text/plain": [
              "array([1, 2, 3])"
            ]
          },
          "metadata": {},
          "execution_count": 12
        }
      ]
    },
    {
      "cell_type": "code",
      "source": [
        "arr[:, 0] # 1번째 열의 모든 행"
      ],
      "metadata": {
        "colab": {
          "base_uri": "https://localhost:8080/"
        },
        "id": "r3GTaT7bVEBq",
        "outputId": "94f0f864-43c1-4d40-aa6a-f9006d863fc2"
      },
      "execution_count": 13,
      "outputs": [
        {
          "output_type": "execute_result",
          "data": {
            "text/plain": [
              "array([ 1,  4,  7, 10])"
            ]
          },
          "metadata": {},
          "execution_count": 13
        }
      ]
    },
    {
      "cell_type": "code",
      "source": [
        "arr[:, -1] # 마지막 열"
      ],
      "metadata": {
        "colab": {
          "base_uri": "https://localhost:8080/"
        },
        "id": "yRyvo1FhVHNJ",
        "outputId": "a21babe8-c722-4cd4-dfcb-e18387ab9403"
      },
      "execution_count": 14,
      "outputs": [
        {
          "output_type": "execute_result",
          "data": {
            "text/plain": [
              "array([ 3,  6,  9, 12])"
            ]
          },
          "metadata": {},
          "execution_count": 14
        }
      ]
    },
    {
      "cell_type": "code",
      "source": [
        "arr.ravel() # 다차원 배열(array)을 1차원 배열(array)로 평평하게 펴주는 넘파이(numpy) 함수\n",
        "#1차원 배열을 다차원 배열로 바꾸는 .reshape()과 반대의 기능\n",
        "\n",
        "# 컴퓨터는 가로 세로 개념이 필요 없으므로, 컴퓨터가 내용을 읽어들일 때 사용함"
      ],
      "metadata": {
        "colab": {
          "base_uri": "https://localhost:8080/"
        },
        "id": "airKMzo4VThp",
        "outputId": "d8643c8e-0980-40b5-ae9e-2fdb4f5baf71"
      },
      "execution_count": 15,
      "outputs": [
        {
          "output_type": "execute_result",
          "data": {
            "text/plain": [
              "array([ 1,  2,  3,  4,  5,  6,  7,  8,  9, 10, 11, 12])"
            ]
          },
          "metadata": {},
          "execution_count": 15
        }
      ]
    },
    {
      "cell_type": "code",
      "source": [
        "arr.ravel()[::-1]\n",
        "# start, stop, step : 처음부터 끝까지 역순으로 출력"
      ],
      "metadata": {
        "colab": {
          "base_uri": "https://localhost:8080/"
        },
        "id": "vqxsbBvgWNFN",
        "outputId": "dffca82b-80a3-4b33-ec5e-bc30343670c1"
      },
      "execution_count": 16,
      "outputs": [
        {
          "output_type": "execute_result",
          "data": {
            "text/plain": [
              "array([12, 11, 10,  9,  8,  7,  6,  5,  4,  3,  2,  1])"
            ]
          },
          "metadata": {},
          "execution_count": 16
        }
      ]
    },
    {
      "cell_type": "markdown",
      "source": [
        "## k-최근접 이웃의 한계"
      ],
      "metadata": {
        "id": "3x-284w_ZtbU"
      }
    },
    {
      "cell_type": "code",
      "source": [
        "perch_length = np.array([8.4, 13.7, 15.0, 16.2, 17.4, 18.0, 18.7, 19.0, 19.6, 20.0, 21.0,\n",
        "       21.0, 21.0, 21.3, 22.0, 22.0, 22.0, 22.0, 22.0, 22.5, 22.5, 22.7,\n",
        "       23.0, 23.5, 24.0, 24.0, 24.6, 25.0, 25.6, 26.5, 27.3, 27.5, 27.5,\n",
        "       27.5, 28.0, 28.7, 30.0, 32.8, 34.5, 35.0, 36.5, 36.0, 37.0, 37.0,\n",
        "       39.0, 39.0, 39.0, 40.0, 40.0, 40.0, 40.0, 42.0, 43.0, 43.0, 43.5,\n",
        "       44.0])\n",
        "perch_weight = np.array([5.9, 32.0, 40.0, 51.5, 70.0, 100.0, 78.0, 80.0, 85.0, 85.0, 110.0,\n",
        "       115.0, 125.0, 130.0, 120.0, 120.0, 130.0, 135.0, 110.0, 130.0,\n",
        "       150.0, 145.0, 150.0, 170.0, 225.0, 145.0, 188.0, 180.0, 197.0,\n",
        "       218.0, 300.0, 260.0, 265.0, 250.0, 250.0, 300.0, 320.0, 514.0,\n",
        "       556.0, 840.0, 685.0, 700.0, 700.0, 690.0, 900.0, 650.0, 820.0,\n",
        "       850.0, 900.0, 1015.0, 820.0, 1100.0, 1000.0, 1100.0, 1000.0,\n",
        "       1000.0])"
      ],
      "metadata": {
        "id": "JKzSOPkWZ0rq"
      },
      "execution_count": 39,
      "outputs": []
    },
    {
      "cell_type": "code",
      "source": [
        "train_input, test_input, train_target, test_target = train_test_split(perch_length, perch_weight, random_state=42)\n",
        "\n",
        "train_input = train_input.reshape(-1,1)\n",
        "test_input = test_input.reshape(-1,1)"
      ],
      "metadata": {
        "id": "q9wF240gZ1-t"
      },
      "execution_count": 40,
      "outputs": []
    },
    {
      "cell_type": "code",
      "source": [
        "from sklearn.neighbors import KNeighborsRegressor\n",
        "\n",
        "knr = KNeighborsRegressor(n_neighbors=3)\n",
        "knr.fit(train_input, train_target) \n",
        "print(knr.predict([[50]]))"
      ],
      "metadata": {
        "colab": {
          "base_uri": "https://localhost:8080/"
        },
        "id": "9H5mhyQVZ3NM",
        "outputId": "cdd556d0-a70f-4611-d457-127d4d493f1c"
      },
      "execution_count": 41,
      "outputs": [
        {
          "output_type": "stream",
          "name": "stdout",
          "text": [
            "[1033.33333333]\n"
          ]
        }
      ]
    },
    {
      "cell_type": "code",
      "source": [
        "index = knr.kneighbors([[50]], return_distance=False) # 길이가 50cm 인 농어 주변의 인덱스값 3개 저장\n",
        "index"
      ],
      "metadata": {
        "colab": {
          "base_uri": "https://localhost:8080/"
        },
        "id": "CksBUwalZ4lI",
        "outputId": "609ce8e0-469c-4822-9d5d-1befdf21f57c"
      },
      "execution_count": 42,
      "outputs": [
        {
          "output_type": "execute_result",
          "data": {
            "text/plain": [
              "array([[34,  8, 14]])"
            ]
          },
          "metadata": {},
          "execution_count": 42
        }
      ]
    },
    {
      "cell_type": "code",
      "source": [
        "train_input[index[0]] # index와 관련된 첫 번째 열, 엄밀하게 하면 index도 2차원 배열이므로 [0]형태로 넣어준다\n",
        "# fancy indexing - 넣은 인덱스 값에 길이 값을 반환"
      ],
      "metadata": {
        "colab": {
          "base_uri": "https://localhost:8080/"
        },
        "id": "8YAl82JDZ9lG",
        "outputId": "b1415a67-203a-433d-bb24-1e7242e98753"
      },
      "execution_count": 43,
      "outputs": [
        {
          "output_type": "execute_result",
          "data": {
            "text/plain": [
              "array([[44.],\n",
              "       [43.],\n",
              "       [43.]])"
            ]
          },
          "metadata": {},
          "execution_count": 43
        }
      ]
    },
    {
      "cell_type": "code",
      "source": [
        "train_input.shape # 42행 1열"
      ],
      "metadata": {
        "colab": {
          "base_uri": "https://localhost:8080/"
        },
        "id": "bFgcsHU7Z7HL",
        "outputId": "83f22cda-f91b-48aa-e843-0ee56386f7c4"
      },
      "execution_count": 44,
      "outputs": [
        {
          "output_type": "execute_result",
          "data": {
            "text/plain": [
              "(42, 1)"
            ]
          },
          "metadata": {},
          "execution_count": 44
        }
      ]
    },
    {
      "cell_type": "code",
      "source": [
        "train_target[index[0]] # 인덱스에 해당하는 무게 예측값 반환"
      ],
      "metadata": {
        "colab": {
          "base_uri": "https://localhost:8080/"
        },
        "id": "Jmpj-fYnX6Cb",
        "outputId": "cffb28d3-baa6-4d8f-91bc-2078f03e34c3"
      },
      "execution_count": 45,
      "outputs": [
        {
          "output_type": "execute_result",
          "data": {
            "text/plain": [
              "array([1000., 1000., 1100.])"
            ]
          },
          "metadata": {},
          "execution_count": 45
        }
      ]
    },
    {
      "cell_type": "code",
      "source": [
        "distances, indexes = knr.kneighbors([[50]])\n",
        "\n",
        "plt.scatter(train_input[:, 0], train_target) # 모든 훈련 데이터\n",
        "plt.scatter(50, 1033, marker='^') # 엄청 무거운 농어\n",
        "plt.scatter(train_input[indexes], train_target[indexes], marker='D') # 그 주변의 샘플 3개 데이터 체크\n",
        "plt.xlabel('length')\n",
        "plt.ylabel('weight')\n",
        "plt.show()"
      ],
      "metadata": {
        "colab": {
          "base_uri": "https://localhost:8080/",
          "height": 279
        },
        "id": "jcmXqg5jO9y2",
        "outputId": "104d7b76-cd38-4442-eac4-ce54025b2041"
      },
      "execution_count": 46,
      "outputs": [
        {
          "output_type": "display_data",
          "data": {
            "text/plain": [
              "<Figure size 432x288 with 1 Axes>"
            ],
            "image/png": "[encoded data removed]"
          },
          "metadata": {
            "needs_background": "light"
          }
        }
      ]
    },
    {
      "cell_type": "code",
      "source": [
        "print(np.mean(train_target[indexes]), knr.predict([[100]])) # 3개 이웃의 무게의 평균 = 모델의 예측값"
      ],
      "metadata": {
        "colab": {
          "base_uri": "https://localhost:8080/"
        },
        "id": "tZOTBlpgaLCf",
        "outputId": "b4aab6bf-59e8-4b46-cd20-d155ef630d43"
      },
      "execution_count": 47,
      "outputs": [
        {
          "output_type": "stream",
          "name": "stdout",
          "text": [
            "1033.3333333333333 [1033.33333333]\n"
          ]
        }
      ]
    },
    {
      "cell_type": "code",
      "source": [
        "distances, indexes = knr.kneighbors([[100]])\n",
        "\n",
        "plt.scatter(train_input[:, 0], train_target) # 모든 훈련 데이터\n",
        "plt.scatter(100, 1033, marker='^') # 엄청 무거운 농어\n",
        "plt.scatter(train_input[indexes], train_target[indexes], marker='D') # 그 주변의 샘플 3개 데이터 체크\n",
        "plt.xlabel('length')\n",
        "plt.ylabel('weight')\n",
        "plt.show()"
      ],
      "metadata": {
        "colab": {
          "base_uri": "https://localhost:8080/",
          "height": 279
        },
        "id": "EkuVIqntaaaF",
        "outputId": "ad4c70fd-be66-4272-9a48-3cc75faeac5e"
      },
      "execution_count": 48,
      "outputs": [
        {
          "output_type": "display_data",
          "data": {
            "text/plain": [
              "<Figure size 432x288 with 1 Axes>"
            ],
            "image/png": "[encoded data removed]"
          },
          "metadata": {
            "needs_background": "light"
          }
        }
      ]
    },
    {
      "cell_type": "code",
      "source": [
        "train_input[:, 0].max() #즉, 농어 44g 이상으로 아무리 커져도 무게는 더이상 늘어나지 않음"
      ],
      "metadata": {
        "colab": {
          "base_uri": "https://localhost:8080/"
        },
        "id": "KZ3oV4w4dTGO",
        "outputId": "8a3d799e-cead-4188-ab11-8def92f630e3"
      },
      "execution_count": 49,
      "outputs": [
        {
          "output_type": "execute_result",
          "data": {
            "text/plain": [
              "44.0"
            ]
          },
          "metadata": {},
          "execution_count": 49
        }
      ]
    },
    {
      "cell_type": "code",
      "source": [
        "knr.predict([[200]]) # 이 모형의 한계"
      ],
      "metadata": {
        "colab": {
          "base_uri": "https://localhost:8080/"
        },
        "id": "wJUSHcxZdaEK",
        "outputId": "c21ab257-ff4f-4500-8dc3-79c51c2b478e"
      },
      "execution_count": 50,
      "outputs": [
        {
          "output_type": "execute_result",
          "data": {
            "text/plain": [
              "array([1033.33333333])"
            ]
          },
          "metadata": {},
          "execution_count": 50
        }
      ]
    },
    {
      "cell_type": "markdown",
      "source": [
        "#선형 회귀(linear regression)"
      ],
      "metadata": {
        "id": "PEmDRyypdq3d"
      }
    },
    {
      "cell_type": "markdown",
      "source": [
        "![선형회귀.PNG](data:image/png;base64,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)"
      ],
      "metadata": {
        "id": "31rorwizd1Kh"
      }
    },
    {
      "cell_type": "markdown",
      "source": [
        "3번이 제일 best 그래프 -> 오차가 제일 적다"
      ],
      "metadata": {
        "id": "046hHcKZd2zb"
      }
    },
    {
      "cell_type": "code",
      "source": [
        "from sklearn.linear_model import LinearRegression\n",
        "\n",
        "lr = LinearRegression()\n",
        "lr.fit(train_input, train_target) # (X,y) 선형회귀 모델 훈련\n",
        "print(lr.predict([[50]])) # 길이가 50인 농어의 무게 예측 -> y=ax+b 선형 방정식으로 훈련한 결과!"
      ],
      "metadata": {
        "colab": {
          "base_uri": "https://localhost:8080/"
        },
        "id": "01gKwmjddsJD",
        "outputId": "7c874614-4851-4567-b0f1-910b0571fa75"
      },
      "execution_count": 51,
      "outputs": [
        {
          "output_type": "stream",
          "name": "stdout",
          "text": [
            "[1241.83860323]\n"
          ]
        }
      ]
    },
    {
      "cell_type": "code",
      "source": [
        "print(lr.coef_, lr.intercept_) #모델 파라미터 (학습에 의해 만들어진 것, coef=기울기, intercept=절편) <- KNN에서는 학습에 의해 만들어진 파라미터가 없었음\n",
        "# 모델 기반 학습(선형 회귀) <-> 사례 기반 학습(KNN): 훈련세트를 저장하는 것이 훈련의 전부..\n",
        "\n",
        "# 학습 과정(손실함수=오차를 최소화하는 값을 찾는 과정) 을 통해 구한 것임\n",
        "\n",
        "# 즉, 농어의 무게 = 39.01714496 * 농어 길이 - 709.0.186449535477"
      ],
      "metadata": {
        "colab": {
          "base_uri": "https://localhost:8080/"
        },
        "id": "geGmZQlweZk7",
        "outputId": "e4f40b27-330b-4b78-9710-ddf1372b7463"
      },
      "execution_count": 52,
      "outputs": [
        {
          "output_type": "stream",
          "name": "stdout",
          "text": [
            "[39.01714496] -709.0186449535477\n"
          ]
        }
      ]
    },
    {
      "cell_type": "code",
      "source": [
        "lr.coef_ * 50 + lr.intercept_"
      ],
      "metadata": {
        "colab": {
          "base_uri": "https://localhost:8080/"
        },
        "id": "IQMEi1rxj1Y0",
        "outputId": "b8ad2c11-6b32-4cb8-eff0-fed96470f491"
      },
      "execution_count": 53,
      "outputs": [
        {
          "output_type": "execute_result",
          "data": {
            "text/plain": [
              "array([1241.83860323])"
            ]
          },
          "metadata": {},
          "execution_count": 53
        }
      ]
    },
    {
      "cell_type": "code",
      "source": [
        "# 훈련 데이터\n",
        "plt.scatter(train_input, train_target)\n",
        "\n",
        "# 예측값\n",
        "plt.plot([15,50], [lr.predict([[15]])[0], lr.predict([[50]])[0]])\n",
        "#plt.plot([15,50], [15*lr.coef_+lr.intercept_, 50*lr.coef_+lr.intercept_]) 동일한 표현\n",
        "\n",
        "# 실제값\n",
        "plt.scatter(50, lr.predict([[50]])[0], marker='^') # 1241.8 = 실제 무게값\n",
        "#plt.scatter(50, 1241.8, marker='^') 동일한 표현\n",
        "plt.xlabel('length')\n",
        "plt.ylabel('weight')\n",
        "plt.show()"
      ],
      "metadata": {
        "colab": {
          "base_uri": "https://localhost:8080/",
          "height": 279
        },
        "id": "DL4YxaS8gWNf",
        "outputId": "7c7c8836-0b68-497a-d097-c3ce5ceabfb8"
      },
      "execution_count": 54,
      "outputs": [
        {
          "output_type": "display_data",
          "data": {
            "text/plain": [
              "<Figure size 432x288 with 1 Axes>"
            ],
            "image/png": "[encoded data removed]"
          },
          "metadata": {
            "needs_background": "light"
          }
        }
      ]
    },
    {
      "cell_type": "code",
      "source": [
        "print(lr.score(train_input, train_target)) # 훈련 점수\n",
        "print(lr.score(test_input, test_target)) # 테스트 점수\n",
        "print(f\"train - r^2 score: {r2_score(train_target, lr.predict(train_input))}\")\n",
        "print(f\"test - r^2 score: {r2_score(test_target, lr.predict(test_input))}\")\n",
        "\n",
        "# 점수가 전체적으로 낮음 = 성능이 떨어진다 = underfit (feature가 하나만 있으므로 overfit는 아님 -> 왼쪽일 가능성 높다)\n",
        "# 경우에 따라 그래프를 이용하여 해석할 수 있어야 함\n",
        "\n",
        "# 개선될 여지가 많다 -> 이차방정식 형태로 예측해볼 수 있음"
      ],
      "metadata": {
        "colab": {
          "base_uri": "https://localhost:8080/"
        },
        "id": "rWL6hkSaiFj_",
        "outputId": "44b1b3a7-6fc3-4e9a-aef4-66dce955e475"
      },
      "execution_count": 55,
      "outputs": [
        {
          "output_type": "stream",
          "name": "stdout",
          "text": [
            "0.939846333997604\n",
            "0.8247503123313558\n",
            "train - r^2 score: 0.939846333997604\n",
            "test - r^2 score: 0.8247503123313558\n"
          ]
        }
      ]
    },
    {
      "cell_type": "markdown",
      "source": [
        "#다항회귀(polynomia regression)\n",
        "직선이 아닌 곡선으로 예측해보자 -> 2차 방정식 활용  \n",
        "단항, 다항 = degree  \n",
        "단순, 다중 = feature 의 개수"
      ],
      "metadata": {
        "id": "Lu1w-8MJjJ4f"
      }
    },
    {
      "cell_type": "code",
      "source": [
        "# 원본에 제곱항을 추가하기\n",
        "# column_stack : Stack 1-D arrays as columns into a 2-D array. 새로운 컬럼 이어 붙이기\n",
        "\n",
        "train_poly = np.column_stack((train_input**2, train_input))\n",
        "test_poly = np.column_stack((test_input**2, test_input))\n",
        "print(train_poly.shape, test_poly.shape)"
      ],
      "metadata": {
        "colab": {
          "base_uri": "https://localhost:8080/"
        },
        "id": "hdQWUfIujLHQ",
        "outputId": "bc685fa8-b628-4885-bc0e-95460e4c79eb"
      },
      "execution_count": 59,
      "outputs": [
        {
          "output_type": "stream",
          "name": "stdout",
          "text": [
            "(42, 2) (14, 2)\n"
          ]
        }
      ]
    },
    {
      "cell_type": "code",
      "source": [
        "lr = LinearRegression()\n",
        "lr.fit(train_poly, train_target)\n",
        "print(lr.predict([[50**2, 50]]))"
      ],
      "metadata": {
        "colab": {
          "base_uri": "https://localhost:8080/"
        },
        "id": "t6YK5p5ojnYo",
        "outputId": "a665c8c1-d704-4c6d-f634-b0dc3dc2cf07"
      },
      "execution_count": 63,
      "outputs": [
        {
          "output_type": "stream",
          "name": "stdout",
          "text": [
            "[1573.98423528]\n"
          ]
        }
      ]
    },
    {
      "cell_type": "code",
      "source": [
        "lr.coef_, lr.intercept_\n",
        "\n",
        "# 무게 = 1.01433211 * 길이^2 + (-21.55792498) * 길이 + 116.0502107827827"
      ],
      "metadata": {
        "colab": {
          "base_uri": "https://localhost:8080/"
        },
        "id": "NhE-Wk-q620F",
        "outputId": "42410cb6-5da8-4574-eee8-3819dae84966"
      },
      "execution_count": 64,
      "outputs": [
        {
          "output_type": "execute_result",
          "data": {
            "text/plain": [
              "(array([  1.01433211, -21.55792498]), 116.0502107827827)"
            ]
          },
          "metadata": {},
          "execution_count": 64
        }
      ]
    },
    {
      "cell_type": "code",
      "source": [
        "# 학습 데이터\n",
        "plt.scatter(train_input, train_target)\n",
        "\n",
        "# 예측값\n",
        "point = np.arange(15,51)\n",
        "plt.plot(point, 1.01*point**2 - 21.6*point + 116.05)\n",
        "\n",
        "# 실제값\n",
        "plt.scatter(50, lr.predict([[50**2, 50]]), marker='^')\n",
        "#plt.scatter(50,1574, marker='^')\n",
        "plt.xlabel('length')\n",
        "plt.ylabel('weight')\n",
        "plt.show()\n",
        "\n",
        "# 단순 다항 회귀"
      ],
      "metadata": {
        "colab": {
          "base_uri": "https://localhost:8080/",
          "height": 279
        },
        "id": "1_pGwX2x7YJH",
        "outputId": "8097c6b9-af8c-400d-9262-49a155a04909"
      },
      "execution_count": 70,
      "outputs": [
        {
          "output_type": "display_data",
          "data": {
            "text/plain": [
              "<Figure size 432x288 with 1 Axes>"
            ],
            "image/png": "[encoded data removed]"
          },
          "metadata": {
            "needs_background": "light"
          }
        }
      ]
    },
    {
      "cell_type": "code",
      "source": [
        "print(lr.score(train_poly, train_target))\n",
        "print(lr.score(test_poly, test_target))\n",
        "\n",
        "# 아직도 높은 편은 아님\n",
        "# 일반적으로 학습 점수가 높고, 테스트 점수가 낮음\n",
        "\n",
        "# 학습 점수 < 테스트 점수 => underfit (feature가 두개이긴 하지만 모형의 복잡도가 낮은 편)"
      ],
      "metadata": {
        "colab": {
          "base_uri": "https://localhost:8080/"
        },
        "id": "seRsz45w7s6H",
        "outputId": "cf624720-4ac9-4504-c93d-5ba56c002c60"
      },
      "execution_count": 66,
      "outputs": [
        {
          "output_type": "stream",
          "name": "stdout",
          "text": [
            "0.9706807451768623\n",
            "0.9775935108325122\n"
          ]
        }
      ]
    },
    {
      "cell_type": "markdown",
      "source": [
        "####<비교>\n",
        "- K최근접 회귀는 사례기반 머신러닝 모형이므로 feature의 범위 밖에서는 예측하지 못함  \n",
        "- 선형 회귀는 모델 기반 머신러닝 모현으로 범위 밖에서도 예측 가능하다  "
      ],
      "metadata": {
        "id": "EM6GXXkr-ihq"
      }
    },
    {
      "cell_type": "markdown",
      "source": [
        "2차 방정식도 선형 회귀라고 할 수 있는가?  \n",
        "길이^2 = 긴길이 형태로 변수를 치환하여 선형 방정식으로 바꿀 수 있음"
      ],
      "metadata": {
        "id": "rRpJIxJa85r4"
      }
    }
  ]
}