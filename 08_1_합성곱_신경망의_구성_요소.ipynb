{
  "nbformat": 4,
  "nbformat_minor": 0,
  "metadata": {
    "colab": {
      "name": "08-1. 합성곱 신경망의 구성 요소.ipynb",
      "provenance": [],
      "authorship_tag": "ABX9TyNR7TTSd0WVzR8b5WCPtoYV",
      "include_colab_link": true
    },
    "kernelspec": {
      "name": "python3",
      "display_name": "Python 3"
    },
    "language_info": {
      "name": "python"
    }
  },
  "cells": [
    {
      "cell_type": "markdown",
      "metadata": {
        "id": "view-in-github",
        "colab_type": "text"
      },
      "source": [
        "<a href=\"https://colab.research.google.com/github/serinss/seSAC_ML_DL_Class/blob/main/08_1_%ED%95%A9%EC%84%B1%EA%B3%B1_%EC%8B%A0%EA%B2%BD%EB%A7%9D%EC%9D%98_%EA%B5%AC%EC%84%B1_%EC%9A%94%EC%86%8C.ipynb\" target=\"_parent\"><img src=\"https://colab.research.google.com/assets/colab-badge.svg\" alt=\"Open In Colab\"/></a>"
      ]
    },
    {
      "cell_type": "code",
      "execution_count": 1,
      "metadata": {
        "colab": {
          "base_uri": "https://localhost:8080/"
        },
        "id": "OGA-rniOwndt",
        "outputId": "9dd0b138-5fa2-4b3b-885b-9c4365ef09a9"
      },
      "outputs": [
        {
          "output_type": "stream",
          "name": "stdout",
          "text": [
            "Mounted at /content/drive\n",
            "tf.__version__: 2.8.0\n",
            "keras.__version__: 2.8.0\n"
          ]
        }
      ],
      "source": [
        "%run my_init.py"
      ]
    },
    {
      "cell_type": "code",
      "source": [
        "%matplotlib inline"
      ],
      "metadata": {
        "id": "SF6Pe4syxYLQ"
      },
      "execution_count": 2,
      "outputs": []
    },
    {
      "cell_type": "markdown",
      "source": [
        "# 합성곱"
      ],
      "metadata": {
        "id": "VJkgllRexZVC"
      }
    },
    {
      "cell_type": "markdown",
      "source": [
        "#케라스 합성곱 층"
      ],
      "metadata": {
        "id": "DedNBAvo-d0o"
      }
    },
    {
      "cell_type": "code",
      "source": [
        "keras.layers.Conv2D(10, kernel_size=(3,3), activation='relu')\n",
        "# 뉴런=필터=10개, 커널 사이즈 3X3 - 일반적으로 커널 사이즈는 정방 행렬이 많음(전치가 쉬움, 대각행렬을 쉽게 뽑을 수 있음) - hyper parameter\n",
        "# 변수가 많음.."
      ],
      "metadata": {
        "colab": {
          "base_uri": "https://localhost:8080/"
        },
        "id": "kDMg7o1K-fgG",
        "outputId": "672e8e34-fb4c-4a48-b3f1-ad6b363ca617"
      },
      "execution_count": 3,
      "outputs": [
        {
          "output_type": "execute_result",
          "data": {
            "text/plain": [
              "<keras.layers.convolutional.Conv2D at 0x7f622a4d96d0>"
            ]
          },
          "metadata": {},
          "execution_count": 3
        }
      ]
    }
  ]
}