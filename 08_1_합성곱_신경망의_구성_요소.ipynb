{
  "nbformat": 4,
  "nbformat_minor": 0,
  "metadata": {
    "colab": {
      "name": "08-1. 합성곱 신경망의 구성 요소.ipynb",
      "provenance": [],
      "authorship_tag": "ABX9TyOa0qpEtJvM7t5AYEhnAmNt",
      "include_colab_link": true
    },
    "kernelspec": {
      "name": "python3",
      "display_name": "Python 3"
    },
    "language_info": {
      "name": "python"
    }
  },
  "cells": [
    {
      "cell_type": "markdown",
      "metadata": {
        "id": "view-in-github",
        "colab_type": "text"
      },
      "source": [
        "<a href=\"https://colab.research.google.com/github/serinss/seSAC_ML_DL_Class/blob/main/08_1_%ED%95%A9%EC%84%B1%EA%B3%B1_%EC%8B%A0%EA%B2%BD%EB%A7%9D%EC%9D%98_%EA%B5%AC%EC%84%B1_%EC%9A%94%EC%86%8C.ipynb\" target=\"_parent\"><img src=\"https://colab.research.google.com/assets/colab-badge.svg\" alt=\"Open In Colab\"/></a>"
      ]
    },
    {
      "cell_type": "code",
      "execution_count": 1,
      "metadata": {
        "colab": {
          "base_uri": "https://localhost:8080/"
        },
        "id": "OGA-rniOwndt",
        "outputId": "d754ca0a-bd60-4735-f226-830c3252c4cf"
      },
      "outputs": [
        {
          "output_type": "stream",
          "name": "stdout",
          "text": [
            "Mounted at /content/drive\n",
            "tf.__version__: 2.8.0\n",
            "keras.__version__: 2.8.0\n"
          ]
        }
      ],
      "source": [
        "%run my_init.py"
      ]
    },
    {
      "cell_type": "code",
      "source": [
        "%matplotlib inline"
      ],
      "metadata": {
        "id": "SF6Pe4syxYLQ"
      },
      "execution_count": 2,
      "outputs": []
    },
    {
      "cell_type": "markdown",
      "source": [
        "# 합성곱"
      ],
      "metadata": {
        "id": "VJkgllRexZVC"
      }
    },
    {
      "cell_type": "markdown",
      "source": [
        "#케라스 합성곱 층"
      ],
      "metadata": {
        "id": "DedNBAvo-d0o"
      }
    },
    {
      "cell_type": "code",
      "source": [
        "keras.layers.Conv2D(10, kernel_size=(3,3), activation='relu')\n",
        "# 뉴런=필터=10개, \n",
        "# 커널 사이즈 3X3 - 일반적으로 커널 사이즈는 정방 행렬이 많음(전치가 쉬움, 대각행렬을 쉽게 뽑을 수 있음) - hyper parameter\n",
        "# kernel_size=3 으로 써도 됨"
      ],
      "metadata": {
        "colab": {
          "base_uri": "https://localhost:8080/"
        },
        "id": "kDMg7o1K-fgG",
        "outputId": "ca4e2064-50c8-4020-df1b-bc0391d7f442"
      },
      "execution_count": 3,
      "outputs": [
        {
          "output_type": "execute_result",
          "data": {
            "text/plain": [
              "<keras.layers.convolutional.Conv2D at 0x7f23aeac6550>"
            ]
          },
          "metadata": {},
          "execution_count": 3
        }
      ]
    },
    {
      "cell_type": "markdown",
      "source": [
        "#패딩\n",
        "원본 데이터와 크기가 동일한 특성 맵을 얻는다  \n",
        "-> 데이터 손실을 줄일 수 있음  \n",
        "\n",
        "필요 없는 경우? : 압축이 필요 없는 꽉 차있는 이미지의 경우는 same padding 필요함, 화병 하나만 있고 배경은 필요 없는 경우 same padding 필요 없고 가운데 이미지만 집중해야 하는 경우는 필요함  \n",
        "ex. 인물사진모드 - 필요 없음!  "
      ],
      "metadata": {
        "id": "kvJ57wG5-WAV"
      }
    },
    {
      "cell_type": "code",
      "source": [
        "keras.layers.Conv2D(10, kernel_size=(3,3), activation='relu', padding='same') #default = valid"
      ],
      "metadata": {
        "id": "1SUnR1iY_tvb"
      },
      "execution_count": null,
      "outputs": []
    },
    {
      "cell_type": "markdown",
      "source": [
        "# 스트라이드\n",
        "default = 1 = (1,1)  \n",
        "대부분 이동 개수 동일하게 설정함  "
      ],
      "metadata": {
        "id": "SwkKtVqvADMX"
      }
    },
    {
      "cell_type": "code",
      "source": [
        "keras.layers.Conv2D(10, kernel_size=(3,3), activation='relu', padding='same', strides=2) #2칸씩 이동"
      ],
      "metadata": {
        "id": "apFYww69AGgi"
      },
      "execution_count": null,
      "outputs": []
    },
    {
      "cell_type": "markdown",
      "source": [
        "# 풀링\n",
        ": 합성곱 층에서 만든 특성맴의 가로세로 크기를 줄이는 역할  \n",
        "  중요한 정보들로 압축하기\n",
        "\n",
        "- Max pooling(대부분 사용->특징을 잘 설명함)  \n",
        ": 특성 맵의 크기 = 풀링 커널의 크기\n",
        "(2,2,3) 특성맵 --(2,2)풀링--> (1,1,3) 특성맵 -> Max값을 뽑아냄  \n",
        "- Average pooling  \n",
        " -> 평균값을 뽑아냄"
      ],
      "metadata": {
        "id": "E94d1jcoBRmW"
      }
    },
    {
      "cell_type": "markdown",
      "source": [
        "6x6 --(3,3)풀링--> (2,2)특성맵  \n",
        "6x6 --(2,2)풀링--> (3,3)특성맵 (데이터를 절반으로 줄임)  \n",
        "풀링은 겹치지 않도록 풀링의 크기만큼 이동함"
      ],
      "metadata": {
        "id": "K_1Hva6VIKnh"
      }
    }
  ]
}