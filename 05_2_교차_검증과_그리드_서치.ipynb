{
  "nbformat": 4,
  "nbformat_minor": 0,
  "metadata": {
    "colab": {
      "name": "05-2. 교차 검증과 그리드 서치.ipynb",
      "provenance": [],
      "collapsed_sections": [],
      "authorship_tag": "ABX9TyPohkf+jPUK2fWVyAlLhFbQ",
      "include_colab_link": true
    },
    "kernelspec": {
      "name": "python3",
      "display_name": "Python 3"
    },
    "language_info": {
      "name": "python"
    }
  },
  "cells": [
    {
      "cell_type": "markdown",
      "metadata": {
        "id": "view-in-github",
        "colab_type": "text"
      },
      "source": [
        "<a href=\"https://colab.research.google.com/github/serinss/seSAC_ML_DL_Class/blob/main/05_2_%EA%B5%90%EC%B0%A8_%EA%B2%80%EC%A6%9D%EA%B3%BC_%EA%B7%B8%EB%A6%AC%EB%93%9C_%EC%84%9C%EC%B9%98.ipynb\" target=\"_parent\"><img src=\"https://colab.research.google.com/assets/colab-badge.svg\" alt=\"Open In Colab\"/></a>"
      ]
    },
    {
      "cell_type": "code",
      "execution_count": 1,
      "metadata": {
        "id": "kGkOJh0JC8qC",
        "colab": {
          "base_uri": "https://localhost:8080/"
        },
        "outputId": "a5f3b75b-d639-4168-95dd-27e85044c31c"
      },
      "outputs": [
        {
          "output_type": "stream",
          "name": "stdout",
          "text": [
            "Mounted at /content/drive\n"
          ]
        }
      ],
      "source": [
        "%run my_init.py"
      ]
    },
    {
      "cell_type": "code",
      "source": [
        "%run my_init.py"
      ],
      "metadata": {
        "colab": {
          "base_uri": "https://localhost:8080/"
        },
        "id": "IKzhoCr6cuOl",
        "outputId": "ca16f241-7e8a-4d11-b7c0-2c196e0d6110"
      },
      "execution_count": 2,
      "outputs": [
        {
          "output_type": "stream",
          "name": "stdout",
          "text": [
            "Drive already mounted at /content/drive; to attempt to forcibly remount, call drive.mount(\"/content/drive\", force_remount=True).\n"
          ]
        }
      ]
    },
    {
      "cell_type": "markdown",
      "source": [
        "#교차 검증\n",
        "딥러닝 에서는 교차검증 하지 않음  \n",
        "비정형 데이터 대상이므로 크기가 월등히 커서 시간이 많이 걸림  "
      ],
      "metadata": {
        "id": "JC5y-X9ldDLP"
      }
    },
    {
      "cell_type": "markdown",
      "source": [
        "교차 검증 장점 : \n",
        "\n",
        "1. 모든 데이터 셋을 평가에 활용할 수 있다.\n",
        "\n",
        "  - 평가에 사용되는 데이터 편중을 막을 수 있다. \n",
        "\n",
        "(특정 평가 데이터 셋에 overfit 되는 것을 방지할 수 있다.)\n",
        "\n",
        "  - 평가 결과에 따라 좀 더 일반화된 모델을 만들 수 있다. \n",
        "\n",
        "2. 모든 데이터 셋을 훈련에 활용할 수 있다.\n",
        "\n",
        "  - 정확도를 향상시킬 수 있다.\n",
        "\n",
        "  - 데이터 부족으로 인한 underfitting을 방지할 수 있다.\n",
        "\n",
        "​\n",
        "\n",
        "교차 검증 단점 : Iteration 횟수가 많기 때문에 모델 훈련/평가 시간이 오래 걸린다."
      ],
      "metadata": {
        "id": "-zZ9bMdh_t75"
      }
    },
    {
      "cell_type": "code",
      "source": [
        "wine = pd.read_csv('https://bit.ly/wine_csv_data')"
      ],
      "metadata": {
        "id": "LUPp8iiIdF7Q"
      },
      "execution_count": 3,
      "outputs": []
    },
    {
      "cell_type": "code",
      "source": [
        "data = wine[['alcohol','sugar','pH']].to_numpy()\n",
        "data.shape"
      ],
      "metadata": {
        "colab": {
          "base_uri": "https://localhost:8080/"
        },
        "id": "4cMVqXCWiesc",
        "outputId": "2f3dfda8-0ee8-403f-a7d1-cfc052cc22c2"
      },
      "execution_count": 5,
      "outputs": [
        {
          "output_type": "execute_result",
          "data": {
            "text/plain": [
              "(6497, 3)"
            ]
          },
          "metadata": {},
          "execution_count": 5
        }
      ]
    },
    {
      "cell_type": "code",
      "source": [
        "\n",
        "target = wine['class'].to_numpy()\n",
        "target.shape"
      ],
      "metadata": {
        "colab": {
          "base_uri": "https://localhost:8080/"
        },
        "id": "Lt4LXbefdpj3",
        "outputId": "2aea0c06-dea9-40f9-dafc-a977f7adb10f"
      },
      "execution_count": 4,
      "outputs": [
        {
          "output_type": "execute_result",
          "data": {
            "text/plain": [
              "(6497,)"
            ]
          },
          "metadata": {},
          "execution_count": 4
        }
      ]
    },
    {
      "cell_type": "code",
      "source": [
        "train_input, test_input, train_target, test_target = train_test_split(data, target, test_size=0.2, random_state=42)"
      ],
      "metadata": {
        "id": "yvKJ3A61id8I"
      },
      "execution_count": 6,
      "outputs": []
    },
    {
      "cell_type": "code",
      "source": [
        "train_input.shape, train_target.shape"
      ],
      "metadata": {
        "colab": {
          "base_uri": "https://localhost:8080/"
        },
        "id": "C2IeeHvrimNC",
        "outputId": "9bcf93df-9b41-4f28-e564-600116ef2301"
      },
      "execution_count": 7,
      "outputs": [
        {
          "output_type": "execute_result",
          "data": {
            "text/plain": [
              "((5197, 3), (5197,))"
            ]
          },
          "metadata": {},
          "execution_count": 7
        }
      ]
    },
    {
      "cell_type": "code",
      "source": [
        "test_input.shape, test_target.shape"
      ],
      "metadata": {
        "colab": {
          "base_uri": "https://localhost:8080/"
        },
        "id": "gffWm7_vitfa",
        "outputId": "ace7861d-cb14-460f-924b-d955dbb0a782"
      },
      "execution_count": 8,
      "outputs": [
        {
          "output_type": "execute_result",
          "data": {
            "text/plain": [
              "((1300, 3), (1300,))"
            ]
          },
          "metadata": {},
          "execution_count": 8
        }
      ]
    },
    {
      "cell_type": "code",
      "source": [
        "from sklearn.tree import DecisionTreeClassifier\n",
        "\n",
        "dt = DecisionTreeClassifier(random_state=42)"
      ],
      "metadata": {
        "id": "_ZdESjr_ixLB"
      },
      "execution_count": 9,
      "outputs": []
    },
    {
      "cell_type": "code",
      "source": [
        "from sklearn.model_selection import cross_validate\n",
        "\n",
        "scores = cross_validate(dt, train_input, train_target, cv=3) # estimator, X, y=None\n",
        "print(scores)"
      ],
      "metadata": {
        "colab": {
          "base_uri": "https://localhost:8080/"
        },
        "id": "X2PNKsYpjbQA",
        "outputId": "bab116ca-f5e2-4f3b-919f-3d34d24e82c5"
      },
      "execution_count": 11,
      "outputs": [
        {
          "output_type": "stream",
          "name": "stdout",
          "text": [
            "{'fit_time': array([0.00834584, 0.00635171, 0.00604248]), 'score_time': array([0.00094795, 0.00081754, 0.00079703]), 'test_score': array([0.84535488, 0.87182448, 0.84757506])}\n"
          ]
        }
      ]
    },
    {
      "cell_type": "code",
      "source": [
        "np.mean(scores['test_score']) # 정확히는 validation score"
      ],
      "metadata": {
        "colab": {
          "base_uri": "https://localhost:8080/"
        },
        "id": "4qxLUrzOkw6m",
        "outputId": "067981d8-35b4-47f0-99a5-5d13302b091d"
      },
      "execution_count": 12,
      "outputs": [
        {
          "output_type": "execute_result",
          "data": {
            "text/plain": [
              "0.8549181380146386"
            ]
          },
          "metadata": {},
          "execution_count": 12
        }
      ]
    },
    {
      "cell_type": "code",
      "source": [
        "for k in scores.keys():\n",
        "  print(k)"
      ],
      "metadata": {
        "colab": {
          "base_uri": "https://localhost:8080/"
        },
        "id": "XwjRuxf8lqs0",
        "outputId": "194a178f-df9a-4f87-9233-9283e436a045"
      },
      "execution_count": 13,
      "outputs": [
        {
          "output_type": "stream",
          "name": "stdout",
          "text": [
            "fit_time\n",
            "score_time\n",
            "test_score\n"
          ]
        }
      ]
    },
    {
      "cell_type": "code",
      "source": [
        "scores = cross_validate(dt, train_input, train_target, cv=3,  return_train_score=True)\n",
        "print(scores)"
      ],
      "metadata": {
        "colab": {
          "base_uri": "https://localhost:8080/"
        },
        "id": "L1KAE7ASmXnM",
        "outputId": "a938c000-f352-4fb0-cf46-62a1c0c83b68"
      },
      "execution_count": 15,
      "outputs": [
        {
          "output_type": "stream",
          "name": "stdout",
          "text": [
            "{'fit_time': array([0.00905108, 0.00614643, 0.00606513]), 'score_time': array([0.00099349, 0.00082588, 0.00081134]), 'test_score': array([0.84535488, 0.87182448, 0.84757506]), 'train_score': array([0.99711316, 0.9979798 , 0.9979798 ])}\n"
          ]
        }
      ]
    },
    {
      "cell_type": "code",
      "source": [
        "np.mean(scores['test_score'])"
      ],
      "metadata": {
        "colab": {
          "base_uri": "https://localhost:8080/"
        },
        "id": "oVLX3URjmh1b",
        "outputId": "c05ef834-0135-4d66-a5d9-93438572ff0b"
      },
      "execution_count": 17,
      "outputs": [
        {
          "output_type": "execute_result",
          "data": {
            "text/plain": [
              "0.8549181380146386"
            ]
          },
          "metadata": {},
          "execution_count": 17
        }
      ]
    },
    {
      "cell_type": "code",
      "source": [
        "np.mean(scores['train_score']) #overfit 상태"
      ],
      "metadata": {
        "colab": {
          "base_uri": "https://localhost:8080/"
        },
        "id": "x4HC9DhrmPrO",
        "outputId": "33ea8820-605d-48e5-f2b9-03ca4ce99f33"
      },
      "execution_count": 16,
      "outputs": [
        {
          "output_type": "execute_result",
          "data": {
            "text/plain": [
              "0.9976909199772942"
            ]
          },
          "metadata": {},
          "execution_count": 16
        }
      ]
    },
    {
      "cell_type": "markdown",
      "source": [
        "#K Fold 객체 사용"
      ],
      "metadata": {
        "id": "VwYRQeCqmq8w"
      }
    },
    {
      "cell_type": "code",
      "source": [
        "from sklearn.model_selection import KFold, StratifiedKFold\n",
        "\n",
        "#n_splits : 몇 폴드로 교차검증을 할 지 선택 -> 무조건 첫번째 파라미터\n",
        "kfold = KFold(3, shuffle=True, random_state=42) # 랜덤방식 -> 데이터가 많으면 편향이 발생하기 쉬움 -> 층화 임의 추출(StratifiedKFold)\n",
        "skfold = StratifiedKFold(n_splits=3, shuffle=True, random_state=42) "
      ],
      "metadata": {
        "id": "G6HOfBzPm6_C"
      },
      "execution_count": 24,
      "outputs": []
    },
    {
      "cell_type": "code",
      "source": [
        "scores = cross_validate(dt, train_input, train_target, cv=kfold, return_train_score=True)\n",
        "print(scores)"
      ],
      "metadata": {
        "colab": {
          "base_uri": "https://localhost:8080/"
        },
        "id": "nlpTsJNEmxTu",
        "outputId": "265eb1de-483a-4034-db75-9d134d7af287"
      },
      "execution_count": 21,
      "outputs": [
        {
          "output_type": "stream",
          "name": "stdout",
          "text": [
            "{'fit_time': array([0.00872421, 0.00608993, 0.00653934]), 'score_time': array([0.00094628, 0.000772  , 0.00123501]), 'test_score': array([0.84997115, 0.84237875, 0.84930716]), 'train_score': array([0.99711316, 0.9965368 , 0.9994228 ])}\n"
          ]
        }
      ]
    },
    {
      "cell_type": "code",
      "source": [
        "scores = cross_validate(dt, train_input, train_target, cv=skfold, return_train_score=True)\n",
        "print(scores)"
      ],
      "metadata": {
        "colab": {
          "base_uri": "https://localhost:8080/"
        },
        "id": "bY6faMyFngvi",
        "outputId": "51af51c1-c23f-4d06-8854-3af78a2e46bf"
      },
      "execution_count": 25,
      "outputs": [
        {
          "output_type": "stream",
          "name": "stdout",
          "text": [
            "{'fit_time': array([0.00855637, 0.00606561, 0.00612378]), 'score_time': array([0.0012908 , 0.00079799, 0.00083947]), 'test_score': array([0.85920369, 0.85450346, 0.84237875]), 'train_score': array([0.99682448, 0.998557  , 0.9979798 ])}\n"
          ]
        }
      ]
    },
    {
      "cell_type": "code",
      "source": [
        "for i,v in enumerate(np.arange(0.0003, 0.0008, 0.0001)):\n",
        "  dt = DecisionTreeClassifier(min_impurity_decrease=v, random_state=42)\n",
        "  scores = cross_validate(dt, train_input, train_target, cv=skfold, return_train_score=True )\n",
        "  print(f'[{i}]')\n",
        "  print(f\"train score: {np.mean(scores['train_score'])}\")\n",
        "  print(f\"test score: {np.mean(scores['test_score'])}\", end = '\\n\\n')\n",
        "\n",
        "# 점수들이 올라가다가 다시 내려감\n",
        "  # min_impurity_decrease 값 0.0001 ~ 0.0010 이러한 값들은 경험적인 값들 -> 경험이 없으면 알 수 없음"
      ],
      "metadata": {
        "colab": {
          "base_uri": "https://localhost:8080/"
        },
        "id": "46Mq9cq3opqJ",
        "outputId": "c7a8cc4f-fe72-4f5b-ef80-b406bf2f26ae"
      },
      "execution_count": 39,
      "outputs": [
        {
          "output_type": "stream",
          "name": "stdout",
          "text": [
            "[0]\n",
            "train score: 0.9295742257058653\n",
            "test score: 0.8637674370670857\n",
            "\n",
            "[1]\n",
            "train score: 0.9119681362175589\n",
            "test score: 0.863958782267153\n",
            "\n",
            "[2]\n",
            "train score: 0.9000382412045229\n",
            "test score: 0.8654987613091344\n",
            "\n",
            "[3]\n",
            "train score: 0.8947468748854431\n",
            "test score: 0.8668459514554007\n",
            "\n",
            "[4]\n",
            "train score: 0.8869535562376208\n",
            "test score: 0.8631911803966564\n",
            "\n"
          ]
        }
      ]
    },
    {
      "cell_type": "markdown",
      "source": [
        "#하이퍼 파라미터 튜닝"
      ],
      "metadata": {
        "id": "5gwxWulbsZme"
      }
    },
    {
      "cell_type": "code",
      "source": [
        "from sklearn.model_selection import GridSearchCV\n",
        "\n",
        "dt = DecisionTreeClassifier(random_state=42)\n",
        "params = {\n",
        "    \"max_depth\": range(3, 6),\n",
        "    \"min_samples_split\": [2,5,8],\n",
        "    \"min_impurity_decrease\": np.arange(0.0001, 0.0006, 0.0001)\n",
        "}"
      ],
      "metadata": {
        "id": "t4dYk-gJxSfT"
      },
      "execution_count": 46,
      "outputs": []
    },
    {
      "cell_type": "code",
      "source": [
        "3 * 3 * 5 * 5\n",
        "# depth * split * impurity * fold 모두 곱하면 갯수가 나옴"
      ],
      "metadata": {
        "colab": {
          "base_uri": "https://localhost:8080/"
        },
        "id": "O69DkkXZy2-h",
        "outputId": "38345797-8be2-4423-d7ea-11f36d23c6f6"
      },
      "execution_count": 44,
      "outputs": [
        {
          "output_type": "execute_result",
          "data": {
            "text/plain": [
              "225"
            ]
          },
          "metadata": {},
          "execution_count": 44
        }
      ]
    },
    {
      "cell_type": "code",
      "source": [
        "gs = GridSearchCV(dt, params, cv=5, n_jobs=-1)\n",
        "# estimator, param_grid * 별표 앞의 파라미터는 positional argument -> 순서대로 적어야함\n",
        "# * 뒤에 오는 파라미터는 keyword argument -> 이름만 제대로 적으면 알아서 들어감\n",
        "\n",
        "gs.fit(train_input, train_target)"
      ],
      "metadata": {
        "colab": {
          "base_uri": "https://localhost:8080/"
        },
        "id": "280Z2HNUyFfy",
        "outputId": "9bb6040e-3b9b-4750-f202-45223ee925be"
      },
      "execution_count": 47,
      "outputs": [
        {
          "output_type": "execute_result",
          "data": {
            "text/plain": [
              "GridSearchCV(cv=5, estimator=DecisionTreeClassifier(random_state=42), n_jobs=-1,\n",
              "             param_grid={'max_depth': range(3, 6),\n",
              "                         'min_impurity_decrease': array([0.0001, 0.0002, 0.0003, 0.0004, 0.0005]),\n",
              "                         'min_samples_split': [2, 5, 8]})"
            ]
          },
          "metadata": {},
          "execution_count": 47
        }
      ]
    },
    {
      "cell_type": "code",
      "source": [
        "gs.best_estimator_ #best 값은 저장을 해 두었으니 우리는 꺼내서 참조하면 됨"
      ],
      "metadata": {
        "colab": {
          "base_uri": "https://localhost:8080/"
        },
        "id": "up0VMVuzzLQa",
        "outputId": "2cfe39b6-4a6e-4943-f14d-8735d14d009b"
      },
      "execution_count": 55,
      "outputs": [
        {
          "output_type": "execute_result",
          "data": {
            "text/plain": [
              "DecisionTreeClassifier(max_depth=5,\n",
              "                       min_impurity_decrease=0.00030000000000000003,\n",
              "                       random_state=42)"
            ]
          },
          "metadata": {},
          "execution_count": 55
        }
      ]
    },
    {
      "cell_type": "code",
      "source": [
        "gs.best_params_"
      ],
      "metadata": {
        "colab": {
          "base_uri": "https://localhost:8080/"
        },
        "id": "sMM1Jb30zgj5",
        "outputId": "6fa2bf18-163d-455d-c21d-aa2e1c15a1f7"
      },
      "execution_count": 56,
      "outputs": [
        {
          "output_type": "execute_result",
          "data": {
            "text/plain": [
              "{'max_depth': 5,\n",
              " 'min_impurity_decrease': 0.00030000000000000003,\n",
              " 'min_samples_split': 2}"
            ]
          },
          "metadata": {},
          "execution_count": 56
        }
      ]
    },
    {
      "cell_type": "code",
      "source": [
        "gs.best_score_ # test score"
      ],
      "metadata": {
        "colab": {
          "base_uri": "https://localhost:8080/"
        },
        "id": "keTRnIp6zifZ",
        "outputId": "6a7d299b-e4c9-4f3a-98cf-55b28b641742"
      },
      "execution_count": 57,
      "outputs": [
        {
          "output_type": "execute_result",
          "data": {
            "text/plain": [
              "0.8585735174354039"
            ]
          },
          "metadata": {},
          "execution_count": 57
        }
      ]
    },
    {
      "cell_type": "code",
      "source": [
        "gs.cv_results_.keys()"
      ],
      "metadata": {
        "colab": {
          "base_uri": "https://localhost:8080/"
        },
        "id": "-EDNV2h8zqXR",
        "outputId": "3b92856e-3a47-4edd-c7f6-be3f4a18556d"
      },
      "execution_count": 59,
      "outputs": [
        {
          "output_type": "execute_result",
          "data": {
            "text/plain": [
              "dict_keys(['mean_fit_time', 'std_fit_time', 'mean_score_time', 'std_score_time', 'param_max_depth', 'param_min_impurity_decrease', 'param_min_samples_split', 'params', 'split0_test_score', 'split1_test_score', 'split2_test_score', 'split3_test_score', 'split4_test_score', 'mean_test_score', 'std_test_score', 'rank_test_score'])"
            ]
          },
          "metadata": {},
          "execution_count": 59
        }
      ]
    },
    {
      "cell_type": "code",
      "source": [
        "gs.cv_results_['mean_test_score']"
      ],
      "metadata": {
        "colab": {
          "base_uri": "https://localhost:8080/"
        },
        "id": "GRynfUXrz4W9",
        "outputId": "cfa735d2-4cdc-4ca5-eef4-fb4aa1395c05"
      },
      "execution_count": 60,
      "outputs": [
        {
          "output_type": "execute_result",
          "data": {
            "text/plain": [
              "array([0.84125583, 0.84125583, 0.84125583, 0.84125583, 0.84125583,\n",
              "       0.84125583, 0.84125583, 0.84125583, 0.84125583, 0.84125583,\n",
              "       0.84125583, 0.84125583, 0.84125583, 0.84125583, 0.84125583,\n",
              "       0.85337806, 0.85337806, 0.85337806, 0.85337806, 0.85337806,\n",
              "       0.85337806, 0.85337806, 0.85337806, 0.85337806, 0.85337806,\n",
              "       0.85337806, 0.85337806, 0.85318557, 0.85318557, 0.85318557,\n",
              "       0.85780355, 0.85780355, 0.85799604, 0.85799604, 0.85799604,\n",
              "       0.85799604, 0.85857352, 0.85857352, 0.85857352, 0.85857352,\n",
              "       0.85857352, 0.85857352, 0.85838102, 0.85838102, 0.85838102])"
            ]
          },
          "metadata": {},
          "execution_count": 60
        }
      ]
    },
    {
      "cell_type": "code",
      "source": [
        "np.max(gs.cv_results_['mean_test_score']) # gs.best_score_ 와 동일"
      ],
      "metadata": {
        "colab": {
          "base_uri": "https://localhost:8080/"
        },
        "id": "3IyWlp3i0BP7",
        "outputId": "d42c3b65-6785-4bc9-fcce-097aff6ab6b9"
      },
      "execution_count": 61,
      "outputs": [
        {
          "output_type": "execute_result",
          "data": {
            "text/plain": [
              "0.8585735174354039"
            ]
          },
          "metadata": {},
          "execution_count": 61
        }
      ]
    },
    {
      "cell_type": "code",
      "source": [
        "best_model = gs.best_estimator_\n",
        "best_model.get_params() #해당 베스트 모델의 hyper parameter 정보 꺼내오기"
      ],
      "metadata": {
        "colab": {
          "base_uri": "https://localhost:8080/"
        },
        "id": "XxPj58YG0dQq",
        "outputId": "709eb1a8-b90f-4395-836b-ca0add4d1b7c"
      },
      "execution_count": 62,
      "outputs": [
        {
          "output_type": "execute_result",
          "data": {
            "text/plain": [
              "{'ccp_alpha': 0.0,\n",
              " 'class_weight': None,\n",
              " 'criterion': 'gini',\n",
              " 'max_depth': 5,\n",
              " 'max_features': None,\n",
              " 'max_leaf_nodes': None,\n",
              " 'min_impurity_decrease': 0.00030000000000000003,\n",
              " 'min_samples_leaf': 1,\n",
              " 'min_samples_split': 2,\n",
              " 'min_weight_fraction_leaf': 0.0,\n",
              " 'random_state': 42,\n",
              " 'splitter': 'best'}"
            ]
          },
          "metadata": {},
          "execution_count": 62
        }
      ]
    },
    {
      "cell_type": "code",
      "source": [
        "best_model.score(train_input, train_target) "
      ],
      "metadata": {
        "colab": {
          "base_uri": "https://localhost:8080/"
        },
        "id": "G7CjH8pU1Ilj",
        "outputId": "de8081c7-9bf7-4f14-b312-e8d36213988d"
      },
      "execution_count": 63,
      "outputs": [
        {
          "output_type": "execute_result",
          "data": {
            "text/plain": [
              "0.8668462574562248"
            ]
          },
          "metadata": {},
          "execution_count": 63
        }
      ]
    },
    {
      "cell_type": "code",
      "source": [
        "best_model.score(test_input, test_target) # 아주 조금 낮음 - Decision Tree는 한계가 있음을 알 수 있음 -> 점수 잘 안오름\n",
        "# overfit는 방지 했지만 점수 높지 않음"
      ],
      "metadata": {
        "colab": {
          "base_uri": "https://localhost:8080/"
        },
        "id": "Kec45jfF1N8e",
        "outputId": "a020253b-7690-48e0-904e-51a5da858ff3"
      },
      "execution_count": 64,
      "outputs": [
        {
          "output_type": "execute_result",
          "data": {
            "text/plain": [
              "0.8623076923076923"
            ]
          },
          "metadata": {},
          "execution_count": 64
        }
      ]
    },
    {
      "cell_type": "code",
      "source": [
        "# 책 예제\n",
        "\n",
        "params = {'min_impurity_decrease': [0.0001, 0.0002, 0.0003, 0.0004, 0.0005]}\n",
        "gs = GridSearchCV(DecisionTreeClassifier(random_state=42), params, n_jobs=-1) # 5x5 = 25개 모델 fit()\n",
        "gs.fit(train_input, train_target)\n",
        "\n",
        "dt = gs.best_estimator_\n",
        "print(dt.score(train_input, train_target))"
      ],
      "metadata": {
        "colab": {
          "base_uri": "https://localhost:8080/"
        },
        "id": "cJRE7N5-scLR",
        "outputId": "b4b52a37-9375-4d85-9afb-1cd1178321e7"
      },
      "execution_count": 41,
      "outputs": [
        {
          "output_type": "stream",
          "name": "stdout",
          "text": [
            "0.9615162593804117\n"
          ]
        }
      ]
    },
    {
      "cell_type": "code",
      "source": [
        "print(gs.best_params_), print(gs.cv_results_['mean_test_score'])"
      ],
      "metadata": {
        "colab": {
          "base_uri": "https://localhost:8080/"
        },
        "id": "Y8uBUQDFw2q2",
        "outputId": "4b943d2e-ff0a-490c-c2ea-cd3f34b0babb"
      },
      "execution_count": 42,
      "outputs": [
        {
          "output_type": "stream",
          "name": "stdout",
          "text": [
            "{'min_impurity_decrease': 0.0001}\n",
            "[0.86819297 0.86453617 0.86492226 0.86780891 0.86761605]\n"
          ]
        },
        {
          "output_type": "execute_result",
          "data": {
            "text/plain": [
              "(None, None)"
            ]
          },
          "metadata": {},
          "execution_count": 42
        }
      ]
    },
    {
      "cell_type": "markdown",
      "source": [
        "#확률 분포 선택 / 랜덤 서치\n",
        "그리드 서치가 아니라 분포를 이용한 서치를 실행"
      ],
      "metadata": {
        "id": "8mjVBBgj3ZiZ"
      }
    },
    {
      "cell_type": "code",
      "source": [
        "from scipy.stats import uniform, randint\n",
        "\n",
        "rgen = randint(0, 10) # 균등분포를 따르는 정수값인 난수를 생성하는 함수\n",
        "rgen.rvs(10) # 10개 뽑기 - 복원추출"
      ],
      "metadata": {
        "colab": {
          "base_uri": "https://localhost:8080/"
        },
        "id": "oilMvnfK3ZBq",
        "outputId": "853ee328-b5fb-4070-b13b-2aab65ca9583"
      },
      "execution_count": 65,
      "outputs": [
        {
          "output_type": "execute_result",
          "data": {
            "text/plain": [
              "array([0, 2, 9, 6, 9, 5, 6, 5, 4, 9])"
            ]
          },
          "metadata": {},
          "execution_count": 65
        }
      ]
    },
    {
      "cell_type": "code",
      "source": [
        "np.unique(rgen.rvs(1000), return_counts=True)\n",
        "# 1000개 정도 뽑았을 때, 균등하게 나옴"
      ],
      "metadata": {
        "colab": {
          "base_uri": "https://localhost:8080/"
        },
        "id": "Z_lZU4F65hmk",
        "outputId": "7bd4ec2a-d95b-4671-e1d0-63f0aa78dae6"
      },
      "execution_count": 66,
      "outputs": [
        {
          "output_type": "execute_result",
          "data": {
            "text/plain": [
              "(array([0, 1, 2, 3, 4, 5, 6, 7, 8, 9]),\n",
              " array([ 93, 100, 109,  94, 102,  98, 107,  91, 108,  98]))"
            ]
          },
          "metadata": {},
          "execution_count": 66
        }
      ]
    },
    {
      "cell_type": "code",
      "source": [
        "ugen = uniform(0,1) # 균등 분포를 따르는 실수값 생성\n",
        "ugen.rvs(10)\n",
        "\n",
        "# 난수 발생기와 유사함"
      ],
      "metadata": {
        "colab": {
          "base_uri": "https://localhost:8080/"
        },
        "id": "gPgF9Fi_5tUl",
        "outputId": "a5fdd50e-7a6b-4e8a-a2e4-9f5d280f9256"
      },
      "execution_count": 67,
      "outputs": [
        {
          "output_type": "execute_result",
          "data": {
            "text/plain": [
              "array([0.51856791, 0.05746335, 0.38529838, 0.19495707, 0.96391295,\n",
              "       0.3552058 , 0.32985386, 0.46612002, 0.99733113, 0.41380601])"
            ]
          },
          "metadata": {},
          "execution_count": 67
        }
      ]
    }
  ]
}