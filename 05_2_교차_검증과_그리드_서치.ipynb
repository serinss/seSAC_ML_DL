{
  "nbformat": 4,
  "nbformat_minor": 0,
  "metadata": {
    "colab": {
      "name": "05-2. 교차 검증과 그리드 서치.ipynb",
      "provenance": [],
      "collapsed_sections": [],
      "authorship_tag": "ABX9TyMrhO8zes6JWa/TpXXmeTcY",
      "include_colab_link": true
    },
    "kernelspec": {
      "name": "python3",
      "display_name": "Python 3"
    },
    "language_info": {
      "name": "python"
    }
  },
  "cells": [
    {
      "cell_type": "markdown",
      "metadata": {
        "id": "view-in-github",
        "colab_type": "text"
      },
      "source": [
        "<a href=\"https://colab.research.google.com/github/serinss/seSAC_ML_DL_Class/blob/main/05_2_%EA%B5%90%EC%B0%A8_%EA%B2%80%EC%A6%9D%EA%B3%BC_%EA%B7%B8%EB%A6%AC%EB%93%9C_%EC%84%9C%EC%B9%98.ipynb\" target=\"_parent\"><img src=\"https://colab.research.google.com/assets/colab-badge.svg\" alt=\"Open In Colab\"/></a>"
      ]
    },
    {
      "cell_type": "code",
      "execution_count": 1,
      "metadata": {
        "id": "kGkOJh0JC8qC",
        "colab": {
          "base_uri": "https://localhost:8080/"
        },
        "outputId": "f182475b-fdf7-47ac-d336-c4f6dbde1e76"
      },
      "outputs": [
        {
          "output_type": "stream",
          "name": "stdout",
          "text": [
            "Mounted at /content/drive\n"
          ]
        }
      ],
      "source": [
        "%run my_init.py"
      ]
    },
    {
      "cell_type": "code",
      "source": [
        "%run my_init.py"
      ],
      "metadata": {
        "colab": {
          "base_uri": "https://localhost:8080/"
        },
        "id": "IKzhoCr6cuOl",
        "outputId": "c98afc2c-a754-41c0-f32b-63471290d5f7"
      },
      "execution_count": 2,
      "outputs": [
        {
          "output_type": "stream",
          "name": "stdout",
          "text": [
            "Drive already mounted at /content/drive; to attempt to forcibly remount, call drive.mount(\"/content/drive\", force_remount=True).\n"
          ]
        }
      ]
    },
    {
      "cell_type": "markdown",
      "source": [
        "#교차 검증\n",
        "딥러닝 에서는 교차검증 하지 않음  \n",
        "비정형 데이터 대상이므로 크기가 월등히 커서 시간이 많이 걸림  "
      ],
      "metadata": {
        "id": "JC5y-X9ldDLP"
      }
    },
    {
      "cell_type": "markdown",
      "source": [
        "교차 검증 장점 : \n",
        "\n",
        "1. 모든 데이터 셋을 평가에 활용할 수 있다.\n",
        "\n",
        "  - 평가에 사용되는 데이터 편중을 막을 수 있다. \n",
        "\n",
        "(특정 평가 데이터 셋에 overfit 되는 것을 방지할 수 있다.)\n",
        "\n",
        "  - 평가 결과에 따라 좀 더 일반화된 모델을 만들 수 있다. \n",
        "\n",
        "2. 모든 데이터 셋을 훈련에 활용할 수 있다.\n",
        "\n",
        "  - 정확도를 향상시킬 수 있다.\n",
        "\n",
        "  - 데이터 부족으로 인한 underfitting을 방지할 수 있다.\n",
        "\n",
        "​\n",
        "\n",
        "교차 검증 단점 : Iteration 횟수가 많기 때문에 모델 훈련/평가 시간이 오래 걸린다."
      ],
      "metadata": {
        "id": "-zZ9bMdh_t75"
      }
    },
    {
      "cell_type": "code",
      "source": [
        "wine = pd.read_csv('https://bit.ly/wine_csv_data')"
      ],
      "metadata": {
        "id": "LUPp8iiIdF7Q"
      },
      "execution_count": 3,
      "outputs": []
    },
    {
      "cell_type": "code",
      "source": [
        "data = wine[['alcohol','sugar','pH']].to_numpy()\n",
        "data.shape"
      ],
      "metadata": {
        "colab": {
          "base_uri": "https://localhost:8080/"
        },
        "id": "4cMVqXCWiesc",
        "outputId": "24f97470-1582-4ce8-bb3c-a898e8535a38"
      },
      "execution_count": 4,
      "outputs": [
        {
          "output_type": "execute_result",
          "data": {
            "text/plain": [
              "(6497, 3)"
            ]
          },
          "metadata": {},
          "execution_count": 4
        }
      ]
    },
    {
      "cell_type": "code",
      "source": [
        "\n",
        "target = wine['class'].to_numpy()\n",
        "target.shape"
      ],
      "metadata": {
        "colab": {
          "base_uri": "https://localhost:8080/"
        },
        "id": "Lt4LXbefdpj3",
        "outputId": "da6ba8a5-cff4-4526-be4a-e5f2467abe3d"
      },
      "execution_count": 5,
      "outputs": [
        {
          "output_type": "execute_result",
          "data": {
            "text/plain": [
              "(6497,)"
            ]
          },
          "metadata": {},
          "execution_count": 5
        }
      ]
    },
    {
      "cell_type": "code",
      "source": [
        "train_input, test_input, train_target, test_target = train_test_split(data, target, test_size=0.2, random_state=42)"
      ],
      "metadata": {
        "id": "yvKJ3A61id8I"
      },
      "execution_count": 6,
      "outputs": []
    },
    {
      "cell_type": "code",
      "source": [
        "train_input.shape, train_target.shape"
      ],
      "metadata": {
        "colab": {
          "base_uri": "https://localhost:8080/"
        },
        "id": "C2IeeHvrimNC",
        "outputId": "91cc0cea-1b9a-4467-d37b-d6cb58c0475c"
      },
      "execution_count": 7,
      "outputs": [
        {
          "output_type": "execute_result",
          "data": {
            "text/plain": [
              "((5197, 3), (5197,))"
            ]
          },
          "metadata": {},
          "execution_count": 7
        }
      ]
    },
    {
      "cell_type": "code",
      "source": [
        "test_input.shape, test_target.shape"
      ],
      "metadata": {
        "colab": {
          "base_uri": "https://localhost:8080/"
        },
        "id": "gffWm7_vitfa",
        "outputId": "4d7188e4-98df-4d90-e307-78b89dc0babb"
      },
      "execution_count": 8,
      "outputs": [
        {
          "output_type": "execute_result",
          "data": {
            "text/plain": [
              "((1300, 3), (1300,))"
            ]
          },
          "metadata": {},
          "execution_count": 8
        }
      ]
    },
    {
      "cell_type": "code",
      "source": [
        "from sklearn.tree import DecisionTreeClassifier\n",
        "\n",
        "dt = DecisionTreeClassifier(random_state=42)"
      ],
      "metadata": {
        "id": "_ZdESjr_ixLB"
      },
      "execution_count": 9,
      "outputs": []
    },
    {
      "cell_type": "code",
      "source": [
        "from sklearn.model_selection import cross_validate\n",
        "\n",
        "scores = cross_validate(dt, train_input, train_target, cv=3) # estimator, X, y=None\n",
        "print(scores)"
      ],
      "metadata": {
        "colab": {
          "base_uri": "https://localhost:8080/"
        },
        "id": "X2PNKsYpjbQA",
        "outputId": "92f051f0-3dc0-4c31-9d29-568e00961841"
      },
      "execution_count": 10,
      "outputs": [
        {
          "output_type": "stream",
          "name": "stdout",
          "text": [
            "{'fit_time': array([0.01392579, 0.00655723, 0.0059793 ]), 'score_time': array([0.00098372, 0.00079703, 0.00076008]), 'test_score': array([0.84535488, 0.87182448, 0.84757506])}\n"
          ]
        }
      ]
    },
    {
      "cell_type": "code",
      "source": [
        "np.mean(scores['test_score']) # 정확히는 validation score"
      ],
      "metadata": {
        "colab": {
          "base_uri": "https://localhost:8080/"
        },
        "id": "4qxLUrzOkw6m",
        "outputId": "62abfc9a-2b90-4413-9222-6ad4a17277aa"
      },
      "execution_count": 11,
      "outputs": [
        {
          "output_type": "execute_result",
          "data": {
            "text/plain": [
              "0.8549181380146386"
            ]
          },
          "metadata": {},
          "execution_count": 11
        }
      ]
    },
    {
      "cell_type": "code",
      "source": [
        "for k in scores.keys():\n",
        "  print(k)"
      ],
      "metadata": {
        "colab": {
          "base_uri": "https://localhost:8080/"
        },
        "id": "XwjRuxf8lqs0",
        "outputId": "77a32fc3-eaa2-4fe5-b037-087856a8f29e"
      },
      "execution_count": 12,
      "outputs": [
        {
          "output_type": "stream",
          "name": "stdout",
          "text": [
            "fit_time\n",
            "score_time\n",
            "test_score\n"
          ]
        }
      ]
    },
    {
      "cell_type": "code",
      "source": [
        "scores = cross_validate(dt, train_input, train_target, cv=3,  return_train_score=True)\n",
        "print(scores)"
      ],
      "metadata": {
        "colab": {
          "base_uri": "https://localhost:8080/"
        },
        "id": "L1KAE7ASmXnM",
        "outputId": "8eb4add7-419f-4953-d6d8-3f659950f4f8"
      },
      "execution_count": 13,
      "outputs": [
        {
          "output_type": "stream",
          "name": "stdout",
          "text": [
            "{'fit_time': array([0.01292777, 0.00617242, 0.00597882]), 'score_time': array([0.00132012, 0.00077581, 0.00078058]), 'test_score': array([0.84535488, 0.87182448, 0.84757506]), 'train_score': array([0.99711316, 0.9979798 , 0.9979798 ])}\n"
          ]
        }
      ]
    },
    {
      "cell_type": "code",
      "source": [
        "np.mean(scores['test_score'])"
      ],
      "metadata": {
        "colab": {
          "base_uri": "https://localhost:8080/"
        },
        "id": "oVLX3URjmh1b",
        "outputId": "0fa3d958-6684-4e72-c704-68aa9d3a0a53"
      },
      "execution_count": 14,
      "outputs": [
        {
          "output_type": "execute_result",
          "data": {
            "text/plain": [
              "0.8549181380146386"
            ]
          },
          "metadata": {},
          "execution_count": 14
        }
      ]
    },
    {
      "cell_type": "code",
      "source": [
        "np.mean(scores['train_score']) #overfit 상태"
      ],
      "metadata": {
        "colab": {
          "base_uri": "https://localhost:8080/"
        },
        "id": "x4HC9DhrmPrO",
        "outputId": "13241aec-6d8b-4847-dc16-0bdd2d855eb1"
      },
      "execution_count": 15,
      "outputs": [
        {
          "output_type": "execute_result",
          "data": {
            "text/plain": [
              "0.9976909199772942"
            ]
          },
          "metadata": {},
          "execution_count": 15
        }
      ]
    },
    {
      "cell_type": "markdown",
      "source": [
        "#K Fold 객체 사용"
      ],
      "metadata": {
        "id": "VwYRQeCqmq8w"
      }
    },
    {
      "cell_type": "code",
      "source": [
        "from sklearn.model_selection import KFold, StratifiedKFold\n",
        "\n",
        "#n_splits : 몇 폴드로 교차검증을 할 지 선택 -> 무조건 첫번째 파라미터\n",
        "kfold = KFold(3, shuffle=True, random_state=42) # 랜덤방식 -> 데이터가 많으면 편향이 발생하기 쉬움 -> 층화 임의 추출(StratifiedKFold)\n",
        "skfold = StratifiedKFold(n_splits=3, shuffle=True, random_state=42) "
      ],
      "metadata": {
        "id": "G6HOfBzPm6_C"
      },
      "execution_count": 16,
      "outputs": []
    },
    {
      "cell_type": "code",
      "source": [
        "scores = cross_validate(dt, train_input, train_target, cv=kfold, return_train_score=True)\n",
        "print(scores)"
      ],
      "metadata": {
        "colab": {
          "base_uri": "https://localhost:8080/"
        },
        "id": "nlpTsJNEmxTu",
        "outputId": "20bade2d-1b70-4d36-ae35-3d33d445ca82"
      },
      "execution_count": 17,
      "outputs": [
        {
          "output_type": "stream",
          "name": "stdout",
          "text": [
            "{'fit_time': array([0.00896072, 0.00860691, 0.00803518]), 'score_time': array([0.00132203, 0.00139713, 0.00085783]), 'test_score': array([0.84997115, 0.84237875, 0.84930716]), 'train_score': array([0.99711316, 0.9965368 , 0.9994228 ])}\n"
          ]
        }
      ]
    },
    {
      "cell_type": "code",
      "source": [
        "scores = cross_validate(dt, train_input, train_target, cv=skfold, return_train_score=True)\n",
        "print(scores)"
      ],
      "metadata": {
        "colab": {
          "base_uri": "https://localhost:8080/"
        },
        "id": "bY6faMyFngvi",
        "outputId": "240d6a8c-108d-4a90-9ba4-6486c04556a9"
      },
      "execution_count": 18,
      "outputs": [
        {
          "output_type": "stream",
          "name": "stdout",
          "text": [
            "{'fit_time': array([0.01053452, 0.00590348, 0.00623918]), 'score_time': array([0.00091934, 0.00082517, 0.00081587]), 'test_score': array([0.85920369, 0.85450346, 0.84237875]), 'train_score': array([0.99682448, 0.998557  , 0.9979798 ])}\n"
          ]
        }
      ]
    },
    {
      "cell_type": "code",
      "source": [
        "for i,v in enumerate(np.arange(0.0003, 0.0008, 0.0001)):\n",
        "  dt = DecisionTreeClassifier(min_impurity_decrease=v, random_state=42)\n",
        "  scores = cross_validate(dt, train_input, train_target, cv=skfold, return_train_score=True )\n",
        "  print(f'[{i}]')\n",
        "  print(f\"train score: {np.mean(scores['train_score'])}\")\n",
        "  print(f\"test score: {np.mean(scores['test_score'])}\", end = '\\n\\n')\n",
        "\n",
        "# 점수들이 올라가다가 다시 내려감\n",
        "  # min_impurity_decrease 값 0.0001 ~ 0.0010 이러한 값들은 경험적인 값들 -> 경험이 없으면 알 수 없음"
      ],
      "metadata": {
        "colab": {
          "base_uri": "https://localhost:8080/"
        },
        "id": "46Mq9cq3opqJ",
        "outputId": "ef5d4c7a-5fc4-4a74-9783-265ed5654842"
      },
      "execution_count": 19,
      "outputs": [
        {
          "output_type": "stream",
          "name": "stdout",
          "text": [
            "[0]\n",
            "train score: 0.9295742257058653\n",
            "test score: 0.8637674370670857\n",
            "\n",
            "[1]\n",
            "train score: 0.9119681362175589\n",
            "test score: 0.863958782267153\n",
            "\n",
            "[2]\n",
            "train score: 0.9000382412045229\n",
            "test score: 0.8654987613091344\n",
            "\n",
            "[3]\n",
            "train score: 0.8947468748854431\n",
            "test score: 0.8668459514554007\n",
            "\n",
            "[4]\n",
            "train score: 0.8869535562376208\n",
            "test score: 0.8631911803966564\n",
            "\n"
          ]
        }
      ]
    },
    {
      "cell_type": "markdown",
      "source": [
        "#하이퍼 파라미터 튜닝"
      ],
      "metadata": {
        "id": "5gwxWulbsZme"
      }
    },
    {
      "cell_type": "code",
      "source": [
        "from sklearn.model_selection import GridSearchCV\n",
        "\n",
        "dt = DecisionTreeClassifier(random_state=42)\n",
        "params = {\n",
        "    \"max_depth\": range(3, 6),\n",
        "    \"min_samples_split\": [2,5,8],\n",
        "    \"min_impurity_decrease\": np.arange(0.0001, 0.0006, 0.0001)\n",
        "}"
      ],
      "metadata": {
        "id": "t4dYk-gJxSfT"
      },
      "execution_count": 20,
      "outputs": []
    },
    {
      "cell_type": "code",
      "source": [
        "3 * 3 * 5 * 5\n",
        "# depth * split * impurity * fold 모두 곱하면 갯수가 나옴"
      ],
      "metadata": {
        "colab": {
          "base_uri": "https://localhost:8080/"
        },
        "id": "O69DkkXZy2-h",
        "outputId": "522fcb4c-1964-409f-e264-c8a5032a7509"
      },
      "execution_count": 21,
      "outputs": [
        {
          "output_type": "execute_result",
          "data": {
            "text/plain": [
              "225"
            ]
          },
          "metadata": {},
          "execution_count": 21
        }
      ]
    },
    {
      "cell_type": "code",
      "source": [
        "gs = GridSearchCV(dt, params, cv=5, n_jobs=-1)\n",
        "# estimator, param_grid * 별표 앞의 파라미터는 positional argument -> 순서대로 적어야함\n",
        "# * 뒤에 오는 파라미터는 keyword argument -> 이름만 제대로 적으면 알아서 들어감\n",
        "\n",
        "gs.fit(train_input, train_target)"
      ],
      "metadata": {
        "colab": {
          "base_uri": "https://localhost:8080/"
        },
        "id": "280Z2HNUyFfy",
        "outputId": "b18b3854-9a55-4594-e9f7-79e6b8dcc02c"
      },
      "execution_count": 22,
      "outputs": [
        {
          "output_type": "execute_result",
          "data": {
            "text/plain": [
              "GridSearchCV(cv=5, estimator=DecisionTreeClassifier(random_state=42), n_jobs=-1,\n",
              "             param_grid={'max_depth': range(3, 6),\n",
              "                         'min_impurity_decrease': array([0.0001, 0.0002, 0.0003, 0.0004, 0.0005]),\n",
              "                         'min_samples_split': [2, 5, 8]})"
            ]
          },
          "metadata": {},
          "execution_count": 22
        }
      ]
    },
    {
      "cell_type": "code",
      "source": [
        "gs.best_estimator_ #best 값은 저장을 해 두었으니 우리는 꺼내서 참조하면 됨"
      ],
      "metadata": {
        "colab": {
          "base_uri": "https://localhost:8080/"
        },
        "id": "up0VMVuzzLQa",
        "outputId": "bc6471f5-ad51-426a-f80e-e281e6171f21"
      },
      "execution_count": 23,
      "outputs": [
        {
          "output_type": "execute_result",
          "data": {
            "text/plain": [
              "DecisionTreeClassifier(max_depth=5,\n",
              "                       min_impurity_decrease=0.00030000000000000003,\n",
              "                       random_state=42)"
            ]
          },
          "metadata": {},
          "execution_count": 23
        }
      ]
    },
    {
      "cell_type": "code",
      "source": [
        "gs.best_params_"
      ],
      "metadata": {
        "colab": {
          "base_uri": "https://localhost:8080/"
        },
        "id": "sMM1Jb30zgj5",
        "outputId": "a0b824ac-4e77-4e3a-d0fb-377dd57ebd70"
      },
      "execution_count": 24,
      "outputs": [
        {
          "output_type": "execute_result",
          "data": {
            "text/plain": [
              "{'max_depth': 5,\n",
              " 'min_impurity_decrease': 0.00030000000000000003,\n",
              " 'min_samples_split': 2}"
            ]
          },
          "metadata": {},
          "execution_count": 24
        }
      ]
    },
    {
      "cell_type": "code",
      "source": [
        "gs.best_score_ # test score"
      ],
      "metadata": {
        "colab": {
          "base_uri": "https://localhost:8080/"
        },
        "id": "keTRnIp6zifZ",
        "outputId": "c3ba94fd-42f2-4f69-899c-faeddf53815a"
      },
      "execution_count": 25,
      "outputs": [
        {
          "output_type": "execute_result",
          "data": {
            "text/plain": [
              "0.8585735174354039"
            ]
          },
          "metadata": {},
          "execution_count": 25
        }
      ]
    },
    {
      "cell_type": "code",
      "source": [
        "gs.cv_results_.keys()"
      ],
      "metadata": {
        "colab": {
          "base_uri": "https://localhost:8080/"
        },
        "id": "-EDNV2h8zqXR",
        "outputId": "34a37695-f6e7-4333-a29e-ce7dd16638e1"
      },
      "execution_count": 26,
      "outputs": [
        {
          "output_type": "execute_result",
          "data": {
            "text/plain": [
              "dict_keys(['mean_fit_time', 'std_fit_time', 'mean_score_time', 'std_score_time', 'param_max_depth', 'param_min_impurity_decrease', 'param_min_samples_split', 'params', 'split0_test_score', 'split1_test_score', 'split2_test_score', 'split3_test_score', 'split4_test_score', 'mean_test_score', 'std_test_score', 'rank_test_score'])"
            ]
          },
          "metadata": {},
          "execution_count": 26
        }
      ]
    },
    {
      "cell_type": "code",
      "source": [
        "gs.cv_results_['mean_test_score']"
      ],
      "metadata": {
        "colab": {
          "base_uri": "https://localhost:8080/"
        },
        "id": "GRynfUXrz4W9",
        "outputId": "2f15e181-249e-4d69-b20b-049cea0cc0b7"
      },
      "execution_count": 27,
      "outputs": [
        {
          "output_type": "execute_result",
          "data": {
            "text/plain": [
              "array([0.84125583, 0.84125583, 0.84125583, 0.84125583, 0.84125583,\n",
              "       0.84125583, 0.84125583, 0.84125583, 0.84125583, 0.84125583,\n",
              "       0.84125583, 0.84125583, 0.84125583, 0.84125583, 0.84125583,\n",
              "       0.85337806, 0.85337806, 0.85337806, 0.85337806, 0.85337806,\n",
              "       0.85337806, 0.85337806, 0.85337806, 0.85337806, 0.85337806,\n",
              "       0.85337806, 0.85337806, 0.85318557, 0.85318557, 0.85318557,\n",
              "       0.85780355, 0.85780355, 0.85799604, 0.85799604, 0.85799604,\n",
              "       0.85799604, 0.85857352, 0.85857352, 0.85857352, 0.85857352,\n",
              "       0.85857352, 0.85857352, 0.85838102, 0.85838102, 0.85838102])"
            ]
          },
          "metadata": {},
          "execution_count": 27
        }
      ]
    },
    {
      "cell_type": "code",
      "source": [
        "np.max(gs.cv_results_['mean_test_score']) # gs.best_score_ 와 동일"
      ],
      "metadata": {
        "colab": {
          "base_uri": "https://localhost:8080/"
        },
        "id": "3IyWlp3i0BP7",
        "outputId": "cbe0853b-314d-4e48-fcd9-8f6da1bfae33"
      },
      "execution_count": 28,
      "outputs": [
        {
          "output_type": "execute_result",
          "data": {
            "text/plain": [
              "0.8585735174354039"
            ]
          },
          "metadata": {},
          "execution_count": 28
        }
      ]
    },
    {
      "cell_type": "code",
      "source": [
        "best_model = gs.best_estimator_\n",
        "best_model.get_params() #해당 베스트 모델의 hyper parameter 정보 꺼내오기"
      ],
      "metadata": {
        "colab": {
          "base_uri": "https://localhost:8080/"
        },
        "id": "XxPj58YG0dQq",
        "outputId": "2cbf989d-bd18-4f95-e0d4-1bd90dd8ece4"
      },
      "execution_count": 29,
      "outputs": [
        {
          "output_type": "execute_result",
          "data": {
            "text/plain": [
              "{'ccp_alpha': 0.0,\n",
              " 'class_weight': None,\n",
              " 'criterion': 'gini',\n",
              " 'max_depth': 5,\n",
              " 'max_features': None,\n",
              " 'max_leaf_nodes': None,\n",
              " 'min_impurity_decrease': 0.00030000000000000003,\n",
              " 'min_samples_leaf': 1,\n",
              " 'min_samples_split': 2,\n",
              " 'min_weight_fraction_leaf': 0.0,\n",
              " 'random_state': 42,\n",
              " 'splitter': 'best'}"
            ]
          },
          "metadata": {},
          "execution_count": 29
        }
      ]
    },
    {
      "cell_type": "code",
      "source": [
        "best_model.score(train_input, train_target) "
      ],
      "metadata": {
        "colab": {
          "base_uri": "https://localhost:8080/"
        },
        "id": "G7CjH8pU1Ilj",
        "outputId": "d4e8a6cf-ef03-420f-bd9b-544a631fd93c"
      },
      "execution_count": 30,
      "outputs": [
        {
          "output_type": "execute_result",
          "data": {
            "text/plain": [
              "0.8668462574562248"
            ]
          },
          "metadata": {},
          "execution_count": 30
        }
      ]
    },
    {
      "cell_type": "code",
      "source": [
        "best_model.score(test_input, test_target) # 아주 조금 낮음 - Decision Tree는 한계가 있음을 알 수 있음 -> 점수 잘 안오름\n",
        "# overfit는 방지 했지만 점수 높지 않음"
      ],
      "metadata": {
        "colab": {
          "base_uri": "https://localhost:8080/"
        },
        "id": "Kec45jfF1N8e",
        "outputId": "266d5c22-957e-43a4-8fac-9b120bfaf3d5"
      },
      "execution_count": 31,
      "outputs": [
        {
          "output_type": "execute_result",
          "data": {
            "text/plain": [
              "0.8623076923076923"
            ]
          },
          "metadata": {},
          "execution_count": 31
        }
      ]
    },
    {
      "cell_type": "code",
      "source": [
        "# 책 예제\n",
        "\n",
        "params = {'min_impurity_decrease': [0.0001, 0.0002, 0.0003, 0.0004, 0.0005]}\n",
        "gs = GridSearchCV(DecisionTreeClassifier(random_state=42), params, n_jobs=-1) # 5x5 = 25개 모델 fit()\n",
        "gs.fit(train_input, train_target)\n",
        "\n",
        "dt = gs.best_estimator_\n",
        "print(dt.score(train_input, train_target))"
      ],
      "metadata": {
        "colab": {
          "base_uri": "https://localhost:8080/"
        },
        "id": "cJRE7N5-scLR",
        "outputId": "528746bb-c60a-4f4a-b1e0-c5d6f0c01421"
      },
      "execution_count": 32,
      "outputs": [
        {
          "output_type": "stream",
          "name": "stdout",
          "text": [
            "0.9615162593804117\n"
          ]
        }
      ]
    },
    {
      "cell_type": "code",
      "source": [
        "print(gs.best_params_), print(gs.cv_results_['mean_test_score'])"
      ],
      "metadata": {
        "colab": {
          "base_uri": "https://localhost:8080/"
        },
        "id": "Y8uBUQDFw2q2",
        "outputId": "bea7fb7c-eaa6-4fe0-a719-0208e269ab26"
      },
      "execution_count": 33,
      "outputs": [
        {
          "output_type": "stream",
          "name": "stdout",
          "text": [
            "{'min_impurity_decrease': 0.0001}\n",
            "[0.86819297 0.86453617 0.86492226 0.86780891 0.86761605]\n"
          ]
        },
        {
          "output_type": "execute_result",
          "data": {
            "text/plain": [
              "(None, None)"
            ]
          },
          "metadata": {},
          "execution_count": 33
        }
      ]
    },
    {
      "cell_type": "markdown",
      "source": [
        "#확률 분포 선택 / 랜덤 서치\n",
        "그리드 서치가 아니라 확률 분포를 이용한 서치를 실행"
      ],
      "metadata": {
        "id": "8mjVBBgj3ZiZ"
      }
    },
    {
      "cell_type": "code",
      "source": [
        "from scipy.stats import uniform, randint, norm, poisson, gamma, beta, bernoulli"
      ],
      "metadata": {
        "id": "oilMvnfK3ZBq"
      },
      "execution_count": 41,
      "outputs": []
    },
    {
      "cell_type": "code",
      "source": [
        "ud = uniform(0,1)\n",
        "ud.rvs(10, random_state=42) #랜덤하게 10개를 뽑겠다 - 복원추출"
      ],
      "metadata": {
        "colab": {
          "base_uri": "https://localhost:8080/"
        },
        "id": "bv5t3LnehJ2n",
        "outputId": "34bf8c05-d153-431c-9a79-028da4da9f42"
      },
      "execution_count": 43,
      "outputs": [
        {
          "output_type": "execute_result",
          "data": {
            "text/plain": [
              "array([0.37454012, 0.95071431, 0.73199394, 0.59865848, 0.15601864,\n",
              "       0.15599452, 0.05808361, 0.86617615, 0.60111501, 0.70807258])"
            ]
          },
          "metadata": {},
          "execution_count": 43
        }
      ]
    },
    {
      "cell_type": "code",
      "source": [
        "ud.rvs((4, 5), random_state=42) #4행 5열"
      ],
      "metadata": {
        "colab": {
          "base_uri": "https://localhost:8080/"
        },
        "id": "yXtd32m1hhvm",
        "outputId": "d9e5c6c0-0461-4036-cb9f-73ad98ecb248"
      },
      "execution_count": 44,
      "outputs": [
        {
          "output_type": "execute_result",
          "data": {
            "text/plain": [
              "array([[0.37454012, 0.95071431, 0.73199394, 0.59865848, 0.15601864],\n",
              "       [0.15599452, 0.05808361, 0.86617615, 0.60111501, 0.70807258],\n",
              "       [0.02058449, 0.96990985, 0.83244264, 0.21233911, 0.18182497],\n",
              "       [0.18340451, 0.30424224, 0.52475643, 0.43194502, 0.29122914]])"
            ]
          },
          "metadata": {},
          "execution_count": 44
        }
      ]
    },
    {
      "cell_type": "code",
      "source": [
        "nd = norm(60, 5) # ~N(60,5)\n",
        "# The location (loc=mean=평균값의 위치) keyword specifies the mean.\n",
        "# The scale (scale=표준편차) keyword specifies the standard deviation.\n",
        "\n",
        "nd.rvs((4, 6), random_state=42)"
      ],
      "metadata": {
        "colab": {
          "base_uri": "https://localhost:8080/"
        },
        "id": "AhrQ8GTqhsNs",
        "outputId": "93e7d5d2-c129-4976-dfa9-574a309ab666"
      },
      "execution_count": 46,
      "outputs": [
        {
          "output_type": "execute_result",
          "data": {
            "text/plain": [
              "array([[62.48357077, 59.30867849, 63.23844269, 67.61514928, 58.82923313,\n",
              "        58.82931522],\n",
              "       [67.89606408, 63.83717365, 57.65262807, 62.71280022, 57.68291154,\n",
              "        57.67135123],\n",
              "       [61.20981136, 50.43359878, 51.37541084, 57.18856235, 54.9358444 ,\n",
              "        61.57123666],\n",
              "       [55.45987962, 52.93848149, 67.32824384, 58.8711185 , 60.33764102,\n",
              "        52.87625907]])"
            ]
          },
          "metadata": {},
          "execution_count": 46
        }
      ]
    },
    {
      "cell_type": "code",
      "source": [
        "params = {\n",
        "    \"max_depth\": randint(3, 50),\n",
        "    \"min_samples_split\": randint(2, 20),\n",
        "    \"min_impurity_decrease\": uniform(0.00001, 0.001)\n",
        "}"
      ],
      "metadata": {
        "id": "N2mA2zH9jUrs"
      },
      "execution_count": 52,
      "outputs": []
    },
    {
      "cell_type": "code",
      "source": [
        "from sklearn.model_selection import RandomizedSearchCV\n",
        "\n",
        "rs = RandomizedSearchCV(dt, params, n_iter=500, n_jobs=-1, cv=10, random_state=42)\n",
        "rs.fit(train_input, train_target)"
      ],
      "metadata": {
        "colab": {
          "base_uri": "https://localhost:8080/"
        },
        "id": "ShdD6tzEjFhH",
        "outputId": "7038e94c-50f4-4283-b175-1fb317944e9b"
      },
      "execution_count": 64,
      "outputs": [
        {
          "output_type": "execute_result",
          "data": {
            "text/plain": [
              "RandomizedSearchCV(cv=10,\n",
              "                   estimator=DecisionTreeClassifier(max_depth=42,\n",
              "                                                    min_impurity_decrease=0.00023902539092479635,\n",
              "                                                    min_samples_split=8,\n",
              "                                                    random_state=42),\n",
              "                   n_iter=500, n_jobs=-1,\n",
              "                   param_distributions={'max_depth': <scipy.stats._distn_infrastructure.rv_frozen object at 0x7fa0550fc5d0>,\n",
              "                                        'min_impurity_decrease': <scipy.stats._distn_infrastructure.rv_frozen object at 0x7fa0550ed5d0>,\n",
              "                                        'min_samples_split': <scipy.stats._distn_infrastructure.rv_frozen object at 0x7fa0550fc2d0>},\n",
              "                   random_state=42)"
            ]
          },
          "metadata": {},
          "execution_count": 64
        }
      ]
    },
    {
      "cell_type": "code",
      "source": [
        "rs.best_score_ # CV가 적용 되었을 때의 점수 -> validation score (더 이상 의미 없음)"
      ],
      "metadata": {
        "colab": {
          "base_uri": "https://localhost:8080/"
        },
        "id": "31rtUA0DnOtC",
        "outputId": "3e691016-3587-401a-fbb8-50e3c2276acc"
      },
      "execution_count": 56,
      "outputs": [
        {
          "output_type": "execute_result",
          "data": {
            "text/plain": [
              "0.8731951237587076"
            ]
          },
          "metadata": {},
          "execution_count": 56
        }
      ]
    },
    {
      "cell_type": "code",
      "source": [
        "rs.best_params_"
      ],
      "metadata": {
        "colab": {
          "base_uri": "https://localhost:8080/"
        },
        "id": "e1eElsnlnkIg",
        "outputId": "a2831a69-a4a6-4454-fd3b-f7edd66ed504"
      },
      "execution_count": 57,
      "outputs": [
        {
          "output_type": "execute_result",
          "data": {
            "text/plain": [
              "{'max_depth': 42,\n",
              " 'min_impurity_decrease': 0.00023902539092479635,\n",
              " 'min_samples_split': 8}"
            ]
          },
          "metadata": {},
          "execution_count": 57
        }
      ]
    },
    {
      "cell_type": "code",
      "source": [
        "dt = rs.best_estimator_\n",
        "accuracy_score(train_target, dt.predict(train_input)) # train score"
      ],
      "metadata": {
        "colab": {
          "base_uri": "https://localhost:8080/"
        },
        "id": "87xR7jBDnz1E",
        "outputId": "34b8f0b5-e89d-4584-c92a-e9847f4e8a05"
      },
      "execution_count": 62,
      "outputs": [
        {
          "output_type": "execute_result",
          "data": {
            "text/plain": [
              "0.9141812584183182"
            ]
          },
          "metadata": {},
          "execution_count": 62
        }
      ]
    },
    {
      "cell_type": "code",
      "source": [
        "accuracy_score(test_target, dt.predict(test_input)) # CV값 87 -> 86 best fit 임을 알 수 있음"
      ],
      "metadata": {
        "colab": {
          "base_uri": "https://localhost:8080/"
        },
        "id": "UDPVYrfloVA8",
        "outputId": "098d5d88-c0bb-41ab-a6dd-cef0c0896a1a"
      },
      "execution_count": 61,
      "outputs": [
        {
          "output_type": "execute_result",
          "data": {
            "text/plain": [
              "0.8669230769230769"
            ]
          },
          "metadata": {},
          "execution_count": 61
        }
      ]
    }
  ]
}