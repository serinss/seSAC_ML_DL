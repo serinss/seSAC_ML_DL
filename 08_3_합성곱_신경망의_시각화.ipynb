{
  "nbformat": 4,
  "nbformat_minor": 0,
  "metadata": {
    "colab": {
      "name": "08-3. 합성곱 신경망의 시각화.ipynb",
      "provenance": [],
      "collapsed_sections": [],
      "authorship_tag": "ABX9TyOElOC2lp7JN3GCH/mk++9z",
      "include_colab_link": true
    },
    "kernelspec": {
      "name": "python3",
      "display_name": "Python 3"
    },
    "language_info": {
      "name": "python"
    },
    "accelerator": "GPU"
  },
  "cells": [
    {
      "cell_type": "markdown",
      "metadata": {
        "id": "view-in-github",
        "colab_type": "text"
      },
      "source": [
        "<a href=\"https://colab.research.google.com/github/serinss/seSAC_ML_DL_Class/blob/main/08_3_%ED%95%A9%EC%84%B1%EA%B3%B1_%EC%8B%A0%EA%B2%BD%EB%A7%9D%EC%9D%98_%EC%8B%9C%EA%B0%81%ED%99%94.ipynb\" target=\"_parent\"><img src=\"https://colab.research.google.com/assets/colab-badge.svg\" alt=\"Open In Colab\"/></a>"
      ]
    },
    {
      "cell_type": "code",
      "source": [
        "%run my_init.py"
      ],
      "metadata": {
        "colab": {
          "base_uri": "https://localhost:8080/"
        },
        "id": "9wHHm9vrbFZH",
        "outputId": "d6431879-572d-4b6c-f733-c323e38508df"
      },
      "execution_count": 1,
      "outputs": [
        {
          "output_type": "stream",
          "name": "stdout",
          "text": [
            "Mounted at /content/drive\n",
            "tf.__version__: 2.8.0\n",
            "keras.__version__: 2.8.0\n"
          ]
        }
      ]
    },
    {
      "cell_type": "code",
      "execution_count": 2,
      "metadata": {
        "id": "U-Qf1mvLa4H1"
      },
      "outputs": [],
      "source": [
        "%matplotlib inline"
      ]
    },
    {
      "cell_type": "markdown",
      "source": [
        "#패션 MNIST 데이터 불러오기"
      ],
      "metadata": {
        "id": "YSq-lD9qbMdZ"
      }
    },
    {
      "cell_type": "code",
      "source": [
        "(X_train, y_train), (X_test, y_test) = keras.datasets.fashion_mnist.load_data()\n",
        "X_train_scaled = X_train.reshape(-1,28,28,1)/255.0 #데이터 2D->3D 가 60000개 인 것(그림 잘 이해하기!!!)\n",
        "X_train_scaled, X_val_scaled, y_train, y_val = train_test_split(X_train_scaled, y_train, test_size=0.2, random_state=42)"
      ],
      "metadata": {
        "id": "ey7cJF37bO72",
        "colab": {
          "base_uri": "https://localhost:8080/"
        },
        "outputId": "2143e0fb-75fd-426e-fe72-cf0a3decda8f"
      },
      "execution_count": 3,
      "outputs": [
        {
          "output_type": "stream",
          "name": "stdout",
          "text": [
            "Downloading data from https://storage.googleapis.com/tensorflow/tf-keras-datasets/train-labels-idx1-ubyte.gz\n",
            "32768/29515 [=================================] - 0s 0us/step\n",
            "40960/29515 [=========================================] - 0s 0us/step\n",
            "Downloading data from https://storage.googleapis.com/tensorflow/tf-keras-datasets/train-images-idx3-ubyte.gz\n",
            "26427392/26421880 [==============================] - 0s 0us/step\n",
            "26435584/26421880 [==============================] - 0s 0us/step\n",
            "Downloading data from https://storage.googleapis.com/tensorflow/tf-keras-datasets/t10k-labels-idx1-ubyte.gz\n",
            "16384/5148 [===============================================================================================] - 0s 0us/step\n",
            "Downloading data from https://storage.googleapis.com/tensorflow/tf-keras-datasets/t10k-images-idx3-ubyte.gz\n",
            "4423680/4422102 [==============================] - 0s 0us/step\n",
            "4431872/4422102 [==============================] - 0s 0us/step\n"
          ]
        }
      ]
    },
    {
      "cell_type": "code",
      "source": [
        "X_train_scaled.shape, y_train.shape"
      ],
      "metadata": {
        "colab": {
          "base_uri": "https://localhost:8080/"
        },
        "id": "B91N7G36knFi",
        "outputId": "ed2898e2-1193-40be-f97c-2c984b3aaaef"
      },
      "execution_count": 4,
      "outputs": [
        {
          "output_type": "execute_result",
          "data": {
            "text/plain": [
              "((48000, 28, 28, 1), (48000,))"
            ]
          },
          "metadata": {},
          "execution_count": 4
        }
      ]
    },
    {
      "cell_type": "code",
      "source": [
        "X_val_scaled.shape"
      ],
      "metadata": {
        "colab": {
          "base_uri": "https://localhost:8080/"
        },
        "id": "kpvvhlczOwDQ",
        "outputId": "cef8fe2b-9c13-4975-fb69-46adcd926a17"
      },
      "execution_count": 5,
      "outputs": [
        {
          "output_type": "execute_result",
          "data": {
            "text/plain": [
              "(12000, 28, 28, 1)"
            ]
          },
          "metadata": {},
          "execution_count": 5
        }
      ]
    },
    {
      "cell_type": "markdown",
      "source": [
        "#합성곱 신경망 만들기"
      ],
      "metadata": {
        "id": "aZMrE3mtcGit"
      }
    },
    {
      "cell_type": "code",
      "source": [
        "model = keras.Sequential()\n",
        "# 첫번째 합성곱-풀링 층\n",
        "model.add(keras.layers.Conv2D(32, kernel_size=3, activation='relu', padding='same', input_shape=(28,28,1))) #입력층 크기, 커널 정보만 설정\n",
        "model.add(keras.layers.MaxPooling2D(2))\n",
        "\n",
        "# 이미지 - 일반적인 도형적인 특성에 대한 필터링 진행(선, 면, 등등) -> general\n",
        "# 아래로 내려갈수록 special , detail 특성 필터링\n",
        "\n",
        "\n",
        "# conv2d : (28,28,1)->32개 이므로 3차원은 표현하지 않음(depth정보 없으므로 위의 shape로 확인하기)\n",
        "# 학습된 파라미터의 개수는 32 * 9(3*3) = 288 + 32(b) = 320개"
      ],
      "metadata": {
        "id": "FiqQNuqKcFhF"
      },
      "execution_count": 6,
      "outputs": []
    },
    {
      "cell_type": "code",
      "source": [
        "len(model.layers[0].weights)\n",
        "# layers[0] = Conv2D"
      ],
      "metadata": {
        "colab": {
          "base_uri": "https://localhost:8080/"
        },
        "id": "CMBIAvUjnQNT",
        "outputId": "e22e4e65-608f-47b8-e9c2-4e7736c02d60"
      },
      "execution_count": 7,
      "outputs": [
        {
          "output_type": "execute_result",
          "data": {
            "text/plain": [
              "2"
            ]
          },
          "metadata": {},
          "execution_count": 7
        }
      ]
    },
    {
      "cell_type": "code",
      "source": [
        "model.layers[0].weights[0].shape #weights = 가중치 -> filter정보(32개의 가중치 크기)\n",
        "#[3, 3, 1] -> 3x3 x1 입력을 28x28x1 로 했으니 맞춰서 나옴"
      ],
      "metadata": {
        "colab": {
          "base_uri": "https://localhost:8080/"
        },
        "id": "Qi_IVnRSoBBE",
        "outputId": "7dcefa26-f831-4867-8aa3-4829a98c4c62"
      },
      "execution_count": 8,
      "outputs": [
        {
          "output_type": "execute_result",
          "data": {
            "text/plain": [
              "TensorShape([3, 3, 1, 32])"
            ]
          },
          "metadata": {},
          "execution_count": 8
        }
      ]
    },
    {
      "cell_type": "code",
      "source": [
        "model.layers[0].weights[1].shape # filter 32개의 bias"
      ],
      "metadata": {
        "colab": {
          "base_uri": "https://localhost:8080/"
        },
        "id": "hUX1YgaFoGLa",
        "outputId": "635529c3-63c0-471b-da70-3a515efedb92"
      },
      "execution_count": 9,
      "outputs": [
        {
          "output_type": "execute_result",
          "data": {
            "text/plain": [
              "TensorShape([32])"
            ]
          },
          "metadata": {},
          "execution_count": 9
        }
      ]
    },
    {
      "cell_type": "code",
      "source": [
        "model.layers[1]"
      ],
      "metadata": {
        "colab": {
          "base_uri": "https://localhost:8080/"
        },
        "id": "3BVw4jKUnSkd",
        "outputId": "9df20aca-52d9-47e8-959a-12fabc99ca40"
      },
      "execution_count": 10,
      "outputs": [
        {
          "output_type": "execute_result",
          "data": {
            "text/plain": [
              "<keras.layers.pooling.MaxPooling2D at 0x7f6cb70bac10>"
            ]
          },
          "metadata": {},
          "execution_count": 10
        }
      ]
    },
    {
      "cell_type": "code",
      "source": [
        "##두번째 합성곱-풀링 층\n",
        "model.add(keras.layers.Conv2D(64, kernel_size=3, activation='relu', padding='same'))\n",
        "model.add(keras.layers.MaxPooling2D(2)) # 학습 parameter없음, FeatureMap의 size만 줄어듦"
      ],
      "metadata": {
        "id": "VI83r-1qccAZ"
      },
      "execution_count": 11,
      "outputs": []
    },
    {
      "cell_type": "code",
      "source": [
        "model.add(keras.layers.Flatten()) #최종으로 나온 FeatureMap 을 뉴런 3136개로 flatten\n",
        "model.add(keras.layers.Dense(100, activation='relu')) #100개 뉴런 은닉층\n",
        "model.add(keras.layers.Dropout(0.4)) # 드롭아웃 -> 뉴런 40% 비활성화\n",
        "model.add(keras.layers.Dense(10, activation='softmax')) # 10개 뉴런 출력층"
      ],
      "metadata": {
        "id": "D8QdQiZMcmS1"
      },
      "execution_count": 12,
      "outputs": []
    },
    {
      "cell_type": "code",
      "source": [
        "model.layers[2].weights[0].shape # 3*3*32*64=18432 + 64(bias) = 18496"
      ],
      "metadata": {
        "colab": {
          "base_uri": "https://localhost:8080/"
        },
        "id": "SKsVEkDZqvow",
        "outputId": "dc20b502-93df-4be7-a25d-65e655edbb23"
      },
      "execution_count": 13,
      "outputs": [
        {
          "output_type": "execute_result",
          "data": {
            "text/plain": [
              "TensorShape([3, 3, 32, 64])"
            ]
          },
          "metadata": {},
          "execution_count": 13
        }
      ]
    },
    {
      "cell_type": "code",
      "source": [
        "model.summary()"
      ],
      "metadata": {
        "colab": {
          "base_uri": "https://localhost:8080/"
        },
        "id": "Lf6n7n4PdN8Q",
        "outputId": "6e525937-cf10-44ff-a407-e81f63aa3b43"
      },
      "execution_count": 14,
      "outputs": [
        {
          "output_type": "stream",
          "name": "stdout",
          "text": [
            "Model: \"sequential\"\n",
            "_________________________________________________________________\n",
            " Layer (type)                Output Shape              Param #   \n",
            "=================================================================\n",
            " conv2d (Conv2D)             (None, 28, 28, 32)        320       \n",
            "                                                                 \n",
            " max_pooling2d (MaxPooling2D  (None, 14, 14, 32)       0         \n",
            " )                                                               \n",
            "                                                                 \n",
            " conv2d_1 (Conv2D)           (None, 14, 14, 64)        18496     \n",
            "                                                                 \n",
            " max_pooling2d_1 (MaxPooling  (None, 7, 7, 64)         0         \n",
            " 2D)                                                             \n",
            "                                                                 \n",
            " flatten (Flatten)           (None, 3136)              0         \n",
            "                                                                 \n",
            " dense (Dense)               (None, 100)               313700    \n",
            "                                                                 \n",
            " dropout (Dropout)           (None, 100)               0         \n",
            "                                                                 \n",
            " dense_1 (Dense)             (None, 10)                1010      \n",
            "                                                                 \n",
            "=================================================================\n",
            "Total params: 333,526\n",
            "Trainable params: 333,526\n",
            "Non-trainable params: 0\n",
            "_________________________________________________________________\n"
          ]
        }
      ]
    },
    {
      "cell_type": "code",
      "source": [
        "keras.utils.plot_model(model)"
      ],
      "metadata": {
        "colab": {
          "base_uri": "https://localhost:8080/",
          "height": 856
        },
        "id": "F0LA0_z5dmBB",
        "outputId": "05f92e2d-50c1-453c-8187-44adc72dc78b"
      },
      "execution_count": 15,
      "outputs": [
        {
          "output_type": "execute_result",
          "data": {
            "text/plain": [
              "<IPython.core.display.Image object>"
            ],
            "image/png": "[encoded data removed]"
          },
          "metadata": {},
          "execution_count": 15
        }
      ]
    },
    {
      "cell_type": "code",
      "source": [
        "keras.utils.plot_model(model, show_shapes=True, dpi=90)\n",
        "# InputLayer 표시가 나온다! (Flatten 쓰지 않아도 나옴)"
      ],
      "metadata": {
        "colab": {
          "base_uri": "https://localhost:8080/",
          "height": 916
        },
        "id": "7RXQfuUCjNbV",
        "outputId": "b6d99d38-ed37-40b7-e868-35565f5fc694"
      },
      "execution_count": 16,
      "outputs": [
        {
          "output_type": "execute_result",
          "data": {
            "text/plain": [
              "<IPython.core.display.Image object>"
            ],
            "image/png": "[encoded data removed]"
          },
          "metadata": {},
          "execution_count": 16
        }
      ]
    },
    {
      "cell_type": "markdown",
      "source": [
        "maxPooling2D - 까지가 CNN  \n",
        "flatten - 부터 DNN"
      ],
      "metadata": {
        "id": "UCbIoXslCX0X"
      }
    },
    {
      "cell_type": "markdown",
      "source": [
        "#모델 컴파일과 훈련"
      ],
      "metadata": {
        "id": "2ApJ44PxjSQe"
      }
    },
    {
      "cell_type": "code",
      "source": [
        "y_train[0:1] # --> sparse_categorical_crossentropy 사용"
      ],
      "metadata": {
        "colab": {
          "base_uri": "https://localhost:8080/"
        },
        "id": "iQf3xe1rRmA4",
        "outputId": "a3ace674-2340-4ad7-87ef-c1aee0cce58c"
      },
      "execution_count": 17,
      "outputs": [
        {
          "output_type": "execute_result",
          "data": {
            "text/plain": [
              "array([7], dtype=uint8)"
            ]
          },
          "metadata": {},
          "execution_count": 17
        }
      ]
    },
    {
      "cell_type": "code",
      "source": [
        "keras.utils.to_categorical(y_train)[0:1] # one-hot-encoding --> categorical_crossentropy 사용"
      ],
      "metadata": {
        "colab": {
          "base_uri": "https://localhost:8080/"
        },
        "id": "eMtMc-RTRpDh",
        "outputId": "bdfe349d-d2ad-44ef-c63f-07564d7eb05f"
      },
      "execution_count": 18,
      "outputs": [
        {
          "output_type": "execute_result",
          "data": {
            "text/plain": [
              "array([[0., 0., 0., 0., 0., 0., 0., 1., 0., 0.]], dtype=float32)"
            ]
          },
          "metadata": {},
          "execution_count": 18
        }
      ]
    },
    {
      "cell_type": "code",
      "source": [
        "model.compile(optimizer='adam', loss='sparse_categorical_crossentropy', metrics='accuracy')\n",
        "checkpoint_cb = keras.callbacks.ModelCheckpoint('best-cnn-model.h5')\n",
        "early_stopping_cb = keras.callbacks.EarlyStopping(patience=2, restore_best_weights=True)\n",
        "history = model.fit(X_train_scaled, y_train, epochs=20, validation_data=(X_val_scaled, y_val), callbacks=[checkpoint_cb, early_stopping_cb])"
      ],
      "metadata": {
        "colab": {
          "base_uri": "https://localhost:8080/"
        },
        "id": "_gHhThoqDF4u",
        "outputId": "90f921e5-a779-4dbd-842e-7e75af461120"
      },
      "execution_count": 19,
      "outputs": [
        {
          "output_type": "stream",
          "name": "stdout",
          "text": [
            "Epoch 1/20\n",
            "1500/1500 [==============================] - 20s 7ms/step - loss: 0.5198 - accuracy: 0.8139 - val_loss: 0.3370 - val_accuracy: 0.8705\n",
            "Epoch 2/20\n",
            "1500/1500 [==============================] - 10s 7ms/step - loss: 0.3398 - accuracy: 0.8780 - val_loss: 0.2699 - val_accuracy: 0.8986\n",
            "Epoch 3/20\n",
            "1500/1500 [==============================] - 10s 7ms/step - loss: 0.2902 - accuracy: 0.8948 - val_loss: 0.2556 - val_accuracy: 0.9033\n",
            "Epoch 4/20\n",
            "1500/1500 [==============================] - 10s 7ms/step - loss: 0.2605 - accuracy: 0.9053 - val_loss: 0.2393 - val_accuracy: 0.9116\n",
            "Epoch 5/20\n",
            "1500/1500 [==============================] - 10s 7ms/step - loss: 0.2343 - accuracy: 0.9140 - val_loss: 0.2364 - val_accuracy: 0.9103\n",
            "Epoch 6/20\n",
            "1500/1500 [==============================] - 10s 7ms/step - loss: 0.2138 - accuracy: 0.9212 - val_loss: 0.2158 - val_accuracy: 0.9205\n",
            "Epoch 7/20\n",
            "1500/1500 [==============================] - 10s 7ms/step - loss: 0.1962 - accuracy: 0.9278 - val_loss: 0.2282 - val_accuracy: 0.9176\n",
            "Epoch 8/20\n",
            "1500/1500 [==============================] - 10s 7ms/step - loss: 0.1832 - accuracy: 0.9313 - val_loss: 0.2184 - val_accuracy: 0.9220\n"
          ]
        }
      ]
    },
    {
      "cell_type": "code",
      "source": [
        "plt.plot(history.history['loss'])\n",
        "plt.plot(history.history['val_loss'])\n",
        "plt.xlabel('eapch')\n",
        "plt.ylabel('loss')\n",
        "plt.legend(['train','val'])\n",
        "plt.show()\n",
        "\n",
        "# epoch = 20 -> 19번까지 돌아야 하지만, early_stop = 10에서 멈췄다\n",
        "\n",
        "# best-fit = 8 임을 알 수 있음!"
      ],
      "metadata": {
        "colab": {
          "base_uri": "https://localhost:8080/",
          "height": 279
        },
        "id": "CFrY4esnMLoy",
        "outputId": "ca18adec-1e33-4e93-9365-1e1b4c032908"
      },
      "execution_count": 20,
      "outputs": [
        {
          "output_type": "display_data",
          "data": {
            "text/plain": [
              "<Figure size 432x288 with 1 Axes>"
            ],
            "image/png": "[encoded data removed]"
          },
          "metadata": {
            "needs_background": "light"
          }
        }
      ]
    },
    {
      "cell_type": "code",
      "source": [
        "model.evaluate(X_val_scaled, y_val)"
      ],
      "metadata": {
        "colab": {
          "base_uri": "https://localhost:8080/"
        },
        "id": "-Y0E0xj7Mrtj",
        "outputId": "88ce3927-fa0a-426c-9056-5f22fa4565b8"
      },
      "execution_count": 21,
      "outputs": [
        {
          "output_type": "stream",
          "name": "stdout",
          "text": [
            "375/375 [==============================] - 1s 3ms/step - loss: 0.2158 - accuracy: 0.9205\n"
          ]
        },
        {
          "output_type": "execute_result",
          "data": {
            "text/plain": [
              "[0.2158498913049698, 0.9204999804496765]"
            ]
          },
          "metadata": {},
          "execution_count": 21
        }
      ]
    },
    {
      "cell_type": "code",
      "source": [
        "plt.imshow(X_val_scaled[0].reshape(28,28), cmap='gray_r') # 3차원->2차원\n",
        "plt.show()"
      ],
      "metadata": {
        "colab": {
          "base_uri": "https://localhost:8080/",
          "height": 265
        },
        "id": "HWisCUmTM9Tt",
        "outputId": "d9284c18-02f6-4581-8588-df686b8fde72"
      },
      "execution_count": 22,
      "outputs": [
        {
          "output_type": "display_data",
          "data": {
            "text/plain": [
              "<Figure size 432x288 with 1 Axes>"
            ],
            "image/png": "[encoded data removed]"
          },
          "metadata": {
            "needs_background": "light"
          }
        }
      ]
    },
    {
      "cell_type": "code",
      "source": [
        "preds = model.predict(X_val_scaled[0:1]) #슬라이싱 사용 -> (1,28,28,1) 구조가 바뀌지 않도록\n",
        "print(preds)\n",
        "\n",
        "#softmax 를 통해 얻은 확률임!"
      ],
      "metadata": {
        "colab": {
          "base_uri": "https://localhost:8080/"
        },
        "id": "zrPu6U9BOfuq",
        "outputId": "9cb4c2c0-6d6f-43f3-c905-af501faae00a"
      },
      "execution_count": 23,
      "outputs": [
        {
          "output_type": "stream",
          "name": "stdout",
          "text": [
            "[[1.1708909e-14 6.8760293e-19 4.7816768e-14 9.3630454e-15 6.0886219e-14\n",
            "  4.5256141e-13 7.5050518e-13 1.0661368e-14 1.0000000e+00 2.5371591e-16]]\n"
          ]
        }
      ]
    },
    {
      "cell_type": "code",
      "source": [
        "np.argmax(preds) # 확률이 제일 큰 값의 인덱스"
      ],
      "metadata": {
        "colab": {
          "base_uri": "https://localhost:8080/"
        },
        "id": "5MwaF9vpZ7X0",
        "outputId": "1434bdf3-a27a-4197-cf63-1123a0ff6355"
      },
      "execution_count": 24,
      "outputs": [
        {
          "output_type": "execute_result",
          "data": {
            "text/plain": [
              "8"
            ]
          },
          "metadata": {},
          "execution_count": 24
        }
      ]
    },
    {
      "cell_type": "code",
      "source": [
        "plt.bar(range(1,11), preds[0])\n",
        "plt.xlabel('class')\n",
        "plt.ylabel('prob.')\n",
        "plt.show()"
      ],
      "metadata": {
        "colab": {
          "base_uri": "https://localhost:8080/",
          "height": 279
        },
        "id": "BrkIfcyjOzpS",
        "outputId": "7b4ee542-01b3-4efc-c7de-62e6b1efd3f7"
      },
      "execution_count": 25,
      "outputs": [
        {
          "output_type": "display_data",
          "data": {
            "text/plain": [
              "<Figure size 432x288 with 1 Axes>"
            ],
            "image/png": "[encoded data removed]"
          },
          "metadata": {
            "needs_background": "light"
          }
        }
      ]
    },
    {
      "cell_type": "code",
      "source": [
        "classes = ['티셔츠', '바지', '스웨터','드레스','코드','샌달','셔츠','스니커즈','가방','앵클 부츠']"
      ],
      "metadata": {
        "id": "iBEtt7NUO7_e"
      },
      "execution_count": 26,
      "outputs": []
    },
    {
      "cell_type": "code",
      "source": [
        "print(classes[np.argmax(preds)]) # How? CNN이 어떻게 featureMap을 만들었는지를 봐야 함 -> 뒤에서 시각화 작업"
      ],
      "metadata": {
        "colab": {
          "base_uri": "https://localhost:8080/"
        },
        "id": "8-sXo89IPFiQ",
        "outputId": "5fc247e8-831b-4d55-ff33-b129eaf6cd62"
      },
      "execution_count": 27,
      "outputs": [
        {
          "output_type": "stream",
          "name": "stdout",
          "text": [
            "가방\n"
          ]
        }
      ]
    },
    {
      "cell_type": "code",
      "source": [
        "test_scaled = X_test.reshape(-1, 28, 28, 1)/255.0\n",
        "model.evaluate(test_scaled, y_test)"
      ],
      "metadata": {
        "colab": {
          "base_uri": "https://localhost:8080/"
        },
        "id": "jdgvpZT1PR01",
        "outputId": "ee8bc3a2-6d44-4596-9940-ab29f7315b99"
      },
      "execution_count": 28,
      "outputs": [
        {
          "output_type": "stream",
          "name": "stdout",
          "text": [
            "313/313 [==============================] - 2s 5ms/step - loss: 0.2450 - accuracy: 0.9110\n"
          ]
        },
        {
          "output_type": "execute_result",
          "data": {
            "text/plain": [
              "[0.24497251212596893, 0.9110000133514404]"
            ]
          },
          "metadata": {},
          "execution_count": 28
        }
      ]
    },
    {
      "cell_type": "markdown",
      "source": [
        "# 08-3. 합성곱 신경망의 시각화(바로 이어서 진행)"
      ],
      "metadata": {
        "id": "h_p_XcAKbNYX"
      }
    },
    {
      "cell_type": "markdown",
      "source": [
        "#가중치 시각화"
      ],
      "metadata": {
        "id": "kGrtkwR_bRJr"
      }
    },
    {
      "cell_type": "code",
      "source": [
        "model = keras.models.load_model('best-cnn-model.h5')\n",
        "model.layers"
      ],
      "metadata": {
        "colab": {
          "base_uri": "https://localhost:8080/"
        },
        "id": "XjjuhRK2bSsR",
        "outputId": "539fd3d9-aa25-4631-8783-cee579efb33c"
      },
      "execution_count": 29,
      "outputs": [
        {
          "output_type": "execute_result",
          "data": {
            "text/plain": [
              "[<keras.layers.convolutional.Conv2D at 0x7f6baaca5e10>,\n",
              " <keras.layers.pooling.MaxPooling2D at 0x7f6c20055d10>,\n",
              " <keras.layers.convolutional.Conv2D at 0x7f6c26f550d0>,\n",
              " <keras.layers.pooling.MaxPooling2D at 0x7f6bac013410>,\n",
              " <keras.layers.core.flatten.Flatten at 0x7f6bac0056d0>,\n",
              " <keras.layers.core.dense.Dense at 0x7f6bac018b90>,\n",
              " <keras.layers.core.dropout.Dropout at 0x7f6babff8910>,\n",
              " <keras.layers.core.dense.Dense at 0x7f6c26f55490>]"
            ]
          },
          "metadata": {},
          "execution_count": 29
        }
      ]
    },
    {
      "cell_type": "code",
      "source": [
        "conv = model.layers[0]\n",
        "print(conv.weights[0].shape, conv.weights[1].shape)\n",
        "# weights[0] = filter = (3,3) 32개 , [1] = bias 32개"
      ],
      "metadata": {
        "colab": {
          "base_uri": "https://localhost:8080/"
        },
        "id": "3lC0j97MgdhL",
        "outputId": "0df44c11-e2c7-45be-ad3c-3ad9741786db"
      },
      "execution_count": 30,
      "outputs": [
        {
          "output_type": "stream",
          "name": "stdout",
          "text": [
            "(3, 3, 1, 32) (32,)\n"
          ]
        }
      ]
    },
    {
      "cell_type": "code",
      "source": [
        "conv_weights = conv.weights[0].numpy()\n",
        "print(conv_weights.mean(), conv_weights.std()) # 통계량을 통해 가중치 분포를 알 수 있음"
      ],
      "metadata": {
        "colab": {
          "base_uri": "https://localhost:8080/"
        },
        "id": "bUmr3wf-gl3x",
        "outputId": "cedab1d9-a761-4047-edf4-e2141ded740a"
      },
      "execution_count": 33,
      "outputs": [
        {
          "output_type": "stream",
          "name": "stdout",
          "text": [
            "-0.032237574 0.253518\n"
          ]
        }
      ]
    },
    {
      "cell_type": "code",
      "source": [
        "plt.hist(conv_weights.reshape(-1,1)) # 연속형 데이터의 도수 분포를 그래프화\n",
        "plt.xlabel('weight')\n",
        "plt.ylabel('count')\n",
        "plt.show()\n",
        "\n",
        "# weights 가중치가 종 모양 = 정규 분포 모양과 흡사\n",
        "# 학습의 과정이 있었던 가중치는 이런 분포를 따른다는 것으로 해석가능\n",
        "\n",
        "# 학습의 과정이 없었다면 uniform distribution과 같이 보임"
      ],
      "metadata": {
        "colab": {
          "base_uri": "https://localhost:8080/",
          "height": 279
        },
        "id": "f6lK72mjg5Vg",
        "outputId": "863cab81-81e5-4c2e-8dc7-2aa142b42617"
      },
      "execution_count": 34,
      "outputs": [
        {
          "output_type": "display_data",
          "data": {
            "text/plain": [
              "<Figure size 432x288 with 1 Axes>"
            ],
            "image/png": "[encoded data removed]"
          },
          "metadata": {
            "needs_background": "light"
          }
        }
      ]
    },
    {
      "cell_type": "code",
      "source": [
        "#층의 가중치 시각화\n",
        "\n",
        "fig, axs = plt.subplots(2, 16, figsize=(15,2))\n",
        "for i in range(2):\n",
        "  for j in range(16):\n",
        "    axs[i, j].imshow(conv_weights[:,:,0,i*16+j], vmin=-0.5, vmax=0.5)\n",
        "    axs[i,j].axis('off')\n",
        "plt.show()"
      ],
      "metadata": {
        "colab": {
          "base_uri": "https://localhost:8080/",
          "height": 134
        },
        "id": "1vldUeejhAyU",
        "outputId": "e194834b-9d59-43f9-a051-b0ccd6b75259"
      },
      "execution_count": 35,
      "outputs": [
        {
          "output_type": "display_data",
          "data": {
            "text/plain": [
              "<Figure size 1080x144 with 32 Axes>"
            ],
            "image/png": "[encoded data removed]"
          },
          "metadata": {
            "needs_background": "light"
          }
        }
      ]
    },
    {
      "cell_type": "markdown",
      "source": [
        "### 학습하지 않은 모델"
      ],
      "metadata": {
        "id": "6dMwgLo6iOUV"
      }
    },
    {
      "cell_type": "code",
      "source": [
        ""
      ],
      "metadata": {
        "id": "eRItHr69iMsU"
      },
      "execution_count": null,
      "outputs": []
    }
  ]
}