{
  "cells": [
    {
      "cell_type": "markdown",
      "metadata": {
        "id": "view-in-github",
        "colab_type": "text"
      },
      "source": [
        "<a href=\"https://colab.research.google.com/github/serinss/seSAC_ML_DL_Class/blob/main/08_3_%ED%95%A9%EC%84%B1%EA%B3%B1_%EC%8B%A0%EA%B2%BD%EB%A7%9D%EC%9D%98_%EC%8B%9C%EA%B0%81%ED%99%94.ipynb\" target=\"_parent\"><img src=\"https://colab.research.google.com/assets/colab-badge.svg\" alt=\"Open In Colab\"/></a>"
      ]
    },
    {
      "cell_type": "code",
      "execution_count": null,
      "metadata": {
        "colab": {
          "base_uri": "https://localhost:8080/"
        },
        "id": "9wHHm9vrbFZH",
        "outputId": "a7811b61-0e91-41e9-edcd-75ccef3a51bb"
      },
      "outputs": [
        {
          "name": "stdout",
          "output_type": "stream",
          "text": [
            "Mounted at /content/drive\n",
            "tf.__version__: 2.8.0\n",
            "keras.__version__: 2.8.0\n"
          ]
        }
      ],
      "source": [
        "%run my_init.py"
      ]
    },
    {
      "cell_type": "code",
      "execution_count": null,
      "metadata": {
        "id": "U-Qf1mvLa4H1"
      },
      "outputs": [],
      "source": [
        "%matplotlib inline"
      ]
    },
    {
      "cell_type": "markdown",
      "metadata": {
        "id": "YSq-lD9qbMdZ"
      },
      "source": [
        "#패션 MNIST 데이터 불러오기"
      ]
    },
    {
      "cell_type": "code",
      "execution_count": null,
      "metadata": {
        "colab": {
          "base_uri": "https://localhost:8080/"
        },
        "id": "ey7cJF37bO72",
        "outputId": "3464f84a-80dd-4553-a034-73af099d723a"
      },
      "outputs": [
        {
          "name": "stdout",
          "output_type": "stream",
          "text": [
            "Downloading data from https://storage.googleapis.com/tensorflow/tf-keras-datasets/train-labels-idx1-ubyte.gz\n",
            "32768/29515 [=================================] - 0s 0us/step\n",
            "40960/29515 [=========================================] - 0s 0us/step\n",
            "Downloading data from https://storage.googleapis.com/tensorflow/tf-keras-datasets/train-images-idx3-ubyte.gz\n",
            "26427392/26421880 [==============================] - 0s 0us/step\n",
            "26435584/26421880 [==============================] - 0s 0us/step\n",
            "Downloading data from https://storage.googleapis.com/tensorflow/tf-keras-datasets/t10k-labels-idx1-ubyte.gz\n",
            "16384/5148 [===============================================================================================] - 0s 0us/step\n",
            "Downloading data from https://storage.googleapis.com/tensorflow/tf-keras-datasets/t10k-images-idx3-ubyte.gz\n",
            "4423680/4422102 [==============================] - 0s 0us/step\n",
            "4431872/4422102 [==============================] - 0s 0us/step\n"
          ]
        }
      ],
      "source": [
        "(X_train, y_train), (X_test, y_test) = keras.datasets.fashion_mnist.load_data()\n",
        "X_train_scaled = X_train.reshape(-1,28,28,1)/255.0 #데이터 2D->3D 가 60000개 인 것(그림 잘 이해하기!!!)\n",
        "X_train_scaled, X_val_scaled, y_train, y_val = train_test_split(X_train_scaled, y_train, test_size=0.2, random_state=42)"
      ]
    },
    {
      "cell_type": "code",
      "execution_count": null,
      "metadata": {
        "colab": {
          "base_uri": "https://localhost:8080/"
        },
        "id": "B91N7G36knFi",
        "outputId": "0e2f9049-dca1-44ad-ba53-bc4efdca052e"
      },
      "outputs": [
        {
          "data": {
            "text/plain": [
              "((48000, 28, 28, 1), (48000,))"
            ]
          },
          "execution_count": 7,
          "metadata": {},
          "output_type": "execute_result"
        }
      ],
      "source": [
        "X_train_scaled.shape, y_train.shape"
      ]
    },
    {
      "cell_type": "code",
      "execution_count": null,
      "metadata": {
        "colab": {
          "base_uri": "https://localhost:8080/"
        },
        "id": "kpvvhlczOwDQ",
        "outputId": "061bb8b7-8fbf-4714-ea71-e23d1f3ec2c5"
      },
      "outputs": [
        {
          "data": {
            "text/plain": [
              "(12000, 28, 28, 1)"
            ]
          },
          "execution_count": 8,
          "metadata": {},
          "output_type": "execute_result"
        }
      ],
      "source": [
        "X_val_scaled.shape"
      ]
    },
    {
      "cell_type": "markdown",
      "metadata": {
        "id": "aZMrE3mtcGit"
      },
      "source": [
        "#합성곱 신경망 만들기"
      ]
    },
    {
      "cell_type": "code",
      "execution_count": null,
      "metadata": {
        "id": "FiqQNuqKcFhF"
      },
      "outputs": [],
      "source": [
        "model = keras.Sequential()\n",
        "# 첫번째 합성곱-풀링 층\n",
        "model.add(keras.layers.Conv2D(32, kernel_size=3, activation='relu', padding='same', input_shape=(28,28,1))) #입력층 크기, 커널 정보만 설정\n",
        "model.add(keras.layers.MaxPooling2D(2))\n",
        "\n",
        "# 이미지 - 일반적인 도형적인 특성에 대한 필터링 진행(선, 면, 등등) -> general\n",
        "# 아래로 내려갈수록 special , detail 특성 필터링\n",
        "\n",
        "\n",
        "# conv2d : (28,28,1)->32개 이므로 3차원은 표현하지 않음(depth정보 없으므로 위의 shape로 확인하기)\n",
        "# 학습된 파라미터의 개수는 32 * 9(3*3) = 288 + 32(b) = 320개"
      ]
    },
    {
      "cell_type": "code",
      "execution_count": null,
      "metadata": {
        "colab": {
          "base_uri": "https://localhost:8080/"
        },
        "id": "CMBIAvUjnQNT",
        "outputId": "fba9a50a-172f-408c-d4b0-155b0e786595"
      },
      "outputs": [
        {
          "data": {
            "text/plain": [
              "2"
            ]
          },
          "execution_count": 10,
          "metadata": {},
          "output_type": "execute_result"
        }
      ],
      "source": [
        "len(model.layers[0].weights)\n",
        "# layers[0] = Conv2D"
      ]
    },
    {
      "cell_type": "code",
      "execution_count": null,
      "metadata": {
        "colab": {
          "base_uri": "https://localhost:8080/"
        },
        "id": "Qi_IVnRSoBBE",
        "outputId": "7f88f993-97db-4ea9-8220-8bfddf01a0f8"
      },
      "outputs": [
        {
          "data": {
            "text/plain": [
              "TensorShape([3, 3, 1, 32])"
            ]
          },
          "execution_count": 11,
          "metadata": {},
          "output_type": "execute_result"
        }
      ],
      "source": [
        "model.layers[0].weights[0].shape #weights = 가중치 -> filter정보(32개의 가중치 크기)\n",
        "#[3, 3, 1] -> 3x3 x1 입력을 28x28x1 로 했으니 맞춰서 나옴"
      ]
    },
    {
      "cell_type": "code",
      "execution_count": null,
      "metadata": {
        "colab": {
          "base_uri": "https://localhost:8080/"
        },
        "id": "hUX1YgaFoGLa",
        "outputId": "2737c09e-a7e5-40fa-dbdf-b464f3e63a20"
      },
      "outputs": [
        {
          "data": {
            "text/plain": [
              "TensorShape([32])"
            ]
          },
          "execution_count": 12,
          "metadata": {},
          "output_type": "execute_result"
        }
      ],
      "source": [
        "model.layers[0].weights[1].shape # filter 32개의 bias"
      ]
    },
    {
      "cell_type": "code",
      "execution_count": null,
      "metadata": {
        "colab": {
          "base_uri": "https://localhost:8080/"
        },
        "id": "3BVw4jKUnSkd",
        "outputId": "f62efddc-599b-4b00-e4a6-2111e7abaab4"
      },
      "outputs": [
        {
          "data": {
            "text/plain": [
              "<keras.layers.pooling.MaxPooling2D at 0x7f4ce046ff50>"
            ]
          },
          "execution_count": 13,
          "metadata": {},
          "output_type": "execute_result"
        }
      ],
      "source": [
        "model.layers[1]"
      ]
    },
    {
      "cell_type": "code",
      "execution_count": null,
      "metadata": {
        "id": "VI83r-1qccAZ"
      },
      "outputs": [],
      "source": [
        "##두번째 합성곱-풀링 층\n",
        "model.add(keras.layers.Conv2D(64, kernel_size=3, activation='relu', padding='same'))\n",
        "model.add(keras.layers.MaxPooling2D(2)) # 학습 parameter없음, FeatureMap의 size만 줄어듦"
      ]
    },
    {
      "cell_type": "code",
      "execution_count": null,
      "metadata": {
        "id": "D8QdQiZMcmS1"
      },
      "outputs": [],
      "source": [
        "model.add(keras.layers.Flatten()) #최종으로 나온 FeatureMap 을 뉴런 3136개로 flatten\n",
        "model.add(keras.layers.Dense(100, activation='relu')) #100개 뉴런 은닉층\n",
        "model.add(keras.layers.Dropout(0.4)) # 드롭아웃 -> 뉴런 40% 비활성화\n",
        "model.add(keras.layers.Dense(10, activation='softmax')) # 10개 뉴런 출력층"
      ]
    },
    {
      "cell_type": "code",
      "execution_count": null,
      "metadata": {
        "colab": {
          "base_uri": "https://localhost:8080/"
        },
        "id": "SKsVEkDZqvow",
        "outputId": "5100d9d7-8c41-4f1b-84f3-99ffaa92a3eb"
      },
      "outputs": [
        {
          "data": {
            "text/plain": [
              "TensorShape([3, 3, 32, 64])"
            ]
          },
          "execution_count": 16,
          "metadata": {},
          "output_type": "execute_result"
        }
      ],
      "source": [
        "model.layers[2].weights[0].shape # 3*3*32*64=18432 + 64(bias) = 18496"
      ]
    },
    {
      "cell_type": "code",
      "execution_count": null,
      "metadata": {
        "colab": {
          "base_uri": "https://localhost:8080/"
        },
        "id": "Lf6n7n4PdN8Q",
        "outputId": "6c0082bb-2fb3-4482-fed1-c413241a075e"
      },
      "outputs": [
        {
          "name": "stdout",
          "output_type": "stream",
          "text": [
            "Model: \"sequential\"\n",
            "_________________________________________________________________\n",
            " Layer (type)                Output Shape              Param #   \n",
            "=================================================================\n",
            " conv2d (Conv2D)             (None, 28, 28, 32)        320       \n",
            "                                                                 \n",
            " max_pooling2d (MaxPooling2D  (None, 14, 14, 32)       0         \n",
            " )                                                               \n",
            "                                                                 \n",
            " conv2d_1 (Conv2D)           (None, 14, 14, 64)        18496     \n",
            "                                                                 \n",
            " max_pooling2d_1 (MaxPooling  (None, 7, 7, 64)         0         \n",
            " 2D)                                                             \n",
            "                                                                 \n",
            " flatten (Flatten)           (None, 3136)              0         \n",
            "                                                                 \n",
            " dense (Dense)               (None, 100)               313700    \n",
            "                                                                 \n",
            " dropout (Dropout)           (None, 100)               0         \n",
            "                                                                 \n",
            " dense_1 (Dense)             (None, 10)                1010      \n",
            "                                                                 \n",
            "=================================================================\n",
            "Total params: 333,526\n",
            "Trainable params: 333,526\n",
            "Non-trainable params: 0\n",
            "_________________________________________________________________\n"
          ]
        }
      ],
      "source": [
        "model.summary()"
      ]
    },
    {
      "cell_type": "code",
      "execution_count": null,
      "metadata": {
        "colab": {
          "base_uri": "https://localhost:8080/",
          "height": 856
        },
        "id": "F0LA0_z5dmBB",
        "outputId": "ba13d1d3-71d3-4751-88e9-1ce4f82eff8f"
      },
      "outputs": [
        {
          "data": {
            "image/png": "[encoded data removed]",
            "text/plain": [
              "<IPython.core.display.Image object>"
            ]
          },
          "execution_count": 18,
          "metadata": {},
          "output_type": "execute_result"
        }
      ],
      "source": [
        "keras.utils.plot_model(model)"
      ]
    },
    {
      "cell_type": "code",
      "execution_count": null,
      "metadata": {
        "colab": {
          "base_uri": "https://localhost:8080/",
          "height": 916
        },
        "id": "7RXQfuUCjNbV",
        "outputId": "a1c15b41-5502-4b69-e506-7b1ef6e0c43f"
      },
      "outputs": [
        {
          "data": {
            "image/png": "[encoded data removed]",
            "text/plain": [
              "<IPython.core.display.Image object>"
            ]
          },
          "execution_count": 19,
          "metadata": {},
          "output_type": "execute_result"
        }
      ],
      "source": [
        "keras.utils.plot_model(model, show_shapes=True, dpi=90)\n",
        "# InputLayer 표시가 나온다! (Flatten 쓰지 않아도 나옴)"
      ]
    },
    {
      "cell_type": "markdown",
      "metadata": {
        "id": "UCbIoXslCX0X"
      },
      "source": [
        "maxPooling2D - 까지가 CNN  \n",
        "flatten - 부터 DNN"
      ]
    },
    {
      "cell_type": "markdown",
      "metadata": {
        "id": "2ApJ44PxjSQe"
      },
      "source": [
        "#모델 컴파일과 훈련"
      ]
    },
    {
      "cell_type": "code",
      "execution_count": null,
      "metadata": {
        "colab": {
          "base_uri": "https://localhost:8080/"
        },
        "id": "iQf3xe1rRmA4",
        "outputId": "f8c85bc8-6bf5-4f87-d3c5-4781c90fa301"
      },
      "outputs": [
        {
          "data": {
            "text/plain": [
              "array([7], dtype=uint8)"
            ]
          },
          "execution_count": 20,
          "metadata": {},
          "output_type": "execute_result"
        }
      ],
      "source": [
        "y_train[0:1] # --> sparse_categorical_crossentropy 사용"
      ]
    },
    {
      "cell_type": "code",
      "execution_count": null,
      "metadata": {
        "colab": {
          "base_uri": "https://localhost:8080/"
        },
        "id": "eMtMc-RTRpDh",
        "outputId": "cae54566-b083-4704-d245-d0438dae9e9c"
      },
      "outputs": [
        {
          "data": {
            "text/plain": [
              "array([[0., 0., 0., 0., 0., 0., 0., 1., 0., 0.]], dtype=float32)"
            ]
          },
          "execution_count": 21,
          "metadata": {},
          "output_type": "execute_result"
        }
      ],
      "source": [
        "keras.utils.to_categorical(y_train)[0:1] # one-hot-encoding --> categorical_crossentropy 사용"
      ]
    },
    {
      "cell_type": "code",
      "execution_count": null,
      "metadata": {
        "colab": {
          "base_uri": "https://localhost:8080/"
        },
        "id": "_gHhThoqDF4u",
        "outputId": "a981c596-6dd9-4ad5-bef3-5d62e2b1aec9"
      },
      "outputs": [
        {
          "name": "stdout",
          "output_type": "stream",
          "text": [
            "Epoch 1/20\n",
            "1500/1500 [==============================] - 15s 4ms/step - loss: 0.5165 - accuracy: 0.8153 - val_loss: 0.3263 - val_accuracy: 0.8792\n",
            "Epoch 2/20\n",
            "1500/1500 [==============================] - 5s 3ms/step - loss: 0.3386 - accuracy: 0.8785 - val_loss: 0.2752 - val_accuracy: 0.8964\n",
            "Epoch 3/20\n",
            "1500/1500 [==============================] - 5s 4ms/step - loss: 0.2889 - accuracy: 0.8944 - val_loss: 0.2596 - val_accuracy: 0.9040\n",
            "Epoch 4/20\n",
            "1500/1500 [==============================] - 5s 3ms/step - loss: 0.2568 - accuracy: 0.9071 - val_loss: 0.2389 - val_accuracy: 0.9133\n",
            "Epoch 5/20\n",
            "1500/1500 [==============================] - 5s 3ms/step - loss: 0.2342 - accuracy: 0.9142 - val_loss: 0.2331 - val_accuracy: 0.9122\n",
            "Epoch 6/20\n",
            "1500/1500 [==============================] - 5s 3ms/step - loss: 0.2101 - accuracy: 0.9217 - val_loss: 0.2200 - val_accuracy: 0.9191\n",
            "Epoch 7/20\n",
            "1500/1500 [==============================] - 5s 3ms/step - loss: 0.1957 - accuracy: 0.9278 - val_loss: 0.2227 - val_accuracy: 0.9202\n",
            "Epoch 8/20\n",
            "1500/1500 [==============================] - 5s 4ms/step - loss: 0.1804 - accuracy: 0.9322 - val_loss: 0.2236 - val_accuracy: 0.9206\n"
          ]
        }
      ],
      "source": [
        "model.compile(optimizer='adam', loss='sparse_categorical_crossentropy', metrics='accuracy')\n",
        "checkpoint_cb = keras.callbacks.ModelCheckpoint('best-cnn-model.h5')\n",
        "early_stopping_cb = keras.callbacks.EarlyStopping(patience=2, restore_best_weights=True)\n",
        "history = model.fit(X_train_scaled, y_train, epochs=20, validation_data=(X_val_scaled, y_val), callbacks=[checkpoint_cb, early_stopping_cb])"
      ]
    },
    {
      "cell_type": "code",
      "execution_count": null,
      "metadata": {
        "colab": {
          "base_uri": "https://localhost:8080/",
          "height": 279
        },
        "id": "CFrY4esnMLoy",
        "outputId": "763d989c-891b-45d5-e2a6-159526fc8c24"
      },
      "outputs": [
        {
          "data": {
            "image/png": "[encoded data removed]",
            "text/plain": [
              "<Figure size 432x288 with 1 Axes>"
            ]
          },
          "metadata": {},
          "output_type": "display_data"
        }
      ],
      "source": [
        "plt.plot(history.history['loss'])\n",
        "plt.plot(history.history['val_loss'])\n",
        "plt.xlabel('eapch')\n",
        "plt.ylabel('loss')\n",
        "plt.legend(['train','val'])\n",
        "plt.show()\n",
        "\n",
        "# epoch = 20 -> 19번까지 돌아야 하지만, early_stop = 10에서 멈췄다\n",
        "\n",
        "# best-fit = 8 임을 알 수 있음!"
      ]
    },
    {
      "cell_type": "code",
      "execution_count": null,
      "metadata": {
        "colab": {
          "base_uri": "https://localhost:8080/"
        },
        "id": "-Y0E0xj7Mrtj",
        "outputId": "e744ab7b-fdc6-408a-fa4f-a0c345cbc5ec"
      },
      "outputs": [
        {
          "name": "stdout",
          "output_type": "stream",
          "text": [
            "375/375 [==============================] - 1s 2ms/step - loss: 0.2200 - accuracy: 0.9191\n"
          ]
        },
        {
          "data": {
            "text/plain": [
              "[0.22004716098308563, 0.9190833568572998]"
            ]
          },
          "execution_count": 24,
          "metadata": {},
          "output_type": "execute_result"
        }
      ],
      "source": [
        "model.evaluate(X_val_scaled, y_val)"
      ]
    },
    {
      "cell_type": "code",
      "execution_count": null,
      "metadata": {
        "colab": {
          "base_uri": "https://localhost:8080/",
          "height": 265
        },
        "id": "HWisCUmTM9Tt",
        "outputId": "615fbf5e-b6da-44bc-c0ee-190c1b8f9ee9"
      },
      "outputs": [
        {
          "data": {
            "image/png": "[encoded data removed]",
            "text/plain": [
              "<Figure size 432x288 with 1 Axes>"
            ]
          },
          "metadata": {},
          "output_type": "display_data"
        }
      ],
      "source": [
        "plt.imshow(X_val_scaled[0].reshape(28,28), cmap='gray_r') # 3차원->2차원\n",
        "plt.show()"
      ]
    },
    {
      "cell_type": "code",
      "execution_count": null,
      "metadata": {
        "colab": {
          "base_uri": "https://localhost:8080/"
        },
        "id": "zrPu6U9BOfuq",
        "outputId": "56cf7f80-40fe-4379-ac57-2d0210413429"
      },
      "outputs": [
        {
          "name": "stdout",
          "output_type": "stream",
          "text": [
            "[[1.01226585e-16 3.09148993e-25 3.30222867e-18 1.15665909e-20\n",
            "  1.04276889e-19 5.12727274e-17 1.44152633e-17 3.43480287e-22\n",
            "  1.00000000e+00 1.38396404e-21]]\n"
          ]
        }
      ],
      "source": [
        "preds = model.predict(X_val_scaled[0:1]) #슬라이싱 사용 -> (1,28,28,1) 구조가 바뀌지 않도록\n",
        "print(preds)\n",
        "\n",
        "#softmax 를 통해 얻은 확률임!"
      ]
    },
    {
      "cell_type": "code",
      "execution_count": null,
      "metadata": {
        "colab": {
          "base_uri": "https://localhost:8080/"
        },
        "id": "5MwaF9vpZ7X0",
        "outputId": "d6577244-bb7c-45ac-b2e7-f0c3322e7a1d"
      },
      "outputs": [
        {
          "data": {
            "text/plain": [
              "8"
            ]
          },
          "execution_count": 27,
          "metadata": {},
          "output_type": "execute_result"
        }
      ],
      "source": [
        "np.argmax(preds) # 확률이 제일 큰 값(예측값)의 인덱스"
      ]
    },
    {
      "cell_type": "code",
      "execution_count": null,
      "metadata": {
        "colab": {
          "base_uri": "https://localhost:8080/",
          "height": 279
        },
        "id": "BrkIfcyjOzpS",
        "outputId": "206641a4-fd28-490c-9161-f0baa14849c1"
      },
      "outputs": [
        {
          "data": {
            "image/png": "[encoded data removed]",
            "text/plain": [
              "<Figure size 432x288 with 1 Axes>"
            ]
          },
          "metadata": {},
          "output_type": "display_data"
        }
      ],
      "source": [
        "plt.bar(range(1,11), preds[0])\n",
        "plt.xlabel('class')\n",
        "plt.ylabel('prob.')\n",
        "plt.show()"
      ]
    },
    {
      "cell_type": "code",
      "execution_count": null,
      "metadata": {
        "id": "iBEtt7NUO7_e"
      },
      "outputs": [],
      "source": [
        "classes = ['티셔츠', '바지', '스웨터','드레스','코드','샌달','셔츠','스니커즈','가방','앵클 부츠']"
      ]
    },
    {
      "cell_type": "code",
      "execution_count": null,
      "metadata": {
        "colab": {
          "base_uri": "https://localhost:8080/"
        },
        "id": "8-sXo89IPFiQ",
        "outputId": "7c0cc57b-f2ad-4668-dc5d-4efa1b79ce62"
      },
      "outputs": [
        {
          "name": "stdout",
          "output_type": "stream",
          "text": [
            "가방\n"
          ]
        }
      ],
      "source": [
        "print(classes[np.argmax(preds)]) # How? CNN이 어떻게 featureMap을 만들었는지를 봐야 함 -> 뒤에서 시각화 작업"
      ]
    },
    {
      "cell_type": "code",
      "execution_count": null,
      "metadata": {
        "colab": {
          "base_uri": "https://localhost:8080/"
        },
        "id": "jdgvpZT1PR01",
        "outputId": "09decb34-0557-4353-b353-fa098ef22f0d"
      },
      "outputs": [
        {
          "name": "stdout",
          "output_type": "stream",
          "text": [
            "313/313 [==============================] - 1s 3ms/step - loss: 0.2373 - accuracy: 0.9138\n"
          ]
        },
        {
          "data": {
            "text/plain": [
              "[0.2372887134552002, 0.9138000011444092]"
            ]
          },
          "execution_count": 31,
          "metadata": {},
          "output_type": "execute_result"
        }
      ],
      "source": [
        "test_scaled = X_test.reshape(-1, 28, 28, 1)/255.0\n",
        "model.evaluate(test_scaled, y_test)"
      ]
    },
    {
      "cell_type": "markdown",
      "metadata": {
        "id": "h_p_XcAKbNYX"
      },
      "source": [
        "# 08-3. 합성곱 신경망의 시각화(바로 이어서 진행)"
      ]
    },
    {
      "cell_type": "markdown",
      "metadata": {
        "id": "kGrtkwR_bRJr"
      },
      "source": [
        "#가중치 시각화"
      ]
    },
    {
      "cell_type": "code",
      "execution_count": null,
      "metadata": {
        "colab": {
          "base_uri": "https://localhost:8080/"
        },
        "id": "XjjuhRK2bSsR",
        "outputId": "bb40531a-9b5a-4d00-ba31-a6bd9c3ac79d"
      },
      "outputs": [
        {
          "data": {
            "text/plain": [
              "[<keras.layers.convolutional.Conv2D at 0x7f4c6227bd90>,\n",
              " <keras.layers.pooling.MaxPooling2D at 0x7f4cd0090a10>,\n",
              " <keras.layers.convolutional.Conv2D at 0x7f4c4cd2d990>,\n",
              " <keras.layers.pooling.MaxPooling2D at 0x7f4cd0096f90>,\n",
              " <keras.layers.core.flatten.Flatten at 0x7f4c4cdd4950>,\n",
              " <keras.layers.core.dense.Dense at 0x7f4c4cd300d0>,\n",
              " <keras.layers.core.dropout.Dropout at 0x7f4c4cd43510>,\n",
              " <keras.layers.core.dense.Dense at 0x7f4ce004ca90>]"
            ]
          },
          "execution_count": 32,
          "metadata": {},
          "output_type": "execute_result"
        }
      ],
      "source": [
        "model = keras.models.load_model('best-cnn-model.h5')\n",
        "model.layers"
      ]
    },
    {
      "cell_type": "code",
      "execution_count": null,
      "metadata": {
        "colab": {
          "base_uri": "https://localhost:8080/"
        },
        "id": "3lC0j97MgdhL",
        "outputId": "967533b5-9785-4241-b758-4f78373e8c61"
      },
      "outputs": [
        {
          "name": "stdout",
          "output_type": "stream",
          "text": [
            "(3, 3, 1, 32) (32,)\n"
          ]
        }
      ],
      "source": [
        "conv = model.layers[0]\n",
        "print(conv.weights[0].shape, conv.weights[1].shape)\n",
        "# weights[0] = filter = (3,3) 32개 , [1] = bias 32개"
      ]
    },
    {
      "cell_type": "code",
      "execution_count": null,
      "metadata": {
        "colab": {
          "base_uri": "https://localhost:8080/"
        },
        "id": "bUmr3wf-gl3x",
        "outputId": "96c7220a-cb98-4dc8-d475-ecc4ca2f26cf"
      },
      "outputs": [
        {
          "name": "stdout",
          "output_type": "stream",
          "text": [
            "-0.035129152 0.25441122\n"
          ]
        }
      ],
      "source": [
        "conv_weights = conv.weights[0].numpy()\n",
        "print(conv_weights.mean(), conv_weights.std()) # 통계량을 통해 가중치 분포를 알 수 있음\n",
        "\n",
        "# 잘 학습했기 때문에 평균 = 0 에 수렴하고, 표준편차가 존재하는 정규분포를 따르는 것임\n",
        "# 그만큼 특징(데이터의 대표성=평균, 중앙값, 분산)을 잘 뽑아냈다는 것!"
      ]
    },
    {
      "cell_type": "code",
      "execution_count": null,
      "metadata": {
        "colab": {
          "base_uri": "https://localhost:8080/",
          "height": 279
        },
        "id": "f6lK72mjg5Vg",
        "outputId": "562d5887-025c-40e1-b1bb-9172cf65f358"
      },
      "outputs": [
        {
          "data": {
            "image/png": "[encoded data removed]",
            "text/plain": [
              "<Figure size 432x288 with 1 Axes>"
            ]
          },
          "metadata": {},
          "output_type": "display_data"
        }
      ],
      "source": [
        "plt.hist(conv_weights.reshape(-1,1)) # 연속형 데이터의 도수 분포를 그래프화\n",
        "plt.xlabel('weight')\n",
        "plt.ylabel('count')\n",
        "plt.show()\n",
        "\n",
        "# weights 가중치가 종 모양 = 정규 분포 모양과 흡사\n",
        "# 학습의 과정이 있었던 가중치는 이런 분포를 따른다는 것으로 해석가능\n",
        "\n",
        "# 학습의 과정이 없었다면 uniform distribution과 같이 보임\n",
        "\n",
        "# 최적의 가중치 값을 패턴학습 함 -> FeatureMap 생성"
      ]
    },
    {
      "cell_type": "code",
      "execution_count": null,
      "metadata": {
        "colab": {
          "base_uri": "https://localhost:8080/",
          "height": 134
        },
        "id": "1vldUeejhAyU",
        "outputId": "2943e432-296e-4b62-b2ae-ed943561a75b"
      },
      "outputs": [
        {
          "data": {
            "image/png": "[encoded data removed]",
            "text/plain": [
              "<Figure size 1080x144 with 32 Axes>"
            ]
          },
          "metadata": {},
          "output_type": "display_data"
        }
      ],
      "source": [
        "#층의 가중치 시각화\n",
        "\n",
        "fig, axs = plt.subplots(2, 16, figsize=(15,2))\n",
        "for i in range(2):\n",
        "  for j in range(16):\n",
        "    axs[i, j].imshow(conv_weights[:,:,0,i*16+j], vmin=-0.5, vmax=0.5)\n",
        "    axs[i,j].axis('off')\n",
        "plt.show()"
      ]
    },
    {
      "cell_type": "code",
      "execution_count": null,
      "metadata": {
        "colab": {
          "base_uri": "https://localhost:8080/"
        },
        "id": "0V6gMSEOr-xP",
        "outputId": "a64b2041-f40c-4f5a-ca01-40d859823462"
      },
      "outputs": [
        {
          "name": "stdout",
          "output_type": "stream",
          "text": [
            "(3, 3, 1, 32) (32,)\n"
          ]
        }
      ],
      "source": [
        "# 커널 출력해보기\n",
        "\n",
        "conv = model.layers[0]\n",
        "print(conv.weights[0].shape, conv.weights[1].shape)"
      ]
    },
    {
      "cell_type": "markdown",
      "metadata": {
        "id": "6dMwgLo6iOUV"
      },
      "source": [
        "### 학습하지 않은 모델"
      ]
    },
    {
      "cell_type": "code",
      "execution_count": null,
      "metadata": {
        "colab": {
          "base_uri": "https://localhost:8080/"
        },
        "id": "eRItHr69iMsU",
        "outputId": "81b267f5-da90-4088-9f7b-d65b2215195f"
      },
      "outputs": [
        {
          "name": "stdout",
          "output_type": "stream",
          "text": [
            "(3, 3, 1, 32)\n"
          ]
        }
      ],
      "source": [
        "no_training_model = keras.Sequential()\n",
        "no_training_model.add(keras.layers.Conv2D(32, kernel_size=3, activation='relu', padding='same', input_shape=(28,28,1)))\n",
        "\n",
        "no_training_conv = no_training_model.layers[0]\n",
        "print(no_training_conv.weights[0].shape)"
      ]
    },
    {
      "cell_type": "code",
      "execution_count": null,
      "metadata": {
        "colab": {
          "base_uri": "https://localhost:8080/"
        },
        "id": "JM7y6qpNkNBM",
        "outputId": "a2bfc311-94aa-4ddd-f73e-dc02d3d59ce9"
      },
      "outputs": [
        {
          "name": "stdout",
          "output_type": "stream",
          "text": [
            "-0.0041382355 0.08035334\n"
          ]
        }
      ],
      "source": [
        "no_training_weights = no_training_conv.weights[0].numpy()\n",
        "print(no_training_weights.mean(), no_training_weights.std())"
      ]
    },
    {
      "cell_type": "code",
      "execution_count": null,
      "metadata": {
        "colab": {
          "base_uri": "https://localhost:8080/",
          "height": 279
        },
        "id": "xmnFu4jUWI7p",
        "outputId": "85ee8cb3-af72-415d-a23b-eaef3fccc128"
      },
      "outputs": [
        {
          "data": {
            "image/png": "[encoded data removed]",
            "text/plain": [
              "<Figure size 432x288 with 1 Axes>"
            ]
          },
          "metadata": {},
          "output_type": "display_data"
        }
      ],
      "source": [
        "plt.hist(no_training_weights.reshape(-1,1))\n",
        "plt.xlabel('weight')\n",
        "plt.ylabel('count')\n",
        "plt.show()"
      ]
    },
    {
      "cell_type": "code",
      "execution_count": null,
      "metadata": {
        "colab": {
          "base_uri": "https://localhost:8080/",
          "height": 134
        },
        "id": "vytaE9UEWjUp",
        "outputId": "733dfc3c-91cb-41be-dbaf-227e5e6b1070"
      },
      "outputs": [
        {
          "data": {
            "image/png": "[encoded data removed]",
            "text/plain": [
              "<Figure size 1080x144 with 32 Axes>"
            ]
          },
          "metadata": {},
          "output_type": "display_data"
        }
      ],
      "source": [
        "fig, axs = plt.subplots(2, 16, figsize=(15,2))\n",
        "for i in range(2):\n",
        "  for j in range(16):\n",
        "    axs[i,j].imshow(no_training_weights[:,:,0,i*16+j], vmin=-0.5, vmax=0.5)\n",
        "    axs[i,j].axis('off')\n",
        "plt.show()"
      ]
    },
    {
      "cell_type": "markdown",
      "metadata": {
        "id": "nEVFxofZXK_N"
      },
      "source": [
        "#함수형 API"
      ]
    },
    {
      "cell_type": "markdown",
      "metadata": {
        "id": "xbPa_eqcLuNN"
      },
      "source": [
        "뉴런의 수를 높이는 것보다 레이어의 개수를 늘리는 것이 성능에 더 영향을 많이 준다  \n",
        "기본적으로 오버피트를 야기하므로 줄일 수 있는 선택도 같이 해야 함  \n",
        "-> 드롭아웃, 조기종료 등등  \n",
        "-> + 전체적인 수를 줄이는 방법 MaxPooling도 같은 효과를 일부 제공함  \n"
      ]
    },
    {
      "cell_type": "markdown",
      "metadata": {
        "id": "1pdF0uF3OQle"
      },
      "source": [
        "####X input -> [[InputLayer -> Conv2D]] -> Feature Map  \n",
        "Conv2D 의 결과인 FeatureMap을 꺼내서 predict해보기  \n"
      ]
    },
    {
      "cell_type": "code",
      "execution_count": null,
      "metadata": {
        "id": "0tDjbNtVXMho"
      },
      "outputs": [],
      "source": [
        "# model = keras.models.load_moel(r'best-cnn-model.h5 경로 복사')"
      ]
    },
    {
      "cell_type": "code",
      "execution_count": null,
      "metadata": {
        "id": "G9wbnweld6HQ"
      },
      "outputs": [],
      "source": [
        "dense1 = keras.layers.Dense(100, activation='sigmoid', name='dense1')\n",
        "dense2 = keras.layers.Dense(10, activation='softmax', name='dense2')"
      ]
    },
    {
      "cell_type": "code",
      "execution_count": null,
      "metadata": {
        "colab": {
          "base_uri": "https://localhost:8080/"
        },
        "id": "m8n22Bhlyu8l",
        "outputId": "5729180b-87c9-43a7-8805-b1b48b112d49"
      },
      "outputs": [
        {
          "name": "stdout",
          "output_type": "stream",
          "text": [
            "KerasTensor(type_spec=TensorSpec(shape=(None, 28, 28, 1), dtype=tf.float32, name='conv2d_input'), name='conv2d_input', description=\"created by layer 'conv2d_input'\")\n"
          ]
        }
      ],
      "source": [
        "print(model.input)"
      ]
    },
    {
      "cell_type": "code",
      "execution_count": null,
      "metadata": {
        "colab": {
          "base_uri": "https://localhost:8080/"
        },
        "id": "AFz82fBZd4o-",
        "outputId": "70e99daa-b38f-45c7-eca9-8555fcea5294"
      },
      "outputs": [
        {
          "data": {
            "text/plain": [
              "<KerasTensor: shape=(None, 784) dtype=float32 (created by layer 'input')>"
            ]
          },
          "execution_count": 54,
          "metadata": {},
          "output_type": "execute_result"
        }
      ],
      "source": [
        "# 함수형으로 input\n",
        "inputs = keras.Input(shape=(784,), name='input')\n",
        "inputs"
      ]
    },
    {
      "cell_type": "code",
      "execution_count": null,
      "metadata": {
        "colab": {
          "base_uri": "https://localhost:8080/"
        },
        "id": "z_9qq-_SfO8X",
        "outputId": "34f6861e-2aee-4035-d549-af6f3c936640"
      },
      "outputs": [
        {
          "data": {
            "text/plain": [
              "<KerasTensor: shape=(None, 100) dtype=float32 (created by layer 'dense1')>"
            ]
          },
          "execution_count": 56,
          "metadata": {},
          "output_type": "execute_result"
        }
      ],
      "source": [
        "hidden = dense1(inputs)\n",
        "hidden"
      ]
    },
    {
      "cell_type": "code",
      "execution_count": null,
      "metadata": {
        "colab": {
          "base_uri": "https://localhost:8080/"
        },
        "id": "bBskAfMnh66D",
        "outputId": "5f5b2c29-2ecd-46cf-faa3-fa0ac4172ed0"
      },
      "outputs": [
        {
          "data": {
            "text/plain": [
              "<KerasTensor: shape=(None, 10) dtype=float32 (created by layer 'dense2')>"
            ]
          },
          "execution_count": 57,
          "metadata": {},
          "output_type": "execute_result"
        }
      ],
      "source": [
        "outputs = dense2(hidden)\n",
        "outputs"
      ]
    },
    {
      "cell_type": "code",
      "execution_count": null,
      "metadata": {
        "colab": {
          "base_uri": "https://localhost:8080/"
        },
        "id": "8AVWCwMBiiE2",
        "outputId": "c5ed7c24-789f-42d4-88d3-fa9b7007d747"
      },
      "outputs": [
        {
          "data": {
            "text/plain": [
              "<KerasTensor: shape=(None, 28, 28, 1) dtype=float32 (created by layer 'conv2d_input')>"
            ]
          },
          "execution_count": 59,
          "metadata": {},
          "output_type": "execute_result"
        }
      ],
      "source": [
        "model.input # 훈련이미지 (28,28,1)"
      ]
    },
    {
      "cell_type": "code",
      "execution_count": null,
      "metadata": {
        "colab": {
          "base_uri": "https://localhost:8080/"
        },
        "id": "P4Whaz9Mj_lS",
        "outputId": "cc3f07db-c573-445e-971b-ebe598c719e8"
      },
      "outputs": [
        {
          "data": {
            "text/plain": [
              "<KerasTensor: shape=(None, 28, 28, 32) dtype=float32 (created by layer 'conv2d')>"
            ]
          },
          "execution_count": 60,
          "metadata": {},
          "output_type": "execute_result"
        }
      ],
      "source": [
        "model.layers[0].output"
      ]
    },
    {
      "cell_type": "code",
      "execution_count": null,
      "metadata": {
        "colab": {
          "base_uri": "https://localhost:8080/"
        },
        "id": "n_H6ToBDkB18",
        "outputId": "42159f2e-6843-47f3-cd7a-195ef4e20bd1"
      },
      "outputs": [
        {
          "name": "stdout",
          "output_type": "stream",
          "text": [
            "Model: \"model_1\"\n",
            "_________________________________________________________________\n",
            " Layer (type)                Output Shape              Param #   \n",
            "=================================================================\n",
            " conv2d_input (InputLayer)   [(None, 28, 28, 1)]       0         \n",
            "                                                                 \n",
            " conv2d (Conv2D)             (None, 28, 28, 32)        320       \n",
            "                                                                 \n",
            "=================================================================\n",
            "Total params: 320\n",
            "Trainable params: 320\n",
            "Non-trainable params: 0\n",
            "_________________________________________________________________\n"
          ]
        }
      ],
      "source": [
        "conv_acti = keras.Model(model.input, model.layers[0].output)\n",
        "conv_acti.summary()"
      ]
    },
    {
      "cell_type": "code",
      "execution_count": null,
      "metadata": {
        "colab": {
          "base_uri": "https://localhost:8080/",
          "height": 265
        },
        "id": "7I3ZmQMzaS6c",
        "outputId": "8d031ea2-d77d-40e6-e958-ac4532211ccb"
      },
      "outputs": [
        {
          "data": {
            "image/png": "[encoded data removed]",
            "text/plain": [
              "<Figure size 432x288 with 1 Axes>"
            ]
          },
          "metadata": {},
          "output_type": "display_data"
        }
      ],
      "source": [
        "plt.imshow(X_train[0], cmap='gray_r')\n",
        "plt.show()"
      ]
    },
    {
      "cell_type": "code",
      "execution_count": null,
      "metadata": {
        "colab": {
          "base_uri": "https://localhost:8080/"
        },
        "id": "9HJUYpxbk7EH",
        "outputId": "2bdd0154-06d5-4755-9ef0-e6982b82628e"
      },
      "outputs": [
        {
          "data": {
            "text/plain": [
              "(1, 28, 28, 1)"
            ]
          },
          "execution_count": 62,
          "metadata": {},
          "output_type": "execute_result"
        }
      ],
      "source": [
        "inputs = X_train[0:1].reshape(-1, 28, 28, 1)/255.0\n",
        "inputs.shape #샘플이 1건이므로 (1,)"
      ]
    },
    {
      "cell_type": "code",
      "execution_count": null,
      "metadata": {
        "colab": {
          "base_uri": "https://localhost:8080/"
        },
        "id": "TQYJ6hzXlKOx",
        "outputId": "502eaee8-915d-4ef3-ce45-117ce7343552"
      },
      "outputs": [
        {
          "data": {
            "text/plain": [
              "(1, 28, 28, 32)"
            ]
          },
          "execution_count": 64,
          "metadata": {},
          "output_type": "execute_result"
        }
      ],
      "source": [
        "feature_maps = conv_acti.predict(inputs)\n",
        "feature_maps.shape #FeatureMap은 32개"
      ]
    },
    {
      "cell_type": "code",
      "execution_count": null,
      "metadata": {
        "colab": {
          "base_uri": "https://localhost:8080/",
          "height": 460
        },
        "id": "wGLLpGhylSmw",
        "outputId": "2ea425a8-b850-48a5-a768-81e46e12c8af"
      },
      "outputs": [
        {
          "data": {
            "image/png": "[encoded data removed]",
            "text/plain": [
              "<Figure size 1080x576 with 32 Axes>"
            ]
          },
          "metadata": {},
          "output_type": "display_data"
        }
      ],
      "source": [
        "fig, axs = plt.subplots(4, 8, figsize=(15,8))\n",
        "for i in range(4):\n",
        "  for j in range(8):\n",
        "    axs[i,j].imshow(feature_maps[0,:,:,i*8+j])\n",
        "    axs[i,j].axis('off')\n",
        "plt.show()"
      ]
    },
    {
      "cell_type": "code",
      "execution_count": null,
      "metadata": {
        "colab": {
          "base_uri": "https://localhost:8080/"
        },
        "id": "AXyVKn4omhiw",
        "outputId": "679df1ff-f3ea-4d30-92b8-e9948bf9963b"
      },
      "outputs": [
        {
          "name": "stdout",
          "output_type": "stream",
          "text": [
            "(1, 14, 14, 64)\n"
          ]
        }
      ],
      "source": [
        "conv2_acti = keras.Model(model.input, model.layers[2].output)\n",
        "inputs = X_train[0:1].reshape(-1,28,28,1)/255.0\n",
        "feature_maps = conv2_acti.predict(inputs)\n",
        "print(feature_maps.shape) # 두번째 Conv2D 사이즈 (None->1)로 바뀐 거밖에 없음! - 그림이랑 잘 이어보기"
      ]
    },
    {
      "cell_type": "code",
      "execution_count": null,
      "metadata": {
        "colab": {
          "base_uri": "https://localhost:8080/",
          "height": 460
        },
        "id": "N_SWdehPm2ab",
        "outputId": "775cb08a-5260-437c-c9a3-553bbcd01f9d"
      },
      "outputs": [
        {
          "data": {
            "image/png": "[encoded data removed]",
            "text/plain": [
              "<Figure size 1080x576 with 32 Axes>"
            ]
          },
          "metadata": {},
          "output_type": "display_data"
        }
      ],
      "source": [
        "fig, axs = plt.subplots(4, 8, figsize=(15,8))\n",
        "for i in range(4):\n",
        "  for j in range(8):\n",
        "    axs[i,j].imshow(feature_maps[0,:,:,i*8+j])\n",
        "    axs[i,j].axis('off')\n",
        "plt.show()\n",
        "\n",
        "# 첫번째 featureMap이 인풋이므로 알아보기 힘들다"
      ]
    },
    {
      "cell_type": "code",
      "execution_count": null,
      "metadata": {
        "colab": {
          "background_save": true
        },
        "id": "bQNAA0oDrrtV",
        "outputId": "9ce9c7e0-c9d1-4008-f753-7ca7f8772cb4"
      },
      "outputs": [
        {
          "ename": "NameError",
          "evalue": "ignored",
          "output_type": "error",
          "traceback": [
            "\u001b[0;31m---------------------------------------------------------------------------\u001b[0m",
            "\u001b[0;31mNameError\u001b[0m                                 Traceback (most recent call last)",
            "\u001b[0;32m<ipython-input-1-7d529be06219>\u001b[0m in \u001b[0;36m<module>\u001b[0;34m()\u001b[0m\n\u001b[0;32m----> 1\u001b[0;31m \u001b[0mtype\u001b[0m\u001b[0;34m(\u001b[0m\u001b[0mmodel\u001b[0m\u001b[0;34m)\u001b[0m\u001b[0;34m\u001b[0m\u001b[0;34m\u001b[0m\u001b[0m\n\u001b[0m",
            "\u001b[0;31mNameError\u001b[0m: name 'model' is not defined"
          ]
        }
      ],
      "source": [
        "type(model)"
      ]
    }
  ],
  "metadata": {
    "accelerator": "GPU",
    "colab": {
      "collapsed_sections": [],
      "name": "08-3. 합성곱 신경망의 시각화.ipynb",
      "provenance": [],
      "authorship_tag": "ABX9TyNwX288+c/59n2Bk48fGoTO",
      "include_colab_link": true
    },
    "kernelspec": {
      "display_name": "Python 3",
      "name": "python3"
    },
    "language_info": {
      "name": "python"
    }
  },
  "nbformat": 4,
  "nbformat_minor": 0
}