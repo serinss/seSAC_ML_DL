{
  "nbformat": 4,
  "nbformat_minor": 0,
  "metadata": {
    "colab": {
      "name": "05-3. 트리의 앙상블.ipynb",
      "provenance": [],
      "collapsed_sections": [],
      "authorship_tag": "ABX9TyO9rG+MFyy6Rb4IEBk9XC7S",
      "include_colab_link": true
    },
    "kernelspec": {
      "name": "python3",
      "display_name": "Python 3"
    },
    "language_info": {
      "name": "python"
    }
  },
  "cells": [
    {
      "cell_type": "markdown",
      "metadata": {
        "id": "view-in-github",
        "colab_type": "text"
      },
      "source": [
        "<a href=\"https://colab.research.google.com/github/serinss/seSAC_ML_DL_Class/blob/main/05_3_%ED%8A%B8%EB%A6%AC%EC%9D%98_%EC%95%99%EC%83%81%EB%B8%94.ipynb\" target=\"_parent\"><img src=\"https://colab.research.google.com/assets/colab-badge.svg\" alt=\"Open In Colab\"/></a>"
      ]
    },
    {
      "cell_type": "code",
      "execution_count": 6,
      "metadata": {
        "colab": {
          "base_uri": "https://localhost:8080/"
        },
        "id": "ghiQNfnAqu1_",
        "outputId": "2c2fad07-259e-4a29-beb5-bfdbdabe2206"
      },
      "outputs": [
        {
          "output_type": "stream",
          "name": "stdout",
          "text": [
            "Drive already mounted at /content/drive; to attempt to forcibly remount, call drive.mount(\"/content/drive\", force_remount=True).\n"
          ]
        }
      ],
      "source": [
        "%run my_init.py"
      ]
    },
    {
      "cell_type": "code",
      "source": [
        "%run my_init.py"
      ],
      "metadata": {
        "colab": {
          "base_uri": "https://localhost:8080/"
        },
        "id": "S2M0tGVIq8Ja",
        "outputId": "72f7ccf8-9707-44c0-e465-64f6e77644ea"
      },
      "execution_count": 7,
      "outputs": [
        {
          "output_type": "stream",
          "name": "stdout",
          "text": [
            "Drive already mounted at /content/drive; to attempt to forcibly remount, call drive.mount(\"/content/drive\", force_remount=True).\n"
          ]
        }
      ]
    },
    {
      "cell_type": "markdown",
      "source": [
        "#정형 데이터와 비정형 데이터\n"
      ],
      "metadata": {
        "id": "Dsgvr7b9u-mw"
      }
    },
    {
      "cell_type": "markdown",
      "source": [
        "#앙상블\n",
        "\n",
        "통계역학에서, 어떤 계의 앙상블(ensemble)이란 그 계와 동등한 계의 모음을 말한다.\n",
        "\n",
        "쉽게 말하면, 비슷한 무리들의 집합이라고 생각하시면 됩니다.\n",
        "\n",
        "즉, 우리는 단일 모델에서 나오는 성능의 결과를 기대하는 것이 아니라,\n",
        "\n",
        "여러 개의 단일 모델들의 평균치를 내거나, 투표를 해서 다수결에 의한 결정을 하는 등 여러 모델들의 집단 지성을 활용하여 더 나은 결과를 도출해 내는 것에 주 목적이 있습니다.\n",
        "\n",
        "집단 지성을 활용하는 방법, 즉 앙상블 기법에는 다양한 방법이 있습니다.\n",
        "\n",
        "- Voting (투표) - 투표를 통해 결과 도출\n",
        "- Bagging - Bootstrap Aggregating (샘플을 다양하게 중복 생성)\n",
        "- Boosting - 이전 오차를 보완하며 가중치 부여(일종의 오답노트)\n",
        "- Stacking- 여러 모델을 기반으로 meta 모델"
      ],
      "metadata": {
        "id": "4yLJ2kjo9md2"
      }
    },
    {
      "cell_type": "markdown",
      "source": [
        "#앙상블 학습 - Voting, Bagging, RandomForest\n",
        "\n",
        "---\n",
        "\n",
        "\n",
        "https://scikit-learn.org/stable/modules/generated/sklearn.datasets.load_breast_cancer.html#sklearn.datasets.load_breast_cancer\n",
        "https://archive.ics.uci.edu/ml/datasets/Breast+Cancer+Wisconsin+%28Diagnostic%29\n",
        "\n",
        "서로 다른 알고리즘이 도출해 낸 결과물에 대하여 최종 투표하는 방식을 통해 최종 결과를 선택"
      ],
      "metadata": {
        "id": "R6cKi7Rc0HB6"
      }
    },
    {
      "cell_type": "code",
      "source": [
        "from sklearn.ensemble import VotingClassifier, BaggingClassifier, RandomForestClassifier, \\\n",
        "  ExtraTreesClassifier, GradientBoostingClassifier\n",
        "from sklearn.datasets import load_breast_cancer"
      ],
      "metadata": {
        "id": "JhPsj56o0IRQ"
      },
      "execution_count": 33,
      "outputs": []
    },
    {
      "cell_type": "code",
      "source": [
        "obj = load_breast_cancer()\n",
        "type(obj)  # bunch 객체로 리턴 (딕셔너리와 비슷하다)"
      ],
      "metadata": {
        "colab": {
          "base_uri": "https://localhost:8080/"
        },
        "id": "y06hLMqJ2btK",
        "outputId": "60b4ad64-7387-491f-f06c-33a86cd839ac"
      },
      "execution_count": 9,
      "outputs": [
        {
          "output_type": "execute_result",
          "data": {
            "text/plain": [
              "sklearn.utils.Bunch"
            ]
          },
          "metadata": {},
          "execution_count": 9
        }
      ]
    },
    {
      "cell_type": "code",
      "source": [
        "print(f\"feature_names: {obj.feature_names.shape} = Dimensionality\\n{obj.feature_names}\")\n",
        "print(\"============================================================================\\n\")\n",
        "print(f\"data: {obj.data.shape} \\n{obj.data}\")\n",
        "print(\"============================================================================\\n\")\n",
        "print(f\"target_names: {obj.target_names.shape}\\n{obj.target_names}\")\n",
        "print(\"============================================================================\\n\")\n",
        "print(f\"target: {obj.target.shape}\\n{obj.target}\")\n",
        "\n",
        "# 해당 데이터로 Voting해보기 위함임"
      ],
      "metadata": {
        "colab": {
          "base_uri": "https://localhost:8080/"
        },
        "id": "gWfb3ogq2pVz",
        "outputId": "a8ea7ce5-c5f8-43ce-850f-ef82ce311a98"
      },
      "execution_count": 10,
      "outputs": [
        {
          "output_type": "stream",
          "name": "stdout",
          "text": [
            "feature_names: (30,) = Dimensionality\n",
            "['mean radius' 'mean texture' 'mean perimeter' 'mean area'\n",
            " 'mean smoothness' 'mean compactness' 'mean concavity'\n",
            " 'mean concave points' 'mean symmetry' 'mean fractal dimension'\n",
            " 'radius error' 'texture error' 'perimeter error' 'area error'\n",
            " 'smoothness error' 'compactness error' 'concavity error'\n",
            " 'concave points error' 'symmetry error' 'fractal dimension error'\n",
            " 'worst radius' 'worst texture' 'worst perimeter' 'worst area'\n",
            " 'worst smoothness' 'worst compactness' 'worst concavity'\n",
            " 'worst concave points' 'worst symmetry' 'worst fractal dimension']\n",
            "============================================================================\n",
            "\n",
            "data: (569, 30) \n",
            "[[1.799e+01 1.038e+01 1.228e+02 ... 2.654e-01 4.601e-01 1.189e-01]\n",
            " [2.057e+01 1.777e+01 1.329e+02 ... 1.860e-01 2.750e-01 8.902e-02]\n",
            " [1.969e+01 2.125e+01 1.300e+02 ... 2.430e-01 3.613e-01 8.758e-02]\n",
            " ...\n",
            " [1.660e+01 2.808e+01 1.083e+02 ... 1.418e-01 2.218e-01 7.820e-02]\n",
            " [2.060e+01 2.933e+01 1.401e+02 ... 2.650e-01 4.087e-01 1.240e-01]\n",
            " [7.760e+00 2.454e+01 4.792e+01 ... 0.000e+00 2.871e-01 7.039e-02]]\n",
            "============================================================================\n",
            "\n",
            "target_names: (2,)\n",
            "['malignant' 'benign']\n",
            "============================================================================\n",
            "\n",
            "target: (569,)\n",
            "[0 0 0 0 0 0 0 0 0 0 0 0 0 0 0 0 0 0 0 1 1 1 0 0 0 0 0 0 0 0 0 0 0 0 0 0 0\n",
            " 1 0 0 0 0 0 0 0 0 1 0 1 1 1 1 1 0 0 1 0 0 1 1 1 1 0 1 0 0 1 1 1 1 0 1 0 0\n",
            " 1 0 1 0 0 1 1 1 0 0 1 0 0 0 1 1 1 0 1 1 0 0 1 1 1 0 0 1 1 1 1 0 1 1 0 1 1\n",
            " 1 1 1 1 1 1 0 0 0 1 0 0 1 1 1 0 0 1 0 1 0 0 1 0 0 1 1 0 1 1 0 1 1 1 1 0 1\n",
            " 1 1 1 1 1 1 1 1 0 1 1 1 1 0 0 1 0 1 1 0 0 1 1 0 0 1 1 1 1 0 1 1 0 0 0 1 0\n",
            " 1 0 1 1 1 0 1 1 0 0 1 0 0 0 0 1 0 0 0 1 0 1 0 1 1 0 1 0 0 0 0 1 1 0 0 1 1\n",
            " 1 0 1 1 1 1 1 0 0 1 1 0 1 1 0 0 1 0 1 1 1 1 0 1 1 1 1 1 0 1 0 0 0 0 0 0 0\n",
            " 0 0 0 0 0 0 0 1 1 1 1 1 1 0 1 0 1 1 0 1 1 0 1 0 0 1 1 1 1 1 1 1 1 1 1 1 1\n",
            " 1 0 1 1 0 1 0 1 1 1 1 1 1 1 1 1 1 1 1 1 1 0 1 1 1 0 1 0 1 1 1 1 0 0 0 1 1\n",
            " 1 1 0 1 0 1 0 1 1 1 0 1 1 1 1 1 1 1 0 0 0 1 1 1 1 1 1 1 1 1 1 1 0 0 1 0 0\n",
            " 0 1 0 0 1 1 1 1 1 0 1 1 1 1 1 0 1 1 1 0 1 1 0 0 1 1 1 1 1 1 0 1 1 1 1 1 1\n",
            " 1 0 1 1 1 1 1 0 1 1 0 1 1 1 1 1 1 1 1 1 1 1 1 0 1 0 0 1 0 1 1 1 1 1 0 1 1\n",
            " 0 1 0 1 1 0 1 0 1 1 1 1 1 1 1 1 0 0 1 1 1 1 1 1 0 1 1 1 1 1 1 1 1 1 1 0 1\n",
            " 1 1 1 1 1 1 0 1 0 1 1 0 1 1 1 1 1 0 0 1 0 1 0 1 1 1 1 1 0 1 1 0 1 0 1 0 0\n",
            " 1 1 1 0 1 1 1 1 1 1 1 1 1 1 1 0 1 0 0 1 1 1 1 1 1 1 1 1 1 1 1 1 1 1 1 1 1\n",
            " 1 1 1 1 1 1 1 0 0 0 0 0 0 1]\n"
          ]
        }
      ]
    },
    {
      "cell_type": "code",
      "source": [
        "X, y = load_breast_cancer(return_X_y=True)\n",
        "print(f\"X: {X.shape}\\n{X}, \\n\\ny: {y.shape}\\n{y}\")\n",
        "\n",
        "# X,y를 리턴해서 쓰면 데이터만 가져오는 것이므로 따로 뽑아서 쓰기 힘들다"
      ],
      "metadata": {
        "colab": {
          "base_uri": "https://localhost:8080/"
        },
        "id": "kcvgWK4a5FeD",
        "outputId": "62a02362-2849-4007-d5fc-ae601d4249ca"
      },
      "execution_count": 11,
      "outputs": [
        {
          "output_type": "stream",
          "name": "stdout",
          "text": [
            "X: (569, 30)\n",
            "[[1.799e+01 1.038e+01 1.228e+02 ... 2.654e-01 4.601e-01 1.189e-01]\n",
            " [2.057e+01 1.777e+01 1.329e+02 ... 1.860e-01 2.750e-01 8.902e-02]\n",
            " [1.969e+01 2.125e+01 1.300e+02 ... 2.430e-01 3.613e-01 8.758e-02]\n",
            " ...\n",
            " [1.660e+01 2.808e+01 1.083e+02 ... 1.418e-01 2.218e-01 7.820e-02]\n",
            " [2.060e+01 2.933e+01 1.401e+02 ... 2.650e-01 4.087e-01 1.240e-01]\n",
            " [7.760e+00 2.454e+01 4.792e+01 ... 0.000e+00 2.871e-01 7.039e-02]], \n",
            "\n",
            "y: (569,)\n",
            "[0 0 0 0 0 0 0 0 0 0 0 0 0 0 0 0 0 0 0 1 1 1 0 0 0 0 0 0 0 0 0 0 0 0 0 0 0\n",
            " 1 0 0 0 0 0 0 0 0 1 0 1 1 1 1 1 0 0 1 0 0 1 1 1 1 0 1 0 0 1 1 1 1 0 1 0 0\n",
            " 1 0 1 0 0 1 1 1 0 0 1 0 0 0 1 1 1 0 1 1 0 0 1 1 1 0 0 1 1 1 1 0 1 1 0 1 1\n",
            " 1 1 1 1 1 1 0 0 0 1 0 0 1 1 1 0 0 1 0 1 0 0 1 0 0 1 1 0 1 1 0 1 1 1 1 0 1\n",
            " 1 1 1 1 1 1 1 1 0 1 1 1 1 0 0 1 0 1 1 0 0 1 1 0 0 1 1 1 1 0 1 1 0 0 0 1 0\n",
            " 1 0 1 1 1 0 1 1 0 0 1 0 0 0 0 1 0 0 0 1 0 1 0 1 1 0 1 0 0 0 0 1 1 0 0 1 1\n",
            " 1 0 1 1 1 1 1 0 0 1 1 0 1 1 0 0 1 0 1 1 1 1 0 1 1 1 1 1 0 1 0 0 0 0 0 0 0\n",
            " 0 0 0 0 0 0 0 1 1 1 1 1 1 0 1 0 1 1 0 1 1 0 1 0 0 1 1 1 1 1 1 1 1 1 1 1 1\n",
            " 1 0 1 1 0 1 0 1 1 1 1 1 1 1 1 1 1 1 1 1 1 0 1 1 1 0 1 0 1 1 1 1 0 0 0 1 1\n",
            " 1 1 0 1 0 1 0 1 1 1 0 1 1 1 1 1 1 1 0 0 0 1 1 1 1 1 1 1 1 1 1 1 0 0 1 0 0\n",
            " 0 1 0 0 1 1 1 1 1 0 1 1 1 1 1 0 1 1 1 0 1 1 0 0 1 1 1 1 1 1 0 1 1 1 1 1 1\n",
            " 1 0 1 1 1 1 1 0 1 1 0 1 1 1 1 1 1 1 1 1 1 1 1 0 1 0 0 1 0 1 1 1 1 1 0 1 1\n",
            " 0 1 0 1 1 0 1 0 1 1 1 1 1 1 1 1 0 0 1 1 1 1 1 1 0 1 1 1 1 1 1 1 1 1 1 0 1\n",
            " 1 1 1 1 1 1 0 1 0 1 1 0 1 1 1 1 1 0 0 1 0 1 0 1 1 1 1 1 0 1 1 0 1 0 1 0 0\n",
            " 1 1 1 0 1 1 1 1 1 1 1 1 1 1 1 0 1 0 0 1 1 1 1 1 1 1 1 1 1 1 1 1 1 1 1 1 1\n",
            " 1 1 1 1 1 1 1 0 0 0 0 0 0 1]\n"
          ]
        }
      ]
    },
    {
      "cell_type": "code",
      "source": [
        "X_train, X_test, y_train, y_test = train_test_split(X, y, test_size=0.2, random_state=42)"
      ],
      "metadata": {
        "id": "bcEEpK-O5pXA"
      },
      "execution_count": 12,
      "outputs": []
    },
    {
      "cell_type": "code",
      "source": [
        "X_train.shape, y_train.shape"
      ],
      "metadata": {
        "colab": {
          "base_uri": "https://localhost:8080/"
        },
        "id": "7OP5JlG36OJe",
        "outputId": "1ba1d72d-ffae-40e2-ea69-7ae6dee0b189"
      },
      "execution_count": 13,
      "outputs": [
        {
          "output_type": "execute_result",
          "data": {
            "text/plain": [
              "((455, 30), (455,))"
            ]
          },
          "metadata": {},
          "execution_count": 13
        }
      ]
    },
    {
      "cell_type": "code",
      "source": [
        "X_test.shape, y_test.shape"
      ],
      "metadata": {
        "colab": {
          "base_uri": "https://localhost:8080/"
        },
        "id": "ml9ex6uS6S0t",
        "outputId": "327821bd-639e-4288-ea94-165679e092d3"
      },
      "execution_count": 14,
      "outputs": [
        {
          "output_type": "execute_result",
          "data": {
            "text/plain": [
              "((114, 30), (114,))"
            ]
          },
          "metadata": {},
          "execution_count": 14
        }
      ]
    },
    {
      "cell_type": "code",
      "source": [
        "lr = LogisticRegression()\n",
        "knn = KNeighborsClassifier()\n",
        "dt = DecisionTreeClassifier()\n",
        "\n",
        "vt = VotingClassifier([('LR', lr), {'KNN', knn}]) # 디폴트 voting='hard'\n",
        "bg = BaggingClassifier(dt, n_estimators=100) # 하나의 데이터로 부트스트래핑 샘플링을하여 다양한 모델을 학습\n",
        "rf = RandomForestClassifier() # 기본적으로 dt로 고정됨"
      ],
      "metadata": {
        "id": "Wyk6zwtH6eBp"
      },
      "execution_count": 31,
      "outputs": []
    },
    {
      "cell_type": "code",
      "source": [
        "# for clf in [lr, knn, vt, dt, bg, rf]:\n",
        "#   clf.fit(X_train, y_train)\n",
        "#   y_pred = clf.predict(X_test)\n",
        "#   print(f\"{clf.__class__.__name__}: {accuracy_score(y_test, y_pred):.4f}\")\n",
        "  # 파이선 모든 객체는 __class__ 가 모두 존재함 -> 클래스에 대한 참조를 보면 이름이 존재\n",
        "\n",
        "# Voting클래스가 제일 좋음 - 기본값으로 진행한 것임\n",
        "# 일할 때, 앙상블을 안쓸래야 안쓸 수 없음 기본값으로만 진행해도 성능이 꽤 높아짐"
      ],
      "metadata": {
        "id": "y6nKXHZp7Nq9"
      },
      "execution_count": 50,
      "outputs": []
    },
    {
      "cell_type": "markdown",
      "source": [
        "### Hard Voting vs. Soft Voting\n",
        "Hard Vote\n",
        "\n",
        "classification을 예로 들어 보자면, 분류를 예측한 값이 1, 0, 0, 1, 1 이었다고 가정한다면 1이 3표, 0이 2표를 받았기 때문에 Hard Voting 방식에서는 1이 최종 값으로 예측을 하게 됩니다.\n",
        "\n",
        "---------\n",
        "Soft Vote\n",
        "\n",
        "soft vote 방식은 각각의 확률의 평균 값을 계산한다음에 가장 확률이 높은 값으로 확정짓게 됩니다.\n",
        "\n",
        "가령 class 0이 나올 확률이 (0.4, 0.9, 0.9, 0.4, 0.4)이었고, class 1이 나올 확률이 (0.6, 0.1, 0.1, 0.6, 0.6) 이었다면,\n",
        "\n",
        "class 0이 나올 최종 확률은 (0.4+0.9+0.9+0.4+0.4) / 5 = 0.44, class 1이 나올 최종 확률은 (0.6+0.1+0.1+0.6+0.6) / 5 = 0.4 가 되기 때문에 앞선 Hard Vote의 결과와는 다른 결과 값이 최종 으로 선출되게 됩니다."
      ],
      "metadata": {
        "id": "jPifd1TP94xf"
      }
    },
    {
      "cell_type": "markdown",
      "source": [
        "#랜덤 포레스트"
      ],
      "metadata": {
        "id": "v3XrznZwD3B5"
      }
    },
    {
      "cell_type": "code",
      "source": [
        "wine = pd.read_csv('https://bit.ly/wine_csv_data')\n",
        "data = wine[['alcohol','sugar','pH']].to_numpy()\n",
        "target = wine['class'].to_numpy()\n",
        "train_input, test_input, train_target, test_target = train_test_split(data, target, test_size=0.2, random_state=42)"
      ],
      "metadata": {
        "id": "yjB32l_6HZBW"
      },
      "execution_count": 17,
      "outputs": []
    },
    {
      "cell_type": "code",
      "source": [
        "rf = RandomForestClassifier(n_jobs=-1, random_state=42) #최상의 성능(=빠른 수행속도)을 사용하기 위해 파라미터 값을 지정, n_jobs \n",
        "scores = cross_validate(rf, train_input, train_target, return_train_score=True, n_jobs=-1) #여기서 점수는 validation_score, train_score도 넣음\n",
        "print(np.mean(scores['train_score']), np.mean(scores['test_score']))\n",
        "\n",
        "# 과대적합 상태.. -> 이예제는 하이퍼파라미터 튜닝해도 결과가 잘 나아지지 않음(간단해서)"
      ],
      "metadata": {
        "colab": {
          "base_uri": "https://localhost:8080/"
        },
        "id": "4Q5pXJwJD9Ix",
        "outputId": "e2a69c84-0e61-45d3-c9bd-1b779860e304"
      },
      "execution_count": 18,
      "outputs": [
        {
          "output_type": "stream",
          "name": "stdout",
          "text": [
            "0.9973541965122431 0.8905151032797809\n"
          ]
        }
      ]
    },
    {
      "cell_type": "code",
      "source": [
        "rf.fit(train_input, train_target)\n",
        "print(rf.feature_importances_)\n",
        "\n",
        "# 당도의 중요도가 감소하고 알코올,pH의 중요도가 상승함\n",
        "# 랜덤 포레스트가 특성의 일부를 랜덤하게 선태갛여 DT를 훈련하기 때문"
      ],
      "metadata": {
        "colab": {
          "base_uri": "https://localhost:8080/"
        },
        "id": "yVjuI8DmH20S",
        "outputId": "8ab75b20-ee22-4a84-e7e8-13eb8281f8a6"
      },
      "execution_count": 19,
      "outputs": [
        {
          "output_type": "stream",
          "name": "stdout",
          "text": [
            "[0.23167441 0.50039841 0.26792718]\n"
          ]
        }
      ]
    },
    {
      "cell_type": "code",
      "source": [
        "rf.predict_proba(test_input)"
      ],
      "metadata": {
        "id": "CCV3dAZDNsGp",
        "outputId": "b1077dc4-d409-4ca8-c5b2-a3e2189aa552",
        "colab": {
          "base_uri": "https://localhost:8080/"
        }
      },
      "execution_count": 20,
      "outputs": [
        {
          "output_type": "execute_result",
          "data": {
            "text/plain": [
              "array([[0.  , 1.  ],\n",
              "       [0.85, 0.15],\n",
              "       [0.02, 0.98],\n",
              "       ...,\n",
              "       [0.11, 0.89],\n",
              "       [0.  , 1.  ],\n",
              "       [0.01, 0.99]])"
            ]
          },
          "metadata": {},
          "execution_count": 20
        }
      ]
    },
    {
      "cell_type": "code",
      "source": [
        "rf = RandomForestClassifier(oob_score=True, n_jobs=-1, random_state=42) \n",
        "# out of bag (bagging샘플링 = 일부 -> oob = 취해지지 않은 데이터들)을 이용하여 부트스트랩 -> 교차 검증을 했을 때와 비슷한 결과가 나옴\n",
        "rf.fit(train_input, train_target)\n",
        "print(rf.oob_score_)"
      ],
      "metadata": {
        "colab": {
          "base_uri": "https://localhost:8080/"
        },
        "id": "4O8c1JNzIRPs",
        "outputId": "ef5de5aa-1ea2-45e4-baac-b1fa65156874"
      },
      "execution_count": 21,
      "outputs": [
        {
          "output_type": "stream",
          "name": "stdout",
          "text": [
            "0.8934000384837406\n"
          ]
        }
      ]
    },
    {
      "cell_type": "markdown",
      "source": [
        "# 엑스트라 트리"
      ],
      "metadata": {
        "id": "DN80XXcJIwuj"
      }
    },
    {
      "cell_type": "code",
      "source": [
        "from pandas.core.common import random_state\n",
        "et = ExtraTreesClassifier(n_jobs=-1, random_state=42)\n",
        "scores = cross_validate(et, train_input, train_target, return_train_score=True, n_jobs=-1)"
      ],
      "metadata": {
        "id": "2JiTiJrukiow"
      },
      "execution_count": 23,
      "outputs": []
    },
    {
      "cell_type": "code",
      "source": [
        "scores['test_score']"
      ],
      "metadata": {
        "colab": {
          "base_uri": "https://localhost:8080/"
        },
        "id": "2CtuMu5Yk8Lb",
        "outputId": "286dca4a-89ec-4c18-fc24-9ef3a2f636df"
      },
      "execution_count": 25,
      "outputs": [
        {
          "output_type": "execute_result",
          "data": {
            "text/plain": [
              "array([0.88365385, 0.87884615, 0.90375361, 0.88835419, 0.88931665])"
            ]
          },
          "metadata": {},
          "execution_count": 25
        }
      ]
    },
    {
      "cell_type": "code",
      "source": [
        "np.mean(scores['test_score']) # 동일 데이터를 전체를 가지고(전략 자체가 반대) 작업해도 점수가 크게 다르지 않음"
      ],
      "metadata": {
        "colab": {
          "base_uri": "https://localhost:8080/"
        },
        "id": "w-h_8Vdjk-7v",
        "outputId": "9a3c6740-02e7-45ee-8cf1-43ec25ac9588"
      },
      "execution_count": 26,
      "outputs": [
        {
          "output_type": "execute_result",
          "data": {
            "text/plain": [
              "0.8887848893166506"
            ]
          },
          "metadata": {},
          "execution_count": 26
        }
      ]
    },
    {
      "cell_type": "code",
      "source": [
        "et.fit(train_input, train_target)\n",
        "et.feature_importances_\n",
        "\n",
        "# 랜덤 포레스트 : [0.23167441 0.50039841 0.26792718]\n",
        "# 엑스트라 트리 : [0.20183568, 0.52242907, 0.27573525]\n",
        "# 거의 동일\n",
        "\n",
        "# 하지만, 랜덤의 경우 데이터가 작은 경우 결과가 잘 나오지 않음"
      ],
      "metadata": {
        "colab": {
          "base_uri": "https://localhost:8080/"
        },
        "id": "fSa3z4f-lUuX",
        "outputId": "9cc8ecf2-cab8-4a52-cf31-22da6485afed"
      },
      "execution_count": 30,
      "outputs": [
        {
          "output_type": "execute_result",
          "data": {
            "text/plain": [
              "array([0.20183568, 0.52242907, 0.27573525])"
            ]
          },
          "metadata": {},
          "execution_count": 30
        }
      ]
    },
    {
      "cell_type": "markdown",
      "source": [
        "#그래디언트 부스팅\n",
        "부스팅 -> 오답노트(약점 강화)  \n",
        "그래디언트 -> 하나가 아닌 여러개를 취해서 샘플링(미니 배치같은)  \n",
        "weak learner(약한 학습치, 예를 들어 DT)로 가중치를 더 줘가면서 학습 시킴  "
      ],
      "metadata": {
        "id": "zdUZAg6Jl0O6"
      }
    },
    {
      "cell_type": "code",
      "source": [
        "gb = GradientBoostingClassifier(random_state=42)\n",
        "scores = cross_validate(gb, train_input, train_target, return_train_score=True, n_jobs=-1)\n",
        "gb.fit(train_input, train_target)"
      ],
      "metadata": {
        "colab": {
          "base_uri": "https://localhost:8080/"
        },
        "id": "NvtbvhNxmYLe",
        "outputId": "2563179e-f901-4727-ad39-0990db3ab820"
      },
      "execution_count": 35,
      "outputs": [
        {
          "output_type": "execute_result",
          "data": {
            "text/plain": [
              "GradientBoostingClassifier(random_state=42)"
            ]
          },
          "metadata": {},
          "execution_count": 35
        }
      ]
    },
    {
      "cell_type": "code",
      "source": [
        "accuracy_score(train_target, gb.predict(train_input))"
      ],
      "metadata": {
        "colab": {
          "base_uri": "https://localhost:8080/"
        },
        "id": "q4BJtSvuuCBe",
        "outputId": "ba3b63e5-46e9-4b3a-e3f2-16b0fc4757fd"
      },
      "execution_count": 38,
      "outputs": [
        {
          "output_type": "execute_result",
          "data": {
            "text/plain": [
              "0.8880123147969983"
            ]
          },
          "metadata": {},
          "execution_count": 38
        }
      ]
    },
    {
      "cell_type": "code",
      "source": [
        "accuracy_score(test_target, gb.predict(test_input))\n",
        "\n",
        "# 처음부터 weak learner로 시작하기 때문에 과대 적합일 일어나지 않음!\n",
        "# 학습률을 높이고, 트리의 개수를 증가시키면 성능이 향상될 수 있음"
      ],
      "metadata": {
        "colab": {
          "base_uri": "https://localhost:8080/"
        },
        "id": "FNRhPpeguUyx",
        "outputId": "7a0e36c3-3177-47bb-da49-7a164d9a7899"
      },
      "execution_count": 37,
      "outputs": [
        {
          "output_type": "execute_result",
          "data": {
            "text/plain": [
              "0.8669230769230769"
            ]
          },
          "metadata": {},
          "execution_count": 37
        }
      ]
    },
    {
      "cell_type": "code",
      "source": [
        "params = {\n",
        "    'learning_rate': [0.05, 0.1, 0.5],\n",
        "    'n_estimators': [500,1000, 5000],\n",
        "    'subsample': [0.1, 0.2, 0.5, 1]\n",
        "}"
      ],
      "metadata": {
        "id": "zfWGVGEKu791"
      },
      "execution_count": 54,
      "outputs": []
    },
    {
      "cell_type": "markdown",
      "source": [
        "###CridSearchCV"
      ],
      "metadata": {
        "id": "Rxq_BsuGx6RA"
      }
    },
    {
      "cell_type": "code",
      "source": [
        "gs = GridSearchCV(GradientBoostingClassifier(random_state=42), params, n_jobs=-1, cv=3)\n",
        "gs.fit(train_input, train_target)"
      ],
      "metadata": {
        "colab": {
          "base_uri": "https://localhost:8080/"
        },
        "id": "gXIc0ikruxDv",
        "outputId": "fc12047d-5097-4952-f4c7-0a5a308aca6b"
      },
      "execution_count": 55,
      "outputs": [
        {
          "output_type": "execute_result",
          "data": {
            "text/plain": [
              "GridSearchCV(cv=3, estimator=GradientBoostingClassifier(random_state=42),\n",
              "             n_jobs=-1,\n",
              "             param_grid={'learning_rate': [0.05, 0.1, 0.5],\n",
              "                         'n_estimators': [500, 1000, 5000],\n",
              "                         'subsample': [0.1, 0.2, 0.5, 1]})"
            ]
          },
          "metadata": {},
          "execution_count": 55
        }
      ]
    },
    {
      "cell_type": "code",
      "source": [
        "3*4*5 #개의 서로다른 모형들이 만들어 낸 학습 결과 중 best를 찾기"
      ],
      "metadata": {
        "colab": {
          "base_uri": "https://localhost:8080/"
        },
        "id": "VBVKrGdrwEoH",
        "outputId": "ba0f6524-5d5b-427c-bb26-00a05e49b53d"
      },
      "execution_count": 43,
      "outputs": [
        {
          "output_type": "execute_result",
          "data": {
            "text/plain": [
              "60"
            ]
          },
          "metadata": {},
          "execution_count": 43
        }
      ]
    },
    {
      "cell_type": "code",
      "source": [
        "gs.best_score_"
      ],
      "metadata": {
        "colab": {
          "base_uri": "https://localhost:8080/"
        },
        "id": "lLo6c9dVw5B3",
        "outputId": "76e4103a-63da-44f5-cd4a-293c90ee8a27"
      },
      "execution_count": 56,
      "outputs": [
        {
          "output_type": "execute_result",
          "data": {
            "text/plain": [
              "0.8797390420168739"
            ]
          },
          "metadata": {},
          "execution_count": 56
        }
      ]
    },
    {
      "cell_type": "code",
      "source": [
        "gs.best_params_ # 듬성듬성 이동 - 학습률은 기존에 0.001, 0.05 수준이었음"
      ],
      "metadata": {
        "colab": {
          "base_uri": "https://localhost:8080/"
        },
        "id": "-n-1IySQw8Di",
        "outputId": "eac6070e-0cfc-4c34-bbf8-c953c9f2eb72"
      },
      "execution_count": 57,
      "outputs": [
        {
          "output_type": "execute_result",
          "data": {
            "text/plain": [
              "{'learning_rate': 0.1, 'n_estimators': 500, 'subsample': 1}"
            ]
          },
          "metadata": {},
          "execution_count": 57
        }
      ]
    },
    {
      "cell_type": "code",
      "source": [
        "gb = gs.best_estimator_\n",
        "accuracy_score(test_target, gb.predict(test_input))\n",
        "\n",
        "# validation 점수와 크게 다르지 않다."
      ],
      "metadata": {
        "colab": {
          "base_uri": "https://localhost:8080/"
        },
        "id": "5OwDd1idx1HG",
        "outputId": "ceeb0fb5-c56b-42b0-f9c2-38ee674563fe"
      },
      "execution_count": 58,
      "outputs": [
        {
          "output_type": "execute_result",
          "data": {
            "text/plain": [
              "0.8692307692307693"
            ]
          },
          "metadata": {},
          "execution_count": 58
        }
      ]
    },
    {
      "cell_type": "code",
      "source": [
        "gb.feature_importances_ #fit 했으므로 볼 수 있음"
      ],
      "metadata": {
        "colab": {
          "base_uri": "https://localhost:8080/"
        },
        "id": "wNF3g6mRyb8Y",
        "outputId": "b8c2c892-7e85-4cb3-a4be-900c472ab4a0"
      },
      "execution_count": 52,
      "outputs": [
        {
          "output_type": "execute_result",
          "data": {
            "text/plain": [
              "array([0.1648851 , 0.66776294, 0.16735196])"
            ]
          },
          "metadata": {},
          "execution_count": 52
        }
      ]
    },
    {
      "cell_type": "markdown",
      "source": [
        "#히스토그램 기반 그레이디언트 부스팅\n"
      ],
      "metadata": {
        "id": "rOk1hSzN6GEQ"
      }
    },
    {
      "cell_type": "code",
      "source": [
        "from xgboost import XGBClassifier\n",
        "\n",
        "xgb = XGBClassifier(random_state=42)\n",
        "scores = cross_validate(xgb, train_input, train_target, return_train_score=True)"
      ],
      "metadata": {
        "id": "3_pCEvF16Ikt"
      },
      "execution_count": 65,
      "outputs": []
    },
    {
      "cell_type": "code",
      "source": [
        "scores[\"train_score\"]"
      ],
      "metadata": {
        "colab": {
          "base_uri": "https://localhost:8080/"
        },
        "id": "j9EQb9_v9Vf7",
        "outputId": "d84270f9-cff4-49f0-a837-4584f5f55f38"
      },
      "execution_count": 66,
      "outputs": [
        {
          "output_type": "execute_result",
          "data": {
            "text/plain": [
              "array([0.88717825, 0.88092374, 0.87854738, 0.88480038, 0.88239538])"
            ]
          },
          "metadata": {},
          "execution_count": 66
        }
      ]
    },
    {
      "cell_type": "code",
      "source": [
        "scores[\"test_score\"]\n",
        "\n",
        "#굳"
      ],
      "metadata": {
        "colab": {
          "base_uri": "https://localhost:8080/"
        },
        "id": "uoQA8INd9izU",
        "outputId": "56f869ab-a740-44f3-daa8-a91f86619e3d"
      },
      "execution_count": 67,
      "outputs": [
        {
          "output_type": "execute_result",
          "data": {
            "text/plain": [
              "array([0.85673077, 0.87019231, 0.89220404, 0.86236766, 0.87295476])"
            ]
          },
          "metadata": {},
          "execution_count": 67
        }
      ]
    },
    {
      "cell_type": "code",
      "source": [
        "from lightgbm import LGBMClassifier\n",
        "\n",
        "lgbm = LGBMClassifier(random_state=42)\n",
        "scores = cross_validate(lgbm, train_input, train_target, return_train_score=True)"
      ],
      "metadata": {
        "id": "rvkWWQwR9lIz"
      },
      "execution_count": 68,
      "outputs": []
    },
    {
      "cell_type": "code",
      "source": [
        "scores['train_score']"
      ],
      "metadata": {
        "colab": {
          "base_uri": "https://localhost:8080/"
        },
        "id": "F9J3DSa794Kl",
        "outputId": "606fbb69-ea7d-46fa-a852-b65bcf543b16"
      },
      "execution_count": 69,
      "outputs": [
        {
          "output_type": "execute_result",
          "data": {
            "text/plain": [
              "array([0.93312485, 0.93432764, 0.93217893, 0.93241943, 0.93698894])"
            ]
          },
          "metadata": {},
          "execution_count": 69
        }
      ]
    },
    {
      "cell_type": "code",
      "source": [
        "scores['test_score']\n",
        "\n",
        "#약간의 오버피팅, MS에서 만들었는데 빠르고 최신 기술을 많이 적용하고 있어 인기가 높아지는 중"
      ],
      "metadata": {
        "colab": {
          "base_uri": "https://localhost:8080/"
        },
        "id": "FosUCIII96bp",
        "outputId": "ac0dc1f1-7edc-445e-9926-9fb499c2c65c"
      },
      "execution_count": 70,
      "outputs": [
        {
          "output_type": "execute_result",
          "data": {
            "text/plain": [
              "array([0.86442308, 0.88076923, 0.90856593, 0.86429259, 0.87680462])"
            ]
          },
          "metadata": {},
          "execution_count": 70
        }
      ]
    }
  ]
}