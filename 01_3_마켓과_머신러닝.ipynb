{
  "nbformat": 4,
  "nbformat_minor": 0,
  "metadata": {
    "colab": {
      "name": "01-3.마켓과 머신러닝.ipynb",
      "provenance": [],
      "collapsed_sections": [],
      "authorship_tag": "ABX9TyNtO3Gi+ODmdfAe5sj3Qei5",
      "include_colab_link": true
    },
    "kernelspec": {
      "name": "python3",
      "display_name": "Python 3"
    },
    "language_info": {
      "name": "python"
    }
  },
  "cells": [
    {
      "cell_type": "markdown",
      "metadata": {
        "id": "view-in-github",
        "colab_type": "text"
      },
      "source": [
        "<a href=\"https://colab.research.google.com/github/serinss/seSAC_ML_DL/blob/main/01_3_%EB%A7%88%EC%BC%93%EA%B3%BC_%EB%A8%B8%EC%8B%A0%EB%9F%AC%EB%8B%9D.ipynb\" target=\"_parent\"><img src=\"https://colab.research.google.com/assets/colab-badge.svg\" alt=\"Open In Colab\"/></a>"
      ]
    },
    {
      "cell_type": "markdown",
      "source": [
        "#알아두기"
      ],
      "metadata": {
        "id": "GsFRO7fpwyHK"
      }
    },
    {
      "cell_type": "code",
      "source": [
        "# !sudo apt-get install -y fonts-nanum\n",
        "# !sudo fc-cache -fv #fontcache 파일 제거하기\n",
        "# !rm ~/.cache/matplotlib -rf #matplotlib 안의 캐시도 강제 제거\n",
        "\n",
        "#위의 코드를 모두 실행 -> 런타임 다시시작 -> 주석처리 -> 외 모두 실행"
      ],
      "metadata": {
        "id": "4WxGnuo2WYd_"
      },
      "execution_count": 10,
      "outputs": []
    },
    {
      "cell_type": "code",
      "execution_count": 11,
      "metadata": {
        "colab": {
          "base_uri": "https://localhost:8080/"
        },
        "id": "6754yQ-5XRxM",
        "outputId": "a631f12f-cf52-4d31-a3fc-d5c1418d9fe6"
      },
      "outputs": [
        {
          "output_type": "stream",
          "name": "stdout",
          "text": [
            "Mounted at /content/drive\n"
          ]
        }
      ],
      "source": [
        "%run my_init.py #매번 사용할 코드는 모듈화하여 실행"
      ]
    },
    {
      "cell_type": "code",
      "source": [
        "%matplotlib inline"
      ],
      "metadata": {
        "id": "Wh_CGMs0mb2Q"
      },
      "execution_count": 12,
      "outputs": []
    },
    {
      "cell_type": "markdown",
      "source": [
        "/content/drive/MyDrive/Colab Notebooks/01.머신러닝/D02/01.ipynb"
      ],
      "metadata": {
        "id": "8VvW0ctZfAes"
      }
    },
    {
      "cell_type": "code",
      "source": [
        "base_dir = '/content/drive/MyDrive/Colab Notebooks/머신러닝'"
      ],
      "metadata": {
        "id": "Mvu3EObxe_al"
      },
      "execution_count": 13,
      "outputs": []
    },
    {
      "cell_type": "code",
      "source": [
        "#세션에 생성됨(주의!)\n",
        "%%writefile test.txt \n",
        "이 파일은 테스트 파일입니다."
      ],
      "metadata": {
        "colab": {
          "base_uri": "https://localhost:8080/"
        },
        "id": "tuAJki7efpUS",
        "outputId": "dc9dc6d7-83c0-4f98-8d21-83b131ef7112"
      },
      "execution_count": 14,
      "outputs": [
        {
          "output_type": "stream",
          "name": "stdout",
          "text": [
            "Overwriting test.txt\n"
          ]
        }
      ]
    },
    {
      "cell_type": "code",
      "source": [
        "import os\n",
        "\n",
        "file_name = os.path.join(base_dir, 'test.txt')\n",
        "print(file_name)"
      ],
      "metadata": {
        "colab": {
          "base_uri": "https://localhost:8080/"
        },
        "id": "xKAKtSr7gjbB",
        "outputId": "2ee45481-97a2-4060-98fe-a3898436a393"
      },
      "execution_count": 15,
      "outputs": [
        {
          "output_type": "stream",
          "name": "stdout",
          "text": [
            "/content/drive/MyDrive/Colab Notebooks/머신러닝/test.txt\n"
          ]
        }
      ]
    },
    {
      "cell_type": "code",
      "source": [
        "base_dir + '/test.txt'\n",
        "#경로생성 방법은 편하게 선택"
      ],
      "metadata": {
        "colab": {
          "base_uri": "https://localhost:8080/",
          "height": 35
        },
        "id": "meq0TvYShEQQ",
        "outputId": "b90a77de-ea0b-4971-b36e-9ea153b5f7d3"
      },
      "execution_count": 16,
      "outputs": [
        {
          "output_type": "execute_result",
          "data": {
            "text/plain": [
              "'/content/drive/MyDrive/Colab Notebooks/머신러닝/test.txt'"
            ],
            "application/vnd.google.colaboratory.intrinsic+json": {
              "type": "string"
            }
          },
          "metadata": {},
          "execution_count": 16
        }
      ]
    },
    {
      "cell_type": "code",
      "source": [
        "f = open(file_name, 'w')\n",
        "f.write('이 파일은 테스트 파일입니다.\\n')\n",
        "f.close()"
      ],
      "metadata": {
        "id": "uI9T4FlSinjU"
      },
      "execution_count": 17,
      "outputs": []
    },
    {
      "cell_type": "markdown",
      "source": [
        "`f = open(file_name, 'w')<br> `  \n",
        "f.write('이 파일은 테스트 파입니다.\\n')<br>\n",
        "f.close() "
      ],
      "metadata": {
        "id": "8tyjDlQsj2tU"
      }
    },
    {
      "cell_type": "markdown",
      "source": [
        ">내용"
      ],
      "metadata": {
        "id": "JoNrxrLHkf0R"
      }
    },
    {
      "cell_type": "markdown",
      "source": [
        ">>내용"
      ],
      "metadata": {
        "id": "qZO-JlZTkmH5"
      }
    },
    {
      "cell_type": "markdown",
      "source": [
        "선형방정식은 $y = ax+b$ 와 같은 유형입니다.  $X_{i} + X_{i}^{2}$ 아래첨자 위첨자를 넣을 수 있음 + 중괄호를 쓰는 습관으 들여두기  \n",
        "프로젝트 결과발표 등 수식을 표현할 때 이러한 레이텍을 많이 사용함\n",
        "(인라인 모드)"
      ],
      "metadata": {
        "id": "Ab_8P_Pxk6BX"
      }
    },
    {
      "cell_type": "markdown",
      "source": [
        "$$y = ax+b$$\n",
        "셀모드 (가운데 정렬)"
      ],
      "metadata": {
        "id": "aU4jCJPslM9W"
      }
    },
    {
      "cell_type": "markdown",
      "source": [
        "https://www.overleaf.com/learn/latex/List_of_Greek_letters_and_math_symbols  \n",
        "Greek letters 입력방법 참고"
      ],
      "metadata": {
        "id": "zLg_WvJgmehC"
      }
    },
    {
      "cell_type": "markdown",
      "source": [
        "$\\sum_{n=1}^{\\infty} 2^{-n} = 1$"
      ],
      "metadata": {
        "id": "huOPOgM4nBqP"
      }
    },
    {
      "cell_type": "markdown",
      "source": [
        "편차제곱합 = 분산  \n",
        "$\\sigma^2 = \\sum_{i=1}^{\\infty} (\\bar{x}-x_i)^2$  \n",
        "\n",
        "평균 = $\\mu$(모평균), m(표본평균)  \n",
        "i번째 값 = $x_i$  \n"
      ],
      "metadata": {
        "id": "krSJ-WLTnEUW"
      }
    },
    {
      "cell_type": "markdown",
      "source": [
        "$$\\sigma^2 = \\sum_{i=1}^{\\infty} (\\bar{x}-x_i)^2$$  "
      ],
      "metadata": {
        "id": "2z-cc4U5sPEQ"
      }
    },
    {
      "cell_type": "markdown",
      "source": [
        "#01-3. 마켓과 머신러닝"
      ],
      "metadata": {
        "id": "qLrU6EmzwuH6"
      }
    },
    {
      "cell_type": "markdown",
      "source": [
        "###문제 -> 요구사항 -> 명세 -> 설계 -> 구현 -> 배치"
      ],
      "metadata": {
        "id": "QV-BzZyxw4j_"
      }
    },
    {
      "cell_type": "markdown",
      "source": [
        "문제의 유형을 미리 알아야 함  \n",
        "수학,통계의 문제가 아닌 비정형문제가 등장하게 된다  \n",
        "- 숫자(연속형) -> 회귀(Regression) -> 결과도 숫자(연속형)  \n",
        "  - 무조건 숫자!\n",
        "  - OLS기법(전통적 통계방식) \n",
        "  - Decision Tree기법(머신러닝 방식)-> 범주형 데이터도 입력 가능 -> 숫자값을 도출함  \n",
        "따라서 , 회귀를 통해 해결할 수 없음  \n",
        "\n",
        "- 숫자,문자(연속형,범주형) -> 분류(Classification) -> 숫자,문자(범주형)\n",
        "  - 데이터의 타입에 상관없이 입력 가능  \n",
        "  - 숫자도 범주형이 될 수 있을까?\n",
        "    - 도미, 곤들매기, 농어, 강꼬치고기를\n",
        "    - 1, 2, 3, 4 로 썼어도 이건 숫자가 아닌 범주형 데이터임\n",
        "    - -----------------\n",
        "    - 별점 1,2,3,4,5\n",
        "    - 숫자로 되어있지만 연속형 숫자가 아닌 의미를 가지는 값이므로 범주형 데이터임 (아주좋음, 좋음, 보통, 나쁨, 아주나쁨과 다를게 없음)\n",
        "\n",
        "\n",
        "- 아무거나 -> KNN알고리즘(K개의 가까운 이웃들) -> 범주형\n"
      ],
      "metadata": {
        "id": "C3c4Xoscw-Fp"
      }
    },
    {
      "cell_type": "markdown",
      "source": [
        "- 분류(classification) : 여러개의 종류, 클래스(=범주,category) 중 하나를 구별해내는 문제  \n",
        "  - 이진 분류(Binary classification) : 분류 중에서, 2개의 클래스 중 하나를 고르는 문제\n",
        "  - 다중 분류 : binary 외 모두, 대부분 그냥 classification이라고 부름"
      ],
      "metadata": {
        "id": "IA2HglEm1jfk"
      }
    },
    {
      "cell_type": "code",
      "source": [
        "bream_length = [25.4, 26.3, 26.5, 29.0, 29.0, 29.7, 29.7, 30.0, 30.0, 30.7, 31.0, 31.0, \n",
        "                31.5, 32.0, 32.0, 32.0, 33.0, 33.0, 33.5, 33.5, 34.0, 34.0, 34.5, 35.0, \n",
        "                35.0, 35.0, 35.0, 36.0, 36.0, 37.0, 38.5, 38.5, 39.5, 41.0, 41.0]\n",
        "bream_weight = [242.0, 290.0, 340.0, 363.0, 430.0, 450.0, 500.0, 390.0, 450.0, 500.0, 475.0, 500.0, \n",
        "                500.0, 340.0, 600.0, 600.0, 700.0, 700.0, 610.0, 650.0, 575.0, 685.0, 620.0, 680.0, \n",
        "                700.0, 725.0, 720.0, 714.0, 850.0, 1000.0, 920.0, 955.0, 925.0, 975.0, 950.0]"
      ],
      "metadata": {
        "id": "JZU1gGZs2ATd"
      },
      "execution_count": 18,
      "outputs": []
    },
    {
      "cell_type": "code",
      "source": [
        "len(bream_length)"
      ],
      "metadata": {
        "id": "KFovYVaQJEp-",
        "colab": {
          "base_uri": "https://localhost:8080/"
        },
        "outputId": "aae3ecf6-a931-4990-ff97-436da8367a07"
      },
      "execution_count": 19,
      "outputs": [
        {
          "output_type": "execute_result",
          "data": {
            "text/plain": [
              "35"
            ]
          },
          "metadata": {},
          "execution_count": 19
        }
      ]
    },
    {
      "cell_type": "code",
      "source": [
        "len(bream_weight)"
      ],
      "metadata": {
        "colab": {
          "base_uri": "https://localhost:8080/"
        },
        "id": "8X2-xaKkJLKr",
        "outputId": "27e2f67f-ac82-44fd-dbc2-2733e589062c"
      },
      "execution_count": 20,
      "outputs": [
        {
          "output_type": "execute_result",
          "data": {
            "text/plain": [
              "35"
            ]
          },
          "metadata": {},
          "execution_count": 20
        }
      ]
    },
    {
      "cell_type": "markdown",
      "source": [
        "도미길이 >= 30  \n",
        "이 Rule은 예외가 생길 때마다 고쳐줘야 함 -> 알아서 학습해서 그 기준을 정할 수 있게 하자"
      ],
      "metadata": {
        "id": "os74ObRVJmhV"
      }
    },
    {
      "cell_type": "markdown",
      "source": [
        "####클래스 = 범주\n",
        "이진 분류를 한다면 다음과 같이 클래스를 나눈다.  \n",
        "-> 양성 클래스(1) / 음성 클래스(0)  \n",
        "-> 성공(1) / 실패(0)  \n",
        "양성을 무엇으로 설정할 지가 제일 중요한 문제  \n"
      ],
      "metadata": {
        "id": "f0yy1SZPLiMX"
      }
    },
    {
      "cell_type": "markdown",
      "source": [
        "훈련 데이터 : 현재 같은 copy paste, csv, 크롤링 등등 다양하게 구할 수 있음  \n"
      ],
      "metadata": {
        "id": "SeUaOHEkNyUw"
      }
    },
    {
      "cell_type": "code",
      "source": [
        "#함수가 기억이 안날 때,\n",
        "?plt.scatter #옆에 도움말을 띄울 수 있음 -> 문서 보는 연습 하는걸 추천"
      ],
      "metadata": {
        "id": "xsYNRmqkPVhO"
      },
      "execution_count": 21,
      "outputs": []
    },
    {
      "cell_type": "code",
      "source": [
        "??plt.scatter\n",
        "\n",
        "#Signature : 함수 원형, 프로토타입 설명\n",
        "#Source : 함수 내부에 어떤 식으로 소스가 만들어져 있는지"
      ],
      "metadata": {
        "id": "LRl-GHe7Pa5Q"
      },
      "execution_count": 22,
      "outputs": []
    },
    {
      "cell_type": "code",
      "source": [
        "plt.rc('font',family='NanumBarunGothic')\n",
        "plt.scatter(bream_length, bream_weight)\n",
        "plt.xlabel('length')\n",
        "plt.ylabel('weight'); #(tip!) plt.show()를 하지 않아도 세미콜론으로 끝내면 바로 그래프를 볼 수 있음\n",
        "\n",
        "#어느 정도 선형 관계에 있음을 알 수 있다"
      ],
      "metadata": {
        "colab": {
          "base_uri": "https://localhost:8080/",
          "height": 297
        },
        "id": "0LncEUH_OJNP",
        "outputId": "be35cd16-4a9a-4841-c256-61d94ebdac59"
      },
      "execution_count": 23,
      "outputs": [
        {
          "output_type": "stream",
          "name": "stderr",
          "text": [
            "WARNING:matplotlib.font_manager:findfont: Font family ['NanumBarunGothic'] not found. Falling back to DejaVu Sans.\n"
          ]
        },
        {
          "output_type": "display_data",
          "data": {
            "text/plain": [
              "<Figure size 432x288 with 1 Axes>"
            ],
            "image/png": "[encoded data removed]"
          },
          "metadata": {
            "needs_background": "light"
          }
        }
      ]
    },
    {
      "cell_type": "code",
      "source": [
        "smelt_length = [9.8, 10.5, 10.6, 11.0, 11.2, 11.3, 11.8, 11.8, 12.0, 12.2, 12.4, 13.0, 14.3, 15.0]\n",
        "smelt_weight = [6.7, 7.5, 7.0, 9.7, 9.8, 8.7, 10.0, 9.9, 9.8, 12.2, 13.4, 12.2, 19.7, 19.9]"
      ],
      "metadata": {
        "id": "uiuiPsyqPF_o"
      },
      "execution_count": 24,
      "outputs": []
    },
    {
      "cell_type": "code",
      "source": [
        "print(f\"빙어 length 개수 : {len(smelt_length)}, wight 개수 : {len(smelt_weight)}\")"
      ],
      "metadata": {
        "colab": {
          "base_uri": "https://localhost:8080/"
        },
        "id": "olUT164iUaXW",
        "outputId": "3dfc5097-971b-4e34-a5ab-4773dc573aba"
      },
      "execution_count": 25,
      "outputs": [
        {
          "output_type": "stream",
          "name": "stdout",
          "text": [
            "빙어 length 개수 : 14, wight 개수 : 14\n"
          ]
        }
      ]
    },
    {
      "cell_type": "code",
      "source": [
        "plt.scatter(bream_length, bream_weight)\n",
        "plt.scatter(smelt_length, smelt_weight)\n",
        "plt.xlabel('length')\n",
        "plt.ylabel('weight')\n",
        "plt.legend(['bream','smelt']);"
      ],
      "metadata": {
        "colab": {
          "base_uri": "https://localhost:8080/",
          "height": 279
        },
        "id": "NG204ZfZPIrN",
        "outputId": "9bee6710-f11b-4b93-bdca-0a393ec79f8a"
      },
      "execution_count": 26,
      "outputs": [
        {
          "output_type": "display_data",
          "data": {
            "text/plain": [
              "<Figure size 432x288 with 1 Axes>"
            ],
            "image/png": "[encoded data removed]"
          },
          "metadata": {
            "needs_background": "light"
          }
        }
      ]
    },
    {
      "cell_type": "markdown",
      "source": [
        "###리스트 컴프리헨션 관련(필기 참조)\n",
        "리스트와 제너레이터 효율성 비교"
      ],
      "metadata": {
        "id": "MN0ptxnRnq-z"
      }
    },
    {
      "cell_type": "code",
      "source": [
        "type(range(3))"
      ],
      "metadata": {
        "colab": {
          "base_uri": "https://localhost:8080/"
        },
        "id": "Lrtr5Q7Tm4eC",
        "outputId": "5a6b588f-e4b5-41ac-a3ea-1bc39481c287"
      },
      "execution_count": 27,
      "outputs": [
        {
          "output_type": "execute_result",
          "data": {
            "text/plain": [
              "range"
            ]
          },
          "metadata": {},
          "execution_count": 27
        }
      ]
    },
    {
      "cell_type": "code",
      "source": [
        "for i in range(3):\n",
        "  print(i)"
      ],
      "metadata": {
        "colab": {
          "base_uri": "https://localhost:8080/"
        },
        "id": "ttLUJTY_nwA7",
        "outputId": "4463315c-6647-444e-c28b-785205448a55"
      },
      "execution_count": 28,
      "outputs": [
        {
          "output_type": "stream",
          "name": "stdout",
          "text": [
            "0\n",
            "1\n",
            "2\n"
          ]
        }
      ]
    },
    {
      "cell_type": "code",
      "source": [
        "a = list(range(10, 60 ,10))\n",
        "b = list(range(10, 51 ,10)) #결과는 a와 동일하지만 51까지만 세면 됨\n",
        "a,b"
      ],
      "metadata": {
        "colab": {
          "base_uri": "https://localhost:8080/"
        },
        "id": "ZT-CKYotnyk2",
        "outputId": "8d01caf7-a27a-4f6a-f879-290aca1ebf89"
      },
      "execution_count": 29,
      "outputs": [
        {
          "output_type": "execute_result",
          "data": {
            "text/plain": [
              "([10, 20, 30, 40, 50], [10, 20, 30, 40, 50])"
            ]
          },
          "metadata": {},
          "execution_count": 29
        }
      ]
    },
    {
      "cell_type": "code",
      "source": [
        "c = list(range(1,6,1))\n",
        "d = list(range(1,6))\n",
        "c,d"
      ],
      "metadata": {
        "colab": {
          "base_uri": "https://localhost:8080/"
        },
        "id": "lLgE4WeFoGR0",
        "outputId": "24531a9a-3cc4-4b8e-d3e5-365ae43670c6"
      },
      "execution_count": 30,
      "outputs": [
        {
          "output_type": "execute_result",
          "data": {
            "text/plain": [
              "([1, 2, 3, 4, 5], [1, 2, 3, 4, 5])"
            ]
          },
          "metadata": {},
          "execution_count": 30
        }
      ]
    },
    {
      "cell_type": "code",
      "source": [
        "# zip() : 같은 인덱스끼리 쌍을 지어주는 함수\n",
        "# zip(*p)에서 *, **이 붙은 파라미터 = unpack operator\n",
        "#     *p = list관련\n",
        "#     **p = dict관련(매개변수가 k=v 형태)\n",
        "\n",
        "# 가변형 매개변수 사용법\n",
        "# (positional arg, keyword arg) 순서 바꾸지 말기\n",
        "\n",
        "zip(b,d) #generator 출력 -> loop돌려서 값을 출력할 수있다"
      ],
      "metadata": {
        "colab": {
          "base_uri": "https://localhost:8080/"
        },
        "id": "cxQ-8igzoOjS",
        "outputId": "e9e92223-0ff2-47d8-dfda-e9f962ec9602"
      },
      "execution_count": 31,
      "outputs": [
        {
          "output_type": "execute_result",
          "data": {
            "text/plain": [
              "<zip at 0x7f3c475edb90>"
            ]
          },
          "metadata": {},
          "execution_count": 31
        }
      ]
    },
    {
      "cell_type": "code",
      "source": [
        "for t in zip(b,d): #튜플로 한번에 꺼내기\n",
        "  print(t)"
      ],
      "metadata": {
        "colab": {
          "base_uri": "https://localhost:8080/"
        },
        "id": "Cxda98hwpyyh",
        "outputId": "03e7916a-59ee-4585-a88c-9b84b882c75b"
      },
      "execution_count": 32,
      "outputs": [
        {
          "output_type": "stream",
          "name": "stdout",
          "text": [
            "(10, 1)\n",
            "(20, 2)\n",
            "(30, 3)\n",
            "(40, 4)\n",
            "(50, 5)\n"
          ]
        }
      ]
    },
    {
      "cell_type": "code",
      "source": [
        "for x,y in zip(b,d): #각각의 원소로 꺼내기\n",
        "  print(f\"{x}, {y}\")"
      ],
      "metadata": {
        "colab": {
          "base_uri": "https://localhost:8080/"
        },
        "id": "Mc7wTEYLqBq3",
        "outputId": "4a62da24-6259-4298-eb11-48fdc4bfb18a"
      },
      "execution_count": 33,
      "outputs": [
        {
          "output_type": "stream",
          "name": "stdout",
          "text": [
            "10, 1\n",
            "20, 2\n",
            "30, 3\n",
            "40, 4\n",
            "50, 5\n"
          ]
        }
      ]
    },
    {
      "cell_type": "code",
      "source": [
        "#np.hstack\n",
        "#np.vstack 과 같이 편하게 쓸 수 있는 함수 존재"
      ],
      "metadata": {
        "id": "5GiiwIQeqoBC"
      },
      "execution_count": 34,
      "outputs": []
    },
    {
      "cell_type": "code",
      "source": [
        "#리스트 컴프리헨션\n",
        "data = [t for t in zip(b,d)]\n",
        "data"
      ],
      "metadata": {
        "colab": {
          "base_uri": "https://localhost:8080/"
        },
        "id": "r9pAxl4krtDN",
        "outputId": "11004b64-52c3-44ae-8391-ad18f9194f01"
      },
      "execution_count": 35,
      "outputs": [
        {
          "output_type": "execute_result",
          "data": {
            "text/plain": [
              "[(10, 1), (20, 2), (30, 3), (40, 4), (50, 5)]"
            ]
          },
          "metadata": {},
          "execution_count": 35
        }
      ]
    },
    {
      "cell_type": "code",
      "source": [
        "data2 = [(x,y) for x,y in zip(b,d)]\n",
        "data2\n",
        "\n",
        "#첫 번째 방법은 원본 그대로를 사용할 때만 가능함\n",
        "#두 번째 방법은 원소 각각을 가공처리할 수 있음, 유연함 -> 익숙해지자"
      ],
      "metadata": {
        "colab": {
          "base_uri": "https://localhost:8080/"
        },
        "id": "8p_CcIVMsgMT",
        "outputId": "8d6e71c2-a3ad-4a36-8b18-af4c6f19bbe2"
      },
      "execution_count": 36,
      "outputs": [
        {
          "output_type": "execute_result",
          "data": {
            "text/plain": [
              "[(10, 1), (20, 2), (30, 3), (40, 4), (50, 5)]"
            ]
          },
          "metadata": {},
          "execution_count": 36
        }
      ]
    },
    {
      "cell_type": "code",
      "source": [
        "data3 = [(x*2 ,y*3) for x,y in zip(b,d)]\n",
        "data3"
      ],
      "metadata": {
        "colab": {
          "base_uri": "https://localhost:8080/"
        },
        "id": "7fO43Tmms44p",
        "outputId": "18cfc1e0-64fc-42eb-bca3-0380633bbb3b"
      },
      "execution_count": 37,
      "outputs": [
        {
          "output_type": "execute_result",
          "data": {
            "text/plain": [
              "[(20, 3), (40, 6), (60, 9), (80, 12), (100, 15)]"
            ]
          },
          "metadata": {},
          "execution_count": 37
        }
      ]
    },
    {
      "cell_type": "markdown",
      "source": [
        "####가변형 매개변수 사용법 추가 예제"
      ],
      "metadata": {
        "id": "Er99x-EN3hTr"
      }
    },
    {
      "cell_type": "code",
      "source": [
        "a = [1,2,3]\n",
        "b = {\"x\": 1, \"y\": 2}"
      ],
      "metadata": {
        "id": "qRmJ1s8v3g6T"
      },
      "execution_count": 38,
      "outputs": []
    },
    {
      "cell_type": "code",
      "source": [
        "def fn(*args, **kwargs): #(positional arg, keword arg)\n",
        "  for i, arg in enumerate(args):\n",
        "    print(f\"{i}: {arg}\")\n",
        "  for k,v in kwargs.items():\n",
        "    print(f\"{k}: {v}\")"
      ],
      "metadata": {
        "id": "KffEkARk3r8F"
      },
      "execution_count": 39,
      "outputs": []
    },
    {
      "cell_type": "code",
      "source": [
        "fn(*a,**b)"
      ],
      "metadata": {
        "colab": {
          "base_uri": "https://localhost:8080/"
        },
        "id": "KThMZlKh4Kl5",
        "outputId": "df97dde8-945a-406f-b0af-2c341bd9da55"
      },
      "execution_count": 40,
      "outputs": [
        {
          "output_type": "stream",
          "name": "stdout",
          "text": [
            "0: 1\n",
            "1: 2\n",
            "2: 3\n",
            "x: 1\n",
            "y: 2\n"
          ]
        }
      ]
    },
    {
      "cell_type": "code",
      "source": [
        "fn(1,2,3, x=1,y=2) \n",
        "#파이썬에서 이런 방식으로 쓰이는 경우 많음 -> 순서 바꾸지 말기!"
      ],
      "metadata": {
        "colab": {
          "base_uri": "https://localhost:8080/"
        },
        "id": "YaZSR8g_4vFr",
        "outputId": "bb2f7205-16e5-4fc6-93b4-1a415deffd4a"
      },
      "execution_count": 41,
      "outputs": [
        {
          "output_type": "stream",
          "name": "stdout",
          "text": [
            "0: 1\n",
            "1: 2\n",
            "2: 3\n",
            "x: 1\n",
            "y: 2\n"
          ]
        }
      ]
    },
    {
      "cell_type": "markdown",
      "source": [
        "#KNN알고리즘을 사용한 도미와 빙어 데이터 구분(머신러닝 프로그램)"
      ],
      "metadata": {
        "id": "XkaGVE4HP-vH"
      }
    },
    {
      "cell_type": "code",
      "source": [
        "#코드를 짤 때에 매우 중요한 것 : 가독성!!\n",
        "#본인만 이해하는 지저분한 코드를 짜지 말자 - 유지보수가 용이해야 함\n",
        "\n",
        "#gubyu(급여), sanyu(상여);; 이런 식의 지양할 변수명 존재"
      ],
      "metadata": {
        "id": "syJy2ffxPo9d"
      },
      "execution_count": 42,
      "outputs": []
    },
    {
      "cell_type": "code",
      "source": [
        "length = bream_length + smelt_length\n",
        "weight = bream_weight + smelt_weight"
      ],
      "metadata": {
        "id": "1TF_UGr2QC_r"
      },
      "execution_count": 43,
      "outputs": []
    },
    {
      "cell_type": "code",
      "source": [
        "fish_data = [[l,w] for l,w in zip(length, weight)] #도미와 빙어의 길이, 무게 결합\n",
        "#[l,w] :원소 , for in  :원소 생성 코드 , zip(length,weight) :iterable object\n",
        "#리스트 : mutable(변경 가능) / 튜플 : immutable readonly(변경 불가)\n",
        "\n",
        "#literal : 1.5, '가' 와 같이 문자열을 표현하는 방식 -> [], {}, ()\n",
        "#파이썬에서 literal이 없는 타입 = 튜플\n",
        "#(1,) , (1,2,3)\n",
        "print(fish_data)"
      ],
      "metadata": {
        "colab": {
          "base_uri": "https://localhost:8080/"
        },
        "id": "rmXFQCuhQx-k",
        "outputId": "79b30e7a-cf99-4db9-ce9b-67addfe37746"
      },
      "execution_count": 44,
      "outputs": [
        {
          "output_type": "stream",
          "name": "stdout",
          "text": [
            "[[25.4, 242.0], [26.3, 290.0], [26.5, 340.0], [29.0, 363.0], [29.0, 430.0], [29.7, 450.0], [29.7, 500.0], [30.0, 390.0], [30.0, 450.0], [30.7, 500.0], [31.0, 475.0], [31.0, 500.0], [31.5, 500.0], [32.0, 340.0], [32.0, 600.0], [32.0, 600.0], [33.0, 700.0], [33.0, 700.0], [33.5, 610.0], [33.5, 650.0], [34.0, 575.0], [34.0, 685.0], [34.5, 620.0], [35.0, 680.0], [35.0, 700.0], [35.0, 725.0], [35.0, 720.0], [36.0, 714.0], [36.0, 850.0], [37.0, 1000.0], [38.5, 920.0], [38.5, 955.0], [39.5, 925.0], [41.0, 975.0], [41.0, 950.0], [9.8, 6.7], [10.5, 7.5], [10.6, 7.0], [11.0, 9.7], [11.2, 9.8], [11.3, 8.7], [11.8, 10.0], [11.8, 9.9], [12.0, 9.8], [12.2, 12.2], [12.4, 13.4], [13.0, 12.2], [14.3, 19.7], [15.0, 19.9]]\n"
          ]
        }
      ]
    },
    {
      "cell_type": "code",
      "source": [
        "#binary classification => 양성 클래스(1), 음성 클래스(0)\n",
        "#찾으려는 도미 35마리는 1로, 빙어는 0으로 설정\n",
        "\n",
        "#train set(훈련) --> X(훈련 데이터값(길이,무게)), y(target,label값)\n",
        "#test set(테스트)\n",
        "#sample[length,weight,target/label] 인덱스를 사용하고 있으므로 순서 중요 -> target, label로 클래스를 나타냄\n",
        "#   ex[32,256,1] : 도미 데이터\n",
        "#   ex[28,363.0] : 빙어 데이터\n",
        "\n",
        "fish_target = [1]*35 + [0]*14 #훈련하기 위한 정답 필요\n",
        "print(fish_target)"
      ],
      "metadata": {
        "colab": {
          "base_uri": "https://localhost:8080/"
        },
        "id": "g1XBEkyARCTd",
        "outputId": "48447c58-bd5a-48ba-8c63-13d62dbc9261"
      },
      "execution_count": 45,
      "outputs": [
        {
          "output_type": "stream",
          "name": "stdout",
          "text": [
            "[1, 1, 1, 1, 1, 1, 1, 1, 1, 1, 1, 1, 1, 1, 1, 1, 1, 1, 1, 1, 1, 1, 1, 1, 1, 1, 1, 1, 1, 1, 1, 1, 1, 1, 1, 0, 0, 0, 0, 0, 0, 0, 0, 0, 0, 0, 0, 0, 0]\n"
          ]
        }
      ]
    },
    {
      "cell_type": "code",
      "source": [
        "from sklearn.neighbors import KNeighborsClassifier\n",
        "kn = KNeighborsClassifier()\n",
        "kn.fit(fish_data, fish_target)\n",
        "kn.score(fish_data, fish_target)"
      ],
      "metadata": {
        "colab": {
          "base_uri": "https://localhost:8080/"
        },
        "id": "A2983VCTTK2S",
        "outputId": "0c783533-921f-436b-bb47-158f2286b30b"
      },
      "execution_count": 46,
      "outputs": [
        {
          "output_type": "execute_result",
          "data": {
            "text/plain": [
              "1.0"
            ]
          },
          "metadata": {},
          "execution_count": 46
        }
      ]
    },
    {
      "cell_type": "markdown",
      "source": [
        "#전체 코드\n",
        "머신러닝을 준비하기 위한 단계를 정확히 그려놓고 시작하자"
      ],
      "metadata": {
        "id": "qH5kkIata_we"
      }
    },
    {
      "cell_type": "markdown",
      "source": [
        "#데이터 준비하기\n",
        "- 도미\n",
        "- 빙어\n",
        "- 합친 fish_data"
      ],
      "metadata": {
        "id": "vCob-xb_a4yu"
      }
    },
    {
      "cell_type": "code",
      "source": [
        "bream_length = [25.4, 26.3, 26.5, 29.0, 29.0, 29.7, 29.7, 30.0, 30.0, 30.7, 31.0, 31.0, \n",
        "                31.5, 32.0, 32.0, 32.0, 33.0, 33.0, 33.5, 33.5, 34.0, 34.0, 34.5, 35.0, \n",
        "                35.0, 35.0, 35.0, 36.0, 36.0, 37.0, 38.5, 38.5, 39.5, 41.0, 41.0]\n",
        "bream_weight = [242.0, 290.0, 340.0, 363.0, 430.0, 450.0, 500.0, 390.0, 450.0, 500.0, 475.0, 500.0, \n",
        "                500.0, 340.0, 600.0, 600.0, 700.0, 700.0, 610.0, 650.0, 575.0, 685.0, 620.0, 680.0, \n",
        "                700.0, 725.0, 720.0, 714.0, 850.0, 1000.0, 920.0, 955.0, 925.0, 975.0, 950.0]"
      ],
      "metadata": {
        "id": "rHixIQ3oa9gs"
      },
      "execution_count": 47,
      "outputs": []
    },
    {
      "cell_type": "code",
      "source": [
        "smelt_length = [9.8, 10.5, 10.6, 11.0, 11.2, 11.3, 11.8, 11.8, 12.0, 12.2, 12.4, 13.0, 14.3, 15.0]\n",
        "smelt_weight = [6.7, 7.5, 7.0, 9.7, 9.8, 8.7, 10.0, 9.9, 9.8, 12.2, 13.4, 12.2, 19.7, 19.9]"
      ],
      "metadata": {
        "id": "F8OpzhykbYYn"
      },
      "execution_count": 48,
      "outputs": []
    },
    {
      "cell_type": "code",
      "source": [
        "length = bream_length + smelt_length\n",
        "weight = bream_weight + smelt_weight\n",
        "\n",
        "fish_data = [[l,w] for l,w in zip(length, weight)]"
      ],
      "metadata": {
        "id": "91mPfKwPbdRB"
      },
      "execution_count": 49,
      "outputs": []
    },
    {
      "cell_type": "code",
      "source": [
        "fish_target = [1]*35 + [0]*14"
      ],
      "metadata": {
        "id": "6e4fbx2XcVQR"
      },
      "execution_count": 50,
      "outputs": []
    },
    {
      "cell_type": "code",
      "source": [
        "len(fish_data), len(fish_target)"
      ],
      "metadata": {
        "colab": {
          "base_uri": "https://localhost:8080/"
        },
        "id": "_utmvpDOcYo9",
        "outputId": "4d1717fe-6114-48d0-b26d-ad0c8114b95f"
      },
      "execution_count": 51,
      "outputs": [
        {
          "output_type": "execute_result",
          "data": {
            "text/plain": [
              "(49, 49)"
            ]
          },
          "metadata": {},
          "execution_count": 51
        }
      ]
    },
    {
      "cell_type": "markdown",
      "source": [
        "# 훈련하기\n",
        "- 우리가 할 것 : 분류(Classification)  \n",
        "  사용할 수 있는 알고리즘  \n",
        "  - *KNN : k Nearest Neighbor k-최근접 이웃 알고리즘 사용\n",
        "  - Naive Bayes\n",
        "  - SVM, Support Vector Machine\n",
        "  - *Decrision Tree\n",
        "  - *Random Forest\n",
        "  - *XG Boost\n",
        "  - *Light GBM\n",
        "  - *Logistic Regression(로지스틱 회귀)\n",
        "\n",
        "  별표가 없는 Naive Bayes, SVM 은 요구되는 원론 지식이 많고, 수식도 많으므로 책에 포함되어 있지 않음.   \n",
        "\n"
      ],
      "metadata": {
        "id": "Ny3bEczBa5-e"
      }
    },
    {
      "cell_type": "markdown",
      "source": [
        "https://scikit-learn.org/stable/modules/neighbors.html#classification\n",
        "\n",
        "해당 사이트에서 미리 알아두면 좋은 것들  \n",
        "- Spam detection (Naive Bayes 사용) : 스팸 탐지  \n",
        "  ex. 키와 몸무게는 어느정도 연관성이 있다 -> 어떠한 데이터들이든 서로 상관이 없는 것은 없다. -> 해당 내용을 나이브 베이즈에서 이용  \n",
        "- image recognition : 이미지 인식  \n",
        "  CNN(딥러닝)에서 주로 다룸"
      ],
      "metadata": {
        "id": "8ipdH3D2gfFR"
      }
    },
    {
      "cell_type": "markdown",
      "source": [
        "Dimentionalilty reduction 에서  \n",
        "축이 의미하는 것 = feature의 개수  \n",
        "점을 class별로 나눠서 구현할 수 있다. 다양한 관점에 따라 feature를 설계할 수 있음  \n",
        "ex. 성적의 관점 - 국,영,수 / 출석률 및 교우관계 관점 등등  \n",
        "**feature selection** = 다양한 feature 중 선택하여 바라보기  \n",
        "**feature extraction** = 관점 자체를 바꿔서 다양한 feature를 선택하기  \n",
        "-> 이 부분에서 선형대수의 이해가 필요  "
      ],
      "metadata": {
        "id": "uacQAjUhj0WD"
      }
    },
    {
      "cell_type": "code",
      "source": [
        "from sklearn.neighbors import KNeighborsClassifier\n",
        "kn = KNeighborsClassifier()\n",
        "kn.fit(fish_data, fish_target)\n",
        "kn.score(fish_data, fish_target)"
      ],
      "metadata": {
        "colab": {
          "base_uri": "https://localhost:8080/"
        },
        "id": "DFYr8rija95M",
        "outputId": "67c97016-cdcb-45bb-a2a3-6ee05d9aac3d"
      },
      "execution_count": 52,
      "outputs": [
        {
          "output_type": "execute_result",
          "data": {
            "text/plain": [
              "1.0"
            ]
          },
          "metadata": {},
          "execution_count": 52
        }
      ]
    },
    {
      "cell_type": "markdown",
      "source": [
        "https://scikit-learn.org/stable/modules/generated/sklearn.neighbors.KNeighborsClassifier.html#sklearn.neighbors.KNeighborsClassifier\n",
        "- p : int, default=2 ==> euclidean 사용(건드릴 일 거의 없음)\n",
        "Power parameter for the Minkowski metric.  \n",
        "When p = 1, this is equivalent to using manhattan_distance (l1), and euclidean_distance (l2) for p = 2. For arbitrary p, minkowski_distance (l_p) is used.  \n",
        "  -> L1 : manhattan_distance  \n",
        "  -> L2 : euclidean_distance  \n",
        "\n",
        "- n_jobs : int, default=None (CPU의 코어를 나타내는 정도)  \n",
        "The number of parallel jobs to run for neighbors search. None means 1 unless in a joblib.parallel_backend context. -1 means using all processors. See Glossary for more details. Doesn’t affect fit method.  \n",
        "특별한 일이 없으면 -1로 설정 (모든 코어를 사용하기)  \n"
      ],
      "metadata": {
        "id": "T-t9ojFKqZ9z"
      }
    },
    {
      "cell_type": "code",
      "source": [
        "kn.effective_metric_"
      ],
      "metadata": {
        "colab": {
          "base_uri": "https://localhost:8080/",
          "height": 35
        },
        "id": "SX7HOdY7xGC2",
        "outputId": "f8ad4a1e-713b-424c-80e3-f79364a7ef21"
      },
      "execution_count": 53,
      "outputs": [
        {
          "output_type": "execute_result",
          "data": {
            "text/plain": [
              "'euclidean'"
            ],
            "application/vnd.google.colaboratory.intrinsic+json": {
              "type": "string"
            }
          },
          "metadata": {},
          "execution_count": 53
        }
      ]
    },
    {
      "cell_type": "code",
      "source": [
        "print(kn._fit_X)"
      ],
      "metadata": {
        "id": "ulvd04mK7zHx",
        "colab": {
          "base_uri": "https://localhost:8080/"
        },
        "outputId": "24ce7db8-397e-48bb-e332-86033db7ac3c"
      },
      "execution_count": 54,
      "outputs": [
        {
          "output_type": "stream",
          "name": "stdout",
          "text": [
            "[[  25.4  242. ]\n",
            " [  26.3  290. ]\n",
            " [  26.5  340. ]\n",
            " [  29.   363. ]\n",
            " [  29.   430. ]\n",
            " [  29.7  450. ]\n",
            " [  29.7  500. ]\n",
            " [  30.   390. ]\n",
            " [  30.   450. ]\n",
            " [  30.7  500. ]\n",
            " [  31.   475. ]\n",
            " [  31.   500. ]\n",
            " [  31.5  500. ]\n",
            " [  32.   340. ]\n",
            " [  32.   600. ]\n",
            " [  32.   600. ]\n",
            " [  33.   700. ]\n",
            " [  33.   700. ]\n",
            " [  33.5  610. ]\n",
            " [  33.5  650. ]\n",
            " [  34.   575. ]\n",
            " [  34.   685. ]\n",
            " [  34.5  620. ]\n",
            " [  35.   680. ]\n",
            " [  35.   700. ]\n",
            " [  35.   725. ]\n",
            " [  35.   720. ]\n",
            " [  36.   714. ]\n",
            " [  36.   850. ]\n",
            " [  37.  1000. ]\n",
            " [  38.5  920. ]\n",
            " [  38.5  955. ]\n",
            " [  39.5  925. ]\n",
            " [  41.   975. ]\n",
            " [  41.   950. ]\n",
            " [   9.8    6.7]\n",
            " [  10.5    7.5]\n",
            " [  10.6    7. ]\n",
            " [  11.     9.7]\n",
            " [  11.2    9.8]\n",
            " [  11.3    8.7]\n",
            " [  11.8   10. ]\n",
            " [  11.8    9.9]\n",
            " [  12.     9.8]\n",
            " [  12.2   12.2]\n",
            " [  12.4   13.4]\n",
            " [  13.    12.2]\n",
            " [  14.3   19.7]\n",
            " [  15.    19.9]]\n"
          ]
        }
      ]
    },
    {
      "cell_type": "code",
      "source": [
        "attrs = dir(kn) #사용할 수 있는 속성들을 모두 알 수 있음"
      ],
      "metadata": {
        "id": "LM0D9ar8xtTp"
      },
      "execution_count": 55,
      "outputs": []
    },
    {
      "cell_type": "markdown",
      "source": [
        "갑자기 언더스코어 쓰는 예시들을 알려주심"
      ],
      "metadata": {
        "id": "EY2Az21y2Dhm"
      }
    },
    {
      "cell_type": "code",
      "source": [
        "x, y = 2, 3\n",
        "x + y"
      ],
      "metadata": {
        "colab": {
          "base_uri": "https://localhost:8080/"
        },
        "id": "-Tp55dwtx9ad",
        "outputId": "f7b9214f-dcd0-4895-c84e-bc2ac1140f61"
      },
      "execution_count": 56,
      "outputs": [
        {
          "output_type": "execute_result",
          "data": {
            "text/plain": [
              "5"
            ]
          },
          "metadata": {},
          "execution_count": 56
        }
      ]
    },
    {
      "cell_type": "code",
      "source": [
        "# 1. 마지막 출력 결과 담기\n",
        "_ "
      ],
      "metadata": {
        "colab": {
          "base_uri": "https://localhost:8080/"
        },
        "id": "fMoTNbfJyEUS",
        "outputId": "5253afe7-6c17-46e3-e392-91fc7856c1bc"
      },
      "execution_count": 57,
      "outputs": [
        {
          "output_type": "execute_result",
          "data": {
            "text/plain": [
              "5"
            ]
          },
          "metadata": {},
          "execution_count": 57
        }
      ]
    },
    {
      "cell_type": "code",
      "source": [
        "# 2. for 문에서 사용하지 않는 변수는 _로 작성\n",
        "for _ in range(5):\n",
        "  print('Hello')"
      ],
      "metadata": {
        "colab": {
          "base_uri": "https://localhost:8080/"
        },
        "id": "2MasjWxa1dmC",
        "outputId": "a86046cc-ebd8-4d8c-bccf-6e8a59967fb2"
      },
      "execution_count": 58,
      "outputs": [
        {
          "output_type": "stream",
          "name": "stdout",
          "text": [
            "Hello\n",
            "Hello\n",
            "Hello\n",
            "Hello\n",
            "Hello\n"
          ]
        }
      ]
    },
    {
      "cell_type": "code",
      "source": [
        "# 3. 생성자 __init__ 처럼 내부적으로 사용하는 함수는 _, __로 시작함\n",
        "#    엄밀히 얘기하면 파이썬은 private은 없으므로 두개 구분 불명확\n",
        "class MyClass(object):\n",
        "  def __init__(self):\n",
        "    pass\n",
        "  def test_method(self):\n",
        "    pass\n",
        "\n",
        "my_obj = MyClass()\n",
        "my_obj.test_method()"
      ],
      "metadata": {
        "id": "RywG8kuL13cB"
      },
      "execution_count": 59,
      "outputs": []
    },
    {
      "cell_type": "code",
      "source": [
        "# 4. 길이가 긴 숫자의 자리수 의미\n",
        "1_000_000"
      ],
      "metadata": {
        "colab": {
          "base_uri": "https://localhost:8080/"
        },
        "id": "n0uGaIsa2jTJ",
        "outputId": "529364f0-1f11-4127-855c-b637f53bb5d9"
      },
      "execution_count": 60,
      "outputs": [
        {
          "output_type": "execute_result",
          "data": {
            "text/plain": [
              "1000000"
            ]
          },
          "metadata": {},
          "execution_count": 60
        }
      ]
    },
    {
      "cell_type": "code",
      "source": [
        "import re\n",
        "\n",
        "p = re.compile('_[a-zA-Z0-9]+') #정규 표현식 => 모르면 손발이 고생 (데이터 전처리할때 꼭 필요!)\n",
        "for attr in attrs:\n",
        "  if p.match(attr):\n",
        "    print(attr)\n",
        "\n",
        "# https://regexlib.com/\n",
        "# 기초를 외우는 것보다 해당 사이트에서 자주 쓰는 것들을 찾아서 익혀보는 것이 좋음\n",
        "# phone 검색\n",
        "\n",
        "# 책 추천"
      ],
      "metadata": {
        "colab": {
          "base_uri": "https://localhost:8080/"
        },
        "id": "0r3QrKV_3OiU",
        "outputId": "d2bccf56-b4f0-4a79-a07f-9c9981375580"
      },
      "execution_count": 61,
      "outputs": [
        {
          "output_type": "stream",
          "name": "stdout",
          "text": [
            "_abc_impl\n",
            "_check_algorithm_metric\n",
            "_check_feature_names\n",
            "_check_n_features\n",
            "_estimator_type\n",
            "_fit\n",
            "_fit_X\n",
            "_fit_method\n",
            "_get_param_names\n",
            "_get_tags\n",
            "_kneighbors_reduce_func\n",
            "_more_tags\n",
            "_pairwise\n",
            "_repr_html_\n",
            "_repr_html_inner\n",
            "_repr_mimebundle_\n",
            "_tree\n",
            "_validate_data\n",
            "_y\n"
          ]
        }
      ]
    },
    {
      "cell_type": "markdown",
      "source": [
        "# 평가하기"
      ],
      "metadata": {
        "id": "-nLvr-7ua64O"
      }
    },
    {
      "cell_type": "code",
      "source": [
        "kn.predict([[30,600]]) # 매개변수로 X : 2차원 배열을 넘겨줘야 함"
      ],
      "metadata": {
        "colab": {
          "base_uri": "https://localhost:8080/"
        },
        "id": "bOaKnkBBa-Ov",
        "outputId": "718fdd8f-b062-4e77-db41-d0fba1cac5e6"
      },
      "execution_count": 62,
      "outputs": [
        {
          "output_type": "execute_result",
          "data": {
            "text/plain": [
              "array([1])"
            ]
          },
          "metadata": {},
          "execution_count": 62
        }
      ]
    },
    {
      "cell_type": "code",
      "source": [
        "kn.predict([[30,600], [25,100], [29,50], [32, 70]])\n",
        "# 도미, 빙어, 빙어, 빙어(김팀장 규칙이 틀렸음) - 훈련된 결과로는 빙어가 나옴(맞틀은 나중얘기)"
      ],
      "metadata": {
        "colab": {
          "base_uri": "https://localhost:8080/"
        },
        "id": "Up7VxogW776x",
        "outputId": "220de082-cce7-43a5-ef84-fd426c3cca0d"
      },
      "execution_count": 63,
      "outputs": [
        {
          "output_type": "execute_result",
          "data": {
            "text/plain": [
              "array([1, 0, 0, 0])"
            ]
          },
          "metadata": {},
          "execution_count": 63
        }
      ]
    },
    {
      "cell_type": "code",
      "source": [
        "kn.score(fish_data, fish_target)\n",
        "# 정확도가 100% (당연함)\n",
        "# 오늘 푼 똑같은 문제로 시험보는 것과 동일 -> 시험 데이터, 평가 데이터를 분리시켜야 함"
      ],
      "metadata": {
        "colab": {
          "base_uri": "https://localhost:8080/"
        },
        "id": "aCSK4PPC8ts9",
        "outputId": "324388ae-7045-4915-a5b8-3acbff62c24a"
      },
      "execution_count": 64,
      "outputs": [
        {
          "output_type": "execute_result",
          "data": {
            "text/plain": [
              "1.0"
            ]
          },
          "metadata": {},
          "execution_count": 64
        }
      ]
    },
    {
      "cell_type": "code",
      "source": [
        "kn3 = KNeighborsClassifier(n_neighbors=3)\n",
        "kn3.fit(fish_data, fish_target)\n",
        "kn3.score(fish_data, fish_target)"
      ],
      "metadata": {
        "colab": {
          "base_uri": "https://localhost:8080/"
        },
        "id": "o50M4e7w98CS",
        "outputId": "be3f2e19-c33e-4a03-9a23-9fd245ca5fd7"
      },
      "execution_count": 65,
      "outputs": [
        {
          "output_type": "execute_result",
          "data": {
            "text/plain": [
              "1.0"
            ]
          },
          "metadata": {},
          "execution_count": 65
        }
      ]
    },
    {
      "cell_type": "code",
      "source": [
        "kn49 = KNeighborsClassifier(n_neighbors = 49)\n",
        "kn49.fit(fish_data, fish_target)\n",
        "kn49.score(fish_data, fish_target)"
      ],
      "metadata": {
        "colab": {
          "base_uri": "https://localhost:8080/"
        },
        "id": "z1Posop1tjtt",
        "outputId": "5e086549-5cf3-4aa2-e9c4-1e2bd5bab168"
      },
      "execution_count": 66,
      "outputs": [
        {
          "output_type": "execute_result",
          "data": {
            "text/plain": [
              "0.7142857142857143"
            ]
          },
          "metadata": {},
          "execution_count": 66
        }
      ]
    },
    {
      "cell_type": "code",
      "source": [
        "print(35/49) \n",
        "# 전체 49개 중에서 양성클래스를 맞추는 분류기이므로 35/29만큼의 정확도가 나옴\n",
        "#따라서, k는 전체 데이터(양성 데이터)보다 작아야 함!"
      ],
      "metadata": {
        "colab": {
          "base_uri": "https://localhost:8080/"
        },
        "id": "FZvZHj3Wtxsw",
        "outputId": "cc7ada11-7410-4d27-9562-b3134d3fb8b0"
      },
      "execution_count": 67,
      "outputs": [
        {
          "output_type": "stream",
          "name": "stdout",
          "text": [
            "0.7142857142857143\n"
          ]
        }
      ]
    },
    {
      "cell_type": "markdown",
      "source": [
        "score() 는 fit()함수 이후에 단지 accuracy 를 측정한 것임"
      ],
      "metadata": {
        "id": "8csnRvdx-3YP"
      }
    },
    {
      "cell_type": "code",
      "source": [
        "from sklearn.metrics import accuracy_score"
      ],
      "metadata": {
        "id": "-9v7Kugd-7nD"
      },
      "execution_count": 68,
      "outputs": []
    },
    {
      "cell_type": "code",
      "source": [
        "# 파라미터 (y_true, y_pred, *, normalize=True, sample_weight=None) -> Any 중요!\n",
        "\n",
        "accuracy_score(fish_target, kn.predict(fish_data))"
      ],
      "metadata": {
        "id": "AXxuhwwH_G_y",
        "colab": {
          "base_uri": "https://localhost:8080/"
        },
        "outputId": "1881b870-f201-48cf-b4ce-997d5686d251"
      },
      "execution_count": 69,
      "outputs": [
        {
          "output_type": "execute_result",
          "data": {
            "text/plain": [
              "1.0"
            ]
          },
          "metadata": {},
          "execution_count": 69
        }
      ]
    },
    {
      "cell_type": "markdown",
      "source": [
        "- y_true : target(타겟)  \n",
        "- y_pred : predict(예측값)  \n",
        "\n",
        "model.fit(X,y)  \n",
        "model.score(X,y) -> 기존을 초기화하고 fit, 학습을 또 함  \n",
        "실제로 두 번 훈련한 셈  \n",
        "\n",
        "따라서,  \n",
        "model.fit(X,y)\n",
        "y_pred = model.predict(X)  \n",
        "model.accuracy_score(y_target,y_pred)"
      ],
      "metadata": {
        "id": "5QmNDhyu_QN0"
      }
    },
    {
      "cell_type": "markdown",
      "source": [
        "#64p. 4번"
      ],
      "metadata": {
        "id": "WFZ6rCA9Ww8a"
      }
    },
    {
      "cell_type": "code",
      "source": [
        "kn = KNeighborsClassifier()\n",
        "kn.fit(fish_data, fish_target)\n",
        "\n",
        "for n in range(5,50):\n",
        "  kn.n_neighbors = n #k-최근접 이웃 개수 설정\n",
        "  score = kn.score(fish_data, fish_target) #점수 계산\n",
        "  \n",
        "  #100% 정확도에 미치지 못하는 이웃 개수 출력\n",
        "  if score < 1:\n",
        "    print(n,score) #n이 18이 될 때부터 정확도가 1보다 작아진다"
      ],
      "metadata": {
        "colab": {
          "base_uri": "https://localhost:8080/"
        },
        "id": "QpdIcE1VWzzR",
        "outputId": "32e4c66f-1be0-4439-b652-77636aee2b39"
      },
      "execution_count": 82,
      "outputs": [
        {
          "output_type": "stream",
          "name": "stdout",
          "text": [
            "18 0.9795918367346939\n",
            "19 0.9795918367346939\n",
            "20 0.9795918367346939\n",
            "21 0.9795918367346939\n",
            "22 0.9795918367346939\n",
            "23 0.9795918367346939\n",
            "24 0.9795918367346939\n",
            "25 0.9795918367346939\n",
            "26 0.9795918367346939\n",
            "27 0.9795918367346939\n",
            "28 0.9591836734693877\n",
            "29 0.7142857142857143\n",
            "30 0.7142857142857143\n",
            "31 0.7142857142857143\n",
            "32 0.7142857142857143\n",
            "33 0.7142857142857143\n",
            "34 0.7142857142857143\n",
            "35 0.7142857142857143\n",
            "36 0.7142857142857143\n",
            "37 0.7142857142857143\n",
            "38 0.7142857142857143\n",
            "39 0.7142857142857143\n",
            "40 0.7142857142857143\n",
            "41 0.7142857142857143\n",
            "42 0.7142857142857143\n",
            "43 0.7142857142857143\n",
            "44 0.7142857142857143\n",
            "45 0.7142857142857143\n",
            "46 0.7142857142857143\n",
            "47 0.7142857142857143\n",
            "48 0.7142857142857143\n",
            "49 0.7142857142857143\n"
          ]
        }
      ]
    },
    {
      "cell_type": "code",
      "source": [
        "#강사님\n",
        "\n",
        "from sklearn.neighbors import KNeighborsClassifier\n",
        "\n",
        "clsifier = KNeighborsClassifier()\n",
        "clsifier.fit(fish_data, fish_target)\n",
        "# score하면 fit을 자동으로 시행하므로 fit을 미리 해줄 필요 없다\n",
        "\n",
        "for n in range(5,50):\n",
        "  clsifier.n_neighbors = n\n",
        "  score = clsifier.score(fish_data, fish_target)\n",
        "\n",
        "  if score < 1:\n",
        "    print(f\"n: {n} => {score}\")\n",
        "    break"
      ],
      "metadata": {
        "colab": {
          "base_uri": "https://localhost:8080/"
        },
        "id": "soV9XabPYU45",
        "outputId": "cfeb295b-f08b-4824-e0a9-e134fe3f779c"
      },
      "execution_count": 80,
      "outputs": [
        {
          "output_type": "stream",
          "name": "stdout",
          "text": [
            "n: 18 => 0.9795918367346939\n"
          ]
        }
      ]
    },
    {
      "cell_type": "markdown",
      "source": [
        "#전체 코드\n",
        "외워질 정도로 계속 연습하기"
      ],
      "metadata": {
        "id": "vsqjXgaJX5B1"
      }
    },
    {
      "cell_type": "code",
      "source": [
        "bream_length = [25.4, 26.3, 26.5, 29.0, 29.0, 29.7, 29.7, 30.0, 30.0, 30.7, 31.0, 31.0, \n",
        "                31.5, 32.0, 32.0, 32.0, 33.0, 33.0, 33.5, 33.5, 34.0, 34.0, 34.5, 35.0, \n",
        "                35.0, 35.0, 35.0, 36.0, 36.0, 37.0, 38.5, 38.5, 39.5, 41.0, 41.0]\n",
        "bream_weight = [242.0, 290.0, 340.0, 363.0, 430.0, 450.0, 500.0, 390.0, 450.0, 500.0, 475.0, 500.0, \n",
        "                500.0, 340.0, 600.0, 600.0, 700.0, 700.0, 610.0, 650.0, 575.0, 685.0, 620.0, 680.0, \n",
        "                700.0, 725.0, 720.0, 714.0, 850.0, 1000.0, 920.0, 955.0, 925.0, 975.0, 950.0]\n",
        "\n",
        "smelt_length = [9.8, 10.5, 10.6, 11.0, 11.2, 11.3, 11.8, 11.8, 12.0, 12.2, 12.4, 13.0, 14.3, 15.0]\n",
        "smelt_weight = [6.7, 7.5, 7.0, 9.7, 9.8, 8.7, 10.0, 9.9, 9.8, 12.2, 13.4, 12.2, 19.7, 19.9]\n",
        "\n",
        "length = bream_length + smelt_length\n",
        "weight = bream_weight + smelt_weight\n",
        "\n",
        "fish_data = [[l,w] for l,w in zip(length, weight)]\n",
        "\n",
        "fish_target = [1]*35 + [0]*14\n",
        "\n",
        "from sklearn.neighbors import KNeighborsClassifier\n",
        "kn = KNeighborsClassifier()\n",
        "kn.fit(fish_data, fish_target)\n",
        "kn.score(fish_data, fish_target)\n",
        "\n",
        "kn.predict([[30,600], [25,100], [29,50], [32, 70]])\n",
        "\n",
        "kn49 = KNeighborsClassifier(n_neighbors = 49)\n",
        "kn49.fit(fish_data, fish_target)\n",
        "kn49.score(fish_data, fish_target)\n",
        "print(35/49) \n",
        "\n",
        "from sklearn.metrics import accuracy_score\n",
        "accuracy_score(fish_target, kn.predict(fish_data))"
      ],
      "metadata": {
        "id": "-OuWbVtjX7w0"
      },
      "execution_count": null,
      "outputs": []
    }
  ]
}