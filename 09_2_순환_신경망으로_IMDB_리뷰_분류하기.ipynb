{
  "nbformat": 4,
  "nbformat_minor": 0,
  "metadata": {
    "colab": {
      "name": "09-2. 순환 신경망으로 IMDB 리뷰 분류하기.ipynb",
      "provenance": [],
      "collapsed_sections": [],
      "authorship_tag": "ABX9TyMVdJSP+E7lzJEaRGGQFQ0y",
      "include_colab_link": true
    },
    "kernelspec": {
      "name": "python3",
      "display_name": "Python 3"
    },
    "language_info": {
      "name": "python"
    }
  },
  "cells": [
    {
      "cell_type": "markdown",
      "metadata": {
        "id": "view-in-github",
        "colab_type": "text"
      },
      "source": [
        "<a href=\"https://colab.research.google.com/github/serinss/seSAC_ML_DL_Class/blob/main/09_2_%EC%88%9C%ED%99%98_%EC%8B%A0%EA%B2%BD%EB%A7%9D%EC%9C%BC%EB%A1%9C_IMDB_%EB%A6%AC%EB%B7%B0_%EB%B6%84%EB%A5%98%ED%95%98%EA%B8%B0.ipynb\" target=\"_parent\"><img src=\"https://colab.research.google.com/assets/colab-badge.svg\" alt=\"Open In Colab\"/></a>"
      ]
    },
    {
      "cell_type": "code",
      "execution_count": 7,
      "metadata": {
        "id": "FP0dyH3hMAgz",
        "colab": {
          "base_uri": "https://localhost:8080/"
        },
        "outputId": "2891653d-4e21-4544-e19c-a2b3bc92fba1"
      },
      "outputs": [
        {
          "output_type": "stream",
          "name": "stdout",
          "text": [
            "Mounted at /content/drive\n",
            "tf.__version__: 2.8.0\n",
            "keras.__version__: 2.8.0\n"
          ]
        }
      ],
      "source": [
        "%run my_init.py"
      ]
    },
    {
      "cell_type": "code",
      "source": [
        "%run my_init.py"
      ],
      "metadata": {
        "id": "C2C-DbOZMMLV",
        "colab": {
          "base_uri": "https://localhost:8080/"
        },
        "outputId": "52a5beb1-b9b2-4e47-d81c-70a7bf6aa236"
      },
      "execution_count": 8,
      "outputs": [
        {
          "output_type": "stream",
          "name": "stdout",
          "text": [
            "Drive already mounted at /content/drive; to attempt to forcibly remount, call drive.mount(\"/content/drive\", force_remount=True).\n",
            "tf.__version__: 2.8.0\n",
            "keras.__version__: 2.8.0\n"
          ]
        }
      ]
    },
    {
      "cell_type": "markdown",
      "source": [
        "# IMDB 리뷰 데이터셋"
      ],
      "metadata": {
        "id": "tGLydo0TMNe7"
      }
    },
    {
      "cell_type": "code",
      "source": [
        "from tensorflow.keras.datasets import imdb\n",
        "\n",
        "(X_train, y_train), (X_test, y_test) = imdb.load_data(num_words=500) #가장 빈도가 많은(높은) 단어로 어휘사전을 만든다\n",
        "print(X_train.shape, y_train.shape)"
      ],
      "metadata": {
        "id": "dl_BiFQrMQVe",
        "colab": {
          "base_uri": "https://localhost:8080/"
        },
        "outputId": "abb9073c-5beb-4344-e325-e4ddf905d253"
      },
      "execution_count": 9,
      "outputs": [
        {
          "output_type": "stream",
          "name": "stdout",
          "text": [
            "(25000,) (25000,)\n"
          ]
        }
      ]
    },
    {
      "cell_type": "code",
      "source": [
        "print(X_train[0])"
      ],
      "metadata": {
        "colab": {
          "base_uri": "https://localhost:8080/"
        },
        "id": "S1cWaJG-umlm",
        "outputId": "eb5f7d82-2995-4d70-e9e9-932dfd6cc704"
      },
      "execution_count": 10,
      "outputs": [
        {
          "output_type": "stream",
          "name": "stdout",
          "text": [
            "[1, 14, 22, 16, 43, 2, 2, 2, 2, 65, 458, 2, 66, 2, 4, 173, 36, 256, 5, 25, 100, 43, 2, 112, 50, 2, 2, 9, 35, 480, 284, 5, 150, 4, 172, 112, 167, 2, 336, 385, 39, 4, 172, 2, 2, 17, 2, 38, 13, 447, 4, 192, 50, 16, 6, 147, 2, 19, 14, 22, 4, 2, 2, 469, 4, 22, 71, 87, 12, 16, 43, 2, 38, 76, 15, 13, 2, 4, 22, 17, 2, 17, 12, 16, 2, 18, 2, 5, 62, 386, 12, 8, 316, 8, 106, 5, 4, 2, 2, 16, 480, 66, 2, 33, 4, 130, 12, 16, 38, 2, 5, 25, 124, 51, 36, 135, 48, 25, 2, 33, 6, 22, 12, 215, 28, 77, 52, 5, 14, 407, 16, 82, 2, 8, 4, 107, 117, 2, 15, 256, 4, 2, 7, 2, 5, 2, 36, 71, 43, 2, 476, 26, 400, 317, 46, 7, 4, 2, 2, 13, 104, 88, 4, 381, 15, 297, 98, 32, 2, 56, 26, 141, 6, 194, 2, 18, 4, 226, 22, 21, 134, 476, 26, 480, 5, 144, 30, 2, 18, 51, 36, 28, 224, 92, 25, 104, 4, 226, 65, 16, 38, 2, 88, 12, 16, 283, 5, 16, 2, 113, 103, 32, 15, 16, 2, 19, 178, 32]\n"
          ]
        }
      ]
    },
    {
      "cell_type": "code",
      "source": [
        "print(y_train[:20])"
      ],
      "metadata": {
        "colab": {
          "base_uri": "https://localhost:8080/"
        },
        "id": "1_4sSIyDuraC",
        "outputId": "24cbf60f-ef37-46b9-9d0a-e254b43bd06c"
      },
      "execution_count": 11,
      "outputs": [
        {
          "output_type": "stream",
          "name": "stdout",
          "text": [
            "[1 0 0 1 0 0 1 0 1 0 1 0 0 0 0 0 1 1 0 1]\n"
          ]
        }
      ]
    },
    {
      "cell_type": "code",
      "source": [
        "X_train, X_val, y_train, y_val = train_test_split(X_train, y_train, test_size=0.2, random_state=42)\n",
        "lengths = np.array([len(x) for x in X_train])\n",
        "print(np.mean(lengths), np.median(lengths))"
      ],
      "metadata": {
        "colab": {
          "base_uri": "https://localhost:8080/"
        },
        "id": "oYE9DTTUvBdA",
        "outputId": "672c5b6b-b523-4504-c39a-a2f778c8f003"
      },
      "execution_count": 12,
      "outputs": [
        {
          "output_type": "stream",
          "name": "stdout",
          "text": [
            "239.00925 178.0\n"
          ]
        }
      ]
    },
    {
      "cell_type": "code",
      "source": [
        "plt.hist(lengths)\n",
        "plt.xlabel('length')\n",
        "plt.ylabel('frequency')\n",
        "plt.show()\n",
        "\n",
        "#대부분의 문장이 길지 않은 정도임을 유추할 수 있음"
      ],
      "metadata": {
        "colab": {
          "base_uri": "https://localhost:8080/",
          "height": 279
        },
        "id": "gttimOU0vVm1",
        "outputId": "bb135595-2154-49c8-a99e-68121b5130f0"
      },
      "execution_count": 13,
      "outputs": [
        {
          "output_type": "display_data",
          "data": {
            "text/plain": [
              "<Figure size 432x288 with 1 Axes>"
            ],
            "image/png": "[encoded data removed]"
          },
          "metadata": {
            "needs_background": "light"
          }
        }
      ]
    },
    {
      "cell_type": "code",
      "source": [
        "from tensorflow.keras.preprocessing.sequence import pad_sequences\n",
        "\n",
        "train_seq = pad_sequences(X_train, maxlen=100) #문장 최대 길이 = 단어 100개\n",
        "print(train_seq.shape)"
      ],
      "metadata": {
        "colab": {
          "base_uri": "https://localhost:8080/"
        },
        "id": "y5VFvZ8wv7Ny",
        "outputId": "748e9311-8eed-4bc9-ef1c-928e54e1b0c6"
      },
      "execution_count": 14,
      "outputs": [
        {
          "output_type": "stream",
          "name": "stdout",
          "text": [
            "(20000, 100)\n"
          ]
        }
      ]
    },
    {
      "cell_type": "code",
      "source": [
        "print(train_seq[0])  #문장은 시작이 0, 100보다 길면 짤린다"
      ],
      "metadata": {
        "colab": {
          "base_uri": "https://localhost:8080/"
        },
        "id": "paT5CrRBwK4m",
        "outputId": "b115e0af-dad0-4643-f8ec-2f53f7b3a7fe"
      },
      "execution_count": 15,
      "outputs": [
        {
          "output_type": "stream",
          "name": "stdout",
          "text": [
            "[ 10   4  20   9   2 364 352   5  45   6   2   2  33 269   8   2 142   2\n",
            "   5   2  17  73  17 204   5   2  19  55   2   2  92  66 104  14  20  93\n",
            "  76   2 151  33   4  58  12 188   2 151  12 215  69 224 142  73 237   6\n",
            "   2   7   2   2 188   2 103  14  31  10  10 451   7   2   5   2  80  91\n",
            "   2  30   2  34  14  20 151  50  26 131  49   2  84  46  50  37  80  79\n",
            "   6   2  46   7  14  20  10  10 470 158]\n"
          ]
        }
      ]
    },
    {
      "cell_type": "code",
      "source": [
        "print(X_train[0][-10:]) # 뒤쪽에 중요한 단어가 많이 나오므로, 뒤에서 단어 10개를 골라본 것"
      ],
      "metadata": {
        "colab": {
          "base_uri": "https://localhost:8080/"
        },
        "id": "5JVxCtTLwNq-",
        "outputId": "4b992ac3-7167-433e-e0be-9efcc7130b0b"
      },
      "execution_count": 16,
      "outputs": [
        {
          "output_type": "stream",
          "name": "stdout",
          "text": [
            "[6, 2, 46, 7, 14, 20, 10, 10, 470, 158]\n"
          ]
        }
      ]
    },
    {
      "cell_type": "code",
      "source": [
        "print(train_seq[5]) # 100보다 작다"
      ],
      "metadata": {
        "colab": {
          "base_uri": "https://localhost:8080/"
        },
        "id": "srzs0_C9wRdV",
        "outputId": "8048253f-f1f2-454a-fbaf-5ff948c58030"
      },
      "execution_count": 17,
      "outputs": [
        {
          "output_type": "stream",
          "name": "stdout",
          "text": [
            "[  0   0   0   0   1   2 195  19  49   2   2 190   4   2 352   2 183  10\n",
            "  10  13  82  79   4   2  36  71 269   8   2  25  19  49   7   4   2   2\n",
            "   2   2   2  10  10  48  25  40   2  11   2   2  40   2   2   5   4   2\n",
            "   2  95  14 238  56 129   2  10  10  21   2  94 364 352   2   2  11 190\n",
            "  24 484   2   7  94 205 405  10  10  87   2  34  49   2   7   2   2   2\n",
            "   2   2 290   2  46  48  64  18   4   2]\n"
          ]
        }
      ]
    },
    {
      "cell_type": "code",
      "source": [
        "val_seq = pad_sequences(X_val, maxlen=100)\n",
        "val_seq.shape"
      ],
      "metadata": {
        "colab": {
          "base_uri": "https://localhost:8080/"
        },
        "id": "RiwsJzxW0mFy",
        "outputId": "3cdcbe54-fcf3-45ec-ba3a-a0ddc2b44431"
      },
      "execution_count": 24,
      "outputs": [
        {
          "output_type": "execute_result",
          "data": {
            "text/plain": [
              "(5000, 100)"
            ]
          },
          "metadata": {},
          "execution_count": 24
        }
      ]
    },
    {
      "cell_type": "markdown",
      "source": [
        "#순환 신경망 모델 만들기"
      ],
      "metadata": {
        "id": "ACZ-cB4DxRWo"
      }
    },
    {
      "cell_type": "code",
      "source": [
        "model = keras.Sequential()\n",
        "model.add(keras.layers.SimpleRNN(8, input_shape=(100,500))) # 뉴런의 수=8\n",
        "model.add(keras.layers.Dense(1, activation='sigmoid')) # 이진분류는 뉴런 1개로도 표시 가능(양성 확률, 음성 확률)"
      ],
      "metadata": {
        "id": "JwsyPB-7wrxQ"
      },
      "execution_count": 19,
      "outputs": []
    },
    {
      "cell_type": "code",
      "source": [
        "train_oh = keras.utils.to_categorical(train_seq) # one-hot encoding\n",
        "print(train_oh.shape)"
      ],
      "metadata": {
        "colab": {
          "base_uri": "https://localhost:8080/"
        },
        "id": "9BF6FY3J0XvE",
        "outputId": "da8d85af-9fbd-4c59-a566-2181fba6cf6f"
      },
      "execution_count": 20,
      "outputs": [
        {
          "output_type": "stream",
          "name": "stdout",
          "text": [
            "(20000, 100, 500)\n"
          ]
        }
      ]
    },
    {
      "cell_type": "code",
      "source": [
        "val_oh = keras.utils.to_categorical(val_seq)"
      ],
      "metadata": {
        "id": "QiGK1qfW0frw"
      },
      "execution_count": 21,
      "outputs": []
    },
    {
      "cell_type": "code",
      "source": [
        "model.summary() # 마지막 timestep의 은닉 상태 = 뉴럭의 개수"
      ],
      "metadata": {
        "colab": {
          "base_uri": "https://localhost:8080/"
        },
        "id": "EA1Aij67zcBr",
        "outputId": "8850dd11-ab2b-4ef5-b5aa-64d225046216"
      },
      "execution_count": 22,
      "outputs": [
        {
          "output_type": "stream",
          "name": "stdout",
          "text": [
            "Model: \"sequential\"\n",
            "_________________________________________________________________\n",
            " Layer (type)                Output Shape              Param #   \n",
            "=================================================================\n",
            " simple_rnn (SimpleRNN)      (None, 8)                 4072      \n",
            "                                                                 \n",
            " dense (Dense)               (None, 1)                 9         \n",
            "                                                                 \n",
            "=================================================================\n",
            "Total params: 4,081\n",
            "Trainable params: 4,081\n",
            "Non-trainable params: 0\n",
            "_________________________________________________________________\n"
          ]
        }
      ]
    },
    {
      "cell_type": "markdown",
      "source": [
        "#순환 신경망 훈련하기"
      ],
      "metadata": {
        "id": "1iGhHPWCzj-v"
      }
    },
    {
      "cell_type": "code",
      "source": [
        "rmsprop = keras.optimizers.RMSprop(learning_rate=1e-4)\n",
        "model.compile(optimizer=rmsprop, loss='binary_crossentropy', metrics=['accuracy'])\n",
        "checkpoint_cb = keras.callbacks.ModelCheckpoint('best-simplernn-model.h5')\n",
        "early_stopping_cb = keras.callbacks.EarlyStopping(patience=3, restore_best_weights=True)\n",
        "history = model.fit(train_oh, y_train, epochs=100, batch_size=64, validation_data=(val_oh, y_val), callbacks=[checkpoint_cb, early_stopping_cb])"
      ],
      "metadata": {
        "colab": {
          "base_uri": "https://localhost:8080/"
        },
        "id": "E-lkMzKbzh-2",
        "outputId": "57055234-7ab8-43ac-ca05-3ea522a5448f"
      },
      "execution_count": 23,
      "outputs": [
        {
          "output_type": "stream",
          "name": "stdout",
          "text": [
            "Epoch 1/100\n",
            "313/313 [==============================] - 13s 37ms/step - loss: 0.6930 - accuracy: 0.5210 - val_loss: 0.6896 - val_accuracy: 0.5390\n",
            "Epoch 2/100\n",
            "313/313 [==============================] - 11s 35ms/step - loss: 0.6811 - accuracy: 0.5750 - val_loss: 0.6753 - val_accuracy: 0.6014\n",
            "Epoch 3/100\n",
            "313/313 [==============================] - 11s 35ms/step - loss: 0.6667 - accuracy: 0.6200 - val_loss: 0.6595 - val_accuracy: 0.6366\n",
            "Epoch 4/100\n",
            "313/313 [==============================] - 11s 35ms/step - loss: 0.6505 - accuracy: 0.6546 - val_loss: 0.6456 - val_accuracy: 0.6632\n",
            "Epoch 5/100\n",
            "313/313 [==============================] - 11s 35ms/step - loss: 0.6360 - accuracy: 0.6783 - val_loss: 0.6316 - val_accuracy: 0.6806\n",
            "Epoch 6/100\n",
            "313/313 [==============================] - 11s 37ms/step - loss: 0.6206 - accuracy: 0.6970 - val_loss: 0.6162 - val_accuracy: 0.7058\n",
            "Epoch 7/100\n",
            "313/313 [==============================] - 11s 35ms/step - loss: 0.6043 - accuracy: 0.7166 - val_loss: 0.6010 - val_accuracy: 0.7142\n",
            "Epoch 8/100\n",
            "313/313 [==============================] - 11s 36ms/step - loss: 0.5888 - accuracy: 0.7305 - val_loss: 0.5872 - val_accuracy: 0.7264\n",
            "Epoch 9/100\n",
            "313/313 [==============================] - 11s 35ms/step - loss: 0.5743 - accuracy: 0.7387 - val_loss: 0.5783 - val_accuracy: 0.7270\n",
            "Epoch 10/100\n",
            "313/313 [==============================] - 11s 34ms/step - loss: 0.5599 - accuracy: 0.7488 - val_loss: 0.5596 - val_accuracy: 0.7434\n",
            "Epoch 11/100\n",
            "313/313 [==============================] - 11s 35ms/step - loss: 0.5463 - accuracy: 0.7548 - val_loss: 0.5482 - val_accuracy: 0.7564\n",
            "Epoch 12/100\n",
            "313/313 [==============================] - 11s 35ms/step - loss: 0.5329 - accuracy: 0.7635 - val_loss: 0.5381 - val_accuracy: 0.7520\n",
            "Epoch 13/100\n",
            "313/313 [==============================] - 11s 35ms/step - loss: 0.5206 - accuracy: 0.7693 - val_loss: 0.5267 - val_accuracy: 0.7648\n",
            "Epoch 14/100\n",
            "313/313 [==============================] - 11s 36ms/step - loss: 0.5097 - accuracy: 0.7763 - val_loss: 0.5168 - val_accuracy: 0.7682\n",
            "Epoch 15/100\n",
            "313/313 [==============================] - 12s 40ms/step - loss: 0.4996 - accuracy: 0.7812 - val_loss: 0.5089 - val_accuracy: 0.7698\n",
            "Epoch 16/100\n",
            "313/313 [==============================] - 11s 36ms/step - loss: 0.4902 - accuracy: 0.7849 - val_loss: 0.5036 - val_accuracy: 0.7686\n",
            "Epoch 17/100\n",
            "313/313 [==============================] - 11s 36ms/step - loss: 0.4821 - accuracy: 0.7898 - val_loss: 0.4960 - val_accuracy: 0.7758\n",
            "Epoch 18/100\n",
            "313/313 [==============================] - 11s 34ms/step - loss: 0.4744 - accuracy: 0.7926 - val_loss: 0.4937 - val_accuracy: 0.7728\n",
            "Epoch 19/100\n",
            "313/313 [==============================] - 11s 35ms/step - loss: 0.4676 - accuracy: 0.7968 - val_loss: 0.4852 - val_accuracy: 0.7808\n",
            "Epoch 20/100\n",
            "313/313 [==============================] - 11s 34ms/step - loss: 0.4613 - accuracy: 0.7979 - val_loss: 0.4800 - val_accuracy: 0.7816\n",
            "Epoch 21/100\n",
            "313/313 [==============================] - 11s 35ms/step - loss: 0.4559 - accuracy: 0.8000 - val_loss: 0.4767 - val_accuracy: 0.7806\n",
            "Epoch 22/100\n",
            "313/313 [==============================] - 11s 35ms/step - loss: 0.4511 - accuracy: 0.8019 - val_loss: 0.4733 - val_accuracy: 0.7842\n",
            "Epoch 23/100\n",
            "313/313 [==============================] - 11s 35ms/step - loss: 0.4464 - accuracy: 0.8058 - val_loss: 0.4705 - val_accuracy: 0.7866\n",
            "Epoch 24/100\n",
            "313/313 [==============================] - 11s 35ms/step - loss: 0.4421 - accuracy: 0.8061 - val_loss: 0.4742 - val_accuracy: 0.7796\n",
            "Epoch 25/100\n",
            "313/313 [==============================] - 11s 34ms/step - loss: 0.4391 - accuracy: 0.8079 - val_loss: 0.4644 - val_accuracy: 0.7862\n",
            "Epoch 26/100\n",
            "313/313 [==============================] - 11s 36ms/step - loss: 0.4355 - accuracy: 0.8087 - val_loss: 0.4641 - val_accuracy: 0.7866\n",
            "Epoch 27/100\n",
            "313/313 [==============================] - 11s 35ms/step - loss: 0.4321 - accuracy: 0.8094 - val_loss: 0.4621 - val_accuracy: 0.7866\n",
            "Epoch 28/100\n",
            "313/313 [==============================] - 12s 37ms/step - loss: 0.4296 - accuracy: 0.8113 - val_loss: 0.4603 - val_accuracy: 0.7860\n",
            "Epoch 29/100\n",
            "313/313 [==============================] - 11s 35ms/step - loss: 0.4267 - accuracy: 0.8124 - val_loss: 0.4619 - val_accuracy: 0.7866\n",
            "Epoch 30/100\n",
            "313/313 [==============================] - 11s 36ms/step - loss: 0.4240 - accuracy: 0.8141 - val_loss: 0.4591 - val_accuracy: 0.7876\n",
            "Epoch 31/100\n",
            "313/313 [==============================] - 11s 34ms/step - loss: 0.4220 - accuracy: 0.8123 - val_loss: 0.4587 - val_accuracy: 0.7874\n",
            "Epoch 32/100\n",
            "313/313 [==============================] - 11s 37ms/step - loss: 0.4194 - accuracy: 0.8150 - val_loss: 0.4567 - val_accuracy: 0.7904\n",
            "Epoch 33/100\n",
            "313/313 [==============================] - 11s 36ms/step - loss: 0.4177 - accuracy: 0.8163 - val_loss: 0.4589 - val_accuracy: 0.7870\n",
            "Epoch 34/100\n",
            "313/313 [==============================] - 11s 36ms/step - loss: 0.4156 - accuracy: 0.8191 - val_loss: 0.4552 - val_accuracy: 0.7868\n",
            "Epoch 35/100\n",
            "313/313 [==============================] - 11s 35ms/step - loss: 0.4143 - accuracy: 0.8177 - val_loss: 0.4584 - val_accuracy: 0.7866\n",
            "Epoch 36/100\n",
            "313/313 [==============================] - 11s 35ms/step - loss: 0.4126 - accuracy: 0.8186 - val_loss: 0.4552 - val_accuracy: 0.7920\n",
            "Epoch 37/100\n",
            "313/313 [==============================] - 11s 35ms/step - loss: 0.4110 - accuracy: 0.8207 - val_loss: 0.4536 - val_accuracy: 0.7848\n",
            "Epoch 38/100\n",
            "313/313 [==============================] - 11s 35ms/step - loss: 0.4092 - accuracy: 0.8198 - val_loss: 0.4563 - val_accuracy: 0.7894\n",
            "Epoch 39/100\n",
            "313/313 [==============================] - 12s 37ms/step - loss: 0.4079 - accuracy: 0.8206 - val_loss: 0.4531 - val_accuracy: 0.7898\n",
            "Epoch 40/100\n",
            "313/313 [==============================] - 11s 34ms/step - loss: 0.4070 - accuracy: 0.8220 - val_loss: 0.4552 - val_accuracy: 0.7906\n",
            "Epoch 41/100\n",
            "313/313 [==============================] - 12s 37ms/step - loss: 0.4053 - accuracy: 0.8230 - val_loss: 0.4565 - val_accuracy: 0.7884\n",
            "Epoch 42/100\n",
            "313/313 [==============================] - 11s 35ms/step - loss: 0.4042 - accuracy: 0.8221 - val_loss: 0.4567 - val_accuracy: 0.7912\n"
          ]
        }
      ]
    },
    {
      "cell_type": "code",
      "source": [
        ""
      ],
      "metadata": {
        "id": "zvXWLtTU0tCC"
      },
      "execution_count": 23,
      "outputs": []
    }
  ]
}